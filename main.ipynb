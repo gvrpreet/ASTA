{
 "cells": [
  {
   "cell_type": "markdown",
   "metadata": {
    "vscode": {
     "languageId": "latex"
    }
   },
   "source": [
    "# Base Model✅"
   ]
  },
  {
   "cell_type": "code",
   "execution_count": null,
   "metadata": {
    "notebookRunGroups": {
     "groupValue": "1"
    }
   },
   "outputs": [],
   "source": [
    "import numpy as np\n",
    "import pandas as pd\n",
    "import yfinance as yf\n",
    "import talib\n",
    "import plotly.graph_objects as go\n",
    "from sklearn.preprocessing import MinMaxScaler\n",
    "import torch\n",
    "import torch.nn as nn\n",
    "import torch.optim as optim\n",
    "from collections import deque\n",
    "import random\n",
    "from tqdm import tqdm\n",
    "import warnings\n",
    "warnings.filterwarnings('ignore')\n",
    "\n",
    "# Check CUDA availability\n",
    "device = torch.device('cuda' if torch.cuda.is_available() else 'cpu')\n",
    "print(f\"Using device: {device}\")\n",
    "\n",
    "class DataHandler:\n",
    "    def __init__(self):\n",
    "        self.scaler = MinMaxScaler()\n",
    "    \n",
    "    def fetch_data(self, symbol, start_date, end_date):\n",
    "        print(f\"Fetching data for {symbol}...\")\n",
    "        df = yf.download(symbol, start=start_date, end=end_date)\n",
    "        if df.empty:\n",
    "            raise ValueError(f\"No data found for {symbol}\")\n",
    "        return self.prepare_data(df)\n",
    "    \n",
    "    def prepare_data(self, df):\n",
    "        try:\n",
    "            # Create copy to avoid SettingWithCopyWarning\n",
    "            df = df.copy()\n",
    "            \n",
    "            # Convert to 1D numpy arrays\n",
    "            close_prices = df['Close'].values.astype(float).flatten()\n",
    "            high_prices = df['High'].values.astype(float).flatten()\n",
    "            low_prices = df['Low'].values.astype(float).flatten()\n",
    "            volume = df['Volume'].values.astype(float).flatten()\n",
    "            \n",
    "            # Technical Indicators\n",
    "            df['Returns'] = df['Close'].pct_change()\n",
    "            df['SMA_20'] = talib.SMA(close_prices, timeperiod=20)\n",
    "            df['EMA_20'] = talib.EMA(close_prices, timeperiod=20)\n",
    "            df['RSI'] = talib.RSI(close_prices, timeperiod=14)\n",
    "            \n",
    "            # MACD\n",
    "            macd, signal, _ = talib.MACD(close_prices)\n",
    "            df['MACD'] = macd\n",
    "            df['MACD_signal'] = signal\n",
    "            \n",
    "            # Bollinger Bands\n",
    "            bb_upper, bb_middle, bb_lower = talib.BBANDS(close_prices)\n",
    "            df['BB_upper'] = bb_upper\n",
    "            df['BB_middle'] = bb_middle\n",
    "            df['BB_lower'] = bb_lower\n",
    "            \n",
    "            # Volume indicators\n",
    "            df['OBV'] = talib.OBV(close_prices, volume)\n",
    "            \n",
    "            # Momentum\n",
    "            df['MOM'] = talib.MOM(close_prices, timeperiod=14)\n",
    "            \n",
    "            # Handle NaN values and normalize\n",
    "            features = ['Close', 'Returns', 'SMA_20', 'EMA_20', 'RSI', \n",
    "                       'MACD', 'MACD_signal', 'BB_upper', 'BB_middle', \n",
    "                       'BB_lower', 'OBV', 'MOM']\n",
    "            \n",
    "            df[features] = df[features].fillna(method='ffill').fillna(method='bfill')\n",
    "            df[features] = self.scaler.fit_transform(df[features])\n",
    "            \n",
    "            print(f\"Data shape after preparation: {df.shape}\")\n",
    "            return df.dropna()\n",
    "            \n",
    "        except Exception as e:\n",
    "            print(f\"Error in prepare_data: {str(e)}\")\n",
    "            raise\n",
    "\n",
    "class TradingEnvironment:\n",
    "    def __init__(self, data, initial_balance=100000):\n",
    "        if data is None or data.empty:\n",
    "            raise ValueError(\"Data cannot be empty\")\n",
    "            \n",
    "        self.data = data\n",
    "        self.initial_balance = initial_balance\n",
    "        self.features = ['Close', 'Returns', 'SMA_20', 'EMA_20', 'RSI',\n",
    "                        'MACD', 'MACD_signal', 'BB_upper', 'BB_middle',\n",
    "                        'BB_lower', 'OBV', 'MOM']\n",
    "        \n",
    "        if not all(f in self.data.columns for f in self.features):\n",
    "            missing = [f for f in self.features if f not in self.data.columns]\n",
    "            raise ValueError(f\"Missing features in data: {missing}\")\n",
    "            \n",
    "        self.reset()\n",
    "    \n",
    "    def reset(self):\n",
    "        self.balance = self.initial_balance\n",
    "        self.position = 0\n",
    "        self.current_step = 0\n",
    "        self.portfolio_value_history = [self.initial_balance]\n",
    "        return self._get_state()\n",
    "    \n",
    "    def _get_state(self):\n",
    "        return self.data.iloc[self.current_step][self.features].values\n",
    "    \n",
    "    def step(self, action):\n",
    "        # Get current price as float\n",
    "        current_price = float(self.data.iloc[self.current_step]['Close'])\n",
    "        \n",
    "        # Store previous portfolio value for reward calculation\n",
    "        prev_portfolio_value = self.portfolio_value_history[-1]\n",
    "        \n",
    "        # Execute trade with zero price protection\n",
    "        if current_price > 0:  # Only execute trades if price is valid\n",
    "            if action == 0 and self.position > 0:  # Sell\n",
    "                self.balance += current_price * self.position\n",
    "                self.position = 0\n",
    "            elif action == 2 and self.position == 0:  # Buy\n",
    "                shares = self.balance / current_price\n",
    "                self.position = shares\n",
    "                self.balance = 0\n",
    "        \n",
    "        # Move to next step\n",
    "        self.current_step += 1\n",
    "        \n",
    "        # Calculate new portfolio value\n",
    "        portfolio_value = self.balance + (self.position * current_price)\n",
    "        self.portfolio_value_history.append(portfolio_value)\n",
    "        \n",
    "        # Calculate reward with safe division\n",
    "        if prev_portfolio_value > 0:\n",
    "            reward = (portfolio_value - prev_portfolio_value) / prev_portfolio_value\n",
    "        else:\n",
    "            reward = 0\n",
    "        \n",
    "        # Check if done\n",
    "        done = self.current_step >= len(self.data) - 1\n",
    "        \n",
    "        return self._get_state(), reward, done\n",
    "\n",
    "class DQNAgent(nn.Module):\n",
    "    def __init__(self, state_size, action_size):\n",
    "        super(DQNAgent, self).__init__()\n",
    "        self.state_size = state_size\n",
    "        self.action_size = action_size\n",
    "        self.memory = deque(maxlen=2000)\n",
    "        self.gamma = 0.95\n",
    "        self.epsilon = 1.0\n",
    "        self.epsilon_min = 0.01\n",
    "        self.epsilon_decay = 0.995\n",
    "        self.batch_size = 32\n",
    "        \n",
    "        # Neural network layers\n",
    "        self.fc1 = nn.Linear(state_size, 64)\n",
    "        self.fc2 = nn.Linear(64, 32)\n",
    "        self.fc3 = nn.Linear(32, action_size)\n",
    "        \n",
    "        self.optimizer = optim.Adam(self.parameters())\n",
    "        self.criterion = nn.MSELoss()\n",
    "        self.to(device)\n",
    "    \n",
    "    def forward(self, x):\n",
    "        x = torch.relu(self.fc1(x))\n",
    "        x = torch.relu(self.fc2(x))\n",
    "        return self.fc3(x)\n",
    "    \n",
    "    def remember(self, state, action, reward, next_state, done):\n",
    "        self.memory.append((state, action, reward, next_state, done))\n",
    "    \n",
    "    def act(self, state):\n",
    "        if random.random() <= self.epsilon:\n",
    "            return random.randrange(self.action_size)\n",
    "        \n",
    "        with torch.no_grad():\n",
    "            state = torch.FloatTensor(state).unsqueeze(0).to(device)\n",
    "            act_values = self(state)\n",
    "            return torch.argmax(act_values).item()\n",
    "    \n",
    "    def replay(self):\n",
    "        if len(self.memory) < self.batch_size:\n",
    "            return 0\n",
    "        \n",
    "        minibatch = random.sample(self.memory, self.batch_size)\n",
    "        \n",
    "        states = torch.FloatTensor([i[0] for i in minibatch]).to(device)\n",
    "        actions = torch.LongTensor([i[1] for i in minibatch]).to(device)\n",
    "        rewards = torch.FloatTensor([i[2] for i in minibatch]).to(device)\n",
    "        next_states = torch.FloatTensor([i[3] for i in minibatch]).to(device)\n",
    "        dones = torch.FloatTensor([i[4] for i in minibatch]).to(device)\n",
    "        \n",
    "        # Current Q values\n",
    "        current_q_values = self(states).gather(1, actions.unsqueeze(1))\n",
    "        \n",
    "        # Next Q values\n",
    "        with torch.no_grad():\n",
    "            next_q_values = self(next_states).max(1)[0]\n",
    "            target_q_values = rewards + (1 - dones) * self.gamma * next_q_values\n",
    "        \n",
    "        # Compute loss and update\n",
    "        loss = self.criterion(current_q_values.squeeze(), target_q_values)\n",
    "        \n",
    "        self.optimizer.zero_grad()\n",
    "        loss.backward()\n",
    "        self.optimizer.step()\n",
    "        \n",
    "        # Update epsilon\n",
    "        if self.epsilon > self.epsilon_min:\n",
    "            self.epsilon *= self.epsilon_decay\n",
    "        \n",
    "        return loss.item()\n",
    "\n",
    "def test_agent(agent, test_data, initial_balance=10000):\n",
    "    class TestEnvironment(TradingEnvironment):\n",
    "        def __init__(self, data, initial_balance):\n",
    "            super().__init__(data, initial_balance)\n",
    "    \n",
    "    # Create test environment\n",
    "    test_env = TestEnvironment(test_data, initial_balance)\n",
    "    \n",
    "    # Disable exploration during testing\n",
    "    original_epsilon = agent.epsilon\n",
    "    agent.epsilon = 0\n",
    "    \n",
    "    # Run test episode\n",
    "    state = test_env.reset()\n",
    "    done = False\n",
    "    actions_taken = []\n",
    "    \n",
    "    while not done:\n",
    "        with torch.no_grad():\n",
    "            action = agent.act(state)\n",
    "            actions_taken.append(action)\n",
    "            state, reward, done = test_env.step(action)\n",
    "    \n",
    "    # Restore original epsilon\n",
    "    agent.epsilon = original_epsilon\n",
    "    \n",
    "    return test_env.portfolio_value_history, actions_taken\n",
    "\n",
    "def plot_results(train_values, test_values, training_losses):\n",
    "    fig = go.Figure()\n",
    "\n",
    "    # Plot portfolio values\n",
    "    fig.add_trace(go.Scatter(\n",
    "        x=list(range(len(train_values))),\n",
    "        y=train_values,\n",
    "        mode='lines',\n",
    "        name='Training Portfolio'\n",
    "    ))\n",
    "\n",
    "    fig.add_trace(go.Scatter(\n",
    "        x=list(range(len(train_values), len(train_values) + len(test_values))),\n",
    "        y=test_values,\n",
    "        mode='lines',\n",
    "        name='Testing Portfolio'\n",
    "    ))\n",
    "\n",
    "    fig.update_layout(\n",
    "        title='Portfolio Value Over Time',\n",
    "        xaxis_title='Trading Days',\n",
    "        yaxis_title='Portfolio Value ($)',\n",
    "        legend_title='Legend'\n",
    "    )\n",
    "\n",
    "    # Plot training loss\n",
    "    fig.add_trace(go.Scatter(\n",
    "        x=list(range(len(training_losses))),\n",
    "        y=training_losses,\n",
    "        mode='lines',\n",
    "        name='Training Loss',\n",
    "        yaxis='y2'\n",
    "    ))\n",
    "\n",
    "    fig.update_layout(\n",
    "        yaxis2=dict(\n",
    "            title='Loss',\n",
    "            overlaying='y',\n",
    "            side='right'\n",
    "        ),\n",
    "        title='Training Loss Over Episodes',\n",
    "        xaxis_title='Episode',\n",
    "        yaxis_title='Loss',\n",
    "        legend_title='Legend'\n",
    "    )\n",
    "\n",
    "    fig.show()\n",
    "\n",
    "def train_agent(env, agent, episodes):\n",
    "    training_losses = []\n",
    "    best_reward = float('-inf')\n",
    "    \n",
    "    for episode in tqdm(range(episodes), desc=\"Training\"):\n",
    "        state = env.reset()\n",
    "        total_reward = 0\n",
    "        episode_losses = []\n",
    "        \n",
    "        while True:\n",
    "            action = agent.act(state)\n",
    "            next_state, reward, done = env.step(action)\n",
    "            \n",
    "            agent.remember(state, action, reward, next_state, done)\n",
    "            loss = agent.replay()\n",
    "            \n",
    "            if loss > 0:\n",
    "                episode_losses.append(loss)\n",
    "            \n",
    "            state = next_state\n",
    "            total_reward += reward\n",
    "            \n",
    "            if done:\n",
    "                avg_loss = np.mean(episode_losses) if episode_losses else 0\n",
    "                training_losses.append(avg_loss)\n",
    "                \n",
    "                if total_reward > best_reward:\n",
    "                    best_reward = total_reward\n",
    "                    torch.save(agent.state_dict(), 'best_model.pth')\n",
    "                \n",
    "                print(f\"\\nEpisode: {episode + 1}/{episodes}\")\n",
    "                print(f\"Total Reward: {total_reward:.2f}\")\n",
    "                print(f\"Average Loss: {avg_loss:.4f}\")\n",
    "                print(f\"Epsilon: {agent.epsilon:.4f}\")\n",
    "                print(f\"Final Portfolio Value: ${env.portfolio_value_history[-1]:.2f}\")\n",
    "                break\n",
    "    \n",
    "    return training_losses\n",
    "\n",
    "if __name__ == \"__main__\":\n",
    "    try:\n",
    "        # Set random seeds for reproducibility\n",
    "        torch.manual_seed(42)\n",
    "        np.random.seed(42)\n",
    "        random.seed(42)\n",
    "        \n",
    "        # Parameters\n",
    "        SYMBOL = 'AAPL'\n",
    "        START_DATE = '2020-01-01'\n",
    "        END_DATE = '2024-02-11'\n",
    "        EPISODES = 100\n",
    "        \n",
    "        print(\"Initializing trading simulation...\")\n",
    "        \n",
    "        # Initialize components\n",
    "        data_handler = DataHandler()\n",
    "        full_data = data_handler.fetch_data(SYMBOL, START_DATE, END_DATE)\n",
    "        train_size = int(len(full_data) * 0.6)\n",
    "        val_size = int(len(full_data) * 0.2)\n",
    "\n",
    "        train_data = full_data.iloc[:train_size]\n",
    "        val_data = full_data.iloc[train_size:train_size+val_size]\n",
    "        test_data = full_data.iloc[train_size+val_size:]    \n",
    "        \n",
    "        print(\"\\nInitializing training environment...\")\n",
    "        env = TradingEnvironment(train_data)\n",
    "        \n",
    "        # Initialize agent\n",
    "        state_size = len(env.features)\n",
    "        action_size = 3  # sell, hold, buy\n",
    "        agent = DQNAgent(state_size, action_size)\n",
    "        \n",
    "        print(\"\\nStarting training...\")\n",
    "        print(f\"State size: {state_size}\")\n",
    "        print(f\"Action size: {action_size}\")\n",
    "        \n",
    "        # Train agent\n",
    "        training_losses = train_agent(env, agent, EPISODES)\n",
    "        \n",
    "        print(\"\\nStarting testing phase...\")\n",
    "        test_portfolio_values, test_actions = test_agent(agent, test_data, initial_balance=10000)\n",
    "        \n",
    "        # Plot results\n",
    "        plot_results(env.portfolio_value_history, test_portfolio_values, training_losses)\n",
    "        \n",
    "        # Print final results\n",
    "        print(\"\\nTraining Results:\")\n",
    "        print(f\"Initial Balance: ${100000:.2f}\")\n",
    "        print(f\"Final Training Portfolio Value: ${env.portfolio_value_history[-1]:.2f}\")\n",
    "        print(f\"Training Return: {((env.portfolio_value_history[-1] / 100000) - 1) * 100:.2f}%\")\n",
    "        \n",
    "        print(\"\\nTesting Results:\")\n",
    "        print(f\"Initial Balance: ${10000:.2f}\")\n",
    "        print(f\"Final Testing Portfolio Value: ${test_portfolio_values[-1]:.2f}\")\n",
    "        print(f\"Testing Return: {((test_portfolio_values[-1] / 10000) - 1) * 100:.2f}%\")\n",
    "        \n",
    "        # Save final model\n",
    "        torch.save({\n",
    "            'model_state_dict': agent.state_dict(),\n",
    "            'optimizer_state_dict': agent.optimizer.state_dict(),\n",
    "            'training_losses': training_losses,\n",
    "            'train_portfolio_values': env.portfolio_value_history,\n",
    "            'test_portfolio_values': test_portfolio_values,\n",
    "        }, 'final_model.pth')\n",
    "        \n",
    "    except Exception as e:\n",
    "        print(f\"\\nError occurred: {str(e)}\")\n",
    "        raise"
   ]
  },
  {
   "cell_type": "markdown",
   "metadata": {},
   "source": [
    "# Improved Version👍"
   ]
  },
  {
   "cell_type": "code",
   "execution_count": 1,
   "metadata": {},
   "outputs": [
    {
     "name": "stdout",
     "output_type": "stream",
     "text": [
      "Using device: cuda\n",
      "Initializing data handler and fetching training data for top-10 stocks...\n",
      "Fetching data for AAPL from 2009-01-01 to 2024-01-01...\n"
     ]
    },
    {
     "name": "stderr",
     "output_type": "stream",
     "text": [
      "[*********************100%***********************]  1 of 1 completed\n"
     ]
    },
    {
     "name": "stdout",
     "output_type": "stream",
     "text": [
      "Data shape after preparation: (3774, 17)\n",
      "Fetching data for MSFT from 2009-01-01 to 2024-01-01...\n"
     ]
    },
    {
     "name": "stderr",
     "output_type": "stream",
     "text": [
      "[*********************100%***********************]  1 of 1 completed\n"
     ]
    },
    {
     "name": "stdout",
     "output_type": "stream",
     "text": [
      "Data shape after preparation: (3774, 17)\n",
      "Fetching data for AMZN from 2009-01-01 to 2024-01-01...\n"
     ]
    },
    {
     "name": "stderr",
     "output_type": "stream",
     "text": [
      "[*********************100%***********************]  1 of 1 completed\n"
     ]
    },
    {
     "name": "stdout",
     "output_type": "stream",
     "text": [
      "Data shape after preparation: (3774, 17)\n",
      "Fetching data for NVDA from 2009-01-01 to 2024-01-01...\n"
     ]
    },
    {
     "name": "stderr",
     "output_type": "stream",
     "text": [
      "[*********************100%***********************]  1 of 1 completed\n"
     ]
    },
    {
     "name": "stdout",
     "output_type": "stream",
     "text": [
      "Data shape after preparation: (3774, 17)\n",
      "Fetching data for GOOGL from 2009-01-01 to 2024-01-01...\n"
     ]
    },
    {
     "name": "stderr",
     "output_type": "stream",
     "text": [
      "[*********************100%***********************]  1 of 1 completed\n"
     ]
    },
    {
     "name": "stdout",
     "output_type": "stream",
     "text": [
      "Data shape after preparation: (3774, 17)\n",
      "Fetching data for META from 2009-01-01 to 2024-01-01...\n"
     ]
    },
    {
     "name": "stderr",
     "output_type": "stream",
     "text": [
      "[*********************100%***********************]  1 of 1 completed\n"
     ]
    },
    {
     "name": "stdout",
     "output_type": "stream",
     "text": [
      "Data shape after preparation: (2923, 17)\n",
      "Fetching data for TSLA from 2009-01-01 to 2024-01-01...\n"
     ]
    },
    {
     "name": "stderr",
     "output_type": "stream",
     "text": [
      "[*********************100%***********************]  1 of 1 completed\n",
      "[*********************100%***********************]  1 of 1 completed"
     ]
    },
    {
     "name": "stdout",
     "output_type": "stream",
     "text": [
      "Data shape after preparation: (3400, 17)\n",
      "Fetching data for BRK-B from 2009-01-01 to 2024-01-01...\n"
     ]
    },
    {
     "name": "stderr",
     "output_type": "stream",
     "text": [
      "\n"
     ]
    },
    {
     "name": "stdout",
     "output_type": "stream",
     "text": [
      "Data shape after preparation: (3774, 17)\n",
      "Fetching data for UNH from 2009-01-01 to 2024-01-01...\n"
     ]
    },
    {
     "name": "stderr",
     "output_type": "stream",
     "text": [
      "[*********************100%***********************]  1 of 1 completed\n"
     ]
    },
    {
     "name": "stdout",
     "output_type": "stream",
     "text": [
      "Data shape after preparation: (3774, 17)\n",
      "Fetching data for XOM from 2009-01-01 to 2024-01-01...\n"
     ]
    },
    {
     "name": "stderr",
     "output_type": "stream",
     "text": [
      "[*********************100%***********************]  1 of 1 completed\n",
      "[*********************100%***********************]  1 of 1 completed\n"
     ]
    },
    {
     "name": "stdout",
     "output_type": "stream",
     "text": [
      "Data shape after preparation: (3774, 17)\n",
      "\n",
      "Fetching testing data for the S&P500 index...\n",
      "Fetching data for ^GSPC from 2024-01-01 to 2025-01-01...\n",
      "Data shape after preparation: (252, 17)\n",
      "\n",
      "Initializing training environment...\n",
      "State size: 12, Action size: 5\n",
      "\n",
      "Starting training...\n"
     ]
    },
    {
     "name": "stderr",
     "output_type": "stream",
     "text": [
      "Training:   1%|          | 1/100 [00:07<12:08,  7.36s/it]"
     ]
    },
    {
     "name": "stdout",
     "output_type": "stream",
     "text": [
      "\n",
      "Episode: 1/100 | Total Reward: 0.88 | Avg Loss: 0.0001 | Epsilon: 0.0100 | Final Portfolio: $212069.46\n"
     ]
    },
    {
     "name": "stderr",
     "output_type": "stream",
     "text": [
      "Training:   2%|▏         | 2/100 [00:13<11:05,  6.79s/it]"
     ]
    },
    {
     "name": "stdout",
     "output_type": "stream",
     "text": [
      "\n",
      "Episode: 2/100 | Total Reward: 0.52 | Avg Loss: 0.0001 | Epsilon: 0.0100 | Final Portfolio: $157418.80\n"
     ]
    },
    {
     "name": "stderr",
     "output_type": "stream",
     "text": [
      "Training:   3%|▎         | 3/100 [00:20<10:37,  6.57s/it]"
     ]
    },
    {
     "name": "stdout",
     "output_type": "stream",
     "text": [
      "\n",
      "Episode: 3/100 | Total Reward: 0.87 | Avg Loss: 0.0001 | Epsilon: 0.0100 | Final Portfolio: $213607.83\n"
     ]
    },
    {
     "name": "stderr",
     "output_type": "stream",
     "text": [
      "Training:   4%|▍         | 4/100 [00:26<10:29,  6.56s/it]"
     ]
    },
    {
     "name": "stdout",
     "output_type": "stream",
     "text": [
      "\n",
      "Episode: 4/100 | Total Reward: 0.84 | Avg Loss: 0.0001 | Epsilon: 0.0100 | Final Portfolio: $214374.53\n"
     ]
    },
    {
     "name": "stderr",
     "output_type": "stream",
     "text": [
      "Training:   5%|▌         | 5/100 [00:35<11:42,  7.40s/it]"
     ]
    },
    {
     "name": "stdout",
     "output_type": "stream",
     "text": [
      "\n",
      "Episode: 5/100 | Total Reward: 1.04 | Avg Loss: 0.0001 | Epsilon: 0.0100 | Final Portfolio: $251406.27\n"
     ]
    },
    {
     "name": "stderr",
     "output_type": "stream",
     "text": [
      "Training:   6%|▌         | 6/100 [00:46<13:40,  8.72s/it]"
     ]
    },
    {
     "name": "stdout",
     "output_type": "stream",
     "text": [
      "\n",
      "Episode: 6/100 | Total Reward: 0.88 | Avg Loss: 0.0001 | Epsilon: 0.0100 | Final Portfolio: $215917.88\n"
     ]
    },
    {
     "name": "stderr",
     "output_type": "stream",
     "text": [
      "Training:   7%|▋         | 7/100 [00:57<14:28,  9.33s/it]"
     ]
    },
    {
     "name": "stdout",
     "output_type": "stream",
     "text": [
      "\n",
      "Episode: 7/100 | Total Reward: 1.40 | Avg Loss: 0.0001 | Epsilon: 0.0100 | Final Portfolio: $374476.66\n"
     ]
    },
    {
     "name": "stderr",
     "output_type": "stream",
     "text": [
      "Training:   8%|▊         | 8/100 [01:07<14:54,  9.72s/it]"
     ]
    },
    {
     "name": "stdout",
     "output_type": "stream",
     "text": [
      "\n",
      "Episode: 8/100 | Total Reward: 0.98 | Avg Loss: 0.0001 | Epsilon: 0.0100 | Final Portfolio: $236685.22\n"
     ]
    },
    {
     "name": "stderr",
     "output_type": "stream",
     "text": [
      "Training:   9%|▉         | 9/100 [01:15<13:44,  9.06s/it]"
     ]
    },
    {
     "name": "stdout",
     "output_type": "stream",
     "text": [
      "\n",
      "Episode: 9/100 | Total Reward: 1.23 | Avg Loss: 0.0001 | Epsilon: 0.0100 | Final Portfolio: $308984.00\n"
     ]
    },
    {
     "name": "stderr",
     "output_type": "stream",
     "text": [
      "Training:  10%|█         | 10/100 [01:22<12:33,  8.37s/it]"
     ]
    },
    {
     "name": "stdout",
     "output_type": "stream",
     "text": [
      "\n",
      "Episode: 10/100 | Total Reward: 1.03 | Avg Loss: 0.0001 | Epsilon: 0.0100 | Final Portfolio: $254576.32\n"
     ]
    },
    {
     "name": "stderr",
     "output_type": "stream",
     "text": [
      "Training:  11%|█         | 11/100 [01:29<11:43,  7.90s/it]"
     ]
    },
    {
     "name": "stdout",
     "output_type": "stream",
     "text": [
      "\n",
      "Episode: 11/100 | Total Reward: 1.04 | Avg Loss: 0.0001 | Epsilon: 0.0100 | Final Portfolio: $257762.73\n"
     ]
    },
    {
     "name": "stderr",
     "output_type": "stream",
     "text": [
      "Training:  12%|█▏        | 12/100 [01:35<11:03,  7.54s/it]"
     ]
    },
    {
     "name": "stdout",
     "output_type": "stream",
     "text": [
      "\n",
      "Episode: 12/100 | Total Reward: 1.55 | Avg Loss: 0.0001 | Epsilon: 0.0100 | Final Portfolio: $412952.03\n"
     ]
    },
    {
     "name": "stderr",
     "output_type": "stream",
     "text": [
      "Training:  13%|█▎        | 13/100 [01:42<10:29,  7.23s/it]"
     ]
    },
    {
     "name": "stdout",
     "output_type": "stream",
     "text": [
      "\n",
      "Episode: 13/100 | Total Reward: 1.39 | Avg Loss: 0.0001 | Epsilon: 0.0100 | Final Portfolio: $363143.01\n"
     ]
    },
    {
     "name": "stderr",
     "output_type": "stream",
     "text": [
      "Training:  14%|█▍        | 14/100 [01:48<09:57,  6.95s/it]"
     ]
    },
    {
     "name": "stdout",
     "output_type": "stream",
     "text": [
      "\n",
      "Episode: 14/100 | Total Reward: 1.01 | Avg Loss: 0.0001 | Epsilon: 0.0100 | Final Portfolio: $246106.38\n"
     ]
    },
    {
     "name": "stderr",
     "output_type": "stream",
     "text": [
      "Training:  15%|█▌        | 15/100 [01:55<09:42,  6.85s/it]"
     ]
    },
    {
     "name": "stdout",
     "output_type": "stream",
     "text": [
      "\n",
      "Episode: 15/100 | Total Reward: 1.49 | Avg Loss: 0.0001 | Epsilon: 0.0100 | Final Portfolio: $396765.60\n"
     ]
    },
    {
     "name": "stderr",
     "output_type": "stream",
     "text": [
      "Training:  16%|█▌        | 16/100 [02:04<10:36,  7.58s/it]"
     ]
    },
    {
     "name": "stdout",
     "output_type": "stream",
     "text": [
      "\n",
      "Episode: 16/100 | Total Reward: 1.73 | Avg Loss: 0.0001 | Epsilon: 0.0100 | Final Portfolio: $494920.77\n"
     ]
    },
    {
     "name": "stderr",
     "output_type": "stream",
     "text": [
      "Training:  17%|█▋        | 17/100 [02:15<11:43,  8.47s/it]"
     ]
    },
    {
     "name": "stdout",
     "output_type": "stream",
     "text": [
      "\n",
      "Episode: 17/100 | Total Reward: 1.08 | Avg Loss: 0.0001 | Epsilon: 0.0100 | Final Portfolio: $260630.72\n"
     ]
    },
    {
     "name": "stderr",
     "output_type": "stream",
     "text": [
      "Training:  18%|█▊        | 18/100 [02:24<11:55,  8.72s/it]"
     ]
    },
    {
     "name": "stdout",
     "output_type": "stream",
     "text": [
      "\n",
      "Episode: 18/100 | Total Reward: 0.85 | Avg Loss: 0.0001 | Epsilon: 0.0100 | Final Portfolio: $212379.51\n"
     ]
    },
    {
     "name": "stderr",
     "output_type": "stream",
     "text": [
      "Training:  19%|█▉        | 19/100 [02:32<11:28,  8.50s/it]"
     ]
    },
    {
     "name": "stdout",
     "output_type": "stream",
     "text": [
      "\n",
      "Episode: 19/100 | Total Reward: 1.54 | Avg Loss: 0.0001 | Epsilon: 0.0100 | Final Portfolio: $406159.16\n"
     ]
    },
    {
     "name": "stderr",
     "output_type": "stream",
     "text": [
      "Training:  20%|██        | 20/100 [02:43<12:16,  9.21s/it]"
     ]
    },
    {
     "name": "stdout",
     "output_type": "stream",
     "text": [
      "\n",
      "Episode: 20/100 | Total Reward: 0.56 | Avg Loss: 0.0001 | Epsilon: 0.0100 | Final Portfolio: $159072.09\n"
     ]
    },
    {
     "name": "stderr",
     "output_type": "stream",
     "text": [
      "Training:  21%|██        | 21/100 [02:50<11:20,  8.61s/it]"
     ]
    },
    {
     "name": "stdout",
     "output_type": "stream",
     "text": [
      "\n",
      "Episode: 21/100 | Total Reward: 0.88 | Avg Loss: 0.0001 | Epsilon: 0.0100 | Final Portfolio: $216236.01\n"
     ]
    },
    {
     "name": "stderr",
     "output_type": "stream",
     "text": [
      "Training:  22%|██▏       | 22/100 [02:59<11:29,  8.84s/it]"
     ]
    },
    {
     "name": "stdout",
     "output_type": "stream",
     "text": [
      "\n",
      "Episode: 22/100 | Total Reward: 0.48 | Avg Loss: 0.0001 | Epsilon: 0.0100 | Final Portfolio: $147632.99\n"
     ]
    },
    {
     "name": "stderr",
     "output_type": "stream",
     "text": [
      "Training:  23%|██▎       | 23/100 [03:10<12:09,  9.48s/it]"
     ]
    },
    {
     "name": "stdout",
     "output_type": "stream",
     "text": [
      "\n",
      "Episode: 23/100 | Total Reward: 1.20 | Avg Loss: 0.0001 | Epsilon: 0.0100 | Final Portfolio: $299602.13\n"
     ]
    },
    {
     "name": "stderr",
     "output_type": "stream",
     "text": [
      "Training:  24%|██▍       | 24/100 [03:21<12:31,  9.89s/it]"
     ]
    },
    {
     "name": "stdout",
     "output_type": "stream",
     "text": [
      "\n",
      "Episode: 24/100 | Total Reward: 1.11 | Avg Loss: 0.0001 | Epsilon: 0.0100 | Final Portfolio: $273691.21\n"
     ]
    },
    {
     "name": "stderr",
     "output_type": "stream",
     "text": [
      "Training:  25%|██▌       | 25/100 [03:32<12:38, 10.12s/it]"
     ]
    },
    {
     "name": "stdout",
     "output_type": "stream",
     "text": [
      "\n",
      "Episode: 25/100 | Total Reward: 0.79 | Avg Loss: 0.0000 | Epsilon: 0.0100 | Final Portfolio: $204405.09\n"
     ]
    },
    {
     "name": "stderr",
     "output_type": "stream",
     "text": [
      "Training:  26%|██▌       | 26/100 [03:43<12:44, 10.33s/it]"
     ]
    },
    {
     "name": "stdout",
     "output_type": "stream",
     "text": [
      "\n",
      "Episode: 26/100 | Total Reward: 0.68 | Avg Loss: 0.0001 | Epsilon: 0.0100 | Final Portfolio: $180500.03\n"
     ]
    },
    {
     "name": "stderr",
     "output_type": "stream",
     "text": [
      "Training:  27%|██▋       | 27/100 [03:53<12:40, 10.42s/it]"
     ]
    },
    {
     "name": "stdout",
     "output_type": "stream",
     "text": [
      "\n",
      "Episode: 27/100 | Total Reward: 1.09 | Avg Loss: 0.0001 | Epsilon: 0.0100 | Final Portfolio: $267084.41\n"
     ]
    },
    {
     "name": "stderr",
     "output_type": "stream",
     "text": [
      "Training:  28%|██▊       | 28/100 [04:04<12:34, 10.48s/it]"
     ]
    },
    {
     "name": "stdout",
     "output_type": "stream",
     "text": [
      "\n",
      "Episode: 28/100 | Total Reward: 1.09 | Avg Loss: 0.0001 | Epsilon: 0.0100 | Final Portfolio: $266644.09\n"
     ]
    },
    {
     "name": "stderr",
     "output_type": "stream",
     "text": [
      "Training:  29%|██▉       | 29/100 [04:15<12:31, 10.59s/it]"
     ]
    },
    {
     "name": "stdout",
     "output_type": "stream",
     "text": [
      "\n",
      "Episode: 29/100 | Total Reward: 1.31 | Avg Loss: 0.0001 | Epsilon: 0.0100 | Final Portfolio: $317273.05\n"
     ]
    },
    {
     "name": "stderr",
     "output_type": "stream",
     "text": [
      "Training:  30%|███       | 30/100 [04:26<12:24, 10.63s/it]"
     ]
    },
    {
     "name": "stdout",
     "output_type": "stream",
     "text": [
      "\n",
      "Episode: 30/100 | Total Reward: 0.72 | Avg Loss: 0.0001 | Epsilon: 0.0100 | Final Portfolio: $186709.06\n"
     ]
    },
    {
     "name": "stderr",
     "output_type": "stream",
     "text": [
      "Training:  31%|███       | 31/100 [04:37<12:25, 10.81s/it]"
     ]
    },
    {
     "name": "stdout",
     "output_type": "stream",
     "text": [
      "\n",
      "Episode: 31/100 | Total Reward: 1.48 | Avg Loss: 0.0001 | Epsilon: 0.0100 | Final Portfolio: $402918.92\n"
     ]
    },
    {
     "name": "stderr",
     "output_type": "stream",
     "text": [
      "Training:  32%|███▏      | 32/100 [04:49<12:51, 11.34s/it]"
     ]
    },
    {
     "name": "stdout",
     "output_type": "stream",
     "text": [
      "\n",
      "Episode: 32/100 | Total Reward: 0.95 | Avg Loss: 0.0001 | Epsilon: 0.0100 | Final Portfolio: $235213.21\n"
     ]
    },
    {
     "name": "stderr",
     "output_type": "stream",
     "text": [
      "Training:  33%|███▎      | 33/100 [05:01<12:37, 11.31s/it]"
     ]
    },
    {
     "name": "stdout",
     "output_type": "stream",
     "text": [
      "\n",
      "Episode: 33/100 | Total Reward: 1.08 | Avg Loss: 0.0000 | Epsilon: 0.0100 | Final Portfolio: $268890.87\n"
     ]
    },
    {
     "name": "stderr",
     "output_type": "stream",
     "text": [
      "Training:  34%|███▍      | 34/100 [05:11<12:17, 11.17s/it]"
     ]
    },
    {
     "name": "stdout",
     "output_type": "stream",
     "text": [
      "\n",
      "Episode: 34/100 | Total Reward: 0.85 | Avg Loss: 0.0001 | Epsilon: 0.0100 | Final Portfolio: $217362.59\n"
     ]
    },
    {
     "name": "stderr",
     "output_type": "stream",
     "text": [
      "Training:  35%|███▌      | 35/100 [05:18<10:33,  9.74s/it]"
     ]
    },
    {
     "name": "stdout",
     "output_type": "stream",
     "text": [
      "\n",
      "Episode: 35/100 | Total Reward: 0.78 | Avg Loss: 0.0001 | Epsilon: 0.0100 | Final Portfolio: $201445.58\n"
     ]
    },
    {
     "name": "stderr",
     "output_type": "stream",
     "text": [
      "Training:  36%|███▌      | 36/100 [05:24<09:23,  8.81s/it]"
     ]
    },
    {
     "name": "stdout",
     "output_type": "stream",
     "text": [
      "\n",
      "Episode: 36/100 | Total Reward: 1.12 | Avg Loss: 0.0000 | Epsilon: 0.0100 | Final Portfolio: $286194.76\n"
     ]
    },
    {
     "name": "stderr",
     "output_type": "stream",
     "text": [
      "Training:  37%|███▋      | 37/100 [05:31<08:30,  8.11s/it]"
     ]
    },
    {
     "name": "stdout",
     "output_type": "stream",
     "text": [
      "\n",
      "Episode: 37/100 | Total Reward: 1.37 | Avg Loss: 0.0000 | Epsilon: 0.0100 | Final Portfolio: $360128.06\n"
     ]
    },
    {
     "name": "stderr",
     "output_type": "stream",
     "text": [
      "Training:  38%|███▊      | 38/100 [05:37<07:49,  7.57s/it]"
     ]
    },
    {
     "name": "stdout",
     "output_type": "stream",
     "text": [
      "\n",
      "Episode: 38/100 | Total Reward: 1.40 | Avg Loss: 0.0001 | Epsilon: 0.0100 | Final Portfolio: $364784.85\n"
     ]
    },
    {
     "name": "stderr",
     "output_type": "stream",
     "text": [
      "Training:  39%|███▉      | 39/100 [05:43<07:17,  7.17s/it]"
     ]
    },
    {
     "name": "stdout",
     "output_type": "stream",
     "text": [
      "\n",
      "Episode: 39/100 | Total Reward: 1.02 | Avg Loss: 0.0001 | Epsilon: 0.0100 | Final Portfolio: $249035.07\n"
     ]
    },
    {
     "name": "stderr",
     "output_type": "stream",
     "text": [
      "Training:  40%|████      | 40/100 [05:50<06:56,  6.94s/it]"
     ]
    },
    {
     "name": "stdout",
     "output_type": "stream",
     "text": [
      "\n",
      "Episode: 40/100 | Total Reward: 1.20 | Avg Loss: 0.0001 | Epsilon: 0.0100 | Final Portfolio: $308731.46\n"
     ]
    },
    {
     "name": "stderr",
     "output_type": "stream",
     "text": [
      "Training:  41%|████      | 41/100 [05:56<06:40,  6.79s/it]"
     ]
    },
    {
     "name": "stdout",
     "output_type": "stream",
     "text": [
      "\n",
      "Episode: 41/100 | Total Reward: 0.97 | Avg Loss: 0.0001 | Epsilon: 0.0100 | Final Portfolio: $233738.07\n"
     ]
    },
    {
     "name": "stderr",
     "output_type": "stream",
     "text": [
      "Training:  42%|████▏     | 42/100 [06:04<06:49,  7.06s/it]"
     ]
    },
    {
     "name": "stdout",
     "output_type": "stream",
     "text": [
      "\n",
      "Episode: 42/100 | Total Reward: 0.84 | Avg Loss: 0.0001 | Epsilon: 0.0100 | Final Portfolio: $206982.56\n"
     ]
    },
    {
     "name": "stderr",
     "output_type": "stream",
     "text": [
      "Training:  43%|████▎     | 43/100 [06:12<07:01,  7.40s/it]"
     ]
    },
    {
     "name": "stdout",
     "output_type": "stream",
     "text": [
      "\n",
      "Episode: 43/100 | Total Reward: 0.90 | Avg Loss: 0.0001 | Epsilon: 0.0100 | Final Portfolio: $225642.04\n"
     ]
    },
    {
     "name": "stderr",
     "output_type": "stream",
     "text": [
      "Training:  44%|████▍     | 44/100 [06:22<07:38,  8.19s/it]"
     ]
    },
    {
     "name": "stdout",
     "output_type": "stream",
     "text": [
      "\n",
      "Episode: 44/100 | Total Reward: 0.68 | Avg Loss: 0.0000 | Epsilon: 0.0100 | Final Portfolio: $186093.50\n"
     ]
    },
    {
     "name": "stderr",
     "output_type": "stream",
     "text": [
      "Training:  45%|████▌     | 45/100 [06:32<07:59,  8.73s/it]"
     ]
    },
    {
     "name": "stdout",
     "output_type": "stream",
     "text": [
      "\n",
      "Episode: 45/100 | Total Reward: 1.45 | Avg Loss: 0.0000 | Epsilon: 0.0100 | Final Portfolio: $377556.92\n"
     ]
    },
    {
     "name": "stderr",
     "output_type": "stream",
     "text": [
      "Training:  46%|████▌     | 46/100 [06:43<08:19,  9.26s/it]"
     ]
    },
    {
     "name": "stdout",
     "output_type": "stream",
     "text": [
      "\n",
      "Episode: 46/100 | Total Reward: 1.22 | Avg Loss: 0.0001 | Epsilon: 0.0100 | Final Portfolio: $305421.69\n"
     ]
    },
    {
     "name": "stderr",
     "output_type": "stream",
     "text": [
      "Training:  47%|████▋     | 47/100 [06:53<08:29,  9.62s/it]"
     ]
    },
    {
     "name": "stdout",
     "output_type": "stream",
     "text": [
      "\n",
      "Episode: 47/100 | Total Reward: 1.09 | Avg Loss: 0.0001 | Epsilon: 0.0100 | Final Portfolio: $263151.77\n"
     ]
    },
    {
     "name": "stderr",
     "output_type": "stream",
     "text": [
      "Training:  48%|████▊     | 48/100 [07:04<08:31,  9.84s/it]"
     ]
    },
    {
     "name": "stdout",
     "output_type": "stream",
     "text": [
      "\n",
      "Episode: 48/100 | Total Reward: 1.34 | Avg Loss: 0.0001 | Epsilon: 0.0100 | Final Portfolio: $343450.07\n"
     ]
    },
    {
     "name": "stderr",
     "output_type": "stream",
     "text": [
      "Training:  49%|████▉     | 49/100 [07:14<08:32, 10.06s/it]"
     ]
    },
    {
     "name": "stdout",
     "output_type": "stream",
     "text": [
      "\n",
      "Episode: 49/100 | Total Reward: 1.22 | Avg Loss: 0.0000 | Epsilon: 0.0100 | Final Portfolio: $312353.95\n"
     ]
    },
    {
     "name": "stderr",
     "output_type": "stream",
     "text": [
      "Training:  50%|█████     | 50/100 [07:24<08:27, 10.14s/it]"
     ]
    },
    {
     "name": "stdout",
     "output_type": "stream",
     "text": [
      "\n",
      "Episode: 50/100 | Total Reward: 1.37 | Avg Loss: 0.0000 | Epsilon: 0.0100 | Final Portfolio: $343305.64\n"
     ]
    },
    {
     "name": "stderr",
     "output_type": "stream",
     "text": [
      "Training:  51%|█████     | 51/100 [07:35<08:20, 10.22s/it]"
     ]
    },
    {
     "name": "stdout",
     "output_type": "stream",
     "text": [
      "\n",
      "Episode: 51/100 | Total Reward: 1.27 | Avg Loss: 0.0001 | Epsilon: 0.0100 | Final Portfolio: $325047.95\n"
     ]
    },
    {
     "name": "stderr",
     "output_type": "stream",
     "text": [
      "Training:  52%|█████▏    | 52/100 [07:46<08:19, 10.40s/it]"
     ]
    },
    {
     "name": "stdout",
     "output_type": "stream",
     "text": [
      "\n",
      "Episode: 52/100 | Total Reward: 1.24 | Avg Loss: 0.0001 | Epsilon: 0.0100 | Final Portfolio: $302134.96\n"
     ]
    },
    {
     "name": "stderr",
     "output_type": "stream",
     "text": [
      "Training:  53%|█████▎    | 53/100 [07:56<08:14, 10.53s/it]"
     ]
    },
    {
     "name": "stdout",
     "output_type": "stream",
     "text": [
      "\n",
      "Episode: 53/100 | Total Reward: 1.04 | Avg Loss: 0.0001 | Epsilon: 0.0100 | Final Portfolio: $257285.08\n"
     ]
    },
    {
     "name": "stderr",
     "output_type": "stream",
     "text": [
      "Training:  54%|█████▍    | 54/100 [08:07<08:07, 10.59s/it]"
     ]
    },
    {
     "name": "stdout",
     "output_type": "stream",
     "text": [
      "\n",
      "Episode: 54/100 | Total Reward: 1.21 | Avg Loss: 0.0001 | Epsilon: 0.0100 | Final Portfolio: $305383.76\n"
     ]
    },
    {
     "name": "stderr",
     "output_type": "stream",
     "text": [
      "Training:  55%|█████▌    | 55/100 [08:18<07:57, 10.61s/it]"
     ]
    },
    {
     "name": "stdout",
     "output_type": "stream",
     "text": [
      "\n",
      "Episode: 55/100 | Total Reward: 1.86 | Avg Loss: 0.0001 | Epsilon: 0.0100 | Final Portfolio: $561886.46\n"
     ]
    },
    {
     "name": "stderr",
     "output_type": "stream",
     "text": [
      "Training:  56%|█████▌    | 56/100 [08:28<07:46, 10.60s/it]"
     ]
    },
    {
     "name": "stdout",
     "output_type": "stream",
     "text": [
      "\n",
      "Episode: 56/100 | Total Reward: 0.88 | Avg Loss: 0.0001 | Epsilon: 0.0100 | Final Portfolio: $222615.00\n"
     ]
    },
    {
     "name": "stderr",
     "output_type": "stream",
     "text": [
      "Training:  57%|█████▋    | 57/100 [08:39<07:35, 10.59s/it]"
     ]
    },
    {
     "name": "stdout",
     "output_type": "stream",
     "text": [
      "\n",
      "Episode: 57/100 | Total Reward: 1.26 | Avg Loss: 0.0001 | Epsilon: 0.0100 | Final Portfolio: $312142.65\n"
     ]
    },
    {
     "name": "stderr",
     "output_type": "stream",
     "text": [
      "Training:  58%|█████▊    | 58/100 [08:50<07:23, 10.56s/it]"
     ]
    },
    {
     "name": "stdout",
     "output_type": "stream",
     "text": [
      "\n",
      "Episode: 58/100 | Total Reward: 0.99 | Avg Loss: 0.0001 | Epsilon: 0.0100 | Final Portfolio: $243562.25\n"
     ]
    },
    {
     "name": "stderr",
     "output_type": "stream",
     "text": [
      "Training:  59%|█████▉    | 59/100 [09:00<07:12, 10.55s/it]"
     ]
    },
    {
     "name": "stdout",
     "output_type": "stream",
     "text": [
      "\n",
      "Episode: 59/100 | Total Reward: 0.74 | Avg Loss: 0.0000 | Epsilon: 0.0100 | Final Portfolio: $195625.13\n"
     ]
    },
    {
     "name": "stderr",
     "output_type": "stream",
     "text": [
      "Training:  60%|██████    | 60/100 [09:11<07:02, 10.57s/it]"
     ]
    },
    {
     "name": "stdout",
     "output_type": "stream",
     "text": [
      "\n",
      "Episode: 60/100 | Total Reward: 0.90 | Avg Loss: 0.0000 | Epsilon: 0.0100 | Final Portfolio: $228483.33\n"
     ]
    },
    {
     "name": "stderr",
     "output_type": "stream",
     "text": [
      "Training:  61%|██████    | 61/100 [09:21<06:52, 10.57s/it]"
     ]
    },
    {
     "name": "stdout",
     "output_type": "stream",
     "text": [
      "\n",
      "Episode: 61/100 | Total Reward: 0.99 | Avg Loss: 0.0001 | Epsilon: 0.0100 | Final Portfolio: $243494.92\n"
     ]
    },
    {
     "name": "stderr",
     "output_type": "stream",
     "text": [
      "Training:  62%|██████▏   | 62/100 [09:32<06:44, 10.64s/it]"
     ]
    },
    {
     "name": "stdout",
     "output_type": "stream",
     "text": [
      "\n",
      "Episode: 62/100 | Total Reward: 0.87 | Avg Loss: 0.0001 | Epsilon: 0.0100 | Final Portfolio: $217616.60\n"
     ]
    },
    {
     "name": "stderr",
     "output_type": "stream",
     "text": [
      "Training:  63%|██████▎   | 63/100 [09:43<06:32, 10.62s/it]"
     ]
    },
    {
     "name": "stdout",
     "output_type": "stream",
     "text": [
      "\n",
      "Episode: 63/100 | Total Reward: 1.34 | Avg Loss: 0.0000 | Epsilon: 0.0100 | Final Portfolio: $340624.88\n"
     ]
    },
    {
     "name": "stderr",
     "output_type": "stream",
     "text": [
      "Training:  64%|██████▍   | 64/100 [09:53<06:21, 10.61s/it]"
     ]
    },
    {
     "name": "stdout",
     "output_type": "stream",
     "text": [
      "\n",
      "Episode: 64/100 | Total Reward: 1.05 | Avg Loss: 0.0001 | Epsilon: 0.0100 | Final Portfolio: $255360.18\n"
     ]
    },
    {
     "name": "stderr",
     "output_type": "stream",
     "text": [
      "Training:  65%|██████▌   | 65/100 [10:04<06:11, 10.61s/it]"
     ]
    },
    {
     "name": "stdout",
     "output_type": "stream",
     "text": [
      "\n",
      "Episode: 65/100 | Total Reward: 0.87 | Avg Loss: 0.0000 | Epsilon: 0.0100 | Final Portfolio: $213133.65\n"
     ]
    },
    {
     "name": "stderr",
     "output_type": "stream",
     "text": [
      "Training:  66%|██████▌   | 66/100 [10:15<06:02, 10.65s/it]"
     ]
    },
    {
     "name": "stdout",
     "output_type": "stream",
     "text": [
      "\n",
      "Episode: 66/100 | Total Reward: 0.86 | Avg Loss: 0.0001 | Epsilon: 0.0100 | Final Portfolio: $207800.74\n"
     ]
    },
    {
     "name": "stderr",
     "output_type": "stream",
     "text": [
      "Training:  67%|██████▋   | 67/100 [10:25<05:49, 10.60s/it]"
     ]
    },
    {
     "name": "stdout",
     "output_type": "stream",
     "text": [
      "\n",
      "Episode: 67/100 | Total Reward: 0.92 | Avg Loss: 0.0001 | Epsilon: 0.0100 | Final Portfolio: $224509.94\n"
     ]
    },
    {
     "name": "stderr",
     "output_type": "stream",
     "text": [
      "Training:  68%|██████▊   | 68/100 [10:36<05:38, 10.57s/it]"
     ]
    },
    {
     "name": "stdout",
     "output_type": "stream",
     "text": [
      "\n",
      "Episode: 68/100 | Total Reward: 0.74 | Avg Loss: 0.0001 | Epsilon: 0.0100 | Final Portfolio: $194791.79\n"
     ]
    },
    {
     "name": "stderr",
     "output_type": "stream",
     "text": [
      "Training:  69%|██████▉   | 69/100 [10:46<05:25, 10.49s/it]"
     ]
    },
    {
     "name": "stdout",
     "output_type": "stream",
     "text": [
      "\n",
      "Episode: 69/100 | Total Reward: 0.96 | Avg Loss: 0.0001 | Epsilon: 0.0100 | Final Portfolio: $237882.46\n"
     ]
    },
    {
     "name": "stderr",
     "output_type": "stream",
     "text": [
      "Training:  70%|███████   | 70/100 [10:56<05:13, 10.44s/it]"
     ]
    },
    {
     "name": "stdout",
     "output_type": "stream",
     "text": [
      "\n",
      "Episode: 70/100 | Total Reward: 1.35 | Avg Loss: 0.0001 | Epsilon: 0.0100 | Final Portfolio: $357368.70\n"
     ]
    },
    {
     "name": "stderr",
     "output_type": "stream",
     "text": [
      "Training:  71%|███████   | 71/100 [11:06<05:01, 10.39s/it]"
     ]
    },
    {
     "name": "stdout",
     "output_type": "stream",
     "text": [
      "\n",
      "Episode: 71/100 | Total Reward: 0.94 | Avg Loss: 0.0000 | Epsilon: 0.0100 | Final Portfolio: $233977.25\n"
     ]
    },
    {
     "name": "stderr",
     "output_type": "stream",
     "text": [
      "Training:  72%|███████▏  | 72/100 [11:17<04:54, 10.53s/it]"
     ]
    },
    {
     "name": "stdout",
     "output_type": "stream",
     "text": [
      "\n",
      "Episode: 72/100 | Total Reward: 0.97 | Avg Loss: 0.0001 | Epsilon: 0.0100 | Final Portfolio: $241624.83\n"
     ]
    },
    {
     "name": "stderr",
     "output_type": "stream",
     "text": [
      "Training:  73%|███████▎  | 73/100 [11:28<04:44, 10.53s/it]"
     ]
    },
    {
     "name": "stdout",
     "output_type": "stream",
     "text": [
      "\n",
      "Episode: 73/100 | Total Reward: 1.52 | Avg Loss: 0.0001 | Epsilon: 0.0100 | Final Portfolio: $414602.19\n"
     ]
    },
    {
     "name": "stderr",
     "output_type": "stream",
     "text": [
      "Training:  74%|███████▍  | 74/100 [11:38<04:32, 10.47s/it]"
     ]
    },
    {
     "name": "stdout",
     "output_type": "stream",
     "text": [
      "\n",
      "Episode: 74/100 | Total Reward: 1.36 | Avg Loss: 0.0001 | Epsilon: 0.0100 | Final Portfolio: $346793.43\n"
     ]
    },
    {
     "name": "stderr",
     "output_type": "stream",
     "text": [
      "Training:  75%|███████▌  | 75/100 [11:48<04:19, 10.40s/it]"
     ]
    },
    {
     "name": "stdout",
     "output_type": "stream",
     "text": [
      "\n",
      "Episode: 75/100 | Total Reward: 1.14 | Avg Loss: 0.0001 | Epsilon: 0.0100 | Final Portfolio: $284766.78\n"
     ]
    },
    {
     "name": "stderr",
     "output_type": "stream",
     "text": [
      "Training:  76%|███████▌  | 76/100 [11:59<04:09, 10.39s/it]"
     ]
    },
    {
     "name": "stdout",
     "output_type": "stream",
     "text": [
      "\n",
      "Episode: 76/100 | Total Reward: 1.18 | Avg Loss: 0.0001 | Epsilon: 0.0100 | Final Portfolio: $297982.67\n"
     ]
    },
    {
     "name": "stderr",
     "output_type": "stream",
     "text": [
      "Training:  77%|███████▋  | 77/100 [12:09<03:57, 10.34s/it]"
     ]
    },
    {
     "name": "stdout",
     "output_type": "stream",
     "text": [
      "\n",
      "Episode: 77/100 | Total Reward: 1.30 | Avg Loss: 0.0001 | Epsilon: 0.0100 | Final Portfolio: $331405.43\n"
     ]
    },
    {
     "name": "stderr",
     "output_type": "stream",
     "text": [
      "Training:  78%|███████▊  | 78/100 [12:20<03:49, 10.42s/it]"
     ]
    },
    {
     "name": "stdout",
     "output_type": "stream",
     "text": [
      "\n",
      "Episode: 78/100 | Total Reward: 1.26 | Avg Loss: 0.0001 | Epsilon: 0.0100 | Final Portfolio: $319633.29\n"
     ]
    },
    {
     "name": "stderr",
     "output_type": "stream",
     "text": [
      "Training:  79%|███████▉  | 79/100 [12:30<03:40, 10.48s/it]"
     ]
    },
    {
     "name": "stdout",
     "output_type": "stream",
     "text": [
      "\n",
      "Episode: 79/100 | Total Reward: 1.37 | Avg Loss: 0.0001 | Epsilon: 0.0100 | Final Portfolio: $362377.42\n"
     ]
    },
    {
     "name": "stderr",
     "output_type": "stream",
     "text": [
      "Training:  80%|████████  | 80/100 [12:41<03:30, 10.53s/it]"
     ]
    },
    {
     "name": "stdout",
     "output_type": "stream",
     "text": [
      "\n",
      "Episode: 80/100 | Total Reward: 1.16 | Avg Loss: 0.0001 | Epsilon: 0.0100 | Final Portfolio: $294751.92\n"
     ]
    },
    {
     "name": "stderr",
     "output_type": "stream",
     "text": [
      "Training:  81%|████████  | 81/100 [12:51<03:20, 10.53s/it]"
     ]
    },
    {
     "name": "stdout",
     "output_type": "stream",
     "text": [
      "\n",
      "Episode: 81/100 | Total Reward: 1.49 | Avg Loss: 0.0001 | Epsilon: 0.0100 | Final Portfolio: $408712.62\n"
     ]
    },
    {
     "name": "stderr",
     "output_type": "stream",
     "text": [
      "Training:  82%|████████▏ | 82/100 [13:02<03:09, 10.53s/it]"
     ]
    },
    {
     "name": "stdout",
     "output_type": "stream",
     "text": [
      "\n",
      "Episode: 82/100 | Total Reward: 0.53 | Avg Loss: 0.0001 | Epsilon: 0.0100 | Final Portfolio: $154410.58\n"
     ]
    },
    {
     "name": "stderr",
     "output_type": "stream",
     "text": [
      "Training:  83%|████████▎ | 83/100 [13:12<02:58, 10.49s/it]"
     ]
    },
    {
     "name": "stdout",
     "output_type": "stream",
     "text": [
      "\n",
      "Episode: 83/100 | Total Reward: 1.25 | Avg Loss: 0.0001 | Epsilon: 0.0100 | Final Portfolio: $312852.21\n"
     ]
    },
    {
     "name": "stderr",
     "output_type": "stream",
     "text": [
      "Training:  84%|████████▍ | 84/100 [13:23<02:47, 10.47s/it]"
     ]
    },
    {
     "name": "stdout",
     "output_type": "stream",
     "text": [
      "\n",
      "Episode: 84/100 | Total Reward: 1.24 | Avg Loss: 0.0001 | Epsilon: 0.0100 | Final Portfolio: $316964.06\n"
     ]
    },
    {
     "name": "stderr",
     "output_type": "stream",
     "text": [
      "Training:  85%|████████▌ | 85/100 [13:33<02:36, 10.45s/it]"
     ]
    },
    {
     "name": "stdout",
     "output_type": "stream",
     "text": [
      "\n",
      "Episode: 85/100 | Total Reward: 1.00 | Avg Loss: 0.0001 | Epsilon: 0.0100 | Final Portfolio: $247313.48\n"
     ]
    },
    {
     "name": "stderr",
     "output_type": "stream",
     "text": [
      "Training:  86%|████████▌ | 86/100 [13:44<02:26, 10.43s/it]"
     ]
    },
    {
     "name": "stdout",
     "output_type": "stream",
     "text": [
      "\n",
      "Episode: 86/100 | Total Reward: 1.26 | Avg Loss: 0.0001 | Epsilon: 0.0100 | Final Portfolio: $312240.59\n"
     ]
    },
    {
     "name": "stderr",
     "output_type": "stream",
     "text": [
      "Training:  87%|████████▋ | 87/100 [13:54<02:16, 10.48s/it]"
     ]
    },
    {
     "name": "stdout",
     "output_type": "stream",
     "text": [
      "\n",
      "Episode: 87/100 | Total Reward: 1.24 | Avg Loss: 0.0001 | Epsilon: 0.0100 | Final Portfolio: $308702.61\n"
     ]
    },
    {
     "name": "stderr",
     "output_type": "stream",
     "text": [
      "Training:  88%|████████▊ | 88/100 [14:04<02:05, 10.42s/it]"
     ]
    },
    {
     "name": "stdout",
     "output_type": "stream",
     "text": [
      "\n",
      "Episode: 88/100 | Total Reward: 1.20 | Avg Loss: 0.0001 | Epsilon: 0.0100 | Final Portfolio: $296249.69\n"
     ]
    },
    {
     "name": "stderr",
     "output_type": "stream",
     "text": [
      "Training:  89%|████████▉ | 89/100 [14:15<01:54, 10.44s/it]"
     ]
    },
    {
     "name": "stdout",
     "output_type": "stream",
     "text": [
      "\n",
      "Episode: 89/100 | Total Reward: 1.02 | Avg Loss: 0.0001 | Epsilon: 0.0100 | Final Portfolio: $252211.34\n"
     ]
    },
    {
     "name": "stderr",
     "output_type": "stream",
     "text": [
      "Training:  90%|█████████ | 90/100 [14:25<01:44, 10.42s/it]"
     ]
    },
    {
     "name": "stdout",
     "output_type": "stream",
     "text": [
      "\n",
      "Episode: 90/100 | Total Reward: 0.75 | Avg Loss: 0.0001 | Epsilon: 0.0100 | Final Portfolio: $197209.43\n"
     ]
    },
    {
     "name": "stderr",
     "output_type": "stream",
     "text": [
      "Training:  91%|█████████ | 91/100 [14:36<01:34, 10.45s/it]"
     ]
    },
    {
     "name": "stdout",
     "output_type": "stream",
     "text": [
      "\n",
      "Episode: 91/100 | Total Reward: 1.78 | Avg Loss: 0.0001 | Epsilon: 0.0100 | Final Portfolio: $528580.49\n"
     ]
    },
    {
     "name": "stderr",
     "output_type": "stream",
     "text": [
      "Training:  92%|█████████▏| 92/100 [14:46<01:23, 10.46s/it]"
     ]
    },
    {
     "name": "stdout",
     "output_type": "stream",
     "text": [
      "\n",
      "Episode: 92/100 | Total Reward: 1.42 | Avg Loss: 0.0001 | Epsilon: 0.0100 | Final Portfolio: $373193.13\n"
     ]
    },
    {
     "name": "stderr",
     "output_type": "stream",
     "text": [
      "Training:  93%|█████████▎| 93/100 [14:58<01:15, 10.81s/it]"
     ]
    },
    {
     "name": "stdout",
     "output_type": "stream",
     "text": [
      "\n",
      "Episode: 93/100 | Total Reward: 1.15 | Avg Loss: 0.0001 | Epsilon: 0.0100 | Final Portfolio: $287926.69\n"
     ]
    },
    {
     "name": "stderr",
     "output_type": "stream",
     "text": [
      "Training:  94%|█████████▍| 94/100 [15:08<01:04, 10.72s/it]"
     ]
    },
    {
     "name": "stdout",
     "output_type": "stream",
     "text": [
      "\n",
      "Episode: 94/100 | Total Reward: 1.25 | Avg Loss: 0.0001 | Epsilon: 0.0100 | Final Portfolio: $317412.92\n"
     ]
    },
    {
     "name": "stderr",
     "output_type": "stream",
     "text": [
      "Training:  95%|█████████▌| 95/100 [15:19<00:53, 10.73s/it]"
     ]
    },
    {
     "name": "stdout",
     "output_type": "stream",
     "text": [
      "\n",
      "Episode: 95/100 | Total Reward: 0.99 | Avg Loss: 0.0000 | Epsilon: 0.0100 | Final Portfolio: $247700.28\n"
     ]
    },
    {
     "name": "stderr",
     "output_type": "stream",
     "text": [
      "Training:  96%|█████████▌| 96/100 [15:30<00:42, 10.67s/it]"
     ]
    },
    {
     "name": "stdout",
     "output_type": "stream",
     "text": [
      "\n",
      "Episode: 96/100 | Total Reward: 1.03 | Avg Loss: 0.0001 | Epsilon: 0.0100 | Final Portfolio: $259605.94\n"
     ]
    },
    {
     "name": "stderr",
     "output_type": "stream",
     "text": [
      "Training:  97%|█████████▋| 97/100 [15:40<00:32, 10.68s/it]"
     ]
    },
    {
     "name": "stdout",
     "output_type": "stream",
     "text": [
      "\n",
      "Episode: 97/100 | Total Reward: 0.97 | Avg Loss: 0.0001 | Epsilon: 0.0100 | Final Portfolio: $243003.65\n"
     ]
    },
    {
     "name": "stderr",
     "output_type": "stream",
     "text": [
      "Training:  98%|█████████▊| 98/100 [15:51<00:21, 10.71s/it]"
     ]
    },
    {
     "name": "stdout",
     "output_type": "stream",
     "text": [
      "\n",
      "Episode: 98/100 | Total Reward: 1.18 | Avg Loss: 0.0001 | Epsilon: 0.0100 | Final Portfolio: $295580.43\n"
     ]
    },
    {
     "name": "stderr",
     "output_type": "stream",
     "text": [
      "Training:  99%|█████████▉| 99/100 [16:02<00:10, 10.70s/it]"
     ]
    },
    {
     "name": "stdout",
     "output_type": "stream",
     "text": [
      "\n",
      "Episode: 99/100 | Total Reward: 0.85 | Avg Loss: 0.0001 | Epsilon: 0.0100 | Final Portfolio: $213955.27\n"
     ]
    },
    {
     "name": "stderr",
     "output_type": "stream",
     "text": [
      "Training: 100%|██████████| 100/100 [16:12<00:00,  9.73s/it]"
     ]
    },
    {
     "name": "stdout",
     "output_type": "stream",
     "text": [
      "\n",
      "Episode: 100/100 | Total Reward: 0.94 | Avg Loss: 0.0000 | Epsilon: 0.0100 | Final Portfolio: $237083.59\n",
      "\n",
      "Starting testing phase on the S&P500 index...\n"
     ]
    },
    {
     "name": "stderr",
     "output_type": "stream",
     "text": [
      "\n"
     ]
    },
    {
     "data": {
      "application/vnd.plotly.v1+json": {
       "config": {
        "plotlyServerURL": "https://plot.ly"
       },
       "data": [
        {
         "mode": "lines",
         "name": "Training Portfolio",
         "type": "scatter",
         "x": [
          0,
          1,
          2,
          3,
          4,
          5,
          6,
          7,
          8,
          9,
          10,
          11,
          12,
          13,
          14,
          15,
          16,
          17,
          18,
          19,
          20,
          21,
          22,
          23,
          24,
          25,
          26,
          27,
          28,
          29,
          30,
          31,
          32,
          33,
          34,
          35,
          36,
          37,
          38,
          39,
          40,
          41,
          42,
          43,
          44,
          45,
          46,
          47,
          48,
          49,
          50,
          51,
          52,
          53,
          54,
          55,
          56,
          57,
          58,
          59,
          60,
          61,
          62,
          63,
          64,
          65,
          66,
          67,
          68,
          69,
          70,
          71,
          72,
          73,
          74,
          75,
          76,
          77,
          78,
          79,
          80,
          81,
          82,
          83,
          84,
          85,
          86,
          87,
          88,
          89,
          90,
          91,
          92,
          93,
          94,
          95,
          96,
          97,
          98,
          99,
          100,
          101,
          102,
          103,
          104,
          105,
          106,
          107,
          108,
          109,
          110,
          111,
          112,
          113,
          114,
          115,
          116,
          117,
          118,
          119,
          120,
          121,
          122,
          123,
          124,
          125,
          126,
          127,
          128,
          129,
          130,
          131,
          132,
          133,
          134,
          135,
          136,
          137,
          138,
          139,
          140,
          141,
          142,
          143,
          144,
          145,
          146,
          147,
          148,
          149,
          150,
          151,
          152,
          153,
          154,
          155,
          156,
          157,
          158,
          159,
          160,
          161,
          162,
          163,
          164,
          165,
          166,
          167,
          168,
          169,
          170,
          171,
          172,
          173,
          174,
          175,
          176,
          177,
          178,
          179,
          180,
          181,
          182,
          183,
          184,
          185,
          186,
          187,
          188,
          189,
          190,
          191,
          192,
          193,
          194,
          195,
          196,
          197,
          198,
          199,
          200,
          201,
          202,
          203,
          204,
          205,
          206,
          207,
          208,
          209,
          210,
          211,
          212,
          213,
          214,
          215,
          216,
          217,
          218,
          219,
          220,
          221,
          222,
          223,
          224,
          225,
          226,
          227,
          228,
          229,
          230,
          231,
          232,
          233,
          234,
          235,
          236,
          237,
          238,
          239,
          240,
          241,
          242,
          243,
          244,
          245,
          246,
          247,
          248,
          249,
          250,
          251,
          252,
          253,
          254,
          255,
          256,
          257,
          258,
          259,
          260,
          261,
          262,
          263,
          264,
          265,
          266,
          267,
          268,
          269,
          270,
          271,
          272,
          273,
          274,
          275,
          276,
          277,
          278,
          279,
          280,
          281,
          282,
          283,
          284,
          285,
          286,
          287,
          288,
          289,
          290,
          291,
          292,
          293,
          294,
          295,
          296,
          297,
          298,
          299,
          300,
          301,
          302,
          303,
          304,
          305,
          306,
          307,
          308,
          309,
          310,
          311,
          312,
          313,
          314,
          315,
          316,
          317,
          318,
          319,
          320,
          321,
          322,
          323,
          324,
          325,
          326,
          327,
          328,
          329,
          330,
          331,
          332,
          333,
          334,
          335,
          336,
          337,
          338,
          339,
          340,
          341,
          342,
          343,
          344,
          345,
          346,
          347,
          348,
          349,
          350,
          351,
          352,
          353,
          354,
          355,
          356,
          357,
          358,
          359,
          360,
          361,
          362,
          363,
          364,
          365,
          366,
          367,
          368,
          369,
          370,
          371,
          372,
          373,
          374,
          375,
          376,
          377,
          378,
          379,
          380,
          381,
          382,
          383,
          384,
          385,
          386,
          387,
          388,
          389,
          390,
          391,
          392,
          393,
          394,
          395,
          396,
          397,
          398,
          399,
          400,
          401,
          402,
          403,
          404,
          405,
          406,
          407,
          408,
          409,
          410,
          411,
          412,
          413,
          414,
          415,
          416,
          417,
          418,
          419,
          420,
          421,
          422,
          423,
          424,
          425,
          426,
          427,
          428,
          429,
          430,
          431,
          432,
          433,
          434,
          435,
          436,
          437,
          438,
          439,
          440,
          441,
          442,
          443,
          444,
          445,
          446,
          447,
          448,
          449,
          450,
          451,
          452,
          453,
          454,
          455,
          456,
          457,
          458,
          459,
          460,
          461,
          462,
          463,
          464,
          465,
          466,
          467,
          468,
          469,
          470,
          471,
          472,
          473,
          474,
          475,
          476,
          477,
          478,
          479,
          480,
          481,
          482,
          483,
          484,
          485,
          486,
          487,
          488,
          489,
          490,
          491,
          492,
          493,
          494,
          495,
          496,
          497,
          498,
          499,
          500,
          501,
          502,
          503,
          504,
          505,
          506,
          507,
          508,
          509,
          510,
          511,
          512,
          513,
          514,
          515,
          516,
          517,
          518,
          519,
          520,
          521,
          522,
          523,
          524,
          525,
          526,
          527,
          528,
          529,
          530,
          531,
          532,
          533,
          534,
          535,
          536,
          537,
          538,
          539,
          540,
          541,
          542,
          543,
          544,
          545,
          546,
          547,
          548,
          549,
          550,
          551,
          552,
          553,
          554,
          555,
          556,
          557,
          558,
          559,
          560,
          561,
          562,
          563,
          564,
          565,
          566,
          567,
          568,
          569,
          570,
          571,
          572,
          573,
          574,
          575,
          576,
          577,
          578,
          579,
          580,
          581,
          582,
          583,
          584,
          585,
          586,
          587,
          588,
          589,
          590,
          591,
          592,
          593,
          594,
          595,
          596,
          597,
          598,
          599,
          600,
          601,
          602,
          603,
          604,
          605,
          606,
          607,
          608,
          609,
          610,
          611,
          612,
          613,
          614,
          615,
          616,
          617,
          618,
          619,
          620,
          621,
          622,
          623,
          624,
          625,
          626,
          627,
          628,
          629,
          630,
          631,
          632,
          633,
          634,
          635,
          636,
          637,
          638,
          639,
          640,
          641,
          642,
          643,
          644,
          645,
          646,
          647,
          648,
          649,
          650,
          651,
          652,
          653,
          654,
          655,
          656,
          657,
          658,
          659,
          660,
          661,
          662,
          663,
          664,
          665,
          666,
          667,
          668,
          669,
          670,
          671,
          672,
          673,
          674,
          675,
          676,
          677,
          678,
          679,
          680,
          681,
          682,
          683,
          684,
          685,
          686,
          687,
          688,
          689,
          690,
          691,
          692,
          693,
          694,
          695,
          696,
          697,
          698,
          699,
          700,
          701,
          702,
          703,
          704,
          705,
          706,
          707,
          708,
          709,
          710,
          711,
          712,
          713,
          714,
          715,
          716,
          717,
          718,
          719,
          720,
          721,
          722,
          723,
          724,
          725,
          726,
          727,
          728,
          729,
          730,
          731,
          732,
          733,
          734,
          735,
          736,
          737,
          738,
          739,
          740,
          741,
          742,
          743,
          744,
          745,
          746,
          747,
          748,
          749,
          750,
          751,
          752,
          753,
          754,
          755,
          756,
          757,
          758,
          759,
          760,
          761,
          762,
          763,
          764,
          765,
          766,
          767,
          768,
          769,
          770,
          771,
          772,
          773,
          774,
          775,
          776,
          777,
          778,
          779,
          780,
          781,
          782,
          783,
          784,
          785,
          786,
          787,
          788,
          789,
          790,
          791,
          792,
          793,
          794,
          795,
          796,
          797,
          798,
          799,
          800,
          801,
          802,
          803,
          804,
          805,
          806,
          807,
          808,
          809,
          810,
          811,
          812,
          813,
          814,
          815,
          816,
          817,
          818,
          819,
          820,
          821,
          822,
          823,
          824,
          825,
          826,
          827,
          828,
          829,
          830,
          831,
          832,
          833,
          834,
          835,
          836,
          837,
          838,
          839,
          840,
          841,
          842,
          843,
          844,
          845,
          846,
          847,
          848,
          849,
          850,
          851,
          852,
          853,
          854,
          855,
          856,
          857,
          858,
          859,
          860,
          861,
          862,
          863,
          864,
          865,
          866,
          867,
          868,
          869,
          870,
          871,
          872,
          873,
          874,
          875,
          876,
          877,
          878,
          879,
          880,
          881,
          882,
          883,
          884,
          885,
          886,
          887,
          888,
          889,
          890,
          891,
          892,
          893,
          894,
          895,
          896,
          897,
          898,
          899,
          900,
          901,
          902,
          903,
          904,
          905,
          906,
          907,
          908,
          909,
          910,
          911,
          912,
          913,
          914,
          915,
          916,
          917,
          918,
          919,
          920,
          921,
          922,
          923,
          924,
          925,
          926,
          927,
          928,
          929,
          930,
          931,
          932,
          933,
          934,
          935,
          936,
          937,
          938,
          939,
          940,
          941,
          942,
          943,
          944,
          945,
          946,
          947,
          948,
          949,
          950,
          951,
          952,
          953,
          954,
          955,
          956,
          957,
          958,
          959,
          960,
          961,
          962,
          963,
          964,
          965,
          966,
          967,
          968,
          969,
          970,
          971,
          972,
          973,
          974,
          975,
          976,
          977,
          978,
          979,
          980,
          981,
          982,
          983,
          984,
          985,
          986,
          987,
          988,
          989,
          990,
          991,
          992,
          993,
          994,
          995,
          996,
          997,
          998,
          999,
          1000,
          1001,
          1002,
          1003,
          1004,
          1005,
          1006,
          1007,
          1008,
          1009,
          1010,
          1011,
          1012,
          1013,
          1014,
          1015,
          1016,
          1017,
          1018,
          1019,
          1020,
          1021,
          1022,
          1023,
          1024,
          1025,
          1026,
          1027,
          1028,
          1029,
          1030,
          1031,
          1032,
          1033,
          1034,
          1035,
          1036,
          1037,
          1038,
          1039,
          1040,
          1041,
          1042,
          1043,
          1044,
          1045,
          1046,
          1047,
          1048,
          1049,
          1050,
          1051,
          1052,
          1053,
          1054,
          1055,
          1056,
          1057,
          1058,
          1059,
          1060,
          1061,
          1062,
          1063,
          1064,
          1065,
          1066,
          1067,
          1068,
          1069,
          1070,
          1071,
          1072,
          1073,
          1074,
          1075,
          1076,
          1077,
          1078,
          1079,
          1080,
          1081,
          1082,
          1083,
          1084,
          1085,
          1086,
          1087,
          1088,
          1089,
          1090,
          1091,
          1092,
          1093,
          1094,
          1095,
          1096,
          1097,
          1098,
          1099,
          1100,
          1101,
          1102,
          1103,
          1104,
          1105,
          1106,
          1107,
          1108,
          1109,
          1110,
          1111,
          1112,
          1113,
          1114,
          1115,
          1116,
          1117,
          1118,
          1119,
          1120,
          1121,
          1122,
          1123,
          1124,
          1125,
          1126,
          1127,
          1128,
          1129,
          1130,
          1131,
          1132,
          1133,
          1134,
          1135,
          1136,
          1137,
          1138,
          1139,
          1140,
          1141,
          1142,
          1143,
          1144,
          1145,
          1146,
          1147,
          1148,
          1149,
          1150,
          1151,
          1152,
          1153,
          1154,
          1155,
          1156,
          1157,
          1158,
          1159,
          1160,
          1161,
          1162,
          1163,
          1164,
          1165,
          1166,
          1167,
          1168,
          1169,
          1170,
          1171,
          1172,
          1173,
          1174,
          1175,
          1176,
          1177,
          1178,
          1179,
          1180,
          1181,
          1182,
          1183,
          1184,
          1185,
          1186,
          1187,
          1188,
          1189,
          1190,
          1191,
          1192,
          1193,
          1194,
          1195,
          1196,
          1197,
          1198,
          1199,
          1200,
          1201,
          1202,
          1203,
          1204,
          1205,
          1206,
          1207,
          1208,
          1209,
          1210,
          1211,
          1212,
          1213,
          1214,
          1215,
          1216,
          1217,
          1218,
          1219,
          1220,
          1221,
          1222,
          1223,
          1224,
          1225,
          1226,
          1227,
          1228,
          1229,
          1230,
          1231,
          1232,
          1233,
          1234,
          1235,
          1236,
          1237,
          1238,
          1239,
          1240,
          1241,
          1242,
          1243,
          1244,
          1245,
          1246,
          1247,
          1248,
          1249,
          1250,
          1251,
          1252,
          1253,
          1254,
          1255,
          1256,
          1257,
          1258,
          1259,
          1260,
          1261,
          1262,
          1263,
          1264,
          1265,
          1266,
          1267,
          1268,
          1269,
          1270,
          1271,
          1272,
          1273,
          1274,
          1275,
          1276,
          1277,
          1278,
          1279,
          1280,
          1281,
          1282,
          1283,
          1284,
          1285,
          1286,
          1287,
          1288,
          1289,
          1290,
          1291,
          1292,
          1293,
          1294,
          1295,
          1296,
          1297,
          1298,
          1299,
          1300,
          1301,
          1302,
          1303,
          1304,
          1305,
          1306,
          1307,
          1308,
          1309,
          1310,
          1311,
          1312,
          1313,
          1314,
          1315,
          1316,
          1317,
          1318,
          1319,
          1320,
          1321,
          1322,
          1323,
          1324,
          1325,
          1326,
          1327,
          1328,
          1329,
          1330,
          1331,
          1332,
          1333,
          1334,
          1335,
          1336,
          1337,
          1338,
          1339,
          1340,
          1341,
          1342,
          1343,
          1344,
          1345,
          1346,
          1347,
          1348,
          1349,
          1350,
          1351,
          1352,
          1353,
          1354,
          1355,
          1356,
          1357,
          1358,
          1359,
          1360,
          1361,
          1362,
          1363,
          1364,
          1365,
          1366,
          1367,
          1368,
          1369,
          1370,
          1371,
          1372,
          1373,
          1374,
          1375,
          1376,
          1377,
          1378,
          1379,
          1380,
          1381,
          1382,
          1383,
          1384,
          1385,
          1386,
          1387,
          1388,
          1389,
          1390,
          1391,
          1392,
          1393,
          1394,
          1395,
          1396,
          1397,
          1398,
          1399,
          1400,
          1401,
          1402,
          1403,
          1404,
          1405,
          1406,
          1407,
          1408,
          1409,
          1410,
          1411,
          1412,
          1413,
          1414,
          1415,
          1416,
          1417,
          1418,
          1419,
          1420,
          1421,
          1422,
          1423,
          1424,
          1425,
          1426,
          1427,
          1428,
          1429,
          1430,
          1431,
          1432,
          1433,
          1434,
          1435,
          1436,
          1437,
          1438,
          1439,
          1440,
          1441,
          1442,
          1443,
          1444,
          1445,
          1446,
          1447,
          1448,
          1449,
          1450,
          1451,
          1452,
          1453,
          1454,
          1455,
          1456,
          1457,
          1458,
          1459,
          1460,
          1461,
          1462,
          1463,
          1464,
          1465,
          1466,
          1467,
          1468,
          1469,
          1470,
          1471,
          1472,
          1473,
          1474,
          1475,
          1476,
          1477,
          1478,
          1479,
          1480,
          1481,
          1482,
          1483,
          1484,
          1485,
          1486,
          1487,
          1488,
          1489,
          1490,
          1491,
          1492,
          1493,
          1494,
          1495,
          1496,
          1497,
          1498,
          1499,
          1500,
          1501,
          1502,
          1503,
          1504,
          1505,
          1506,
          1507,
          1508,
          1509,
          1510,
          1511,
          1512,
          1513,
          1514,
          1515,
          1516,
          1517,
          1518,
          1519,
          1520,
          1521,
          1522,
          1523,
          1524,
          1525,
          1526,
          1527,
          1528,
          1529,
          1530,
          1531,
          1532,
          1533,
          1534,
          1535,
          1536,
          1537,
          1538,
          1539,
          1540,
          1541,
          1542,
          1543,
          1544,
          1545,
          1546,
          1547,
          1548,
          1549,
          1550,
          1551,
          1552,
          1553,
          1554,
          1555,
          1556,
          1557,
          1558,
          1559,
          1560,
          1561,
          1562,
          1563,
          1564,
          1565,
          1566,
          1567,
          1568,
          1569,
          1570,
          1571,
          1572,
          1573,
          1574,
          1575,
          1576,
          1577,
          1578,
          1579,
          1580,
          1581,
          1582,
          1583,
          1584,
          1585,
          1586,
          1587,
          1588,
          1589,
          1590,
          1591,
          1592,
          1593,
          1594,
          1595,
          1596,
          1597,
          1598,
          1599,
          1600,
          1601,
          1602,
          1603,
          1604,
          1605,
          1606,
          1607,
          1608,
          1609,
          1610,
          1611,
          1612,
          1613,
          1614,
          1615,
          1616,
          1617,
          1618,
          1619,
          1620,
          1621,
          1622,
          1623,
          1624,
          1625,
          1626,
          1627,
          1628,
          1629,
          1630,
          1631,
          1632,
          1633,
          1634,
          1635,
          1636,
          1637,
          1638,
          1639,
          1640,
          1641,
          1642,
          1643,
          1644,
          1645,
          1646,
          1647,
          1648,
          1649,
          1650,
          1651,
          1652,
          1653,
          1654,
          1655,
          1656,
          1657,
          1658,
          1659,
          1660,
          1661,
          1662,
          1663,
          1664,
          1665,
          1666,
          1667,
          1668,
          1669,
          1670,
          1671,
          1672,
          1673,
          1674,
          1675,
          1676,
          1677,
          1678,
          1679,
          1680,
          1681,
          1682,
          1683,
          1684,
          1685,
          1686,
          1687,
          1688,
          1689,
          1690,
          1691,
          1692,
          1693,
          1694,
          1695,
          1696,
          1697,
          1698,
          1699,
          1700,
          1701,
          1702,
          1703,
          1704,
          1705,
          1706,
          1707,
          1708,
          1709,
          1710,
          1711,
          1712,
          1713,
          1714,
          1715,
          1716,
          1717,
          1718,
          1719,
          1720,
          1721,
          1722,
          1723,
          1724,
          1725,
          1726,
          1727,
          1728,
          1729,
          1730,
          1731,
          1732,
          1733,
          1734,
          1735,
          1736,
          1737,
          1738,
          1739,
          1740,
          1741,
          1742,
          1743,
          1744,
          1745,
          1746,
          1747,
          1748,
          1749,
          1750,
          1751,
          1752,
          1753,
          1754,
          1755,
          1756,
          1757,
          1758,
          1759,
          1760,
          1761,
          1762,
          1763,
          1764,
          1765,
          1766,
          1767,
          1768,
          1769,
          1770,
          1771,
          1772,
          1773,
          1774,
          1775,
          1776,
          1777,
          1778,
          1779,
          1780,
          1781,
          1782,
          1783,
          1784,
          1785,
          1786,
          1787,
          1788,
          1789,
          1790,
          1791,
          1792,
          1793,
          1794,
          1795,
          1796,
          1797,
          1798,
          1799,
          1800,
          1801,
          1802,
          1803,
          1804,
          1805,
          1806,
          1807,
          1808,
          1809,
          1810,
          1811,
          1812,
          1813,
          1814,
          1815,
          1816,
          1817,
          1818,
          1819,
          1820,
          1821,
          1822,
          1823,
          1824,
          1825,
          1826,
          1827,
          1828,
          1829,
          1830,
          1831,
          1832,
          1833,
          1834,
          1835,
          1836,
          1837,
          1838,
          1839,
          1840,
          1841,
          1842,
          1843,
          1844,
          1845,
          1846,
          1847,
          1848,
          1849,
          1850,
          1851,
          1852,
          1853,
          1854,
          1855,
          1856,
          1857,
          1858,
          1859,
          1860,
          1861,
          1862,
          1863,
          1864,
          1865,
          1866,
          1867,
          1868,
          1869,
          1870,
          1871,
          1872,
          1873,
          1874,
          1875,
          1876,
          1877,
          1878,
          1879,
          1880,
          1881,
          1882,
          1883,
          1884,
          1885,
          1886,
          1887,
          1888,
          1889,
          1890,
          1891,
          1892,
          1893,
          1894,
          1895,
          1896,
          1897,
          1898,
          1899,
          1900,
          1901,
          1902,
          1903,
          1904,
          1905,
          1906,
          1907,
          1908,
          1909,
          1910,
          1911,
          1912,
          1913,
          1914,
          1915,
          1916,
          1917,
          1918,
          1919,
          1920,
          1921,
          1922,
          1923,
          1924,
          1925,
          1926,
          1927,
          1928,
          1929,
          1930,
          1931,
          1932,
          1933,
          1934,
          1935,
          1936,
          1937,
          1938,
          1939,
          1940,
          1941,
          1942,
          1943,
          1944,
          1945,
          1946,
          1947,
          1948,
          1949,
          1950,
          1951,
          1952,
          1953,
          1954,
          1955,
          1956,
          1957,
          1958,
          1959,
          1960,
          1961,
          1962,
          1963,
          1964,
          1965,
          1966,
          1967,
          1968,
          1969,
          1970,
          1971,
          1972,
          1973,
          1974,
          1975,
          1976,
          1977,
          1978,
          1979,
          1980,
          1981,
          1982,
          1983,
          1984,
          1985,
          1986,
          1987,
          1988,
          1989,
          1990,
          1991,
          1992,
          1993,
          1994,
          1995,
          1996,
          1997,
          1998,
          1999,
          2000,
          2001,
          2002,
          2003,
          2004,
          2005,
          2006,
          2007,
          2008,
          2009,
          2010,
          2011,
          2012,
          2013,
          2014,
          2015,
          2016,
          2017,
          2018,
          2019,
          2020,
          2021,
          2022,
          2023,
          2024,
          2025,
          2026,
          2027,
          2028,
          2029,
          2030,
          2031,
          2032,
          2033,
          2034,
          2035,
          2036,
          2037,
          2038,
          2039,
          2040,
          2041,
          2042,
          2043,
          2044,
          2045,
          2046,
          2047,
          2048,
          2049,
          2050,
          2051,
          2052,
          2053,
          2054,
          2055,
          2056,
          2057,
          2058,
          2059,
          2060,
          2061,
          2062,
          2063,
          2064,
          2065,
          2066,
          2067,
          2068,
          2069,
          2070,
          2071,
          2072,
          2073,
          2074,
          2075,
          2076,
          2077,
          2078,
          2079,
          2080,
          2081,
          2082,
          2083,
          2084,
          2085,
          2086,
          2087,
          2088,
          2089,
          2090,
          2091,
          2092,
          2093,
          2094,
          2095,
          2096,
          2097,
          2098,
          2099,
          2100,
          2101,
          2102,
          2103,
          2104,
          2105,
          2106,
          2107,
          2108,
          2109,
          2110,
          2111,
          2112,
          2113,
          2114,
          2115,
          2116,
          2117,
          2118,
          2119,
          2120,
          2121,
          2122,
          2123,
          2124,
          2125,
          2126,
          2127,
          2128,
          2129,
          2130,
          2131,
          2132,
          2133,
          2134,
          2135,
          2136,
          2137,
          2138,
          2139,
          2140,
          2141,
          2142,
          2143,
          2144,
          2145,
          2146,
          2147,
          2148,
          2149,
          2150,
          2151,
          2152,
          2153,
          2154,
          2155,
          2156,
          2157,
          2158,
          2159,
          2160,
          2161,
          2162,
          2163,
          2164,
          2165,
          2166,
          2167,
          2168,
          2169,
          2170,
          2171,
          2172,
          2173,
          2174,
          2175,
          2176,
          2177,
          2178,
          2179,
          2180,
          2181,
          2182,
          2183,
          2184,
          2185,
          2186,
          2187,
          2188,
          2189,
          2190,
          2191,
          2192,
          2193,
          2194,
          2195,
          2196,
          2197,
          2198,
          2199,
          2200,
          2201,
          2202,
          2203,
          2204,
          2205,
          2206,
          2207,
          2208,
          2209,
          2210,
          2211,
          2212,
          2213,
          2214,
          2215,
          2216,
          2217,
          2218,
          2219,
          2220,
          2221,
          2222,
          2223,
          2224,
          2225,
          2226,
          2227,
          2228,
          2229,
          2230,
          2231,
          2232,
          2233,
          2234,
          2235,
          2236,
          2237,
          2238,
          2239,
          2240,
          2241,
          2242,
          2243,
          2244,
          2245,
          2246,
          2247,
          2248,
          2249,
          2250,
          2251,
          2252,
          2253,
          2254,
          2255,
          2256,
          2257,
          2258,
          2259,
          2260,
          2261,
          2262,
          2263,
          2264,
          2265,
          2266,
          2267,
          2268,
          2269,
          2270,
          2271,
          2272,
          2273,
          2274,
          2275,
          2276,
          2277,
          2278,
          2279,
          2280,
          2281,
          2282,
          2283,
          2284,
          2285,
          2286,
          2287,
          2288,
          2289,
          2290,
          2291,
          2292,
          2293,
          2294,
          2295,
          2296,
          2297,
          2298,
          2299,
          2300,
          2301,
          2302,
          2303,
          2304,
          2305,
          2306,
          2307,
          2308,
          2309,
          2310,
          2311,
          2312,
          2313,
          2314,
          2315,
          2316,
          2317,
          2318,
          2319,
          2320,
          2321,
          2322,
          2323,
          2324,
          2325,
          2326,
          2327,
          2328,
          2329,
          2330,
          2331,
          2332,
          2333,
          2334,
          2335,
          2336,
          2337,
          2338,
          2339,
          2340,
          2341,
          2342,
          2343,
          2344,
          2345,
          2346,
          2347,
          2348,
          2349,
          2350,
          2351,
          2352,
          2353,
          2354,
          2355,
          2356,
          2357,
          2358,
          2359,
          2360,
          2361,
          2362,
          2363,
          2364,
          2365,
          2366,
          2367,
          2368,
          2369,
          2370,
          2371,
          2372,
          2373,
          2374,
          2375,
          2376,
          2377,
          2378,
          2379,
          2380,
          2381,
          2382,
          2383,
          2384,
          2385,
          2386,
          2387,
          2388,
          2389,
          2390,
          2391,
          2392,
          2393,
          2394,
          2395,
          2396,
          2397,
          2398,
          2399,
          2400,
          2401,
          2402,
          2403,
          2404,
          2405,
          2406,
          2407,
          2408,
          2409,
          2410,
          2411,
          2412,
          2413,
          2414,
          2415,
          2416,
          2417,
          2418,
          2419,
          2420,
          2421,
          2422,
          2423,
          2424,
          2425,
          2426,
          2427,
          2428,
          2429,
          2430,
          2431,
          2432,
          2433,
          2434,
          2435,
          2436,
          2437,
          2438,
          2439,
          2440,
          2441,
          2442,
          2443,
          2444,
          2445,
          2446,
          2447,
          2448,
          2449,
          2450,
          2451,
          2452,
          2453,
          2454,
          2455,
          2456,
          2457,
          2458,
          2459,
          2460,
          2461,
          2462,
          2463,
          2464,
          2465,
          2466,
          2467,
          2468,
          2469,
          2470,
          2471,
          2472,
          2473,
          2474,
          2475,
          2476,
          2477,
          2478,
          2479,
          2480,
          2481,
          2482,
          2483,
          2484,
          2485,
          2486,
          2487,
          2488,
          2489,
          2490,
          2491,
          2492,
          2493,
          2494,
          2495,
          2496,
          2497,
          2498,
          2499,
          2500,
          2501,
          2502,
          2503,
          2504,
          2505,
          2506,
          2507,
          2508,
          2509,
          2510,
          2511,
          2512,
          2513,
          2514,
          2515,
          2516,
          2517,
          2518,
          2519,
          2520,
          2521,
          2522,
          2523,
          2524,
          2525,
          2526,
          2527,
          2528,
          2529,
          2530,
          2531,
          2532,
          2533,
          2534,
          2535,
          2536,
          2537,
          2538,
          2539,
          2540,
          2541,
          2542,
          2543,
          2544,
          2545,
          2546,
          2547,
          2548,
          2549,
          2550,
          2551,
          2552,
          2553,
          2554,
          2555,
          2556,
          2557,
          2558,
          2559,
          2560,
          2561,
          2562,
          2563,
          2564,
          2565,
          2566,
          2567,
          2568,
          2569,
          2570,
          2571,
          2572,
          2573,
          2574,
          2575,
          2576,
          2577,
          2578,
          2579,
          2580,
          2581,
          2582,
          2583,
          2584,
          2585,
          2586,
          2587,
          2588,
          2589,
          2590,
          2591,
          2592,
          2593,
          2594,
          2595,
          2596,
          2597,
          2598,
          2599,
          2600,
          2601,
          2602,
          2603,
          2604,
          2605,
          2606,
          2607,
          2608,
          2609,
          2610,
          2611,
          2612,
          2613,
          2614,
          2615,
          2616,
          2617,
          2618,
          2619,
          2620,
          2621,
          2622,
          2623,
          2624,
          2625,
          2626,
          2627,
          2628,
          2629,
          2630,
          2631,
          2632,
          2633,
          2634,
          2635,
          2636,
          2637,
          2638,
          2639,
          2640,
          2641,
          2642,
          2643,
          2644,
          2645,
          2646,
          2647,
          2648,
          2649,
          2650,
          2651,
          2652,
          2653,
          2654,
          2655,
          2656,
          2657,
          2658,
          2659,
          2660,
          2661,
          2662,
          2663,
          2664,
          2665,
          2666,
          2667,
          2668,
          2669,
          2670,
          2671,
          2672,
          2673,
          2674,
          2675,
          2676,
          2677,
          2678,
          2679,
          2680,
          2681,
          2682,
          2683,
          2684,
          2685,
          2686,
          2687,
          2688,
          2689,
          2690,
          2691,
          2692,
          2693,
          2694,
          2695,
          2696,
          2697,
          2698,
          2699,
          2700,
          2701,
          2702,
          2703,
          2704,
          2705,
          2706,
          2707,
          2708,
          2709,
          2710,
          2711,
          2712,
          2713,
          2714,
          2715,
          2716,
          2717,
          2718,
          2719,
          2720,
          2721,
          2722,
          2723,
          2724,
          2725,
          2726,
          2727,
          2728,
          2729,
          2730,
          2731,
          2732,
          2733,
          2734,
          2735,
          2736,
          2737,
          2738,
          2739,
          2740,
          2741,
          2742,
          2743,
          2744,
          2745,
          2746,
          2747,
          2748,
          2749,
          2750,
          2751,
          2752,
          2753,
          2754,
          2755,
          2756,
          2757,
          2758,
          2759,
          2760,
          2761,
          2762,
          2763,
          2764,
          2765,
          2766,
          2767,
          2768,
          2769,
          2770,
          2771,
          2772,
          2773,
          2774,
          2775,
          2776,
          2777,
          2778,
          2779,
          2780,
          2781,
          2782,
          2783,
          2784,
          2785,
          2786,
          2787,
          2788,
          2789,
          2790,
          2791,
          2792,
          2793,
          2794,
          2795,
          2796,
          2797,
          2798,
          2799,
          2800,
          2801,
          2802,
          2803,
          2804,
          2805,
          2806,
          2807,
          2808,
          2809,
          2810,
          2811,
          2812,
          2813,
          2814,
          2815,
          2816,
          2817,
          2818,
          2819,
          2820,
          2821,
          2822,
          2823,
          2824,
          2825,
          2826,
          2827,
          2828,
          2829,
          2830,
          2831,
          2832,
          2833,
          2834,
          2835,
          2836,
          2837,
          2838,
          2839,
          2840,
          2841,
          2842,
          2843,
          2844,
          2845,
          2846,
          2847,
          2848,
          2849,
          2850,
          2851,
          2852,
          2853,
          2854,
          2855,
          2856,
          2857,
          2858,
          2859,
          2860,
          2861,
          2862,
          2863,
          2864,
          2865,
          2866,
          2867,
          2868,
          2869,
          2870,
          2871,
          2872,
          2873,
          2874,
          2875,
          2876,
          2877,
          2878,
          2879,
          2880,
          2881,
          2882,
          2883,
          2884,
          2885,
          2886,
          2887,
          2888,
          2889,
          2890,
          2891,
          2892,
          2893,
          2894,
          2895,
          2896,
          2897,
          2898,
          2899,
          2900,
          2901,
          2902,
          2903,
          2904,
          2905,
          2906,
          2907,
          2908,
          2909,
          2910,
          2911,
          2912,
          2913,
          2914,
          2915,
          2916,
          2917,
          2918,
          2919,
          2920,
          2921,
          2922
         ],
         "y": [
          100000,
          100000,
          100051.1753872256,
          99093.24631469096,
          99434.02071632509,
          99986.51361249578,
          99073.35501821109,
          98519.31980642193,
          97304.40481517468,
          97550.59901195226,
          95777.8150694961,
          95671.33287161685,
          95493.22399773018,
          97989.24338579159,
          97795.04680081506,
          98787.13178361848,
          97598.82654313986,
          98570.70880510284,
          98103.02134835804,
          99593.31899529134,
          101010.63353857117,
          101751.32690518377,
          103178.73785930377,
          102824.73086001411,
          100942.48043872043,
          100942.48043872043,
          98986.22258785689,
          99690.40372163866,
          99780.52778294061,
          99733.35201245915,
          99801.35209429028,
          99470.45856779377,
          99523.64102887128,
          99619.97602645193,
          99110.69140165672,
          99245.77576835954,
          98634.6885257708,
          98734.93981524692,
          98052.1565819897,
          99049.20686475988,
          98016.77329359193,
          98745.77836270693,
          99483.9886026702,
          99340.82982659829,
          99340.82982659829,
          98953.73598450204,
          98730.34284362485,
          98264.08334397912,
          98003.11320230941,
          98361.75959269174,
          98174.6665907164,
          96988.89647666024,
          96607.37263976925,
          95861.06837660592,
          97495.17750253504,
          97582.22803327779,
          97679.49133586937,
          97761.6370842987,
          97814.68434467165,
          98168.26458715762,
          98373.16884960468,
          98003.92144434327,
          98494.39275547533,
          98885.63564903465,
          98876.08733433363,
          98876.08733433363,
          98876.08733433363,
          98876.08733433363,
          98876.08733433363,
          98876.08733433363,
          98879.009273887,
          98873.99814461847,
          98865.25238503696,
          98827.6497586073,
          98824.10795387039,
          98821.18228141173,
          98825.16226391474,
          99703.58028388831,
          100009.64685571713,
          99236.42442079294,
          99175.16267449627,
          99820.94912197109,
          101465.73158512422,
          102532.46976034215,
          102368.04348304683,
          102730.10190982712,
          103159.1725819156,
          103309.55883311597,
          103840.00335237333,
          102621.67115100262,
          101875.27436788272,
          101772.50670065731,
          101889.31816249352,
          101782.53677375027,
          101944.71392213435,
          102025.23729436893,
          102145.71725757074,
          102432.62650776285,
          102190.68539561932,
          102082.90135278442,
          101774.03720710127,
          101638.6878022786,
          101648.28999857281,
          101395.75314222844,
          101395.75314222844,
          101638.65440222117,
          101971.63324318666,
          101097.31086072414,
          101097.31086072414,
          101097.31086072414,
          100495.84436655226,
          101265.74366267603,
          101145.71342223433,
          100956.35893247453,
          100709.27630578524,
          101958.13746202986,
          100910.34088851757,
          100937.45191518996,
          101689.77781587011,
          98834.19075956888,
          98834.19075956888,
          98834.19075956888,
          98822.82899541031,
          98551.58242691605,
          98464.37233511022,
          98293.18970418749,
          99341.09683306688,
          100757.90868238355,
          100896.87062498298,
          101965.37272716056,
          102915.89395456068,
          103441.37605188282,
          102812.04776935818,
          103447.26148409813,
          104287.59860329125,
          104521.29221473062,
          103695.07876327069,
          103327.91319536477,
          103426.81145759187,
          103248.24760531068,
          103349.86754318252,
          103476.0752701947,
          104308.3734799823,
          105135.5696553658,
          104818.36706938442,
          103633.58494705,
          104640.06430098333,
          105893.11233958614,
          105088.35993045621,
          105818.37214791712,
          104354.20042651093,
          104354.20042651093,
          104354.20042651093,
          104354.20042651093,
          104354.20042651093,
          104354.20042651093,
          105915.98304756348,
          105009.15916233862,
          105009.15916233862,
          104985.77662951397,
          104850.60938760545,
          105360.48731965372,
          106462.37208968752,
          106630.0082139407,
          106617.44686520027,
          106315.98021204323,
          106142.6894512618,
          106749.06469837489,
          106647.39618212655,
          107753.08568430057,
          108473.68301633725,
          108646.86839807047,
          109012.97939983157,
          109019.88709972087,
          108604.6397998131,
          108490.18954309868,
          107755.30341127173,
          108184.54817573004,
          106345.6956955709,
          106345.6956955709,
          106286.82850904223,
          105718.00864348067,
          105718.00864348067,
          105526.92488621926,
          105526.92488621926,
          105526.92488621926,
          105526.92488621926,
          105526.92488621926,
          105526.92488621926,
          105526.92488621926,
          105526.92488621926,
          105526.92488621926,
          105526.92488621926,
          105526.92488621926,
          106238.85808579907,
          106493.80842449766,
          106611.47445528451,
          106623.84032772115,
          107376.15193885368,
          107372.75912923318,
          107793.22696229801,
          107685.82819759088,
          108083.10018210598,
          107679.015818436,
          107617.48814608267,
          107780.38638026395,
          107038.81585233759,
          106711.74659343275,
          106630.64157787764,
          106595.72270673659,
          106219.05037203204,
          106219.05037203204,
          106101.74229427466,
          106643.10065399742,
          106859.26603584929,
          106944.01000050853,
          107119.6782803618,
          108262.29395252766,
          107876.40315945938,
          107876.40315945938,
          107591.88650282042,
          107630.26618146339,
          107904.0270412046,
          109118.41272107634,
          109417.83535451596,
          109244.54098871359,
          106829.51873235474,
          106829.51873235474,
          106041.53875707151,
          106041.53875707151,
          106041.53875707151,
          106235.9300368212,
          106857.83744894118,
          107315.75333117785,
          107589.80995172118,
          107369.71886104564,
          107940.8686278367,
          108609.4197496888,
          107768.12148143958,
          107768.12148143958,
          108137.1645863505,
          108944.0949132942,
          108684.58171504024,
          109918.63119055834,
          109828.5004653444,
          110438.75828141376,
          110654.14102491294,
          111209.15570364724,
          111209.15570364724,
          111209.15570364724,
          111209.15570364724,
          111202.67794464243,
          111202.67794464243,
          111202.67794464243,
          111202.67794464243,
          111202.67794464243,
          111202.67794464243,
          111034.26877247816,
          111034.26877247816,
          111034.26877247816,
          111034.26877247816,
          111034.26877247816,
          111034.26877247816,
          111034.26877247816,
          111034.26877247816,
          111034.26877247816,
          111034.26877247816,
          111034.26877247816,
          111034.26877247816,
          111034.26877247816,
          111034.26877247816,
          111034.26877247816,
          111034.26877247816,
          111034.26877247816,
          111034.26877247816,
          111034.26877247816,
          111034.26877247816,
          111034.26877247816,
          111034.26877247816,
          111034.26877247816,
          111034.26877247816,
          110853.32740554455,
          110853.32740554455,
          110853.32740554455,
          111284.7883246119,
          112019.91401574868,
          111752.61325097646,
          113260.61029125123,
          113490.87732262569,
          113590.40397814584,
          113037.64166077161,
          113254.3174235473,
          114541.90370691058,
          113720.2028132817,
          113720.2028132817,
          113614.56986690272,
          113614.56986690272,
          113614.56986690272,
          113687.67978609251,
          113738.16446082298,
          113738.16446082298,
          113738.16446082298,
          113738.16446082298,
          113738.16446082298,
          113738.16446082298,
          113193.6003410026,
          112686.25607806539,
          112686.25607806537,
          112120.2974158391,
          111867.37988121842,
          111691.07909733061,
          110911.57757977316,
          109601.13087772124,
          109905.23131535882,
          109805.69558360537,
          110504.32469629962,
          110504.32469629962,
          110988.00779829247,
          112376.5817961017,
          112191.02506622914,
          110150.17674211957,
          110150.17674211957,
          110309.00318787564,
          109882.20317099498,
          110069.9800349569,
          110353.0465168404,
          110738.76061606254,
          110949.76505240379,
          111601.90017183295,
          112007.3717785027,
          112883.01280337581,
          112883.01280337581,
          112883.01280337581,
          112883.01280337581,
          112883.01280337581,
          112883.01280337581,
          112883.01280337581,
          112883.01280337581,
          112883.01280337581,
          112883.01280337581,
          112883.01280337581,
          112883.01280337581,
          112877.63613959865,
          112108.95735083667,
          112869.74341774164,
          112785.30587837352,
          111649.73382596027,
          112757.08599466915,
          111813.1427234403,
          109629.81962337237,
          109629.81962337237,
          109629.81962337237,
          110516.83053314027,
          111078.4843208678,
          110407.9102097425,
          112153.20496162833,
          111638.23514748747,
          112842.39540418812,
          112324.62256739684,
          112382.64401933539,
          112125.67707166949,
          112200.43544484524,
          112236.79147440987,
          112209.59466557538,
          112216.28930663945,
          112211.9119599769,
          112212.6967646984,
          112212.68784001954,
          112213.01291756846,
          112457.31484927755,
          112693.34668543478,
          111127.5485092783,
          111127.5485092783,
          110967.54357897873,
          110784.31804146564,
          110971.96542573885,
          111019.22671816483,
          111036.79612354487,
          109462.58727759824,
          109561.1190660296,
          109359.16363372901,
          109626.14857998915,
          109666.88347687645,
          109636.57522680805,
          109658.75559429564,
          110109.62289490312,
          110509.3761498993,
          110032.86712620305,
          110209.32403429467,
          111071.67535655297,
          110386.06508532075,
          111285.15645780331,
          112011.33572717429,
          111982.39186726049,
          110369.68242871905,
          110369.68242871905,
          110367.2660228251,
          110981.15543619436,
          110960.37067740315,
          112752.26034846429,
          112381.18602371677,
          112542.03954995392,
          112947.33338566893,
          113338.48966566892,
          113734.28052686917,
          113535.46319546056,
          113434.58468027158,
          113489.86265816288,
          113461.7046864658,
          113458.70831303655,
          113459.02983348994,
          113463.88542580884,
          113462.19826696753,
          113459.7578798866,
          113459.7578798866,
          113459.7578798866,
          113459.7578798866,
          114158.34034218841,
          113589.83301640603,
          113030.61045032603,
          114055.35963454956,
          113728.45303750403,
          112805.76471707704,
          110496.38787278245,
          110130.93546328263,
          110339.70498990602,
          109632.60456696176,
          110698.09827290646,
          110366.07408351742,
          108184.89166345357,
          108184.89166345357,
          107979.79172379736,
          108687.93085422827,
          110466.88225894456,
          110010.95876034666,
          111315.38637023761,
          110931.06349361308,
          112768.15415053045,
          113767.05165324689,
          113969.69862181295,
          113333.79997770839,
          114273.48587577089,
          113978.89305112643,
          115572.63493252386,
          115954.40388564004,
          115865.0138235833,
          116186.58640837253,
          116702.7838533854,
          116193.21247177584,
          118079.0425219088,
          118489.92800131274,
          118817.9810256177,
          118875.5009259058,
          119381.09042973981,
          119195.98778268385,
          119195.98778268385,
          119195.98778268385,
          119195.98778268385,
          119195.98778268385,
          119195.98778268385,
          119195.98778268385,
          119195.98778268385,
          119195.98778268385,
          119195.98778268385,
          119195.98778268385,
          119195.98778268385,
          119195.98778268385,
          119195.98778268385,
          119195.98778268385,
          119195.98778268385,
          119257.05002411782,
          118463.26728297732,
          117630.63152229832,
          117503.31521027288,
          117585.8018957606,
          117679.27549102603,
          116196.83538393912,
          116196.83538393912,
          116196.83538393912,
          116196.83538393912,
          116196.83538393912,
          116196.83538393912,
          116196.83538393912,
          116196.83538393912,
          116196.83538393912,
          116196.83538393912,
          116196.83538393912,
          116196.83538393912,
          116196.83538393912,
          116196.83538393912,
          116196.83538393912,
          116196.83538393912,
          116196.83538393912,
          116196.83538393912,
          116196.83538393912,
          116196.83538393912,
          116196.83538393912,
          116196.83538393912,
          116795.71964272433,
          116092.54136460299,
          115375.47015213838,
          115375.47015213838,
          116185.89716787529,
          115605.06548398493,
          116405.3739221818,
          116679.15677928804,
          116962.47868878179,
          117258.90150693322,
          116932.22673698027,
          117632.6840599986,
          117556.565313059,
          116960.67635864498,
          116960.67635864498,
          116960.67635864498,
          117361.11402014388,
          117594.53177638039,
          117501.88987023893,
          118272.18939697332,
          118414.72183318992,
          117264.34549223207,
          117264.34549223207,
          117264.34549223207,
          117264.34549223207,
          117264.34549223207,
          117264.34549223207,
          117264.34549223207,
          117264.34549223207,
          117264.34549223207,
          117264.34549223207,
          117264.34549223207,
          117264.34549223207,
          117264.34549223207,
          117264.34549223207,
          117264.34549223207,
          117264.34549223207,
          117264.34549223207,
          117264.34549223207,
          117264.34549223207,
          116699.40786955055,
          117572.95826919404,
          118995.02364003778,
          118396.84639174456,
          118899.31504934588,
          118012.53050435272,
          119749.51754852691,
          119981.79085643406,
          120310.43089572231,
          121041.87741643032,
          121893.82764460101,
          120871.66117821142,
          120871.66117821142,
          120871.66117821142,
          120871.66117821142,
          120871.66117821142,
          120871.66117821142,
          120871.66117821142,
          120871.66117821142,
          120871.66117821142,
          120871.66117821142,
          120871.66117821142,
          120871.66117821142,
          120871.66117821142,
          120871.66117821142,
          121827.65492325673,
          121462.16790522842,
          122403.80983434465,
          123001.96437899316,
          122789.94946344387,
          123190.31411674611,
          122838.93780340829,
          123350.9557270776,
          123931.33554777995,
          123934.39811269629,
          123568.1572793934,
          124428.75859964718,
          125222.11170484686,
          124767.80038582814,
          125036.72291119474,
          125823.72608213707,
          125998.89727453678,
          125085.22902087217,
          125085.22902087217,
          125085.22902087217,
          125085.22902087217,
          125085.22902087217,
          125085.22902087217,
          125085.22902087217,
          125085.22902087217,
          125085.22902087217,
          125085.22902087217,
          125085.22902087217,
          125085.22902087217,
          125085.22902087217,
          125085.22902087217,
          124936.24880158278,
          124936.24880158278,
          123945.66919450295,
          123945.66919450295,
          124543.21991966208,
          124498.41575021108,
          122912.77979898395,
          125277.12147701859,
          122758.77254779023,
          120910.35068940856,
          119823.8519164083,
          120021.7408341565,
          118986.82816308876,
          119046.34487801112,
          121401.99574810153,
          122308.11152849798,
          124698.38981372323,
          123786.52466669297,
          125331.31752889391,
          125835.9462322807,
          125505.376166507,
          127015.15137464905,
          125548.56200434579,
          125548.56200434579,
          125548.5620043458,
          125313.3191712386,
          125950.63165343122,
          125928.38006941328,
          125928.38006941328,
          125928.38006941328,
          125928.38006941328,
          125928.38006941328,
          125928.38006941328,
          125928.38006941328,
          125928.38006941328,
          125928.38006941328,
          125928.38006941328,
          125928.38006941328,
          125928.38006941328,
          125928.38006941328,
          125928.38006941328,
          125928.38006941328,
          125928.38006941328,
          125928.38006941328,
          125928.38006941328,
          125928.38006941328,
          125928.38006941328,
          125928.38006941328,
          125928.38006941328,
          125928.38006941328,
          125928.38006941328,
          124947.68607622382,
          124947.68607622382,
          124014.42388621897,
          124014.42388621897,
          124014.42388621897,
          124014.42388621897,
          125801.84138123543,
          126286.36053190159,
          127144.9153976491,
          127185.21333974696,
          127034.98211409924,
          127062.34736943385,
          127034.95991139719,
          127034.95991139719,
          127034.95991139719,
          127034.95991139719,
          127034.95991139719,
          127034.95991139719,
          127034.95991139719,
          127034.95991139719,
          126483.99927884366,
          126483.99927884366,
          126483.99927884366,
          126225.93312943929,
          126225.93312943929,
          126225.93312943929,
          126341.670311214,
          127062.75510558815,
          129745.31568250534,
          128970.07788351472,
          129046.1342296675,
          126206.39146728408,
          126206.39146728408,
          126206.39146728408,
          125462.05213502029,
          125846.49581347729,
          126633.54544142431,
          126463.6870211494,
          126463.6870211494,
          126463.6870211494,
          126463.6870211494,
          126463.6870211494,
          126463.6870211494,
          126463.68702114941,
          126393.98293870574,
          126393.98293870574,
          126393.98293870574,
          126393.98293870574,
          127038.92156267111,
          127060.38175304535,
          127121.42952718615,
          127067.70255781611,
          127231.48606567543,
          126398.17442766431,
          126757.35578301964,
          125995.36167030377,
          125995.36167030377,
          126226.85750269672,
          125072.27032527109,
          125072.27032527109,
          125072.27032527109,
          125072.27032527109,
          125072.27032527109,
          125072.27032527109,
          125072.27032527109,
          124844.46758167939,
          124844.4675816794,
          124694.2491295744,
          124694.2491295744,
          125024.89026025045,
          124740.52039983324,
          122928.14319168386,
          122928.14319168388,
          123237.1302137022,
          125027.8601073614,
          123404.05304757982,
          122694.1181836941,
          122598.17523436579,
          123731.52290958527,
          123460.73932763592,
          123573.58643028539,
          123932.02077383154,
          124192.11574084507,
          124434.51101068701,
          124538.0867241754,
          124170.49121803715,
          124757.90436726279,
          122858.64608955351,
          124497.78315721429,
          124458.632027735,
          125085.25738008095,
          124979.9946455343,
          126539.47584926363,
          126084.49688787201,
          126516.83377206045,
          125999.45572173723,
          125529.5582135621,
          125710.49921468797,
          126672.57449689081,
          125244.60760038524,
          124950.60723533138,
          125213.1431768056,
          126885.6065375658,
          125658.34393911809,
          125658.34393911809,
          125658.34393911809,
          125658.34393911809,
          125401.97927264606,
          125676.07338989968,
          125894.98311424172,
          125915.73287560619,
          125791.36432316243,
          125267.45937083167,
          124603.64896326207,
          124923.93095459451,
          124820.68182875452,
          124421.02161062679,
          124521.40087410495,
          124387.82589758771,
          124474.93786822139,
          124312.64006506052,
          124297.40749836837,
          124278.190442503,
          124277.68352696302,
          124289.03228478954,
          124289.98326250985,
          124287.83616704997,
          124287.83616704997,
          124287.83616704997,
          124287.83616704997,
          124287.83616704997,
          123404.77379497777,
          123404.77379497777,
          123404.77379497777,
          123404.77379497777,
          123404.77379497777,
          123404.77379497777,
          123404.77379497777,
          123404.77379497778,
          124391.50714925159,
          124452.44658657486,
          124299.53750959184,
          124176.44911283937,
          122322.61027946643,
          122322.61027946643,
          124302.29844102808,
          126001.92964999186,
          126808.6439810184,
          127304.82572937095,
          128426.79125491934,
          130558.11461747391,
          131320.03332130876,
          130618.40196767784,
          129604.80150556852,
          129604.80150556852,
          129604.80150556852,
          129604.80150556852,
          129604.80150556851,
          130260.31885235565,
          129867.5162786566,
          128939.65082253805,
          128939.65082253805,
          128939.65082253805,
          128939.65082253804,
          127655.81077615314,
          127655.81077615314,
          127655.81077615313,
          127034.97213184425,
          127034.97213184425,
          127034.97213184425,
          127034.97213184425,
          127034.97213184425,
          127191.65238383357,
          127191.65238383357,
          127191.65238383357,
          127191.65238383357,
          127191.65238383357,
          126886.94385011969,
          131314.23033945457,
          135434.18377640512,
          135579.356521725,
          134052.73158154532,
          129956.20558511041,
          132859.90364086523,
          132129.2167905004,
          130383.88303564565,
          133622.2328171444,
          132559.0569733051,
          133812.81820527412,
          134807.52145572507,
          134385.7580507346,
          135927.30748592576,
          136963.8318162887,
          137484.10651119362,
          136039.3728679511,
          137788.40624340298,
          135802.23436339342,
          136054.11642296248,
          135736.4842927247,
          134096.1207404094,
          131048.17503200273,
          131048.17503200273,
          132362.1876150884,
          132634.29724112456,
          134479.26683414605,
          136573.39372953866,
          135216.37070567012,
          135440.75319723558,
          135582.92581839117,
          135850.8928723401,
          136068.56914202584,
          136148.01579185147,
          135353.1760316197,
          135353.1760316197,
          136180.4093721406,
          136455.86362935865,
          135610.68383140693,
          134435.90258309845,
          134435.90258309845,
          137810.09859527438,
          138311.37129408002,
          138352.8334926007,
          139903.77985432118,
          140107.10791589253,
          138178.64378452805,
          139206.73771869144,
          139105.51965356633,
          139105.51965356633,
          140454.98368879053,
          140454.98368879053,
          140454.98368879053,
          140454.98368879053,
          140454.98368879053,
          140454.98368879053,
          140454.98368879053,
          140454.98368879053,
          140426.9632890321,
          140426.9632890321,
          139575.06640075406,
          139575.06640075406,
          139401.10483142617,
          139401.10483142617,
          139422.06388935435,
          139422.06388935435,
          139422.06388935435,
          139422.06388935435,
          139030.26190297276,
          139030.26190297276,
          139030.26190297276,
          137772.75935005068,
          137772.75935005068,
          137772.75935005068,
          138046.4138819775,
          138046.4138819775,
          138046.4138819775,
          139616.71965018095,
          141556.24404380872,
          140418.1134900045,
          140418.1134900045,
          140418.1134900045,
          141308.14747919285,
          142258.53326309708,
          141970.0604704378,
          141970.0604704378,
          142859.50924900375,
          141767.9223537107,
          141767.9223537107,
          141767.9223537107,
          141927.02900491332,
          141344.09875185406,
          137759.97636209967,
          136519.2185281025,
          136468.98069145143,
          138314.1841035085,
          134633.4778110547,
          137683.42319133563,
          134445.4593313726,
          135536.3738826685,
          134390.7598752889,
          134484.98919822072,
          137761.11816148355,
          135593.63554845715,
          136884.06168000156,
          134173.41877186578,
          139639.30841036967,
          142913.92543766895,
          143192.77812489224,
          140603.80837399524,
          139728.9581347017,
          139892.1326002585,
          135856.358298378,
          134028.06235825573,
          134274.1586573739,
          134752.64249754915,
          134406.17667417348,
          136006.19614875922,
          137609.53129267733,
          140846.95500471472,
          139945.9316274684,
          140190.10661313214,
          140836.10035144122,
          139138.2315736562,
          139384.74790257635,
          139739.9377728852,
          139408.45737027656,
          139075.70537258318,
          139924.52582911716,
          140166.50743834014,
          140069.6857756657,
          140079.4838857923,
          139543.64968076025,
          139543.64968076025,
          139543.64968076025,
          139543.64968076025,
          139543.64968076025,
          139543.64968076025,
          139543.64968076025,
          139543.64968076025,
          139543.64968076025,
          139543.64968076025,
          139543.64968076025,
          139543.64968076025,
          139543.64968076025,
          139543.64968076025,
          139543.64968076025,
          139543.64968076025,
          139513.51234570378,
          138848.57605104742,
          139561.54263643498,
          138600.27976907953,
          137101.27548342312,
          137846.57005590413,
          136612.78034073516,
          136190.16922345725,
          136124.64826020834,
          137383.25782186489,
          138596.84559153373,
          138814.92965843173,
          138358.1521551931,
          139232.93248561217,
          140291.4221445554,
          141091.58492145874,
          140824.79633599857,
          140824.79633599857,
          140824.79633599857,
          140605.73236465926,
          140107.73320592218,
          140107.73320592218,
          140107.73320592218,
          140763.82212408556,
          139781.049747055,
          139781.049747055,
          139781.049747055,
          139781.049747055,
          139781.049747055,
          139781.049747055,
          138421.29123048446,
          138619.40056019143,
          137573.49860982233,
          138321.12129443322,
          136852.03487994673,
          137239.51018638661,
          136779.25135740204,
          137608.65889598255,
          136831.78200086975,
          138922.2445040245,
          139652.26500065616,
          139763.16421299014,
          140203.7427531213,
          139451.03010298152,
          139619.3477594239,
          139666.91182390356,
          139609.14453365013,
          139701.16143052542,
          139689.07611366236,
          139730.78624773124,
          139608.0884787878,
          138899.36937385955,
          138560.44652016784,
          138585.7456951828,
          138561.65618946913,
          138561.65618946913,
          138561.65618946913,
          138561.65618946913,
          138561.65618946913,
          138561.65618946913,
          138561.65618946913,
          138561.65618946913,
          138561.65618946913,
          138561.65618946913,
          140514.49718568588,
          141851.38134077837,
          141855.26785321377,
          141855.26785321377,
          141855.26785321377,
          141442.0884532757,
          141442.0884532757,
          141924.41785997004,
          142335.89004636722,
          142584.4702726559,
          142730.87931463358,
          142715.16084436825,
          143687.58814306924,
          144236.9369672574,
          145126.27835771925,
          144127.41389206945,
          144687.67878231572,
          144045.92344891865,
          143808.18720668627,
          143808.18720668627,
          144697.87554653882,
          144839.83349595443,
          144641.1020032027,
          144373.5412137053,
          144373.08476545496,
          144439.12940836884,
          145652.78212166944,
          145641.4238738675,
          146079.5374195134,
          145625.727804593,
          145625.727804593,
          145816.01532897822,
          145386.91925664135,
          144819.53792355035,
          145264.15853880497,
          145285.78036290588,
          145146.7505409164,
          145153.3741422052,
          145171.3845183794,
          145171.3845183794,
          145171.3845183794,
          145171.3845183794,
          145171.3845183794,
          145171.3845183794,
          145171.3845183794,
          145171.3845183794,
          145171.3845183794,
          145171.3845183794,
          145148.9259122726,
          145148.9259122726,
          145148.9259122726,
          145148.9259122726,
          144206.6514760355,
          144232.94220172195,
          145366.94024241884,
          145652.8813120359,
          145278.3756956333,
          145042.44463253737,
          146507.10330615324,
          147172.9857807247,
          146069.33425688584,
          146069.33425688584,
          146069.33425688584,
          146069.33425688584,
          144533.0641355619,
          144533.0641355619,
          144176.1744237858,
          143665.60962820466,
          144097.87962590734,
          143808.5744140971,
          143905.26004115492,
          145301.65716681592,
          143564.28643425397,
          143921.1026704796,
          142752.82876693827,
          142946.26909736163,
          142648.3698419741,
          145303.5212161193,
          146128.24932200383,
          145900.5628271891,
          146752.21722212626,
          147731.4086140205,
          147111.4646000964,
          146256.24597151202,
          145727.6461115961,
          144727.15850494985,
          144712.79637107885,
          143533.38372164013,
          142240.7077870694,
          140329.76629994984,
          140044.87929403625,
          143499.99300502051,
          144683.56288416305,
          144783.56094970353,
          145140.8707208464,
          144899.9706770486,
          144455.536008191,
          144455.536008191,
          144297.43764973755,
          144725.8838127912,
          144537.79809728183,
          144810.3026935868,
          144844.4189996416,
          144836.7507117245,
          144835.55622677936,
          144830.8356609324,
          144835.75002411674,
          144834.51111340753,
          144834.27281329333,
          144834.27281329333,
          144834.27281329333,
          144834.27281329333,
          144834.27281329333,
          144834.27281329333,
          144834.27281329333,
          144834.27281329333,
          144834.27281329333,
          144834.27281329333,
          144834.27281329333,
          144834.27281329333,
          144834.27281329333,
          144834.27281329333,
          144834.27281329333,
          144834.27281329333,
          144834.27281329333,
          144834.27281329333,
          144834.27281329333,
          144834.27281329333,
          144834.27281329333,
          144834.27281329333,
          144834.27281329333,
          144834.27281329333,
          144834.27281329333,
          144834.27281329333,
          144834.27281329333,
          144834.27281329333,
          144834.27281329333,
          144834.27281329333,
          144834.27281329333,
          144834.27281329333,
          144834.27281329333,
          144834.27281329333,
          144834.27281329333,
          144834.27281329333,
          146596.54839032146,
          147451.34839734682,
          147391.95491024226,
          146490.04484416064,
          146177.0003939472,
          146344.22355482524,
          146126.8669867274,
          146161.0725756073,
          146159.49152347402,
          146155.2513015181,
          146187.84942609168,
          146225.97746109954,
          146240.90935167653,
          146312.19089809025,
          146345.40288632692,
          146363.65900702355,
          146352.96415291895,
          146292.3172956635,
          146352.33465113852,
          146381.56626958417,
          146390.45709406497,
          146388.37872977092,
          146408.9134376628,
          146404.37393444034,
          146450.1601564438,
          145619.15464460364,
          145709.52489478647,
          145724.28257054396,
          145708.61747766964,
          145707.4903779737,
          145716.05283091875,
          145716.05283091875,
          145716.05283091875,
          145716.05283091875,
          145716.05283091875,
          145716.05283091875,
          145716.05283091875,
          145716.05283091875,
          145716.05283091875,
          145716.05283091875,
          145716.05283091875,
          145716.05283091875,
          145716.05283091875,
          145716.05283091875,
          145550.40379074396,
          146249.8609661961,
          145724.39269226,
          146095.09536411724,
          146141.11337519344,
          145849.23157841226,
          145835.41860117714,
          145743.7003921401,
          145992.4862591541,
          145458.02860815788,
          145222.66931961267,
          144995.17247968403,
          144995.17247968403,
          144893.17630709196,
          144893.17630709196,
          144893.17630709196,
          144893.17630709196,
          144893.17630709196,
          146130.62692393924,
          146091.61551722564,
          146091.61551722564,
          146091.61551722564,
          146091.61551722564,
          146178.67193202634,
          146178.67193202634,
          146178.67193202634,
          146178.67193202634,
          146178.67193202634,
          145735.6622885264,
          145925.91900113196,
          145775.59997059585,
          145810.30998793044,
          145774.0760068767,
          145420.94022805637,
          142847.83935661888,
          142847.83935661888,
          143184.17084578873,
          143184.17084578873,
          143357.24503440555,
          143357.24503440555,
          144657.6940750375,
          144851.54372476717,
          144832.24240521796,
          144194.37813536185,
          144194.37813536185,
          144882.06623678614,
          145263.90401121663,
          145409.28630575587,
          145409.28630575587,
          145409.28630575587,
          145409.28630575587,
          145409.28630575587,
          145409.28630575587,
          145409.28630575587,
          145409.28630575587,
          145409.28630575587,
          145409.28630575587,
          145409.28630575587,
          145409.28630575587,
          145409.28630575587,
          145409.28630575587,
          145409.28630575587,
          145409.28630575587,
          145409.28630575587,
          145409.28630575587,
          145409.28630575587,
          145409.28630575587,
          145409.28630575587,
          145409.28630575587,
          145409.28630575587,
          145409.28630575587,
          145409.28630575587,
          145409.28630575587,
          145409.28630575587,
          145409.28630575587,
          145409.28630575587,
          145409.28630575587,
          145409.28630575587,
          145409.28630575587,
          145409.28630575587,
          145409.28630575587,
          145409.28630575587,
          145409.28630575587,
          145409.28630575587,
          145409.28630575587,
          145409.28630575587,
          145409.28630575587,
          146103.9395890572,
          146491.18078270712,
          147132.07658866156,
          147295.75944573683,
          147055.88577021193,
          147231.51390259966,
          144899.74366694633,
          144899.74366694633,
          146483.10261446965,
          146706.26176430754,
          146585.47155480867,
          144643.16093539668,
          144552.8389012174,
          144552.8389012174,
          144552.8389012174,
          144223.4104839095,
          144223.4104839095,
          144223.4104839095,
          144223.4104839095,
          144223.4104839095,
          144223.4104839095,
          144223.4104839095,
          144223.4104839095,
          144223.4104839095,
          144223.4104839095,
          144223.4104839095,
          144223.4104839095,
          144223.4104839095,
          144223.4104839095,
          144223.4104839095,
          144223.4104839095,
          144223.4104839095,
          144223.4104839095,
          144223.4104839095,
          144223.4104839095,
          144223.4104839095,
          144223.4104839095,
          144223.4104839095,
          144223.4104839095,
          144223.4104839095,
          144223.4104839095,
          144223.4104839095,
          144223.4104839095,
          144223.4104839095,
          144420.47020145736,
          145348.86094496734,
          145736.2161713969,
          145481.69121761728,
          145276.00954177903,
          145786.56006203374,
          145314.24601233497,
          145797.47157257283,
          146339.2811799614,
          148339.3989063805,
          148520.84082552703,
          147450.10622521842,
          148041.1275312255,
          147510.25917481325,
          147644.3809752372,
          147550.40531491753,
          147572.07225637746,
          147708.30261552363,
          147708.30261552363,
          147708.30261552363,
          147708.30261552363,
          147708.30261552363,
          147708.30261552363,
          147708.30261552363,
          147708.30261552363,
          147708.30261552363,
          147708.30261552363,
          147708.30261552363,
          147708.30261552363,
          147708.30261552363,
          147708.30261552363,
          147708.30261552363,
          147708.30261552363,
          147708.30261552363,
          147708.30261552363,
          147320.42064510848,
          147763.27246336086,
          148221.02717160629,
          149463.67063100418,
          148670.965068164,
          149826.52302229768,
          149276.86591529078,
          149276.86591529078,
          149276.86591529078,
          149276.86591529078,
          149276.86591529078,
          149276.86591529078,
          149276.86591529078,
          149328.99307890105,
          149555.4689253432,
          148972.4518706401,
          150208.32902505834,
          150896.92621000978,
          149960.39197147495,
          149563.04574045617,
          149688.97373200077,
          149101.20650806712,
          148556.1308915704,
          149113.36531376204,
          149737.27642697812,
          148554.11322647397,
          149338.40545865244,
          150277.89455136587,
          150507.65785957006,
          151376.80711009642,
          151539.191772893,
          151588.98326377245,
          151609.08930842546,
          151993.48562393925,
          152202.3051456026,
          152319.69132922386,
          152319.69132922386,
          152319.69132922386,
          152319.69132922386,
          152319.69132922386,
          152319.69132922386,
          152319.69132922386,
          152319.69132922386,
          152319.69132922386,
          151215.6357625078,
          151215.6357625078,
          151215.6357625078,
          151215.6357625078,
          151215.6357625078,
          151215.6357625078,
          151215.6357625078,
          151215.6357625078,
          151215.6357625078,
          151215.6357625078,
          151215.6357625078,
          151215.6357625078,
          151215.6357625078,
          151215.6357625078,
          151215.6357625078,
          151215.6357625078,
          151215.6357625078,
          151215.6357625078,
          151215.6357625078,
          154162.4463310235,
          152504.74067074718,
          152504.74067074718,
          152504.74067074718,
          152504.74067074718,
          152504.74067074718,
          152504.74067074718,
          152504.74067074718,
          152504.74067074718,
          152504.74067074718,
          152504.74067074718,
          152504.74067074718,
          152504.74067074718,
          152504.74067074718,
          152504.74067074718,
          152504.74067074718,
          152504.74067074718,
          152504.74067074718,
          152504.74067074718,
          152504.74067074718,
          152504.74067074718,
          152504.74067074718,
          152504.74067074718,
          152504.74067074718,
          152504.74067074718,
          152504.74067074718,
          152504.74067074718,
          152504.74067074718,
          149100.85679560638,
          149100.85679560638,
          149100.85679560638,
          147786.40100383115,
          148272.77693890574,
          148118.5806496832,
          149637.75352407142,
          152807.4847474025,
          152517.68886825725,
          153028.72663137078,
          151634.07997987926,
          151434.96076393343,
          148482.17370698357,
          148530.22242116474,
          149519.99862123845,
          150171.5318032298,
          150171.5318032298,
          150171.5318032298,
          149569.9333103085,
          149569.9333103085,
          149569.9333103085,
          150368.36043692884,
          150075.73958001993,
          151724.37122848842,
          153647.27957092153,
          154095.28910503443,
          154710.0982964749,
          152872.36120634933,
          153332.5636215633,
          153259.2772334114,
          152791.2384618417,
          154485.5781210486,
          153696.12608474906,
          154301.92196198666,
          153455.74153991733,
          153411.93704780476,
          152280.62872428182,
          154436.1168781616,
          154251.62393845213,
          155951.91577759437,
          156384.38001193604,
          156490.7787206225,
          157866.46982239402,
          157298.04515835198,
          157851.88188503488,
          158676.60051837185,
          159033.5794167749,
          158618.20317659402,
          159923.11784838236,
          159391.71907776574,
          160037.22012764946,
          159216.22341050944,
          160204.09423711686,
          159192.2745365339,
          159192.2745365339,
          159192.2745365339,
          159192.2745365339,
          159192.2745365339,
          159192.2745365339,
          159192.2745365339,
          159192.2745365339,
          157201.35654571504,
          157201.35654571504,
          158538.34629110314,
          160245.0776369034,
          160577.97658291206,
          160110.83144900503,
          162060.55101673704,
          163114.8671751929,
          162740.959377467,
          162568.81130128287,
          164648.2638361556,
          163142.384877411,
          163404.16693260666,
          163893.1188266,
          165468.34192896634,
          167111.15175565382,
          160286.21110437147,
          160286.21110437147,
          160286.21110437147,
          160286.21110437147,
          160286.21110437147,
          160286.21110437147,
          161034.90163911256,
          163356.58871397385,
          164456.80276894695,
          165058.85310431293,
          165118.7162621849,
          163787.11687248453,
          163640.3935402683,
          163902.78980106846,
          163669.9751966332,
          163669.9751966332,
          163669.9751966332,
          163669.9751966332,
          163669.9751966332,
          163669.9751966332,
          163602.78319347306,
          163602.78319347306,
          165519.6511948444,
          165603.00770343005,
          166774.31194512252,
          166676.10271171675,
          166228.9609002625,
          165594.41454580802,
          165594.41454580802,
          165594.41454580802,
          165594.41454580802,
          165594.41454580802,
          165594.41454580802,
          165088.3229369245,
          165827.4333160611,
          166127.82420739936,
          164597.25123621113,
          164597.25123621113,
          164597.25123621113,
          165961.92396010837,
          164983.7437793727,
          165677.3090490413,
          165492.0951579925,
          165285.70347067557,
          166565.6481711709,
          165102.80553873465,
          165661.30104080058,
          165168.2427712752,
          165468.6750102434,
          164992.7135327201,
          164894.61706527488,
          164883.4915450888,
          164914.7783173637,
          164914.7783173637,
          164914.7783173637,
          164914.7783173637,
          164914.7783173637,
          164914.7783173637,
          164914.7783173637,
          164914.7783173637,
          164914.7783173637,
          164914.7783173637,
          164914.7783173637,
          164914.7783173637,
          164914.7783173637,
          164914.7783173637,
          164914.7783173637,
          164914.7783173637,
          164914.7783173637,
          165705.7892555668,
          165090.5346873942,
          165868.31628348134,
          166567.48338840724,
          171445.03034994128,
          170994.82099930407,
          168979.8319919711,
          164904.0138480155,
          164807.23328830628,
          164473.23928068986,
          164623.93385429488,
          164851.84995594615,
          164851.84995594615,
          164851.84995594615,
          164851.84995594615,
          164851.84995594615,
          164851.84995594615,
          164851.84995594615,
          164851.84995594615,
          165227.30141199313,
          165672.9232889302,
          168458.98393055412,
          162476.6590523364,
          162466.69100364062,
          160445.23322244658,
          160610.23699587723,
          160636.2831877963,
          160714.23746265835,
          160733.83080862503,
          157281.50893975925,
          155374.1193600357,
          155338.45273659925,
          154915.20619941418,
          154739.7179747312,
          154613.3738897751,
          154613.3738897751,
          154613.3738897751,
          155470.94496328308,
          155705.76467073837,
          156603.46215875872,
          156547.40189823048,
          150722.8920907853,
          153125.65998600156,
          154236.55528402355,
          156005.40147578766,
          156792.32177643303,
          156913.973879218,
          156786.08907316715,
          156353.85381880263,
          160053.83111267985,
          161035.64034531673,
          161373.44634450003,
          163554.49234037942,
          161038.32569844692,
          161038.32569844692,
          161038.32569844692,
          161038.32569844692,
          159261.49638317173,
          159261.49638317173,
          159261.49638317173,
          162362.2427891171,
          161884.9326614583,
          163071.0952814863,
          163820.65825023525,
          163241.3789453527,
          160966.22916843972,
          160350.15616465424,
          160194.73444469974,
          160500.1292860074,
          160485.62382787885,
          160458.77828962903,
          160498.92347712914,
          160501.9242662378,
          160500.8184982934,
          160496.5464630811,
          160497.51827051467,
          160497.86613218367,
          160497.7685734616,
          160497.7685734616,
          160497.7685734616,
          160497.7685734616,
          160497.7685734616,
          160497.7685734616,
          160497.7685734616,
          160497.7685734616,
          160497.7685734616,
          160497.7685734616,
          161275.61652242625,
          161275.61652242625,
          161275.61652242625,
          161275.61652242625,
          161275.61652242625,
          161275.61652242625,
          161275.61652242625,
          161275.61652242625,
          161275.61652242625,
          161275.61652242625,
          161275.61652242625,
          161275.61652242625,
          161275.61652242625,
          161275.61652242625,
          161275.61652242625,
          161275.61652242625,
          161275.61652242625,
          161275.61652242625,
          161275.61652242625,
          161275.61652242625,
          161275.61652242625,
          161275.61652242625,
          159929.80899509325,
          159063.67094341622,
          160052.52937113744,
          159201.18927988154,
          158733.76199792343,
          159552.98067360924,
          161263.29092785218,
          163360.79873222782,
          162381.4648986168,
          164911.8341057514,
          166072.44016429927,
          167098.31680862533,
          165371.5071702195,
          164956.95933090377,
          164644.49634276362,
          165181.49090616507,
          164960.01475995494,
          163593.50254591153,
          163595.01436182702,
          163503.297349031,
          163535.4191743821,
          163412.23339513552,
          163406.82831997942,
          163420.37539078694,
          163425.26570695805,
          163423.9551769762,
          163423.29052190896,
          163423.95848910062,
          163423.95848910062,
          163423.95848910062,
          163423.95848910062,
          163423.95848910062,
          163423.95848910062,
          163423.95848910062,
          163423.95848910062,
          163423.95848910062,
          163423.95848910062,
          163423.95848910062,
          163423.95848910062,
          163423.95848910062,
          165107.1821392408,
          165283.40094980158,
          163824.82976244425,
          164851.8600436669,
          165614.6199448795,
          167198.59715174284,
          168356.95190081734,
          169079.44738736458,
          169758.62000943313,
          170576.17958636305,
          170520.41548295144,
          168340.27143480006,
          167998.53648436873,
          169326.24251496766,
          169709.47737273993,
          170569.21165416675,
          171326.5157936828,
          172511.10445971557,
          172637.76936528395,
          172407.96545108553,
          172407.96545108553,
          172407.96545108553,
          174023.43805559466,
          175786.19184363642,
          175768.43043710288,
          174924.97728283258,
          173621.79014812986,
          172547.70512963377,
          170973.86804968695,
          171447.50006497023,
          171780.7812468628,
          172076.49253185675,
          170208.15102532483,
          171019.0190652206,
          170231.34630795746,
          170193.191547663,
          169527.80098595738,
          169527.80098595738,
          169527.80098595738,
          169527.80098595738,
          169527.80098595738,
          169527.80098595738,
          169527.80098595738,
          169527.80098595738,
          169527.80098595738,
          169527.80098595738,
          164433.7417872775,
          164433.7417872775,
          164433.7417872775,
          164433.7417872775,
          162419.99233123622,
          162419.99233123622,
          162419.99233123622,
          162419.99233123622,
          162419.99233123622,
          162419.99233123622,
          162419.99233123622,
          162419.99233123622,
          162419.99233123622,
          162419.99233123622,
          162419.99233123622,
          162419.99233123622,
          161673.31268778487,
          162315.5455494467,
          162352.4996116141,
          163909.56696186442,
          163686.0307845142,
          164551.13309414694,
          163670.97736615172,
          163907.31412319196,
          163926.3914467679,
          164667.4441714273,
          163691.27164597934,
          162543.53098037865,
          159746.38779858348,
          159746.38779858348,
          157972.59126310155,
          157029.5559625398,
          157905.7647920951,
          156766.52707915992,
          154714.1894394533,
          154714.1894394533,
          154714.1894394533,
          154714.1894394533,
          154714.1894394533,
          154714.1894394533,
          154714.1894394533,
          154714.1894394533,
          154476.04911588106,
          158889.18995160196,
          158497.68093821354,
          159564.4859580005,
          158415.47140812196,
          159140.21064644284,
          158229.49052959267,
          159032.97624997984,
          159444.5433111243,
          160420.06402462465,
          161949.4509710779,
          161808.70737299326,
          161808.70737299326,
          161882.8590122448,
          163358.88367902586,
          164446.32851064566,
          164818.19722075327,
          164397.53238257207,
          164397.53238257207,
          164437.8401356922,
          164437.8401356922,
          164437.8401356922,
          164437.8401356922,
          164437.8401356922,
          164437.8401356922,
          164437.8401356922,
          164437.8401356922,
          164437.8401356922,
          164437.8401356922,
          164437.8401356922,
          164437.8401356922,
          164276.81552227176,
          164276.81552227176,
          163666.18730455008,
          163666.18730455008,
          163666.18730455008,
          163666.18730455008,
          163666.18730455008,
          163666.18730455008,
          163049.20254080225,
          163049.20254080225,
          163049.20254080225,
          163753.13407859034,
          163707.54295375067,
          164912.0205838319,
          164768.14299263275,
          165088.7945156182,
          165368.73655127984,
          165386.92647228323,
          165422.1294377397,
          165160.2867721423,
          166052.9891702673,
          166042.66024761487,
          164595.90313533292,
          165003.71232426877,
          167140.3445336013,
          165750.2511990114,
          167406.39518937815,
          166967.25163321663,
          168646.2043860661,
          169853.81601850307,
          169421.8005610932,
          170164.43234762974,
          169417.47263834949,
          170847.58737100076,
          172353.4201290985,
          172476.19147976802,
          172715.4479526265,
          172919.32575452107,
          172693.83368957794,
          170540.20955645377,
          166912.21157265457,
          166912.21157265457,
          168053.64611980668,
          167692.78653716916,
          164814.55399519028,
          165956.6130279747,
          167948.1707748526,
          168623.9314624575,
          169007.6609508969,
          168769.78842227772,
          169389.75443675544,
          169043.23936795653,
          170340.73146964822,
          170344.72292891418,
          170294.70062242373,
          171099.4529494734,
          171968.9086948068,
          170174.3171984641,
          169067.7816795603,
          166909.22982082842,
          166344.62727414956,
          166340.80548527156,
          166097.05003249965,
          166114.02661302398,
          166178.24547060765,
          166153.59408836212,
          166168.4810484322,
          166163.57623867318,
          166162.45308318152,
          166160.1525095268,
          166160.9751040479,
          166160.6782444473,
          166160.2629073112,
          166160.45533445288,
          155178.6634152957,
          157288.74493207282,
          151430.82455927526,
          153632.84568095623,
          149059.59733426143,
          146256.30443644797,
          158737.80014942648,
          160225.232768214,
          168314.69329546855,
          161832.95583515873,
          168009.7181843423,
          167685.917185255,
          160677.26730178721,
          162540.55852167046,
          159392.5714021721,
          170058.9806818619,
          170640.6019770531,
          176896.69938029107,
          177170.66494101245,
          178345.65762575183,
          184540.53590396038,
          185036.7087489704,
          189165.90584866214,
          189588.08429984405,
          186580.02053704075,
          180108.46906971405,
          185518.3903693055,
          187000.12163428598,
          190081.6605111399,
          190692.46424962603,
          187139.2563651507,
          192920.55655801945,
          196042.9367815484,
          189601.02590411567,
          191821.28933015917,
          193431.0367585158,
          193119.5934283458,
          193832.44746271928,
          196260.0593665503,
          197108.52886455943,
          194520.87076903673,
          192580.76449708245,
          193314.62006783372,
          193584.32329184638,
          193985.05941764728,
          193049.1201998693,
          195099.92433208163,
          194125.22177717654,
          194626.5408948988,
          194844.37474187606,
          195273.24412272486,
          194992.92795530322,
          195154.98235237476,
          195411.7807839833,
          195527.4151212782,
          195607.77785766157,
          195290.8248448264,
          196076.13384291108,
          196252.62866050622,
          196414.510664797,
          196529.94718707184,
          195020.36965837903,
          195020.36965837903,
          195020.36965837903,
          195020.36965837903,
          195020.36965837903,
          195020.36965837903,
          195020.36965837903,
          195020.36965837903,
          195020.36965837903,
          195020.36965837903,
          195020.36965837903,
          195020.36965837903,
          195020.36965837903,
          195020.36965837903,
          195020.36965837903,
          195020.36965837903,
          195020.36965837906,
          193246.25639188325,
          193246.25639188325,
          193246.25639188325,
          193246.25639188325,
          191378.04311835018,
          191378.04311835018,
          191378.04311835018,
          191378.04311835018,
          191378.04311835018,
          191378.04311835018,
          189867.57388578198,
          190139.55690722849,
          185207.89950408324,
          183859.6795165503,
          185924.99901936966,
          184259.466002814,
          187009.40119388036,
          186737.51482738505,
          190626.78403536513,
          193000.92529388744,
          192930.5740754808,
          194833.2075098176,
          198696.7716764226,
          198451.1414268539,
          197723.24359972143,
          194315.22638066838,
          199439.65037403058,
          200099.25028586204,
          200379.28348728354,
          201562.83759722055,
          203327.7850831997,
          202307.497100843,
          205250.63777582688,
          206247.3438909632,
          207187.62952217957,
          209561.7159189894,
          215250.99921037635,
          215313.59318965062,
          216254.9130417835,
          218740.09298325313,
          219506.47656053674,
          221465.77658015504,
          211952.47264236203,
          209546.492181923,
          209546.492181923,
          209546.492181923,
          209546.492181923,
          209546.492181923,
          209546.492181923,
          209546.492181923,
          209546.492181923,
          209546.492181923,
          209546.492181923,
          209546.492181923,
          209546.492181923,
          209546.492181923,
          209546.492181923,
          209546.492181923,
          209546.492181923,
          209356.4205427633,
          209356.4205427633,
          210631.3250392099,
          206834.43659434456,
          206834.43659434456,
          202755.46164220804,
          202755.46164220804,
          203419.58913455566,
          206329.00422848202,
          211738.37298585067,
          211353.88740855432,
          209197.76897267127,
          207978.9167241058,
          207527.39034148128,
          203503.51192075544,
          204484.9078366295,
          205826.72174767707,
          206561.00491465398,
          208384.01138302792,
          206476.26044478733,
          206902.44774905514,
          205768.41330066018,
          205967.30241662302,
          205805.62069256237,
          205829.01142237123,
          205862.1158026481,
          205904.6484361132,
          209811.09446162835,
          208581.93368757545,
          206530.02516356568,
          204734.0614350426,
          207084.93104018606,
          206143.08526892457,
          206143.08526892457,
          206143.08526892457,
          206143.08526892457,
          206143.08526892457,
          206143.08526892457,
          206143.08526892457,
          206143.08526892457,
          208391.6120203027,
          208869.57294392513,
          210224.6642924541,
          208499.04017561176,
          212254.1190235636,
          212743.54203647858,
          212998.2857854186,
          213262.3188013999,
          215287.5789525281,
          215699.25347876415,
          211174.52853820662,
          211507.54390249006,
          210284.5416166441,
          211070.21426479155,
          212500.90965239546,
          212847.50609575602,
          214670.82412347765,
          215250.12867631676,
          213347.7535106445,
          212359.85074573872,
          212359.85074573872,
          212359.85074573872,
          212359.85074573872,
          212435.40770935154,
          212121.91062143564,
          213341.0706562042,
          211819.8637324248,
          212351.82845322002,
          212511.87423680993,
          212511.87423680993,
          214008.44360876107,
          209867.77848115968,
          209949.885032615,
          210809.99389288021,
          208600.33275168994,
          207787.35768356582,
          209300.86841289708,
          211104.5323282582,
          211893.0722877839,
          211663.3864848965,
          212917.08652093427,
          213090.32301313293,
          210791.68133732447,
          210791.68133732447,
          210791.68133732447,
          210791.68133732447,
          210791.68133732447,
          210827.53508542303,
          210583.8903008407,
          210693.61682069846,
          211323.21886154864,
          211783.10211572662,
          211219.55379365128,
          211218.88549033576,
          211245.09036386287,
          210904.64359208924,
          211246.26298866404,
          210196.04331594624,
          209037.3549465433,
          208205.90625154745,
          208241.1873563741,
          208374.32673695995,
          208185.1294397728,
          208194.19191990147,
          208235.493541245,
          208214.38687768285,
          208201.88263599455,
          208198.7911286059,
          208202.0016844371,
          208200.45819516602,
          208202.2167083021,
          208202.1999358978,
          208202.40737302916,
          207621.98808884987,
          207722.53019782077,
          207694.1767340304,
          207783.3865434039,
          205719.25045527698,
          205719.25045527698,
          205719.25045527698,
          205719.25045527698,
          205719.25045527698,
          205719.25045527698,
          205719.25045527698,
          205719.25045527698,
          205719.25045527698,
          205719.25045527698,
          205719.25045527698,
          205719.25045527698,
          205719.25045527698,
          205719.25045527698,
          205719.25045527698,
          205719.25045527698,
          205719.25045527698,
          205719.25045527698,
          204449.77262201076,
          206260.5356482948,
          206571.28632083276,
          205101.7126435253,
          205105.51762807704,
          206839.32269932432,
          204037.47722141078,
          204037.47722141078,
          204275.51414466347,
          203557.14817789674,
          203557.14817789674,
          203557.14817789674,
          203557.14817789674,
          203557.14817789674,
          203557.14817789674,
          203557.14817789674,
          203557.14817789674,
          203557.14817789674,
          203557.14817789674,
          203557.14817789674,
          203557.14817789674,
          203557.14817789674,
          203557.14817789674,
          203557.14817789674,
          203557.14817789674,
          203557.14817789674,
          203557.14817789674,
          203557.14817789674,
          203557.14817789674,
          203684.4834697247,
          204029.51584377832,
          204222.31008630552,
          203860.23896976808,
          203633.06497143966,
          203365.38658030127,
          202515.1869446542,
          202515.1869446542,
          202515.1869446542,
          202515.1869446542,
          202515.1869446542,
          202515.1869446542,
          202515.1869446542,
          202515.1869446542,
          202515.1869446542,
          202515.1869446542,
          202515.1869446542,
          202515.1869446542,
          202515.1869446542,
          203406.18990382642,
          203955.57941272113,
          205344.5837325439,
          205332.1022885685,
          207573.6531957533,
          206930.46631663264,
          206862.4676927339,
          208300.73622293715,
          210294.26505083774,
          210351.26220952577,
          210440.7357361848,
          209094.92597544502,
          210946.20893191188,
          212633.6717509548,
          212339.05760127254,
          211349.44348782324,
          210847.67260950228,
          210070.05933030648,
          210070.05933030648,
          210070.05933030648,
          210070.05933030648,
          210070.05933030648,
          210070.05933030648,
          210070.05933030648,
          210070.05933030648,
          210070.05933030648,
          210070.05933030648,
          210070.05933030648,
          210070.05933030648,
          210070.05933030648,
          210070.05933030648,
          210070.05933030648,
          210070.05933030648,
          210070.05933030648,
          210070.05933030648,
          210070.05933030648,
          210070.05933030648,
          210070.05933030648,
          210070.05933030648,
          210070.05933030648,
          210070.05933030648,
          210070.05933030648,
          210070.05933030648,
          210070.05933030648,
          210070.05933030648,
          210070.05933030648,
          210070.05933030648,
          210070.05933030648,
          210070.05933030648,
          210070.05933030648,
          210070.05933030648,
          210070.05933030648,
          210070.05933030648,
          210070.05933030648,
          208948.64702353792,
          208948.64702353792,
          208948.64702353792,
          208948.64702353792,
          208948.64702353792,
          208948.64702353792,
          208948.64702353792,
          208948.64702353792,
          208948.64702353792,
          209377.59614256033,
          209305.8515700717,
          209648.14759066293,
          209826.7964797377,
          209819.17972428005,
          209659.177881449,
          209661.33000904534,
          209644.51864251748,
          209652.68008314192,
          209652.68008314192,
          209652.68008314192,
          209652.68008314192,
          209652.68008314192,
          209652.68008314192,
          209652.68008314192,
          209652.68008314192,
          209652.68008314192,
          209652.68008314192,
          209652.68008314192,
          209652.68008314192,
          210531.89524296968,
          211613.80598414925,
          213649.78717278308,
          212264.22425230514,
          216501.42755618485,
          216562.39121742419,
          218213.30500962483,
          221078.43986565224,
          223484.82263529228,
          225642.45097789756,
          224845.9056461727,
          227751.09807884876,
          229682.5998858663,
          230196.98255889714,
          228793.2077540409,
          224251.97821610054,
          224251.97821610054,
          224251.97821610054,
          224251.97821610054,
          223818.80320034784,
          223818.80320034784,
          223818.80320034784,
          223818.80320034784,
          224382.29694630858,
          224240.9581105949,
          224149.77698813268,
          224271.0657507938,
          223582.34338434634,
          223897.4536589262,
          223696.88901584054,
          221714.4783486539,
          221819.55842115096,
          221338.1876215645,
          221338.1876215645,
          221338.1876215645,
          221338.1876215645,
          221338.1876215645,
          221338.1876215645,
          221338.1876215645,
          221338.1876215645,
          221338.1876215645,
          221338.1876215645,
          221338.1876215645,
          221338.1876215645,
          221338.1876215645,
          221338.1876215645,
          221338.1876215645,
          221338.1876215645,
          221330.3865931246,
          221159.47623985176,
          220244.29947898333,
          218186.09253156476,
          218186.09253156476,
          215314.33646395992,
          215314.33646395992,
          215314.33646395992,
          215314.33646395992,
          215314.33646395992,
          215314.33646395992,
          215314.33646395992,
          215314.33646395992,
          215314.33646395992,
          215314.33646395992,
          215314.33646395992,
          215314.33646395992,
          215314.33646395992,
          215314.33646395992,
          215314.33646395992,
          215314.33646395992,
          215314.33646395992,
          215314.33646395992,
          215314.33646395992,
          215314.33646395992,
          215314.33646395992,
          204048.86983711534,
          204048.86983711534,
          204048.86983711534,
          204048.86983711534,
          207003.62928987565,
          202719.5501367983,
          197775.18741472616,
          197775.18741472616,
          197775.18741472616,
          197775.18741472616,
          197775.18741472616,
          197775.18741472616,
          197775.18741472616,
          197775.18741472616,
          197775.18741472616,
          197775.18741472616,
          197775.18741472616,
          197775.18741472616,
          197775.18741472616,
          196718.11593419514,
          196348.700322984,
          191061.16256349027,
          190554.52342213815,
          191831.1631169528,
          191797.11224929316,
          191586.03595458175,
          191532.22289091282,
          191596.5931877017,
          191629.00969294854,
          195291.75410645257,
          198230.94154377922,
          199388.82593589945,
          203201.97264897832,
          202196.39271501766,
          205774.840480961,
          206656.46006610218,
          210259.61281212542,
          211281.67898173834,
          211494.98308023682,
          207681.70270102905,
          207681.70270102905,
          207681.70270102905,
          207681.70270102905,
          207681.70270102905,
          207681.70270102905,
          207681.70270102905,
          207681.70270102905,
          207681.70270102905,
          207681.70270102905,
          207681.70270102905,
          207681.70270102905,
          207681.70270102905,
          207681.70270102905,
          207681.70270102905,
          207681.70270102905,
          207681.70270102905,
          207681.70270102905,
          207681.70270102905,
          207681.70270102905,
          207681.70270102905,
          207681.70270102905,
          207681.70270102905,
          207681.70270102905,
          207681.70270102905,
          207681.70270102905,
          207681.70270102905,
          207681.70270102905,
          207681.70270102905,
          207681.70270102905,
          207681.70270102905,
          207681.70270102905,
          207681.70270102905,
          207681.70270102905,
          207681.70270102905,
          207681.70270102905,
          207681.70270102905,
          207681.70270102905,
          207681.70270102905,
          207681.70270102905,
          207681.70270102905,
          207049.04706088203,
          207049.04706088203,
          207049.04706088206,
          201055.1408399881,
          201055.1408399881,
          201055.1408399881,
          201055.1408399881,
          201055.1408399881,
          201055.1408399881,
          201055.1408399881,
          201055.1408399881,
          201055.1408399881,
          201055.1408399881,
          201055.1408399881,
          201055.1408399881,
          201055.1408399881,
          201055.1408399881,
          201055.1408399881,
          201055.1408399881,
          201055.1408399881,
          201055.1408399881,
          201055.1408399881,
          201055.1408399881,
          201055.1408399881,
          201055.1408399881,
          201055.1408399881,
          202140.58757748452,
          197748.9505190686,
          197748.9505190686,
          197748.9505190686,
          197748.9505190686,
          197748.9505190686,
          196948.35722563806,
          198384.28696900015,
          199330.84568608005,
          202784.86979047867,
          199648.06291767303,
          199797.13757622594,
          196194.56731884592,
          196194.56731884592,
          198074.4586906924,
          203007.0130707598,
          201328.911660611,
          200751.18249467996,
          204925.3864702161,
          204448.28309376645,
          204448.28309376645,
          204448.28309376645,
          204448.28309376645,
          204448.28309376645,
          204448.28309376645,
          204448.28309376645,
          204448.28309376645,
          204448.28309376645,
          204448.28309376645,
          204448.28309376645,
          204448.28309376645,
          204448.28309376645,
          204448.28309376645,
          204448.28309376645,
          204448.28309376645,
          204448.28309376645,
          204448.28309376645,
          204448.28309376645,
          204448.28309376645,
          204448.28309376645,
          204448.28309376645,
          204448.28309376645,
          204448.28309376645,
          204448.28309376645,
          204448.28309376645,
          204448.28309376645,
          204448.28309376645,
          204448.28309376645,
          204448.28309376645,
          204448.28309376645,
          204448.28309376645,
          204448.28309376645,
          204448.28309376645,
          203490.97617427012,
          201626.8776519314,
          201275.8274151971,
          201362.57530835204,
          201362.57530835204,
          201362.57530835204,
          201362.57530835204,
          201362.57530835204,
          201362.57530835204,
          201362.57530835204,
          201362.57530835204,
          201362.57530835204,
          201362.57530835204,
          201362.57530835204,
          201362.57530835204,
          201362.57530835204,
          201362.57530835204,
          201362.57530835204,
          201362.57530835204,
          201362.57530835204,
          201362.57530835204,
          201362.57530835204,
          201362.57530835204,
          201362.57530835204,
          197246.11822897894,
          197246.11822897894,
          197246.11822897894,
          195467.4813308175,
          195467.4813308175,
          195467.4813308175,
          195467.4813308175,
          195467.4813308175,
          195467.4813308175,
          195467.4813308175,
          195467.4813308175,
          195467.48133081754,
          196408.34409024013,
          194018.8360497502,
          194018.8360497502,
          193116.89089544376,
          192670.35788239192,
          193336.20618889874,
          192439.79221738735,
          192772.0977271676,
          195613.1789188372,
          195867.7271799914,
          193106.72881408004,
          192572.28789597773,
          194665.2114306009,
          193376.39463225155,
          193376.39463225155,
          193376.39463225155,
          193376.39463225155,
          193376.39463225155,
          193376.39463225155,
          193376.39463225155,
          193376.39463225155,
          193376.39463225155,
          193376.39463225155,
          193376.39463225155,
          193376.39463225155,
          193376.39463225155,
          193376.39463225155,
          193376.39463225155,
          193376.39463225155,
          193376.39463225155,
          193376.39463225155,
          193376.39463225155,
          193376.39463225155,
          193376.39463225155,
          193376.39463225155,
          193376.39463225155,
          193376.39463225155,
          193376.39463225155,
          193376.39463225155,
          193376.39463225155,
          193376.39463225155,
          194446.4468318717,
          194233.79409353127,
          194268.66301948336,
          191060.800564033,
          191368.7949329278,
          195697.386987006,
          198192.81981934782,
          198769.56036964818,
          198343.41622448197,
          202720.52781778658,
          204916.1524986451,
          201162.2834836896,
          205543.83488526123,
          207682.82056064706,
          213038.74449653793,
          211065.36503876644,
          211042.0556174725,
          215070.5406374464,
          213194.03316626884,
          212294.88534405117,
          212176.08046499864,
          214519.15205130455,
          215593.87918589206,
          215945.2782859832,
          211870.78117439704,
          212553.71234510385,
          208050.64280077294,
          208050.64280077294,
          208700.01723137038,
          206550.34217488833,
          207084.1091401311,
          206986.77275902784,
          206858.0751852721,
          206872.90068636014,
          206974.1876577112,
          207402.89553851212,
          206621.3073126127,
          206519.1658347011,
          206285.2400354491,
          206227.48444075376,
          206227.48444075376,
          206227.48444075376,
          206111.54015697114,
          206111.54015697114,
          203653.51413513403,
          203653.51413513403,
          207863.4068921702,
          205091.28431074138,
          205839.05007248392,
          206864.77433879866,
          206858.8509358375,
          205968.04988175252,
          206518.86943098475,
          207475.63288415188,
          208610.22137363022,
          209807.52821215132,
          209550.48093280726,
          209559.6238566584,
          211402.27707941082,
          210764.15286861916,
          210492.66382986642,
          209580.42643711742,
          213749.33362212122,
          212272.14851077623,
          211868.55637068805,
          211652.89269918643,
          209292.71483780228,
          206910.28449113932,
          206968.056822789,
          207202.0939161629,
          204902.04013139484,
          204902.04013139484,
          204902.04013139484,
          205990.07270749417,
          205780.39956686168,
          203910.77028942734,
          202615.17613489841,
          202045.2805513125,
          203002.97754954442,
          203105.68815976428,
          202864.7604778212,
          203002.6787932548,
          203731.80559080007,
          203021.88744990944,
          203021.88744990944,
          202891.59948205508,
          205854.65870143322,
          207666.9906320951,
          207695.41607606396,
          209042.3322476604,
          206849.75897512012,
          206649.48264525767,
          208679.05027707963,
          212591.41386709397,
          213542.95559918822,
          213772.98569327893,
          217043.95671140184,
          219689.30165047626,
          219802.5233794487,
          219624.86068761855,
          216810.2862616309,
          219570.93656183005,
          220891.61188385542,
          222985.3985520899,
          224430.23457663978,
          221735.2082120233,
          225164.50860444715,
          223609.9308099811,
          223609.9308099811,
          221713.15419279414,
          221713.15419279414,
          220136.102913443,
          218258.5107516725,
          219097.86551091567,
          219089.92398831574,
          219092.8532533566,
          219192.80780645498,
          219228.6925093692,
          219242.30459860488,
          219220.4678354365,
          219196.89234921098,
          219179.28448971288,
          219179.28448971288,
          219179.28448971288,
          219179.28448971288,
          221869.5719826938,
          223869.24877947016,
          227046.01991358254,
          227105.00636246867,
          221843.9982081016,
          221843.9982081016,
          221843.9982081016,
          221843.9982081016,
          221843.9982081016,
          221843.9982081016,
          221843.9982081016,
          221843.9982081016,
          221843.9982081016,
          221843.9982081016,
          221843.9982081016,
          221843.9982081016,
          221843.9982081016,
          221843.9982081016,
          221843.9982081016,
          221843.9982081016,
          221843.9982081016,
          221843.9982081016,
          221843.9982081016,
          221843.9982081016,
          221843.9982081016,
          221843.9982081016,
          221843.9982081016,
          221843.9982081016,
          221843.9982081016,
          221843.9982081016,
          221843.9982081016,
          221843.9982081016,
          221843.9982081016,
          222338.65689160864,
          221317.98591782333,
          220629.30546891523,
          222739.02463391464,
          220896.8104409884,
          220951.86540679948,
          221219.2833553093,
          225434.68473866757,
          223626.23969359795,
          224959.2651808568,
          227269.59623457718,
          224484.74243909869,
          224399.25107302735,
          224301.60626554093,
          224040.99431522607,
          223919.7825755274,
          223898.86138493803,
          223922.9544069061,
          223901.20799159573,
          223900.1196722155,
          223903.92240522717,
          223902.84686010782,
          223904.2223690525,
          223903.33238949624,
          223903.67367023276,
          223903.69504138455,
          223903.8990115285,
          223903.96351318987,
          223904.00561522474,
          223904.0787804485,
          223904.01789098277,
          223903.949166037,
          223904.00442169365,
          223903.99915273325,
          223903.95132603828,
          223903.92770419247,
          223903.9150789202,
          223903.91619351707,
          223903.91744600353,
          223903.91617239994,
          223903.91515464798,
          223903.9152834189,
          223903.91556341716,
          223903.91556341716,
          223903.91556341716,
          223903.91556341716,
          224739.22332635254,
          225248.10273410726,
          227029.7753429561,
          227344.41130973838,
          226109.5121627372,
          229745.11248715592,
          230278.09459670997,
          233660.04544580163,
          233670.81989409245,
          234264.19929601616,
          233672.05275297313,
          235519.67910859548,
          235475.47382583583,
          236478.73658940097,
          236309.55932962592,
          235726.41598253584,
          237153.68168632555,
          234750.26770765914,
          234750.26770765914,
          234750.26770765914,
          234750.26770765914,
          234750.26770765914,
          234750.26770765914,
          234750.26770765914,
          234750.26770765914,
          234750.26770765914,
          234750.26770765914,
          234750.26770765914,
          234002.45557024959,
          234490.457264843,
          235852.45744817052,
          237064.68785163926,
          233978.02216464633,
          236294.39370522762,
          236172.7454771439,
          236724.303880055,
          237545.23096011553,
          237083.59250489567
         ]
        },
        {
         "mode": "lines",
         "name": "Testing Portfolio",
         "type": "scatter",
         "x": [
          2923,
          2924,
          2925,
          2926,
          2927,
          2928,
          2929,
          2930,
          2931,
          2932,
          2933,
          2934,
          2935,
          2936,
          2937,
          2938,
          2939,
          2940,
          2941,
          2942,
          2943,
          2944,
          2945,
          2946,
          2947,
          2948,
          2949,
          2950,
          2951,
          2952,
          2953,
          2954,
          2955,
          2956,
          2957,
          2958,
          2959,
          2960,
          2961,
          2962,
          2963,
          2964,
          2965,
          2966,
          2967,
          2968,
          2969,
          2970,
          2971,
          2972,
          2973,
          2974,
          2975,
          2976,
          2977,
          2978,
          2979,
          2980,
          2981,
          2982,
          2983,
          2984,
          2985,
          2986,
          2987,
          2988,
          2989,
          2990,
          2991,
          2992,
          2993,
          2994,
          2995,
          2996,
          2997,
          2998,
          2999,
          3000,
          3001,
          3002,
          3003,
          3004,
          3005,
          3006,
          3007,
          3008,
          3009,
          3010,
          3011,
          3012,
          3013,
          3014,
          3015,
          3016,
          3017,
          3018,
          3019,
          3020,
          3021,
          3022,
          3023,
          3024,
          3025,
          3026,
          3027,
          3028,
          3029,
          3030,
          3031,
          3032,
          3033,
          3034,
          3035,
          3036,
          3037,
          3038,
          3039,
          3040,
          3041,
          3042,
          3043,
          3044,
          3045,
          3046,
          3047,
          3048,
          3049,
          3050,
          3051,
          3052,
          3053,
          3054,
          3055,
          3056,
          3057,
          3058,
          3059,
          3060,
          3061,
          3062,
          3063,
          3064,
          3065,
          3066,
          3067,
          3068,
          3069,
          3070,
          3071,
          3072,
          3073,
          3074,
          3075,
          3076,
          3077,
          3078,
          3079,
          3080,
          3081,
          3082,
          3083,
          3084,
          3085,
          3086,
          3087,
          3088,
          3089,
          3090,
          3091,
          3092,
          3093,
          3094,
          3095,
          3096,
          3097,
          3098,
          3099,
          3100,
          3101,
          3102,
          3103,
          3104,
          3105,
          3106,
          3107,
          3108,
          3109,
          3110,
          3111,
          3112,
          3113,
          3114,
          3115,
          3116,
          3117,
          3118,
          3119,
          3120,
          3121,
          3122,
          3123,
          3124,
          3125,
          3126,
          3127,
          3128,
          3129,
          3130,
          3131,
          3132,
          3133,
          3134,
          3135,
          3136,
          3137,
          3138,
          3139,
          3140,
          3141,
          3142,
          3143,
          3144,
          3145,
          3146,
          3147,
          3148,
          3149,
          3150,
          3151,
          3152,
          3153,
          3154,
          3155,
          3156,
          3157,
          3158,
          3159,
          3160,
          3161,
          3162,
          3163,
          3164,
          3165,
          3166,
          3167,
          3168,
          3169,
          3170,
          3171,
          3172,
          3173,
          3174
         ],
         "y": [
          10000,
          10000,
          9959.918425386346,
          9934.342980576943,
          9950.197865528564,
          10081.819576641472,
          10066.919648634443,
          10123.958532419987,
          10117.16479357145,
          10124.762537413015,
          10086.983603569695,
          10030.326053771847,
          10118.645692228274,
          10243.241663936937,
          10265.718667276713,
          10295.708673571899,
          10304.068051963413,
          10358.271216339102,
          10351.519847933643,
          10429.743953257826,
          10423.479328235035,
          10255.601432210211,
          10383.731718926783,
          10494.676140561036,
          10461.236560144094,
          10485.40631435608,
          10571.82134972491,
          10577.853454023498,
          10638.595101163819,
          10628.499568031577,
          10483.162747723865,
          10583.588965220544,
          10645.198689731229,
          10594.06479891504,
          10530.444028496346,
          10543.756615026137,
          10766.471165221928,
          10770.217332445225,
          10729.433197419741,
          10747.74136253089,
          10729.91994080241,
          10786.027708265696,
          10872.400373191449,
          10859.426750206274,
          10748.735517805044,
          10803.995876406783,
          10915.321632028732,
          10844.060747325395,
          10831.891129333248,
          10953.227677201283,
          10932.147865057615,
          10900.760667566321,
          10830.091935640625,
          10830.091935640625,
          10860.682340675141,
          10933.279489526929,
          10968.665435649451,
          10953.285306255664,
          10919.823409006947,
          10889.250139568236,
          10983.231190665956,
          10995.49380911233,
          10973.353452767355,
          10893.916698892008,
          10905.803295041218,
          10771.287449029101,
          10771.287449029103,
          10767.252190858902,
          10782.81618061078,
          10680.843296647849,
          10680.843296647847,
          10525.429675102023,
          10525.429675102023,
          10525.429675102023,
          10525.429675102023,
          10525.429675102023,
          10433.242192730699,
          10524.337418505125,
          10650.256656249228,
          10652.525268073021,
          10603.77472809462,
          10712.030176760421,
          10746.077814792208,
          10577.036491721143,
          10540.699730004586,
          10636.919844243524,
          10770.48487816592,
          10881.702239556458,
          10896.321042873076,
          10896.257456104055,
          10951.729732923843,
          10969.79350329115,
          10967.146447632373,
          11020.203452822398,
          11149.315361727202,
          11126.106191034409,
          11139.06558479818,
          11149.273312412204,
          11177.167392151603,
          11146.920601958414,
          11064.647527589177,
          11142.111596152912,
          11144.883774163634,
          11062.778897054388,
          11062.778897054388,
          11062.77889705439,
          11075.125871875238,
          11091.769671722855,
          11223.18107438172,
          11220.938496098335,
          11208.424684098029,
          11237.351999225843,
          11267.809508116166,
          11363.627273255757,
          11390.271068461056,
          11385.784888353306,
          11473.049945078488,
          11501.977260206302,
          11472.924049538162,
          11455.001847008687,
          11419.890297290178,
          11464.811463744409,
          11482.839090994645,
          11493.257714612437,
          11446.323243053952,
          11476.948612664712,
          11548.051957343041,
          11606.767385561392,
          11670.009935526621,
          11681.874822546706,
          11690.531932140897,
          11809.869645420113,
          11706.379417107422,
          11770.963829295162,
          11804.230958170832,
          11879.652622236476,
          11714.198246640413,
          11622.635341347483,
          11539.646638829503,
          11664.182916737342,
          11646.008923127212,
          11376.41437069726,
          11376.41437069726,
          11376.41437069726,
          11381.040647218624,
          11381.040647218624,
          11381.040647218624,
          11225.194333047291,
          11122.024352820212,
          11039.468896528706,
          11067.136651362825,
          11046.254448811327,
          11107.98430752181,
          11159.877220656297,
          11160.357474563245,
          11348.38248719417,
          11391.775619928818,
          11575.561958480794,
          11598.594772714478,
          11711.35961364288,
          11688.117771700227,
          11737.67161378898,
          11632.821275675304,
          11766.40527641704,
          11729.29725001452,
          11748.007779085667,
          11677.801999350755,
          11677.342138391024,
          11795.202157181471,
          11545.720958818876,
          11527.218437809339,
          11492.429089505336,
          11294.066891930363,
          11294.066891930363,
          11319.324223993803,
          11409.93223093917,
          11495.453122905066,
          11557.617215867633,
          11572.140861681213,
          11575.202272484656,
          11541.675210002915,
          11737.616535341607,
          11714.833500093051,
          11747.74366623006,
          11777.24435159351,
          11755.32396814409,
          11802.799909601148,
          11788.00844049644,
          11837.948958081959,
          11727.570654215633,
          11729.193643298191,
          11709.472018853077,
          11814.508903149177,
          11701.254758924571,
          11814.632282418124,
          11898.674629323641,
          11874.04291120787,
          11945.90280915932,
          12037.97784863167,
          11946.37526148187,
          12002.274094982346,
          12000.219780000218,
          12047.879285735466,
          12025.918778946549,
          12020.208224652972,
          11909.726603187446,
          11935.282161195084,
          11931.708174729596,
          11963.344424837649,
          11982.654785052942,
          11943.109221647004,
          11720.79181600801,
          11720.79181600801,
          11720.79181600801,
          11720.79181600801,
          11869.035967696746,
          11957.237500616522,
          12002.158848745234,
          12013.789701964188,
          11979.037897233244,
          11981.819761949702,
          11909.332930030107,
          11752.08817355197,
          11798.13067376423,
          11844.893565507069,
          11845.153571134117,
          11908.412158223042,
          11949.710044474059,
          11985.803908325068,
          12054.386745979893,
          12008.565152804149,
          12075.906610209535,
          12105.473941835737,
          12110.938947327559,
          12184.227300353092,
          12161.44552911398,
          12191.793855086089,
          12116.884865482942,
          12080.971832613151,
          12179.622463853008,
          12113.681713453483,
          12113.361105011109,
          12159.384055928102,
          12112.400257148749,
          11755.17109741554,
          11755.17109741554,
          11755.17109741554,
          11798.002670643673,
          11895.83279272139,
          11891.603217181868,
          11768.25541953447,
          11768.25541953447
         ]
        }
       ],
       "layout": {
        "template": {
         "data": {
          "bar": [
           {
            "error_x": {
             "color": "#2a3f5f"
            },
            "error_y": {
             "color": "#2a3f5f"
            },
            "marker": {
             "line": {
              "color": "#E5ECF6",
              "width": 0.5
             },
             "pattern": {
              "fillmode": "overlay",
              "size": 10,
              "solidity": 0.2
             }
            },
            "type": "bar"
           }
          ],
          "barpolar": [
           {
            "marker": {
             "line": {
              "color": "#E5ECF6",
              "width": 0.5
             },
             "pattern": {
              "fillmode": "overlay",
              "size": 10,
              "solidity": 0.2
             }
            },
            "type": "barpolar"
           }
          ],
          "carpet": [
           {
            "aaxis": {
             "endlinecolor": "#2a3f5f",
             "gridcolor": "white",
             "linecolor": "white",
             "minorgridcolor": "white",
             "startlinecolor": "#2a3f5f"
            },
            "baxis": {
             "endlinecolor": "#2a3f5f",
             "gridcolor": "white",
             "linecolor": "white",
             "minorgridcolor": "white",
             "startlinecolor": "#2a3f5f"
            },
            "type": "carpet"
           }
          ],
          "choropleth": [
           {
            "colorbar": {
             "outlinewidth": 0,
             "ticks": ""
            },
            "type": "choropleth"
           }
          ],
          "contour": [
           {
            "colorbar": {
             "outlinewidth": 0,
             "ticks": ""
            },
            "colorscale": [
             [
              0,
              "#0d0887"
             ],
             [
              0.1111111111111111,
              "#46039f"
             ],
             [
              0.2222222222222222,
              "#7201a8"
             ],
             [
              0.3333333333333333,
              "#9c179e"
             ],
             [
              0.4444444444444444,
              "#bd3786"
             ],
             [
              0.5555555555555556,
              "#d8576b"
             ],
             [
              0.6666666666666666,
              "#ed7953"
             ],
             [
              0.7777777777777778,
              "#fb9f3a"
             ],
             [
              0.8888888888888888,
              "#fdca26"
             ],
             [
              1,
              "#f0f921"
             ]
            ],
            "type": "contour"
           }
          ],
          "contourcarpet": [
           {
            "colorbar": {
             "outlinewidth": 0,
             "ticks": ""
            },
            "type": "contourcarpet"
           }
          ],
          "heatmap": [
           {
            "colorbar": {
             "outlinewidth": 0,
             "ticks": ""
            },
            "colorscale": [
             [
              0,
              "#0d0887"
             ],
             [
              0.1111111111111111,
              "#46039f"
             ],
             [
              0.2222222222222222,
              "#7201a8"
             ],
             [
              0.3333333333333333,
              "#9c179e"
             ],
             [
              0.4444444444444444,
              "#bd3786"
             ],
             [
              0.5555555555555556,
              "#d8576b"
             ],
             [
              0.6666666666666666,
              "#ed7953"
             ],
             [
              0.7777777777777778,
              "#fb9f3a"
             ],
             [
              0.8888888888888888,
              "#fdca26"
             ],
             [
              1,
              "#f0f921"
             ]
            ],
            "type": "heatmap"
           }
          ],
          "histogram": [
           {
            "marker": {
             "pattern": {
              "fillmode": "overlay",
              "size": 10,
              "solidity": 0.2
             }
            },
            "type": "histogram"
           }
          ],
          "histogram2d": [
           {
            "colorbar": {
             "outlinewidth": 0,
             "ticks": ""
            },
            "colorscale": [
             [
              0,
              "#0d0887"
             ],
             [
              0.1111111111111111,
              "#46039f"
             ],
             [
              0.2222222222222222,
              "#7201a8"
             ],
             [
              0.3333333333333333,
              "#9c179e"
             ],
             [
              0.4444444444444444,
              "#bd3786"
             ],
             [
              0.5555555555555556,
              "#d8576b"
             ],
             [
              0.6666666666666666,
              "#ed7953"
             ],
             [
              0.7777777777777778,
              "#fb9f3a"
             ],
             [
              0.8888888888888888,
              "#fdca26"
             ],
             [
              1,
              "#f0f921"
             ]
            ],
            "type": "histogram2d"
           }
          ],
          "histogram2dcontour": [
           {
            "colorbar": {
             "outlinewidth": 0,
             "ticks": ""
            },
            "colorscale": [
             [
              0,
              "#0d0887"
             ],
             [
              0.1111111111111111,
              "#46039f"
             ],
             [
              0.2222222222222222,
              "#7201a8"
             ],
             [
              0.3333333333333333,
              "#9c179e"
             ],
             [
              0.4444444444444444,
              "#bd3786"
             ],
             [
              0.5555555555555556,
              "#d8576b"
             ],
             [
              0.6666666666666666,
              "#ed7953"
             ],
             [
              0.7777777777777778,
              "#fb9f3a"
             ],
             [
              0.8888888888888888,
              "#fdca26"
             ],
             [
              1,
              "#f0f921"
             ]
            ],
            "type": "histogram2dcontour"
           }
          ],
          "mesh3d": [
           {
            "colorbar": {
             "outlinewidth": 0,
             "ticks": ""
            },
            "type": "mesh3d"
           }
          ],
          "parcoords": [
           {
            "line": {
             "colorbar": {
              "outlinewidth": 0,
              "ticks": ""
             }
            },
            "type": "parcoords"
           }
          ],
          "pie": [
           {
            "automargin": true,
            "type": "pie"
           }
          ],
          "scatter": [
           {
            "fillpattern": {
             "fillmode": "overlay",
             "size": 10,
             "solidity": 0.2
            },
            "type": "scatter"
           }
          ],
          "scatter3d": [
           {
            "line": {
             "colorbar": {
              "outlinewidth": 0,
              "ticks": ""
             }
            },
            "marker": {
             "colorbar": {
              "outlinewidth": 0,
              "ticks": ""
             }
            },
            "type": "scatter3d"
           }
          ],
          "scattercarpet": [
           {
            "marker": {
             "colorbar": {
              "outlinewidth": 0,
              "ticks": ""
             }
            },
            "type": "scattercarpet"
           }
          ],
          "scattergeo": [
           {
            "marker": {
             "colorbar": {
              "outlinewidth": 0,
              "ticks": ""
             }
            },
            "type": "scattergeo"
           }
          ],
          "scattergl": [
           {
            "marker": {
             "colorbar": {
              "outlinewidth": 0,
              "ticks": ""
             }
            },
            "type": "scattergl"
           }
          ],
          "scattermap": [
           {
            "marker": {
             "colorbar": {
              "outlinewidth": 0,
              "ticks": ""
             }
            },
            "type": "scattermap"
           }
          ],
          "scattermapbox": [
           {
            "marker": {
             "colorbar": {
              "outlinewidth": 0,
              "ticks": ""
             }
            },
            "type": "scattermapbox"
           }
          ],
          "scatterpolar": [
           {
            "marker": {
             "colorbar": {
              "outlinewidth": 0,
              "ticks": ""
             }
            },
            "type": "scatterpolar"
           }
          ],
          "scatterpolargl": [
           {
            "marker": {
             "colorbar": {
              "outlinewidth": 0,
              "ticks": ""
             }
            },
            "type": "scatterpolargl"
           }
          ],
          "scatterternary": [
           {
            "marker": {
             "colorbar": {
              "outlinewidth": 0,
              "ticks": ""
             }
            },
            "type": "scatterternary"
           }
          ],
          "surface": [
           {
            "colorbar": {
             "outlinewidth": 0,
             "ticks": ""
            },
            "colorscale": [
             [
              0,
              "#0d0887"
             ],
             [
              0.1111111111111111,
              "#46039f"
             ],
             [
              0.2222222222222222,
              "#7201a8"
             ],
             [
              0.3333333333333333,
              "#9c179e"
             ],
             [
              0.4444444444444444,
              "#bd3786"
             ],
             [
              0.5555555555555556,
              "#d8576b"
             ],
             [
              0.6666666666666666,
              "#ed7953"
             ],
             [
              0.7777777777777778,
              "#fb9f3a"
             ],
             [
              0.8888888888888888,
              "#fdca26"
             ],
             [
              1,
              "#f0f921"
             ]
            ],
            "type": "surface"
           }
          ],
          "table": [
           {
            "cells": {
             "fill": {
              "color": "#EBF0F8"
             },
             "line": {
              "color": "white"
             }
            },
            "header": {
             "fill": {
              "color": "#C8D4E3"
             },
             "line": {
              "color": "white"
             }
            },
            "type": "table"
           }
          ]
         },
         "layout": {
          "annotationdefaults": {
           "arrowcolor": "#2a3f5f",
           "arrowhead": 0,
           "arrowwidth": 1
          },
          "autotypenumbers": "strict",
          "coloraxis": {
           "colorbar": {
            "outlinewidth": 0,
            "ticks": ""
           }
          },
          "colorscale": {
           "diverging": [
            [
             0,
             "#8e0152"
            ],
            [
             0.1,
             "#c51b7d"
            ],
            [
             0.2,
             "#de77ae"
            ],
            [
             0.3,
             "#f1b6da"
            ],
            [
             0.4,
             "#fde0ef"
            ],
            [
             0.5,
             "#f7f7f7"
            ],
            [
             0.6,
             "#e6f5d0"
            ],
            [
             0.7,
             "#b8e186"
            ],
            [
             0.8,
             "#7fbc41"
            ],
            [
             0.9,
             "#4d9221"
            ],
            [
             1,
             "#276419"
            ]
           ],
           "sequential": [
            [
             0,
             "#0d0887"
            ],
            [
             0.1111111111111111,
             "#46039f"
            ],
            [
             0.2222222222222222,
             "#7201a8"
            ],
            [
             0.3333333333333333,
             "#9c179e"
            ],
            [
             0.4444444444444444,
             "#bd3786"
            ],
            [
             0.5555555555555556,
             "#d8576b"
            ],
            [
             0.6666666666666666,
             "#ed7953"
            ],
            [
             0.7777777777777778,
             "#fb9f3a"
            ],
            [
             0.8888888888888888,
             "#fdca26"
            ],
            [
             1,
             "#f0f921"
            ]
           ],
           "sequentialminus": [
            [
             0,
             "#0d0887"
            ],
            [
             0.1111111111111111,
             "#46039f"
            ],
            [
             0.2222222222222222,
             "#7201a8"
            ],
            [
             0.3333333333333333,
             "#9c179e"
            ],
            [
             0.4444444444444444,
             "#bd3786"
            ],
            [
             0.5555555555555556,
             "#d8576b"
            ],
            [
             0.6666666666666666,
             "#ed7953"
            ],
            [
             0.7777777777777778,
             "#fb9f3a"
            ],
            [
             0.8888888888888888,
             "#fdca26"
            ],
            [
             1,
             "#f0f921"
            ]
           ]
          },
          "colorway": [
           "#636efa",
           "#EF553B",
           "#00cc96",
           "#ab63fa",
           "#FFA15A",
           "#19d3f3",
           "#FF6692",
           "#B6E880",
           "#FF97FF",
           "#FECB52"
          ],
          "font": {
           "color": "#2a3f5f"
          },
          "geo": {
           "bgcolor": "white",
           "lakecolor": "white",
           "landcolor": "#E5ECF6",
           "showlakes": true,
           "showland": true,
           "subunitcolor": "white"
          },
          "hoverlabel": {
           "align": "left"
          },
          "hovermode": "closest",
          "mapbox": {
           "style": "light"
          },
          "paper_bgcolor": "white",
          "plot_bgcolor": "#E5ECF6",
          "polar": {
           "angularaxis": {
            "gridcolor": "white",
            "linecolor": "white",
            "ticks": ""
           },
           "bgcolor": "#E5ECF6",
           "radialaxis": {
            "gridcolor": "white",
            "linecolor": "white",
            "ticks": ""
           }
          },
          "scene": {
           "xaxis": {
            "backgroundcolor": "#E5ECF6",
            "gridcolor": "white",
            "gridwidth": 2,
            "linecolor": "white",
            "showbackground": true,
            "ticks": "",
            "zerolinecolor": "white"
           },
           "yaxis": {
            "backgroundcolor": "#E5ECF6",
            "gridcolor": "white",
            "gridwidth": 2,
            "linecolor": "white",
            "showbackground": true,
            "ticks": "",
            "zerolinecolor": "white"
           },
           "zaxis": {
            "backgroundcolor": "#E5ECF6",
            "gridcolor": "white",
            "gridwidth": 2,
            "linecolor": "white",
            "showbackground": true,
            "ticks": "",
            "zerolinecolor": "white"
           }
          },
          "shapedefaults": {
           "line": {
            "color": "#2a3f5f"
           }
          },
          "ternary": {
           "aaxis": {
            "gridcolor": "white",
            "linecolor": "white",
            "ticks": ""
           },
           "baxis": {
            "gridcolor": "white",
            "linecolor": "white",
            "ticks": ""
           },
           "bgcolor": "#E5ECF6",
           "caxis": {
            "gridcolor": "white",
            "linecolor": "white",
            "ticks": ""
           }
          },
          "title": {
           "x": 0.05
          },
          "xaxis": {
           "automargin": true,
           "gridcolor": "white",
           "linecolor": "white",
           "ticks": "",
           "title": {
            "standoff": 15
           },
           "zerolinecolor": "white",
           "zerolinewidth": 2
          },
          "yaxis": {
           "automargin": true,
           "gridcolor": "white",
           "linecolor": "white",
           "ticks": "",
           "title": {
            "standoff": 15
           },
           "zerolinecolor": "white",
           "zerolinewidth": 2
          }
         }
        },
        "title": {
         "text": "Portfolio Value Over Time"
        },
        "xaxis": {
         "title": {
          "text": "Trading Steps"
         }
        },
        "yaxis": {
         "title": {
          "text": "Portfolio Value ($)"
         }
        }
       }
      }
     },
     "metadata": {},
     "output_type": "display_data"
    },
    {
     "data": {
      "application/vnd.plotly.v1+json": {
       "config": {
        "plotlyServerURL": "https://plot.ly"
       },
       "data": [
        {
         "mode": "lines",
         "name": "Training Loss",
         "type": "scatter",
         "x": [
          0,
          1,
          2,
          3,
          4,
          5,
          6,
          7,
          8,
          9,
          10,
          11,
          12,
          13,
          14,
          15,
          16,
          17,
          18,
          19,
          20,
          21,
          22,
          23,
          24,
          25,
          26,
          27,
          28,
          29,
          30,
          31,
          32,
          33,
          34,
          35,
          36,
          37,
          38,
          39,
          40,
          41,
          42,
          43,
          44,
          45,
          46,
          47,
          48,
          49,
          50,
          51,
          52,
          53,
          54,
          55,
          56,
          57,
          58,
          59,
          60,
          61,
          62,
          63,
          64,
          65,
          66,
          67,
          68,
          69,
          70,
          71,
          72,
          73,
          74,
          75,
          76,
          77,
          78,
          79,
          80,
          81,
          82,
          83,
          84,
          85,
          86,
          87,
          88,
          89,
          90,
          91,
          92,
          93,
          94,
          95,
          96,
          97,
          98,
          99
         ],
         "y": [
          0.000090896206097639,
          0.00006524926508576752,
          0.00006211325712811518,
          0.000057795319123758904,
          0.00007137103493963196,
          0.0000712799394510452,
          0.00006902271052564101,
          0.000055812427179363,
          0.0000679158508333551,
          0.00006286211448956022,
          0.00009214851572745889,
          0.0000649106724041483,
          0.00006424827939064937,
          0.000060496063058310646,
          0.000064092477380771,
          0.000058124823038846895,
          0.00006993812679676851,
          0.000059965257363807036,
          0.00006245636058083669,
          0.00006907308037629361,
          0.00005289630041568162,
          0.00005534540890137087,
          0.0000890116946672253,
          0.0000648554566535163,
          0.000049962690576970256,
          0.000053044537754735485,
          0.000053143540946165536,
          0.000054822951197278445,
          0.00006219837217235017,
          0.00007497607911182151,
          0.000053751102585709276,
          0.0000527992700710872,
          0.00004714408654468175,
          0.000058699543694674604,
          0.00006214419693050126,
          0.000049601204915971176,
          0.000044868970000257225,
          0.00005278309026554772,
          0.000059365627689013835,
          0.00005321176661745098,
          0.000053413494210333686,
          0.00006582790006174563,
          0.000057891461137923194,
          0.00004159495279350376,
          0.00004023363659852842,
          0.00005034017241335369,
          0.00005458529927489932,
          0.00005521358242168613,
          0.00004479113874394381,
          0.00004921711689198714,
          0.00005525442151410423,
          0.00005998436788965238,
          0.000056988071961546657,
          0.00005278216429115679,
          0.00005058884898648175,
          0.000057375737086086684,
          0.000051051635456282005,
          0.0000572380420991533,
          0.0000495676948417169,
          0.000037116616549358505,
          0.00005082328956072768,
          0.00006201528455105607,
          0.00004493399765441678,
          0.00005097047117423699,
          0.00004608938668666764,
          0.00006979861952709905,
          0.00006601399453010644,
          0.00007067285535411381,
          0.00005773932610890115,
          0.00006128022659788735,
          0.00004917630023921869,
          0.000058796523164525865,
          0.00005417887163540928,
          0.00006559564742127269,
          0.0000690544582506594,
          0.000059533350222776636,
          0.00005535308425726481,
          0.00006560522895916115,
          0.00005453745349646089,
          0.00008762788969292082,
          0.00006571255949155081,
          0.00005259520780623881,
          0.00006013377251815608,
          0.000056975530118006366,
          0.00005623764740128705,
          0.00005568863042623841,
          0.00006763739142785636,
          0.00006331961571009919,
          0.00006041292343843545,
          0.00006140014483824691,
          0.000054857102544356904,
          0.00006302925305831403,
          0.00006445545450818718,
          0.00005458441073997295,
          0.00004658806595121202,
          0.00005177506386846699,
          0.00005310754618436604,
          0.000054668931336043055,
          0.000060650583579260196,
          0.00004798192453224117
         ]
        }
       ],
       "layout": {
        "template": {
         "data": {
          "bar": [
           {
            "error_x": {
             "color": "#2a3f5f"
            },
            "error_y": {
             "color": "#2a3f5f"
            },
            "marker": {
             "line": {
              "color": "#E5ECF6",
              "width": 0.5
             },
             "pattern": {
              "fillmode": "overlay",
              "size": 10,
              "solidity": 0.2
             }
            },
            "type": "bar"
           }
          ],
          "barpolar": [
           {
            "marker": {
             "line": {
              "color": "#E5ECF6",
              "width": 0.5
             },
             "pattern": {
              "fillmode": "overlay",
              "size": 10,
              "solidity": 0.2
             }
            },
            "type": "barpolar"
           }
          ],
          "carpet": [
           {
            "aaxis": {
             "endlinecolor": "#2a3f5f",
             "gridcolor": "white",
             "linecolor": "white",
             "minorgridcolor": "white",
             "startlinecolor": "#2a3f5f"
            },
            "baxis": {
             "endlinecolor": "#2a3f5f",
             "gridcolor": "white",
             "linecolor": "white",
             "minorgridcolor": "white",
             "startlinecolor": "#2a3f5f"
            },
            "type": "carpet"
           }
          ],
          "choropleth": [
           {
            "colorbar": {
             "outlinewidth": 0,
             "ticks": ""
            },
            "type": "choropleth"
           }
          ],
          "contour": [
           {
            "colorbar": {
             "outlinewidth": 0,
             "ticks": ""
            },
            "colorscale": [
             [
              0,
              "#0d0887"
             ],
             [
              0.1111111111111111,
              "#46039f"
             ],
             [
              0.2222222222222222,
              "#7201a8"
             ],
             [
              0.3333333333333333,
              "#9c179e"
             ],
             [
              0.4444444444444444,
              "#bd3786"
             ],
             [
              0.5555555555555556,
              "#d8576b"
             ],
             [
              0.6666666666666666,
              "#ed7953"
             ],
             [
              0.7777777777777778,
              "#fb9f3a"
             ],
             [
              0.8888888888888888,
              "#fdca26"
             ],
             [
              1,
              "#f0f921"
             ]
            ],
            "type": "contour"
           }
          ],
          "contourcarpet": [
           {
            "colorbar": {
             "outlinewidth": 0,
             "ticks": ""
            },
            "type": "contourcarpet"
           }
          ],
          "heatmap": [
           {
            "colorbar": {
             "outlinewidth": 0,
             "ticks": ""
            },
            "colorscale": [
             [
              0,
              "#0d0887"
             ],
             [
              0.1111111111111111,
              "#46039f"
             ],
             [
              0.2222222222222222,
              "#7201a8"
             ],
             [
              0.3333333333333333,
              "#9c179e"
             ],
             [
              0.4444444444444444,
              "#bd3786"
             ],
             [
              0.5555555555555556,
              "#d8576b"
             ],
             [
              0.6666666666666666,
              "#ed7953"
             ],
             [
              0.7777777777777778,
              "#fb9f3a"
             ],
             [
              0.8888888888888888,
              "#fdca26"
             ],
             [
              1,
              "#f0f921"
             ]
            ],
            "type": "heatmap"
           }
          ],
          "histogram": [
           {
            "marker": {
             "pattern": {
              "fillmode": "overlay",
              "size": 10,
              "solidity": 0.2
             }
            },
            "type": "histogram"
           }
          ],
          "histogram2d": [
           {
            "colorbar": {
             "outlinewidth": 0,
             "ticks": ""
            },
            "colorscale": [
             [
              0,
              "#0d0887"
             ],
             [
              0.1111111111111111,
              "#46039f"
             ],
             [
              0.2222222222222222,
              "#7201a8"
             ],
             [
              0.3333333333333333,
              "#9c179e"
             ],
             [
              0.4444444444444444,
              "#bd3786"
             ],
             [
              0.5555555555555556,
              "#d8576b"
             ],
             [
              0.6666666666666666,
              "#ed7953"
             ],
             [
              0.7777777777777778,
              "#fb9f3a"
             ],
             [
              0.8888888888888888,
              "#fdca26"
             ],
             [
              1,
              "#f0f921"
             ]
            ],
            "type": "histogram2d"
           }
          ],
          "histogram2dcontour": [
           {
            "colorbar": {
             "outlinewidth": 0,
             "ticks": ""
            },
            "colorscale": [
             [
              0,
              "#0d0887"
             ],
             [
              0.1111111111111111,
              "#46039f"
             ],
             [
              0.2222222222222222,
              "#7201a8"
             ],
             [
              0.3333333333333333,
              "#9c179e"
             ],
             [
              0.4444444444444444,
              "#bd3786"
             ],
             [
              0.5555555555555556,
              "#d8576b"
             ],
             [
              0.6666666666666666,
              "#ed7953"
             ],
             [
              0.7777777777777778,
              "#fb9f3a"
             ],
             [
              0.8888888888888888,
              "#fdca26"
             ],
             [
              1,
              "#f0f921"
             ]
            ],
            "type": "histogram2dcontour"
           }
          ],
          "mesh3d": [
           {
            "colorbar": {
             "outlinewidth": 0,
             "ticks": ""
            },
            "type": "mesh3d"
           }
          ],
          "parcoords": [
           {
            "line": {
             "colorbar": {
              "outlinewidth": 0,
              "ticks": ""
             }
            },
            "type": "parcoords"
           }
          ],
          "pie": [
           {
            "automargin": true,
            "type": "pie"
           }
          ],
          "scatter": [
           {
            "fillpattern": {
             "fillmode": "overlay",
             "size": 10,
             "solidity": 0.2
            },
            "type": "scatter"
           }
          ],
          "scatter3d": [
           {
            "line": {
             "colorbar": {
              "outlinewidth": 0,
              "ticks": ""
             }
            },
            "marker": {
             "colorbar": {
              "outlinewidth": 0,
              "ticks": ""
             }
            },
            "type": "scatter3d"
           }
          ],
          "scattercarpet": [
           {
            "marker": {
             "colorbar": {
              "outlinewidth": 0,
              "ticks": ""
             }
            },
            "type": "scattercarpet"
           }
          ],
          "scattergeo": [
           {
            "marker": {
             "colorbar": {
              "outlinewidth": 0,
              "ticks": ""
             }
            },
            "type": "scattergeo"
           }
          ],
          "scattergl": [
           {
            "marker": {
             "colorbar": {
              "outlinewidth": 0,
              "ticks": ""
             }
            },
            "type": "scattergl"
           }
          ],
          "scattermap": [
           {
            "marker": {
             "colorbar": {
              "outlinewidth": 0,
              "ticks": ""
             }
            },
            "type": "scattermap"
           }
          ],
          "scattermapbox": [
           {
            "marker": {
             "colorbar": {
              "outlinewidth": 0,
              "ticks": ""
             }
            },
            "type": "scattermapbox"
           }
          ],
          "scatterpolar": [
           {
            "marker": {
             "colorbar": {
              "outlinewidth": 0,
              "ticks": ""
             }
            },
            "type": "scatterpolar"
           }
          ],
          "scatterpolargl": [
           {
            "marker": {
             "colorbar": {
              "outlinewidth": 0,
              "ticks": ""
             }
            },
            "type": "scatterpolargl"
           }
          ],
          "scatterternary": [
           {
            "marker": {
             "colorbar": {
              "outlinewidth": 0,
              "ticks": ""
             }
            },
            "type": "scatterternary"
           }
          ],
          "surface": [
           {
            "colorbar": {
             "outlinewidth": 0,
             "ticks": ""
            },
            "colorscale": [
             [
              0,
              "#0d0887"
             ],
             [
              0.1111111111111111,
              "#46039f"
             ],
             [
              0.2222222222222222,
              "#7201a8"
             ],
             [
              0.3333333333333333,
              "#9c179e"
             ],
             [
              0.4444444444444444,
              "#bd3786"
             ],
             [
              0.5555555555555556,
              "#d8576b"
             ],
             [
              0.6666666666666666,
              "#ed7953"
             ],
             [
              0.7777777777777778,
              "#fb9f3a"
             ],
             [
              0.8888888888888888,
              "#fdca26"
             ],
             [
              1,
              "#f0f921"
             ]
            ],
            "type": "surface"
           }
          ],
          "table": [
           {
            "cells": {
             "fill": {
              "color": "#EBF0F8"
             },
             "line": {
              "color": "white"
             }
            },
            "header": {
             "fill": {
              "color": "#C8D4E3"
             },
             "line": {
              "color": "white"
             }
            },
            "type": "table"
           }
          ]
         },
         "layout": {
          "annotationdefaults": {
           "arrowcolor": "#2a3f5f",
           "arrowhead": 0,
           "arrowwidth": 1
          },
          "autotypenumbers": "strict",
          "coloraxis": {
           "colorbar": {
            "outlinewidth": 0,
            "ticks": ""
           }
          },
          "colorscale": {
           "diverging": [
            [
             0,
             "#8e0152"
            ],
            [
             0.1,
             "#c51b7d"
            ],
            [
             0.2,
             "#de77ae"
            ],
            [
             0.3,
             "#f1b6da"
            ],
            [
             0.4,
             "#fde0ef"
            ],
            [
             0.5,
             "#f7f7f7"
            ],
            [
             0.6,
             "#e6f5d0"
            ],
            [
             0.7,
             "#b8e186"
            ],
            [
             0.8,
             "#7fbc41"
            ],
            [
             0.9,
             "#4d9221"
            ],
            [
             1,
             "#276419"
            ]
           ],
           "sequential": [
            [
             0,
             "#0d0887"
            ],
            [
             0.1111111111111111,
             "#46039f"
            ],
            [
             0.2222222222222222,
             "#7201a8"
            ],
            [
             0.3333333333333333,
             "#9c179e"
            ],
            [
             0.4444444444444444,
             "#bd3786"
            ],
            [
             0.5555555555555556,
             "#d8576b"
            ],
            [
             0.6666666666666666,
             "#ed7953"
            ],
            [
             0.7777777777777778,
             "#fb9f3a"
            ],
            [
             0.8888888888888888,
             "#fdca26"
            ],
            [
             1,
             "#f0f921"
            ]
           ],
           "sequentialminus": [
            [
             0,
             "#0d0887"
            ],
            [
             0.1111111111111111,
             "#46039f"
            ],
            [
             0.2222222222222222,
             "#7201a8"
            ],
            [
             0.3333333333333333,
             "#9c179e"
            ],
            [
             0.4444444444444444,
             "#bd3786"
            ],
            [
             0.5555555555555556,
             "#d8576b"
            ],
            [
             0.6666666666666666,
             "#ed7953"
            ],
            [
             0.7777777777777778,
             "#fb9f3a"
            ],
            [
             0.8888888888888888,
             "#fdca26"
            ],
            [
             1,
             "#f0f921"
            ]
           ]
          },
          "colorway": [
           "#636efa",
           "#EF553B",
           "#00cc96",
           "#ab63fa",
           "#FFA15A",
           "#19d3f3",
           "#FF6692",
           "#B6E880",
           "#FF97FF",
           "#FECB52"
          ],
          "font": {
           "color": "#2a3f5f"
          },
          "geo": {
           "bgcolor": "white",
           "lakecolor": "white",
           "landcolor": "#E5ECF6",
           "showlakes": true,
           "showland": true,
           "subunitcolor": "white"
          },
          "hoverlabel": {
           "align": "left"
          },
          "hovermode": "closest",
          "mapbox": {
           "style": "light"
          },
          "paper_bgcolor": "white",
          "plot_bgcolor": "#E5ECF6",
          "polar": {
           "angularaxis": {
            "gridcolor": "white",
            "linecolor": "white",
            "ticks": ""
           },
           "bgcolor": "#E5ECF6",
           "radialaxis": {
            "gridcolor": "white",
            "linecolor": "white",
            "ticks": ""
           }
          },
          "scene": {
           "xaxis": {
            "backgroundcolor": "#E5ECF6",
            "gridcolor": "white",
            "gridwidth": 2,
            "linecolor": "white",
            "showbackground": true,
            "ticks": "",
            "zerolinecolor": "white"
           },
           "yaxis": {
            "backgroundcolor": "#E5ECF6",
            "gridcolor": "white",
            "gridwidth": 2,
            "linecolor": "white",
            "showbackground": true,
            "ticks": "",
            "zerolinecolor": "white"
           },
           "zaxis": {
            "backgroundcolor": "#E5ECF6",
            "gridcolor": "white",
            "gridwidth": 2,
            "linecolor": "white",
            "showbackground": true,
            "ticks": "",
            "zerolinecolor": "white"
           }
          },
          "shapedefaults": {
           "line": {
            "color": "#2a3f5f"
           }
          },
          "ternary": {
           "aaxis": {
            "gridcolor": "white",
            "linecolor": "white",
            "ticks": ""
           },
           "baxis": {
            "gridcolor": "white",
            "linecolor": "white",
            "ticks": ""
           },
           "bgcolor": "#E5ECF6",
           "caxis": {
            "gridcolor": "white",
            "linecolor": "white",
            "ticks": ""
           }
          },
          "title": {
           "x": 0.05
          },
          "xaxis": {
           "automargin": true,
           "gridcolor": "white",
           "linecolor": "white",
           "ticks": "",
           "title": {
            "standoff": 15
           },
           "zerolinecolor": "white",
           "zerolinewidth": 2
          },
          "yaxis": {
           "automargin": true,
           "gridcolor": "white",
           "linecolor": "white",
           "ticks": "",
           "title": {
            "standoff": 15
           },
           "zerolinecolor": "white",
           "zerolinewidth": 2
          }
         }
        },
        "title": {
         "text": "Training Loss Over Episodes"
        },
        "xaxis": {
         "title": {
          "text": "Episode"
         }
        },
        "yaxis": {
         "title": {
          "text": "Loss"
         }
        }
       }
      }
     },
     "metadata": {},
     "output_type": "display_data"
    },
    {
     "data": {
      "application/vnd.plotly.v1+json": {
       "config": {
        "plotlyServerURL": "https://plot.ly"
       },
       "data": [
        {
         "mode": "lines",
         "name": "SP500 Index",
         "type": "scatter",
         "x": [
          "2024-01-02T00:00:00.000000000",
          "2024-01-03T00:00:00.000000000",
          "2024-01-04T00:00:00.000000000",
          "2024-01-05T00:00:00.000000000",
          "2024-01-08T00:00:00.000000000",
          "2024-01-09T00:00:00.000000000",
          "2024-01-10T00:00:00.000000000",
          "2024-01-11T00:00:00.000000000",
          "2024-01-12T00:00:00.000000000",
          "2024-01-16T00:00:00.000000000",
          "2024-01-17T00:00:00.000000000",
          "2024-01-18T00:00:00.000000000",
          "2024-01-19T00:00:00.000000000",
          "2024-01-22T00:00:00.000000000",
          "2024-01-23T00:00:00.000000000",
          "2024-01-24T00:00:00.000000000",
          "2024-01-25T00:00:00.000000000",
          "2024-01-26T00:00:00.000000000",
          "2024-01-29T00:00:00.000000000",
          "2024-01-30T00:00:00.000000000",
          "2024-01-31T00:00:00.000000000",
          "2024-02-01T00:00:00.000000000",
          "2024-02-02T00:00:00.000000000",
          "2024-02-05T00:00:00.000000000",
          "2024-02-06T00:00:00.000000000",
          "2024-02-07T00:00:00.000000000",
          "2024-02-08T00:00:00.000000000",
          "2024-02-09T00:00:00.000000000",
          "2024-02-12T00:00:00.000000000",
          "2024-02-13T00:00:00.000000000",
          "2024-02-14T00:00:00.000000000",
          "2024-02-15T00:00:00.000000000",
          "2024-02-16T00:00:00.000000000",
          "2024-02-20T00:00:00.000000000",
          "2024-02-21T00:00:00.000000000",
          "2024-02-22T00:00:00.000000000",
          "2024-02-23T00:00:00.000000000",
          "2024-02-26T00:00:00.000000000",
          "2024-02-27T00:00:00.000000000",
          "2024-02-28T00:00:00.000000000",
          "2024-02-29T00:00:00.000000000",
          "2024-03-01T00:00:00.000000000",
          "2024-03-04T00:00:00.000000000",
          "2024-03-05T00:00:00.000000000",
          "2024-03-06T00:00:00.000000000",
          "2024-03-07T00:00:00.000000000",
          "2024-03-08T00:00:00.000000000",
          "2024-03-11T00:00:00.000000000",
          "2024-03-12T00:00:00.000000000",
          "2024-03-13T00:00:00.000000000",
          "2024-03-14T00:00:00.000000000",
          "2024-03-15T00:00:00.000000000",
          "2024-03-18T00:00:00.000000000",
          "2024-03-19T00:00:00.000000000",
          "2024-03-20T00:00:00.000000000",
          "2024-03-21T00:00:00.000000000",
          "2024-03-22T00:00:00.000000000",
          "2024-03-25T00:00:00.000000000",
          "2024-03-26T00:00:00.000000000",
          "2024-03-27T00:00:00.000000000",
          "2024-03-28T00:00:00.000000000",
          "2024-04-01T00:00:00.000000000",
          "2024-04-02T00:00:00.000000000",
          "2024-04-03T00:00:00.000000000",
          "2024-04-04T00:00:00.000000000",
          "2024-04-05T00:00:00.000000000",
          "2024-04-08T00:00:00.000000000",
          "2024-04-09T00:00:00.000000000",
          "2024-04-10T00:00:00.000000000",
          "2024-04-11T00:00:00.000000000",
          "2024-04-12T00:00:00.000000000",
          "2024-04-15T00:00:00.000000000",
          "2024-04-16T00:00:00.000000000",
          "2024-04-17T00:00:00.000000000",
          "2024-04-18T00:00:00.000000000",
          "2024-04-19T00:00:00.000000000",
          "2024-04-22T00:00:00.000000000",
          "2024-04-23T00:00:00.000000000",
          "2024-04-24T00:00:00.000000000",
          "2024-04-25T00:00:00.000000000",
          "2024-04-26T00:00:00.000000000",
          "2024-04-29T00:00:00.000000000",
          "2024-04-30T00:00:00.000000000",
          "2024-05-01T00:00:00.000000000",
          "2024-05-02T00:00:00.000000000",
          "2024-05-03T00:00:00.000000000",
          "2024-05-06T00:00:00.000000000",
          "2024-05-07T00:00:00.000000000",
          "2024-05-08T00:00:00.000000000",
          "2024-05-09T00:00:00.000000000",
          "2024-05-10T00:00:00.000000000",
          "2024-05-13T00:00:00.000000000",
          "2024-05-14T00:00:00.000000000",
          "2024-05-15T00:00:00.000000000",
          "2024-05-16T00:00:00.000000000",
          "2024-05-17T00:00:00.000000000",
          "2024-05-20T00:00:00.000000000",
          "2024-05-21T00:00:00.000000000",
          "2024-05-22T00:00:00.000000000",
          "2024-05-23T00:00:00.000000000",
          "2024-05-24T00:00:00.000000000",
          "2024-05-28T00:00:00.000000000",
          "2024-05-29T00:00:00.000000000",
          "2024-05-30T00:00:00.000000000",
          "2024-05-31T00:00:00.000000000",
          "2024-06-03T00:00:00.000000000",
          "2024-06-04T00:00:00.000000000",
          "2024-06-05T00:00:00.000000000",
          "2024-06-06T00:00:00.000000000",
          "2024-06-07T00:00:00.000000000",
          "2024-06-10T00:00:00.000000000",
          "2024-06-11T00:00:00.000000000",
          "2024-06-12T00:00:00.000000000",
          "2024-06-13T00:00:00.000000000",
          "2024-06-14T00:00:00.000000000",
          "2024-06-17T00:00:00.000000000",
          "2024-06-18T00:00:00.000000000",
          "2024-06-20T00:00:00.000000000",
          "2024-06-21T00:00:00.000000000",
          "2024-06-24T00:00:00.000000000",
          "2024-06-25T00:00:00.000000000",
          "2024-06-26T00:00:00.000000000",
          "2024-06-27T00:00:00.000000000",
          "2024-06-28T00:00:00.000000000",
          "2024-07-01T00:00:00.000000000",
          "2024-07-02T00:00:00.000000000",
          "2024-07-03T00:00:00.000000000",
          "2024-07-05T00:00:00.000000000",
          "2024-07-08T00:00:00.000000000",
          "2024-07-09T00:00:00.000000000",
          "2024-07-10T00:00:00.000000000",
          "2024-07-11T00:00:00.000000000",
          "2024-07-12T00:00:00.000000000",
          "2024-07-15T00:00:00.000000000",
          "2024-07-16T00:00:00.000000000",
          "2024-07-17T00:00:00.000000000",
          "2024-07-18T00:00:00.000000000",
          "2024-07-19T00:00:00.000000000",
          "2024-07-22T00:00:00.000000000",
          "2024-07-23T00:00:00.000000000",
          "2024-07-24T00:00:00.000000000",
          "2024-07-25T00:00:00.000000000",
          "2024-07-26T00:00:00.000000000",
          "2024-07-29T00:00:00.000000000",
          "2024-07-30T00:00:00.000000000",
          "2024-07-31T00:00:00.000000000",
          "2024-08-01T00:00:00.000000000",
          "2024-08-02T00:00:00.000000000",
          "2024-08-05T00:00:00.000000000",
          "2024-08-06T00:00:00.000000000",
          "2024-08-07T00:00:00.000000000",
          "2024-08-08T00:00:00.000000000",
          "2024-08-09T00:00:00.000000000",
          "2024-08-12T00:00:00.000000000",
          "2024-08-13T00:00:00.000000000",
          "2024-08-14T00:00:00.000000000",
          "2024-08-15T00:00:00.000000000",
          "2024-08-16T00:00:00.000000000",
          "2024-08-19T00:00:00.000000000",
          "2024-08-20T00:00:00.000000000",
          "2024-08-21T00:00:00.000000000",
          "2024-08-22T00:00:00.000000000",
          "2024-08-23T00:00:00.000000000",
          "2024-08-26T00:00:00.000000000",
          "2024-08-27T00:00:00.000000000",
          "2024-08-28T00:00:00.000000000",
          "2024-08-29T00:00:00.000000000",
          "2024-08-30T00:00:00.000000000",
          "2024-09-03T00:00:00.000000000",
          "2024-09-04T00:00:00.000000000",
          "2024-09-05T00:00:00.000000000",
          "2024-09-06T00:00:00.000000000",
          "2024-09-09T00:00:00.000000000",
          "2024-09-10T00:00:00.000000000",
          "2024-09-11T00:00:00.000000000",
          "2024-09-12T00:00:00.000000000",
          "2024-09-13T00:00:00.000000000",
          "2024-09-16T00:00:00.000000000",
          "2024-09-17T00:00:00.000000000",
          "2024-09-18T00:00:00.000000000",
          "2024-09-19T00:00:00.000000000",
          "2024-09-20T00:00:00.000000000",
          "2024-09-23T00:00:00.000000000",
          "2024-09-24T00:00:00.000000000",
          "2024-09-25T00:00:00.000000000",
          "2024-09-26T00:00:00.000000000",
          "2024-09-27T00:00:00.000000000",
          "2024-09-30T00:00:00.000000000",
          "2024-10-01T00:00:00.000000000",
          "2024-10-02T00:00:00.000000000",
          "2024-10-03T00:00:00.000000000",
          "2024-10-04T00:00:00.000000000",
          "2024-10-07T00:00:00.000000000",
          "2024-10-08T00:00:00.000000000",
          "2024-10-09T00:00:00.000000000",
          "2024-10-10T00:00:00.000000000",
          "2024-10-11T00:00:00.000000000",
          "2024-10-14T00:00:00.000000000",
          "2024-10-15T00:00:00.000000000",
          "2024-10-16T00:00:00.000000000",
          "2024-10-17T00:00:00.000000000",
          "2024-10-18T00:00:00.000000000",
          "2024-10-21T00:00:00.000000000",
          "2024-10-22T00:00:00.000000000",
          "2024-10-23T00:00:00.000000000",
          "2024-10-24T00:00:00.000000000",
          "2024-10-25T00:00:00.000000000",
          "2024-10-28T00:00:00.000000000",
          "2024-10-29T00:00:00.000000000",
          "2024-10-30T00:00:00.000000000",
          "2024-10-31T00:00:00.000000000",
          "2024-11-01T00:00:00.000000000",
          "2024-11-04T00:00:00.000000000",
          "2024-11-05T00:00:00.000000000",
          "2024-11-06T00:00:00.000000000",
          "2024-11-07T00:00:00.000000000",
          "2024-11-08T00:00:00.000000000",
          "2024-11-11T00:00:00.000000000",
          "2024-11-12T00:00:00.000000000",
          "2024-11-13T00:00:00.000000000",
          "2024-11-14T00:00:00.000000000",
          "2024-11-15T00:00:00.000000000",
          "2024-11-18T00:00:00.000000000",
          "2024-11-19T00:00:00.000000000",
          "2024-11-20T00:00:00.000000000",
          "2024-11-21T00:00:00.000000000",
          "2024-11-22T00:00:00.000000000",
          "2024-11-25T00:00:00.000000000",
          "2024-11-26T00:00:00.000000000",
          "2024-11-27T00:00:00.000000000",
          "2024-11-29T00:00:00.000000000",
          "2024-12-02T00:00:00.000000000",
          "2024-12-03T00:00:00.000000000",
          "2024-12-04T00:00:00.000000000",
          "2024-12-05T00:00:00.000000000",
          "2024-12-06T00:00:00.000000000",
          "2024-12-09T00:00:00.000000000",
          "2024-12-10T00:00:00.000000000",
          "2024-12-11T00:00:00.000000000",
          "2024-12-12T00:00:00.000000000",
          "2024-12-13T00:00:00.000000000",
          "2024-12-16T00:00:00.000000000",
          "2024-12-17T00:00:00.000000000",
          "2024-12-18T00:00:00.000000000",
          "2024-12-19T00:00:00.000000000",
          "2024-12-20T00:00:00.000000000",
          "2024-12-23T00:00:00.000000000",
          "2024-12-24T00:00:00.000000000",
          "2024-12-26T00:00:00.000000000",
          "2024-12-27T00:00:00.000000000",
          "2024-12-30T00:00:00.000000000",
          "2024-12-31T00:00:00.000000000"
         ],
         "y": {
          "bdata": "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",
          "dtype": "f8"
         }
        },
        {
         "marker": {
          "color": "green",
          "size": 10,
          "symbol": "triangle-up"
         },
         "mode": "markers",
         "name": "Buy Signal",
         "type": "scatter",
         "x": [
          "2024-01-02T00:00:00",
          "2024-01-03T00:00:00",
          "2024-01-04T00:00:00",
          "2024-01-05T00:00:00",
          "2024-01-08T00:00:00",
          "2024-01-09T00:00:00",
          "2024-01-10T00:00:00",
          "2024-01-11T00:00:00",
          "2024-01-12T00:00:00",
          "2024-01-16T00:00:00",
          "2024-01-17T00:00:00",
          "2024-01-18T00:00:00",
          "2024-01-19T00:00:00",
          "2024-01-22T00:00:00",
          "2024-01-23T00:00:00",
          "2024-01-24T00:00:00",
          "2024-01-25T00:00:00",
          "2024-01-26T00:00:00",
          "2024-01-29T00:00:00",
          "2024-01-30T00:00:00",
          "2024-01-31T00:00:00",
          "2024-02-01T00:00:00",
          "2024-02-02T00:00:00",
          "2024-02-05T00:00:00",
          "2024-02-06T00:00:00",
          "2024-02-07T00:00:00",
          "2024-02-08T00:00:00",
          "2024-02-09T00:00:00",
          "2024-02-12T00:00:00",
          "2024-02-13T00:00:00",
          "2024-02-14T00:00:00",
          "2024-02-15T00:00:00",
          "2024-02-16T00:00:00",
          "2024-02-20T00:00:00",
          "2024-02-21T00:00:00",
          "2024-02-22T00:00:00",
          "2024-02-23T00:00:00",
          "2024-02-26T00:00:00",
          "2024-02-27T00:00:00",
          "2024-02-28T00:00:00",
          "2024-02-29T00:00:00",
          "2024-03-01T00:00:00",
          "2024-03-04T00:00:00",
          "2024-03-05T00:00:00",
          "2024-03-06T00:00:00",
          "2024-03-07T00:00:00",
          "2024-03-08T00:00:00",
          "2024-03-11T00:00:00",
          "2024-03-12T00:00:00",
          "2024-03-13T00:00:00",
          "2024-03-14T00:00:00",
          "2024-03-18T00:00:00",
          "2024-03-19T00:00:00",
          "2024-03-20T00:00:00",
          "2024-03-21T00:00:00",
          "2024-03-22T00:00:00",
          "2024-03-25T00:00:00",
          "2024-03-26T00:00:00",
          "2024-03-27T00:00:00",
          "2024-03-28T00:00:00",
          "2024-04-01T00:00:00",
          "2024-04-02T00:00:00",
          "2024-04-03T00:00:00",
          "2024-04-05T00:00:00",
          "2024-04-08T00:00:00",
          "2024-04-09T00:00:00",
          "2024-04-11T00:00:00",
          "2024-04-18T00:00:00",
          "2024-04-19T00:00:00",
          "2024-04-22T00:00:00",
          "2024-04-23T00:00:00",
          "2024-04-24T00:00:00",
          "2024-04-25T00:00:00",
          "2024-04-26T00:00:00",
          "2024-04-29T00:00:00",
          "2024-04-30T00:00:00",
          "2024-05-01T00:00:00",
          "2024-05-02T00:00:00",
          "2024-05-03T00:00:00",
          "2024-05-06T00:00:00",
          "2024-05-07T00:00:00",
          "2024-05-08T00:00:00",
          "2024-05-09T00:00:00",
          "2024-05-10T00:00:00",
          "2024-05-13T00:00:00",
          "2024-05-14T00:00:00",
          "2024-05-15T00:00:00",
          "2024-05-16T00:00:00",
          "2024-05-17T00:00:00",
          "2024-05-20T00:00:00",
          "2024-05-21T00:00:00",
          "2024-05-22T00:00:00",
          "2024-05-23T00:00:00",
          "2024-05-24T00:00:00",
          "2024-05-28T00:00:00",
          "2024-05-31T00:00:00",
          "2024-06-03T00:00:00",
          "2024-06-04T00:00:00",
          "2024-06-05T00:00:00",
          "2024-06-06T00:00:00",
          "2024-06-07T00:00:00",
          "2024-06-10T00:00:00",
          "2024-06-11T00:00:00",
          "2024-06-12T00:00:00",
          "2024-06-13T00:00:00",
          "2024-06-14T00:00:00",
          "2024-06-17T00:00:00",
          "2024-06-18T00:00:00",
          "2024-06-20T00:00:00",
          "2024-06-21T00:00:00",
          "2024-06-24T00:00:00",
          "2024-06-25T00:00:00",
          "2024-06-26T00:00:00",
          "2024-06-27T00:00:00",
          "2024-06-28T00:00:00",
          "2024-07-01T00:00:00",
          "2024-07-02T00:00:00",
          "2024-07-03T00:00:00",
          "2024-07-05T00:00:00",
          "2024-07-08T00:00:00",
          "2024-07-09T00:00:00",
          "2024-07-10T00:00:00",
          "2024-07-11T00:00:00",
          "2024-07-12T00:00:00",
          "2024-07-15T00:00:00",
          "2024-07-16T00:00:00",
          "2024-07-17T00:00:00",
          "2024-07-18T00:00:00",
          "2024-07-19T00:00:00",
          "2024-07-22T00:00:00",
          "2024-07-23T00:00:00",
          "2024-07-26T00:00:00",
          "2024-07-31T00:00:00",
          "2024-08-08T00:00:00",
          "2024-08-09T00:00:00",
          "2024-08-12T00:00:00",
          "2024-08-13T00:00:00",
          "2024-08-14T00:00:00",
          "2024-08-15T00:00:00",
          "2024-08-16T00:00:00",
          "2024-08-19T00:00:00",
          "2024-08-20T00:00:00",
          "2024-08-21T00:00:00",
          "2024-08-22T00:00:00",
          "2024-08-23T00:00:00",
          "2024-08-26T00:00:00",
          "2024-08-27T00:00:00",
          "2024-08-28T00:00:00",
          "2024-08-29T00:00:00",
          "2024-08-30T00:00:00",
          "2024-09-04T00:00:00",
          "2024-09-05T00:00:00",
          "2024-09-09T00:00:00",
          "2024-09-10T00:00:00",
          "2024-09-11T00:00:00",
          "2024-09-12T00:00:00",
          "2024-09-13T00:00:00",
          "2024-09-16T00:00:00",
          "2024-09-17T00:00:00",
          "2024-09-18T00:00:00",
          "2024-09-19T00:00:00",
          "2024-09-20T00:00:00",
          "2024-09-23T00:00:00",
          "2024-09-24T00:00:00",
          "2024-09-25T00:00:00",
          "2024-09-26T00:00:00",
          "2024-09-27T00:00:00",
          "2024-09-30T00:00:00",
          "2024-10-01T00:00:00",
          "2024-10-02T00:00:00",
          "2024-10-03T00:00:00",
          "2024-10-04T00:00:00",
          "2024-10-07T00:00:00",
          "2024-10-08T00:00:00",
          "2024-10-09T00:00:00",
          "2024-10-10T00:00:00",
          "2024-10-11T00:00:00",
          "2024-10-14T00:00:00",
          "2024-10-15T00:00:00",
          "2024-10-16T00:00:00",
          "2024-10-17T00:00:00",
          "2024-10-18T00:00:00",
          "2024-10-21T00:00:00",
          "2024-10-22T00:00:00",
          "2024-10-23T00:00:00",
          "2024-10-24T00:00:00",
          "2024-10-25T00:00:00",
          "2024-10-28T00:00:00",
          "2024-10-29T00:00:00",
          "2024-10-30T00:00:00",
          "2024-11-05T00:00:00",
          "2024-11-06T00:00:00",
          "2024-11-07T00:00:00",
          "2024-11-08T00:00:00",
          "2024-11-11T00:00:00",
          "2024-11-12T00:00:00",
          "2024-11-13T00:00:00",
          "2024-11-14T00:00:00",
          "2024-11-15T00:00:00",
          "2024-11-18T00:00:00",
          "2024-11-19T00:00:00",
          "2024-11-20T00:00:00",
          "2024-11-21T00:00:00",
          "2024-11-22T00:00:00",
          "2024-11-25T00:00:00",
          "2024-11-26T00:00:00",
          "2024-11-27T00:00:00",
          "2024-11-29T00:00:00",
          "2024-12-02T00:00:00",
          "2024-12-03T00:00:00",
          "2024-12-04T00:00:00",
          "2024-12-05T00:00:00",
          "2024-12-06T00:00:00",
          "2024-12-09T00:00:00",
          "2024-12-10T00:00:00",
          "2024-12-11T00:00:00",
          "2024-12-12T00:00:00",
          "2024-12-13T00:00:00",
          "2024-12-16T00:00:00",
          "2024-12-17T00:00:00",
          "2024-12-20T00:00:00",
          "2024-12-23T00:00:00",
          "2024-12-24T00:00:00",
          "2024-12-26T00:00:00"
         ],
         "y": [
          4742.830078125,
          4704.81005859375,
          4688.68017578125,
          4697.240234375,
          4763.5400390625,
          4756.5,
          4783.4501953125,
          4780.240234375,
          4783.830078125,
          4765.97998046875,
          4739.2099609375,
          4780.93994140625,
          4839.81005859375,
          4850.43017578125,
          4864.60009765625,
          4868.5498046875,
          4894.16015625,
          4890.97021484375,
          4927.93017578125,
          4924.97021484375,
          4845.64990234375,
          4906.18994140625,
          4958.60986328125,
          4942.81005859375,
          4954.22998046875,
          4995.06005859375,
          4997.91015625,
          5026.60986328125,
          5021.83984375,
          4953.169921875,
          5000.6201171875,
          5029.72998046875,
          5005.56982421875,
          4975.509765625,
          4981.7998046875,
          5087.02978515625,
          5088.7998046875,
          5069.52978515625,
          5078.18017578125,
          5069.759765625,
          5096.27001953125,
          5137.080078125,
          5130.9501953125,
          5078.64990234375,
          5104.759765625,
          5157.35986328125,
          5123.68994140625,
          5117.93994140625,
          5175.27001953125,
          5165.31005859375,
          5150.47998046875,
          5149.419921875,
          5178.509765625,
          5224.6201171875,
          5241.52978515625,
          5234.18017578125,
          5218.18994140625,
          5203.580078125,
          5248.490234375,
          5254.35009765625,
          5243.77001953125,
          5205.81005859375,
          5211.490234375,
          5204.33984375,
          5202.39013671875,
          5209.91015625,
          5199.06005859375,
          5011.1201171875,
          4967.22998046875,
          5010.60009765625,
          5070.5498046875,
          5071.6298828125,
          5048.419921875,
          5099.9599609375,
          5116.169921875,
          5035.68994140625,
          5018.39013671875,
          5064.2001953125,
          5127.7900390625,
          5180.740234375,
          5187.7001953125,
          5187.669921875,
          5214.080078125,
          5222.68017578125,
          5221.419921875,
          5246.68017578125,
          5308.14990234375,
          5297.10009765625,
          5303.27001953125,
          5308.1298828125,
          5321.41015625,
          5307.009765625,
          5267.83984375,
          5304.72021484375,
          5306.0400390625,
          5277.509765625,
          5283.39990234375,
          5291.33984375,
          5354.02978515625,
          5352.9599609375,
          5346.990234375,
          5360.7900390625,
          5375.31982421875,
          5421.02978515625,
          5433.740234375,
          5431.60009765625,
          5473.22998046875,
          5487.02978515625,
          5473.169921875,
          5464.6201171875,
          5447.8701171875,
          5469.2998046875,
          5477.89990234375,
          5482.8701171875,
          5460.47998046875,
          5475.08984375,
          5509.009765625,
          5537.02001953125,
          5567.18994140625,
          5572.85009765625,
          5576.97998046875,
          5633.91015625,
          5584.5400390625,
          5615.35009765625,
          5631.22021484375,
          5667.2001953125,
          5588.27001953125,
          5544.58984375,
          5505,
          5564.41015625,
          5555.740234375,
          5459.10009765625,
          5522.2998046875,
          5319.31005859375,
          5344.16015625,
          5344.39013671875,
          5434.43017578125,
          5455.2099609375,
          5543.22021484375,
          5554.25,
          5608.25,
          5597.1201171875,
          5620.85009765625,
          5570.64013671875,
          5634.60986328125,
          5616.83984375,
          5625.7998046875,
          5592.18017578125,
          5591.9599609375,
          5648.39990234375,
          5520.06982421875,
          5503.41015625,
          5471.0498046875,
          5495.52001953125,
          5554.1298828125,
          5595.759765625,
          5626.02001953125,
          5633.08984375,
          5634.580078125,
          5618.259765625,
          5713.64013671875,
          5702.5498046875,
          5718.56982421875,
          5732.93017578125,
          5722.259765625,
          5745.3701171875,
          5738.169921875,
          5762.47998046875,
          5708.75,
          5709.5400390625,
          5699.93994140625,
          5751.06982421875,
          5695.93994140625,
          5751.1298828125,
          5792.0400390625,
          5780.0498046875,
          5815.02978515625,
          5859.85009765625,
          5815.259765625,
          5842.47021484375,
          5841.47021484375,
          5864.669921875,
          5853.97998046875,
          5851.2001953125,
          5797.419921875,
          5809.85986328125,
          5808.1201171875,
          5823.52001953125,
          5832.919921875,
          5813.669921875,
          5782.759765625,
          5929.0400390625,
          5973.10009765625,
          5995.5400390625,
          6001.35009765625,
          5983.990234375,
          5985.3798828125,
          5949.169921875,
          5870.6201171875,
          5893.6201171875,
          5916.97998046875,
          5917.10986328125,
          5948.7099609375,
          5969.33984375,
          5987.3701171875,
          6021.6298828125,
          5998.740234375,
          6032.3798828125,
          6047.14990234375,
          6049.8798828125,
          6086.490234375,
          6075.10986328125,
          6090.27001953125,
          6052.85009765625,
          6034.91015625,
          6084.18994140625,
          6051.25,
          6051.08984375,
          6074.080078125,
          6050.60986328125,
          5930.85009765625,
          5974.06982421875,
          6040.0400390625,
          6037.58984375
         ]
        },
        {
         "marker": {
          "color": "red",
          "size": 10,
          "symbol": "triangle-down"
         },
         "mode": "markers",
         "name": "Sell Signal",
         "type": "scatter",
         "x": [
          "2024-03-15T00:00:00",
          "2024-04-04T00:00:00",
          "2024-04-10T00:00:00",
          "2024-04-12T00:00:00",
          "2024-04-15T00:00:00",
          "2024-04-16T00:00:00",
          "2024-05-29T00:00:00",
          "2024-05-30T00:00:00",
          "2024-07-24T00:00:00",
          "2024-07-25T00:00:00",
          "2024-07-29T00:00:00",
          "2024-07-30T00:00:00",
          "2024-08-01T00:00:00",
          "2024-08-02T00:00:00",
          "2024-09-06T00:00:00",
          "2024-10-31T00:00:00",
          "2024-11-01T00:00:00",
          "2024-11-04T00:00:00",
          "2024-12-18T00:00:00",
          "2024-12-19T00:00:00",
          "2024-12-27T00:00:00",
          "2024-12-30T00:00:00"
         ],
         "y": [
          5117.08984375,
          5147.2099609375,
          5160.64013671875,
          5123.41015625,
          5061.81982421875,
          5051.41015625,
          5266.9501953125,
          5235.47998046875,
          5427.1298828125,
          5399.22021484375,
          5463.5400390625,
          5436.43994140625,
          5446.68017578125,
          5346.56005859375,
          5408.419921875,
          5705.4501953125,
          5728.7998046875,
          5712.68994140625,
          5872.16015625,
          5867.080078125,
          5970.83984375,
          5906.93994140625
         ]
        }
       ],
       "layout": {
        "template": {
         "data": {
          "bar": [
           {
            "error_x": {
             "color": "#2a3f5f"
            },
            "error_y": {
             "color": "#2a3f5f"
            },
            "marker": {
             "line": {
              "color": "#E5ECF6",
              "width": 0.5
             },
             "pattern": {
              "fillmode": "overlay",
              "size": 10,
              "solidity": 0.2
             }
            },
            "type": "bar"
           }
          ],
          "barpolar": [
           {
            "marker": {
             "line": {
              "color": "#E5ECF6",
              "width": 0.5
             },
             "pattern": {
              "fillmode": "overlay",
              "size": 10,
              "solidity": 0.2
             }
            },
            "type": "barpolar"
           }
          ],
          "carpet": [
           {
            "aaxis": {
             "endlinecolor": "#2a3f5f",
             "gridcolor": "white",
             "linecolor": "white",
             "minorgridcolor": "white",
             "startlinecolor": "#2a3f5f"
            },
            "baxis": {
             "endlinecolor": "#2a3f5f",
             "gridcolor": "white",
             "linecolor": "white",
             "minorgridcolor": "white",
             "startlinecolor": "#2a3f5f"
            },
            "type": "carpet"
           }
          ],
          "choropleth": [
           {
            "colorbar": {
             "outlinewidth": 0,
             "ticks": ""
            },
            "type": "choropleth"
           }
          ],
          "contour": [
           {
            "colorbar": {
             "outlinewidth": 0,
             "ticks": ""
            },
            "colorscale": [
             [
              0,
              "#0d0887"
             ],
             [
              0.1111111111111111,
              "#46039f"
             ],
             [
              0.2222222222222222,
              "#7201a8"
             ],
             [
              0.3333333333333333,
              "#9c179e"
             ],
             [
              0.4444444444444444,
              "#bd3786"
             ],
             [
              0.5555555555555556,
              "#d8576b"
             ],
             [
              0.6666666666666666,
              "#ed7953"
             ],
             [
              0.7777777777777778,
              "#fb9f3a"
             ],
             [
              0.8888888888888888,
              "#fdca26"
             ],
             [
              1,
              "#f0f921"
             ]
            ],
            "type": "contour"
           }
          ],
          "contourcarpet": [
           {
            "colorbar": {
             "outlinewidth": 0,
             "ticks": ""
            },
            "type": "contourcarpet"
           }
          ],
          "heatmap": [
           {
            "colorbar": {
             "outlinewidth": 0,
             "ticks": ""
            },
            "colorscale": [
             [
              0,
              "#0d0887"
             ],
             [
              0.1111111111111111,
              "#46039f"
             ],
             [
              0.2222222222222222,
              "#7201a8"
             ],
             [
              0.3333333333333333,
              "#9c179e"
             ],
             [
              0.4444444444444444,
              "#bd3786"
             ],
             [
              0.5555555555555556,
              "#d8576b"
             ],
             [
              0.6666666666666666,
              "#ed7953"
             ],
             [
              0.7777777777777778,
              "#fb9f3a"
             ],
             [
              0.8888888888888888,
              "#fdca26"
             ],
             [
              1,
              "#f0f921"
             ]
            ],
            "type": "heatmap"
           }
          ],
          "histogram": [
           {
            "marker": {
             "pattern": {
              "fillmode": "overlay",
              "size": 10,
              "solidity": 0.2
             }
            },
            "type": "histogram"
           }
          ],
          "histogram2d": [
           {
            "colorbar": {
             "outlinewidth": 0,
             "ticks": ""
            },
            "colorscale": [
             [
              0,
              "#0d0887"
             ],
             [
              0.1111111111111111,
              "#46039f"
             ],
             [
              0.2222222222222222,
              "#7201a8"
             ],
             [
              0.3333333333333333,
              "#9c179e"
             ],
             [
              0.4444444444444444,
              "#bd3786"
             ],
             [
              0.5555555555555556,
              "#d8576b"
             ],
             [
              0.6666666666666666,
              "#ed7953"
             ],
             [
              0.7777777777777778,
              "#fb9f3a"
             ],
             [
              0.8888888888888888,
              "#fdca26"
             ],
             [
              1,
              "#f0f921"
             ]
            ],
            "type": "histogram2d"
           }
          ],
          "histogram2dcontour": [
           {
            "colorbar": {
             "outlinewidth": 0,
             "ticks": ""
            },
            "colorscale": [
             [
              0,
              "#0d0887"
             ],
             [
              0.1111111111111111,
              "#46039f"
             ],
             [
              0.2222222222222222,
              "#7201a8"
             ],
             [
              0.3333333333333333,
              "#9c179e"
             ],
             [
              0.4444444444444444,
              "#bd3786"
             ],
             [
              0.5555555555555556,
              "#d8576b"
             ],
             [
              0.6666666666666666,
              "#ed7953"
             ],
             [
              0.7777777777777778,
              "#fb9f3a"
             ],
             [
              0.8888888888888888,
              "#fdca26"
             ],
             [
              1,
              "#f0f921"
             ]
            ],
            "type": "histogram2dcontour"
           }
          ],
          "mesh3d": [
           {
            "colorbar": {
             "outlinewidth": 0,
             "ticks": ""
            },
            "type": "mesh3d"
           }
          ],
          "parcoords": [
           {
            "line": {
             "colorbar": {
              "outlinewidth": 0,
              "ticks": ""
             }
            },
            "type": "parcoords"
           }
          ],
          "pie": [
           {
            "automargin": true,
            "type": "pie"
           }
          ],
          "scatter": [
           {
            "fillpattern": {
             "fillmode": "overlay",
             "size": 10,
             "solidity": 0.2
            },
            "type": "scatter"
           }
          ],
          "scatter3d": [
           {
            "line": {
             "colorbar": {
              "outlinewidth": 0,
              "ticks": ""
             }
            },
            "marker": {
             "colorbar": {
              "outlinewidth": 0,
              "ticks": ""
             }
            },
            "type": "scatter3d"
           }
          ],
          "scattercarpet": [
           {
            "marker": {
             "colorbar": {
              "outlinewidth": 0,
              "ticks": ""
             }
            },
            "type": "scattercarpet"
           }
          ],
          "scattergeo": [
           {
            "marker": {
             "colorbar": {
              "outlinewidth": 0,
              "ticks": ""
             }
            },
            "type": "scattergeo"
           }
          ],
          "scattergl": [
           {
            "marker": {
             "colorbar": {
              "outlinewidth": 0,
              "ticks": ""
             }
            },
            "type": "scattergl"
           }
          ],
          "scattermap": [
           {
            "marker": {
             "colorbar": {
              "outlinewidth": 0,
              "ticks": ""
             }
            },
            "type": "scattermap"
           }
          ],
          "scattermapbox": [
           {
            "marker": {
             "colorbar": {
              "outlinewidth": 0,
              "ticks": ""
             }
            },
            "type": "scattermapbox"
           }
          ],
          "scatterpolar": [
           {
            "marker": {
             "colorbar": {
              "outlinewidth": 0,
              "ticks": ""
             }
            },
            "type": "scatterpolar"
           }
          ],
          "scatterpolargl": [
           {
            "marker": {
             "colorbar": {
              "outlinewidth": 0,
              "ticks": ""
             }
            },
            "type": "scatterpolargl"
           }
          ],
          "scatterternary": [
           {
            "marker": {
             "colorbar": {
              "outlinewidth": 0,
              "ticks": ""
             }
            },
            "type": "scatterternary"
           }
          ],
          "surface": [
           {
            "colorbar": {
             "outlinewidth": 0,
             "ticks": ""
            },
            "colorscale": [
             [
              0,
              "#0d0887"
             ],
             [
              0.1111111111111111,
              "#46039f"
             ],
             [
              0.2222222222222222,
              "#7201a8"
             ],
             [
              0.3333333333333333,
              "#9c179e"
             ],
             [
              0.4444444444444444,
              "#bd3786"
             ],
             [
              0.5555555555555556,
              "#d8576b"
             ],
             [
              0.6666666666666666,
              "#ed7953"
             ],
             [
              0.7777777777777778,
              "#fb9f3a"
             ],
             [
              0.8888888888888888,
              "#fdca26"
             ],
             [
              1,
              "#f0f921"
             ]
            ],
            "type": "surface"
           }
          ],
          "table": [
           {
            "cells": {
             "fill": {
              "color": "#EBF0F8"
             },
             "line": {
              "color": "white"
             }
            },
            "header": {
             "fill": {
              "color": "#C8D4E3"
             },
             "line": {
              "color": "white"
             }
            },
            "type": "table"
           }
          ]
         },
         "layout": {
          "annotationdefaults": {
           "arrowcolor": "#2a3f5f",
           "arrowhead": 0,
           "arrowwidth": 1
          },
          "autotypenumbers": "strict",
          "coloraxis": {
           "colorbar": {
            "outlinewidth": 0,
            "ticks": ""
           }
          },
          "colorscale": {
           "diverging": [
            [
             0,
             "#8e0152"
            ],
            [
             0.1,
             "#c51b7d"
            ],
            [
             0.2,
             "#de77ae"
            ],
            [
             0.3,
             "#f1b6da"
            ],
            [
             0.4,
             "#fde0ef"
            ],
            [
             0.5,
             "#f7f7f7"
            ],
            [
             0.6,
             "#e6f5d0"
            ],
            [
             0.7,
             "#b8e186"
            ],
            [
             0.8,
             "#7fbc41"
            ],
            [
             0.9,
             "#4d9221"
            ],
            [
             1,
             "#276419"
            ]
           ],
           "sequential": [
            [
             0,
             "#0d0887"
            ],
            [
             0.1111111111111111,
             "#46039f"
            ],
            [
             0.2222222222222222,
             "#7201a8"
            ],
            [
             0.3333333333333333,
             "#9c179e"
            ],
            [
             0.4444444444444444,
             "#bd3786"
            ],
            [
             0.5555555555555556,
             "#d8576b"
            ],
            [
             0.6666666666666666,
             "#ed7953"
            ],
            [
             0.7777777777777778,
             "#fb9f3a"
            ],
            [
             0.8888888888888888,
             "#fdca26"
            ],
            [
             1,
             "#f0f921"
            ]
           ],
           "sequentialminus": [
            [
             0,
             "#0d0887"
            ],
            [
             0.1111111111111111,
             "#46039f"
            ],
            [
             0.2222222222222222,
             "#7201a8"
            ],
            [
             0.3333333333333333,
             "#9c179e"
            ],
            [
             0.4444444444444444,
             "#bd3786"
            ],
            [
             0.5555555555555556,
             "#d8576b"
            ],
            [
             0.6666666666666666,
             "#ed7953"
            ],
            [
             0.7777777777777778,
             "#fb9f3a"
            ],
            [
             0.8888888888888888,
             "#fdca26"
            ],
            [
             1,
             "#f0f921"
            ]
           ]
          },
          "colorway": [
           "#636efa",
           "#EF553B",
           "#00cc96",
           "#ab63fa",
           "#FFA15A",
           "#19d3f3",
           "#FF6692",
           "#B6E880",
           "#FF97FF",
           "#FECB52"
          ],
          "font": {
           "color": "#2a3f5f"
          },
          "geo": {
           "bgcolor": "white",
           "lakecolor": "white",
           "landcolor": "#E5ECF6",
           "showlakes": true,
           "showland": true,
           "subunitcolor": "white"
          },
          "hoverlabel": {
           "align": "left"
          },
          "hovermode": "closest",
          "mapbox": {
           "style": "light"
          },
          "paper_bgcolor": "white",
          "plot_bgcolor": "#E5ECF6",
          "polar": {
           "angularaxis": {
            "gridcolor": "white",
            "linecolor": "white",
            "ticks": ""
           },
           "bgcolor": "#E5ECF6",
           "radialaxis": {
            "gridcolor": "white",
            "linecolor": "white",
            "ticks": ""
           }
          },
          "scene": {
           "xaxis": {
            "backgroundcolor": "#E5ECF6",
            "gridcolor": "white",
            "gridwidth": 2,
            "linecolor": "white",
            "showbackground": true,
            "ticks": "",
            "zerolinecolor": "white"
           },
           "yaxis": {
            "backgroundcolor": "#E5ECF6",
            "gridcolor": "white",
            "gridwidth": 2,
            "linecolor": "white",
            "showbackground": true,
            "ticks": "",
            "zerolinecolor": "white"
           },
           "zaxis": {
            "backgroundcolor": "#E5ECF6",
            "gridcolor": "white",
            "gridwidth": 2,
            "linecolor": "white",
            "showbackground": true,
            "ticks": "",
            "zerolinecolor": "white"
           }
          },
          "shapedefaults": {
           "line": {
            "color": "#2a3f5f"
           }
          },
          "ternary": {
           "aaxis": {
            "gridcolor": "white",
            "linecolor": "white",
            "ticks": ""
           },
           "baxis": {
            "gridcolor": "white",
            "linecolor": "white",
            "ticks": ""
           },
           "bgcolor": "#E5ECF6",
           "caxis": {
            "gridcolor": "white",
            "linecolor": "white",
            "ticks": ""
           }
          },
          "title": {
           "x": 0.05
          },
          "xaxis": {
           "automargin": true,
           "gridcolor": "white",
           "linecolor": "white",
           "ticks": "",
           "title": {
            "standoff": 15
           },
           "zerolinecolor": "white",
           "zerolinewidth": 2
          },
          "yaxis": {
           "automargin": true,
           "gridcolor": "white",
           "linecolor": "white",
           "ticks": "",
           "title": {
            "standoff": 15
           },
           "zerolinecolor": "white",
           "zerolinewidth": 2
          }
         }
        },
        "title": {
         "text": "S&P500 Index Price with Trading Signals"
        },
        "xaxis": {
         "title": {
          "text": "Date"
         }
        },
        "yaxis": {
         "title": {
          "text": "Price"
         }
        }
       }
      }
     },
     "metadata": {},
     "output_type": "display_data"
    },
    {
     "name": "stdout",
     "output_type": "stream",
     "text": [
      "\n",
      "Training Results:\n",
      "Initial Training Balance: $100000.00\n",
      "Final Training Portfolio Value: $237083.59\n",
      "Training Return: 137.08%\n",
      "\n",
      "Testing Results:\n",
      "Initial Testing Balance: $10000.00\n",
      "Final Testing Portfolio Value: $11768.26\n",
      "Testing Return: 17.68%\n"
     ]
    }
   ],
   "source": [
    "import numpy as np\n",
    "import pandas as pd\n",
    "import yfinance as yf\n",
    "import talib\n",
    "import plotly.graph_objects as go\n",
    "from sklearn.preprocessing import MinMaxScaler\n",
    "import torch\n",
    "import torch.nn as nn\n",
    "import torch.optim as optim\n",
    "from collections import deque\n",
    "import random\n",
    "from tqdm import tqdm\n",
    "import warnings\n",
    "warnings.filterwarnings('ignore')\n",
    "\n",
    "# Set device for computations\n",
    "device = torch.device('cuda' if torch.cuda.is_available() else 'cpu')\n",
    "print(f\"Using device: {device}\")\n",
    "\n",
    "# -------------------------\n",
    "# DataHandler and Aggregation\n",
    "# -------------------------\n",
    "class DataHandler:\n",
    "    def __init__(self):\n",
    "        self.scaler = MinMaxScaler()\n",
    "    \n",
    "    def fetch_data(self, symbol, start_date, end_date):\n",
    "        print(f\"Fetching data for {symbol} from {start_date} to {end_date}...\")\n",
    "        df = yf.download(symbol, start=start_date, end=end_date)\n",
    "        if df.empty:\n",
    "            raise ValueError(f\"No data found for {symbol}\")\n",
    "        return self.prepare_data(df)\n",
    "    \n",
    "    def prepare_data(self, df):\n",
    "        try:\n",
    "            df = df.copy()\n",
    "            # Preserve original close price for portfolio calculations\n",
    "            df['CloseOrig'] = df['Close'].astype(float)\n",
    "            \n",
    "            # Convert price and volume arrays\n",
    "            close_prices = df['Close'].values.astype(float).flatten()\n",
    "            high_prices = df['High'].values.astype(float).flatten()\n",
    "            low_prices = df['Low'].values.astype(float).flatten()\n",
    "            volume = df['Volume'].values.astype(float).flatten()\n",
    "            \n",
    "            # Calculate technical indicators\n",
    "            df['Returns'] = df['Close'].pct_change()\n",
    "            df['SMA_20'] = talib.SMA(close_prices, timeperiod=20)\n",
    "            df['EMA_20'] = talib.EMA(close_prices, timeperiod=20)\n",
    "            df['RSI'] = talib.RSI(close_prices, timeperiod=14)\n",
    "            \n",
    "            macd, signal, _ = talib.MACD(close_prices)\n",
    "            df['MACD'] = macd\n",
    "            df['MACD_signal'] = signal\n",
    "            \n",
    "            bb_upper, bb_middle, bb_lower = talib.BBANDS(close_prices)\n",
    "            df['BB_upper'] = bb_upper\n",
    "            df['BB_middle'] = bb_middle\n",
    "            df['BB_lower'] = bb_lower\n",
    "            \n",
    "            df['OBV'] = talib.OBV(close_prices, volume)\n",
    "            df['MOM'] = talib.MOM(close_prices, timeperiod=14)\n",
    "            \n",
    "            # Features to be used as input; note: we do not normalize the original price\n",
    "            features = ['Close', 'Returns', 'SMA_20', 'EMA_20', 'RSI', \n",
    "                        'MACD', 'MACD_signal', 'BB_upper', 'BB_middle', \n",
    "                        'BB_lower', 'OBV', 'MOM']\n",
    "            \n",
    "            # Fill NA values\n",
    "            df[features] = df[features].fillna(method='ffill').fillna(method='bfill')\n",
    "            # Normalize only the features (not the CloseOrig)\n",
    "            df[features] = self.scaler.fit_transform(df[features])\n",
    "            \n",
    "            print(f\"Data shape after preparation: {df.shape}\")\n",
    "            return df.dropna()\n",
    "        except Exception as e:\n",
    "            print(f\"Error in prepare_data: {str(e)}\")\n",
    "            raise\n",
    "\n",
    "    def fetch_multiple_data(self, symbols, start_date, end_date):\n",
    "        data_dict = {}\n",
    "        for symbol in symbols:\n",
    "            data_dict[symbol] = self.fetch_data(symbol, start_date, end_date)\n",
    "        return data_dict\n",
    "\n",
    "def aggregate_data(data_dict):\n",
    "    \"\"\"\n",
    "    Aggregates the data across multiple symbols by taking the average of \n",
    "    features over the common date range.\n",
    "    \"\"\"\n",
    "    common_index = None\n",
    "    for df in data_dict.values():\n",
    "        if common_index is None:\n",
    "            common_index = df.index\n",
    "        else:\n",
    "            common_index = common_index.intersection(df.index)\n",
    "    \n",
    "    reindexed = []\n",
    "    for symbol, df in data_dict.items():\n",
    "        reindexed.append(df.loc[common_index])\n",
    "    # Create a multi-index DataFrame (first level: symbol, second: feature)\n",
    "    concatenated = pd.concat(reindexed, axis=1, keys=data_dict.keys())\n",
    "    # Average over the symbols (grouping by the feature level)\n",
    "    aggregated = concatenated.groupby(axis=1, level=1).mean()\n",
    "    return aggregated\n",
    "\n",
    "# -------------------------\n",
    "# Trading Environment\n",
    "# -------------------------\n",
    "class TradingEnvironment:\n",
    "    def __init__(self, data, initial_balance=100000):\n",
    "        if data is None or data.empty:\n",
    "            raise ValueError(\"Data cannot be empty\")\n",
    "        # Retain the original date index for testing visualization.\n",
    "        self.data = data.reset_index(drop=True)\n",
    "        self.initial_balance = initial_balance\n",
    "        self.features = ['Close', 'Returns', 'SMA_20', 'EMA_20', 'RSI',\n",
    "                         'MACD', 'MACD_signal', 'BB_upper', 'BB_middle',\n",
    "                         'BB_lower', 'OBV', 'MOM']\n",
    "        if 'CloseOrig' not in data.columns:\n",
    "            raise ValueError(\"Missing 'CloseOrig' column for price calculations\")\n",
    "        self.reset()\n",
    "    \n",
    "    def reset(self):\n",
    "        self.balance = self.initial_balance\n",
    "        self.position = 0.0  # Number of shares held\n",
    "        self.current_step = 0\n",
    "        self.portfolio_value_history = [self.initial_balance]\n",
    "        return self._get_state()\n",
    "    \n",
    "    def _get_state(self):\n",
    "        return self.data.iloc[self.current_step][self.features].values\n",
    "    \n",
    "    def step(self, action):\n",
    "        # Current price comes from the raw close\n",
    "        current_price = float(self.data.iloc[self.current_step]['CloseOrig'])\n",
    "        prev_value = self.portfolio_value_history[-1]\n",
    "        \n",
    "        # Action space (5 discrete actions):\n",
    "        # 0: Sell all position\n",
    "        # 1: Sell half of position\n",
    "        # 2: Hold (do nothing)\n",
    "        # 3: Buy using 50% of available cash\n",
    "        # 4: Buy using full available cash\n",
    "        if current_price > 0:\n",
    "            if action == 0 and self.position > 0:  # Sell all\n",
    "                self.balance += current_price * self.position\n",
    "                self.position = 0.0\n",
    "            elif action == 1 and self.position > 0:  # Sell half\n",
    "                shares_to_sell = self.position * 0.5\n",
    "                self.balance += current_price * shares_to_sell\n",
    "                self.position -= shares_to_sell\n",
    "            elif action == 3 and self.balance > 0:  # Buy with 50% cash\n",
    "                cash_to_use = self.balance * 0.5\n",
    "                shares_to_buy = cash_to_use / current_price\n",
    "                self.position += shares_to_buy\n",
    "                self.balance -= current_price * shares_to_buy\n",
    "            elif action == 4 and self.balance > 0:  # Buy with full cash\n",
    "                shares_to_buy = self.balance / current_price\n",
    "                self.position += shares_to_buy\n",
    "                self.balance = 0\n",
    "            # Action 2 is hold (do nothing)\n",
    "        \n",
    "        new_value = self.balance + (self.position * current_price)\n",
    "        self.portfolio_value_history.append(new_value)\n",
    "        reward = (new_value - prev_value) / prev_value if prev_value > 0 else 0\n",
    "        \n",
    "        self.current_step += 1\n",
    "        done = (self.current_step >= len(self.data) - 1)\n",
    "        next_state = self._get_state() if not done else np.zeros(len(self.features))\n",
    "        return next_state, reward, done\n",
    "\n",
    "# -------------------------\n",
    "# DQN Agent\n",
    "# -------------------------\n",
    "class DQNAgent(nn.Module):\n",
    "    def __init__(self, state_size, action_size):\n",
    "        super(DQNAgent, self).__init__()\n",
    "        self.state_size = state_size\n",
    "        self.action_size = action_size\n",
    "        self.memory = deque(maxlen=2000)\n",
    "        self.gamma = 0.95\n",
    "        self.epsilon = 1.0\n",
    "        self.epsilon_min = 0.01\n",
    "        self.epsilon_decay = 0.995\n",
    "        self.batch_size = 32\n",
    "        \n",
    "        # Neural network layers\n",
    "        self.fc1 = nn.Linear(state_size, 64)\n",
    "        self.fc2 = nn.Linear(64, 32)\n",
    "        self.fc3 = nn.Linear(32, action_size)\n",
    "        \n",
    "        self.optimizer = optim.Adam(self.parameters(), lr=0.001)\n",
    "        self.criterion = nn.MSELoss()\n",
    "        self.to(device)\n",
    "    \n",
    "    def forward(self, x):\n",
    "        x = torch.relu(self.fc1(x))\n",
    "        x = torch.relu(self.fc2(x))\n",
    "        return self.fc3(x)\n",
    "    \n",
    "    def remember(self, state, action, reward, next_state, done):\n",
    "        self.memory.append((state, action, reward, next_state, done))\n",
    "    \n",
    "    def act(self, state):\n",
    "        if random.random() <= self.epsilon:\n",
    "            return random.randrange(self.action_size)\n",
    "        with torch.no_grad():\n",
    "            state_tensor = torch.FloatTensor(state).unsqueeze(0).to(device)\n",
    "            act_values = self(state_tensor)\n",
    "            return torch.argmax(act_values).item()\n",
    "    \n",
    "    def replay(self):\n",
    "        if len(self.memory) < self.batch_size:\n",
    "            return 0\n",
    "        minibatch = random.sample(self.memory, self.batch_size)\n",
    "        states = torch.FloatTensor([i[0] for i in minibatch]).to(device)\n",
    "        actions = torch.LongTensor([i[1] for i in minibatch]).to(device)\n",
    "        rewards = torch.FloatTensor([i[2] for i in minibatch]).to(device)\n",
    "        next_states = torch.FloatTensor([i[3] for i in minibatch]).to(device)\n",
    "        dones = torch.FloatTensor([i[4] for i in minibatch]).to(device)\n",
    "        \n",
    "        current_q = self(states).gather(1, actions.unsqueeze(1)).squeeze()\n",
    "        with torch.no_grad():\n",
    "            next_q = self(next_states).max(1)[0]\n",
    "            target_q = rewards + (1 - dones) * self.gamma * next_q\n",
    "        \n",
    "        loss = self.criterion(current_q, target_q)\n",
    "        self.optimizer.zero_grad()\n",
    "        loss.backward()\n",
    "        self.optimizer.step()\n",
    "        \n",
    "        if self.epsilon > self.epsilon_min:\n",
    "            self.epsilon *= self.epsilon_decay\n",
    "        \n",
    "        return loss.item()\n",
    "\n",
    "# -------------------------\n",
    "# Training and Testing Functions\n",
    "# -------------------------\n",
    "def train_agent(env, agent, episodes):\n",
    "    training_losses = []\n",
    "    best_reward = float('-inf')\n",
    "    \n",
    "    for episode in tqdm(range(episodes), desc=\"Training\"):\n",
    "        state = env.reset()\n",
    "        total_reward = 0\n",
    "        episode_losses = []\n",
    "        \n",
    "        while True:\n",
    "            action = agent.act(state)\n",
    "            next_state, reward, done = env.step(action)\n",
    "            agent.remember(state, action, reward, next_state, done)\n",
    "            loss = agent.replay()\n",
    "            if loss > 0:\n",
    "                episode_losses.append(loss)\n",
    "            state = next_state\n",
    "            total_reward += reward\n",
    "            \n",
    "            if done:\n",
    "                avg_loss = np.mean(episode_losses) if episode_losses else 0\n",
    "                training_losses.append(avg_loss)\n",
    "                if total_reward > best_reward:\n",
    "                    best_reward = total_reward\n",
    "                    torch.save(agent.state_dict(), 'best_model.pth')\n",
    "                print(f\"\\nEpisode: {episode+1}/{episodes} | Total Reward: {total_reward:.2f} | Avg Loss: {avg_loss:.4f} | Epsilon: {agent.epsilon:.4f} | Final Portfolio: ${env.portfolio_value_history[-1]:.2f}\")\n",
    "                break\n",
    "    return training_losses\n",
    "\n",
    "def test_agent(agent, test_data, initial_balance=10000):\n",
    "    # Create a test environment subclassing TradingEnvironment\n",
    "    class TestEnvironment(TradingEnvironment):\n",
    "        def __init__(self, data, initial_balance):\n",
    "            super().__init__(data, initial_balance)\n",
    "    \n",
    "    test_env = TestEnvironment(test_data, initial_balance)\n",
    "    original_epsilon = agent.epsilon\n",
    "    agent.epsilon = 0  # disable exploration for test\n",
    "    state = test_env.reset()\n",
    "    actions_taken = []\n",
    "    \n",
    "    done = False\n",
    "    while not done:\n",
    "        action = agent.act(state)\n",
    "        actions_taken.append(action)\n",
    "        state, reward, done = test_env.step(action)\n",
    "    \n",
    "    agent.epsilon = original_epsilon\n",
    "    return test_env.portfolio_value_history, actions_taken\n",
    "\n",
    "# -------------------------\n",
    "# Plotting Functions\n",
    "# -------------------------\n",
    "def plot_results(train_values, test_values, training_losses):\n",
    "    fig = go.Figure()\n",
    "    fig.add_trace(go.Scatter(\n",
    "        x=list(range(len(train_values))),\n",
    "        y=train_values,\n",
    "        mode='lines',\n",
    "        name='Training Portfolio'\n",
    "    ))\n",
    "    fig.add_trace(go.Scatter(\n",
    "        x=list(range(len(train_values), len(train_values)+len(test_values))),\n",
    "        y=test_values,\n",
    "        mode='lines',\n",
    "        name='Testing Portfolio'\n",
    "    ))\n",
    "    fig.update_layout(title='Portfolio Value Over Time',\n",
    "                      xaxis_title='Trading Steps',\n",
    "                      yaxis_title='Portfolio Value ($)')\n",
    "    \n",
    "    loss_fig = go.Figure()\n",
    "    loss_fig.add_trace(go.Scatter(\n",
    "        x=list(range(len(training_losses))),\n",
    "        y=training_losses,\n",
    "        mode='lines',\n",
    "        name='Training Loss'\n",
    "    ))\n",
    "    loss_fig.update_layout(title='Training Loss Over Episodes',\n",
    "                           xaxis_title='Episode',\n",
    "                           yaxis_title='Loss')\n",
    "    \n",
    "    fig.show()\n",
    "    loss_fig.show()\n",
    "\n",
    "def plot_test_signals(test_df, test_actions):\n",
    "    # Use the original test data index and raw prices to overlay signals.\n",
    "    dates = test_df.index\n",
    "    prices = test_df['CloseOrig'].values\n",
    "    buy_dates = []\n",
    "    buy_prices = []\n",
    "    sell_dates = []\n",
    "    sell_prices = []\n",
    "    \n",
    "    # Map actions to signals:\n",
    "    # 0 and 1 are Sell signals; 3 and 4 are Buy signals; 2 is Hold.\n",
    "    for i, action in enumerate(test_actions):\n",
    "        if action in [3, 4]:\n",
    "            buy_dates.append(dates[i])\n",
    "            buy_prices.append(prices[i])\n",
    "        elif action in [0, 1]:\n",
    "            sell_dates.append(dates[i])\n",
    "            sell_prices.append(prices[i])\n",
    "    \n",
    "    fig = go.Figure()\n",
    "    fig.add_trace(go.Scatter(x=dates, y=prices, mode='lines', name='SP500 Index'))\n",
    "    fig.add_trace(go.Scatter(x=buy_dates, y=buy_prices, mode='markers', name='Buy Signal',\n",
    "                             marker=dict(color='green', size=10, symbol='triangle-up')))\n",
    "    fig.add_trace(go.Scatter(x=sell_dates, y=sell_prices, mode='markers', name='Sell Signal',\n",
    "                             marker=dict(color='red', size=10, symbol='triangle-down')))\n",
    "    fig.update_layout(title='S&P500 Index Price with Trading Signals',\n",
    "                      xaxis_title='Date',\n",
    "                      yaxis_title='Price')\n",
    "    fig.show()\n",
    "\n",
    "# -------------------------\n",
    "# Main Program\n",
    "# -------------------------\n",
    "if __name__ == \"__main__\":\n",
    "    try:\n",
    "        # Set seeds for reproducibility\n",
    "        torch.manual_seed(42)\n",
    "        np.random.seed(42)\n",
    "        random.seed(42)\n",
    "        \n",
    "        # Define parameters\n",
    "        TOP_10_SP500_STOCKS = ['AAPL', 'MSFT', 'AMZN', 'NVDA', 'GOOGL', 'META', 'TSLA', 'BRK-B', 'UNH', 'XOM']\n",
    "        INDEX_SYMBOL = '^GSPC'\n",
    "        TRAIN_START_DATE = '2009-01-01'\n",
    "        TRAIN_END_DATE = '2024-01-01'    # Approximately 15 years\n",
    "        TEST_START_DATE = '2024-01-01'\n",
    "        TEST_END_DATE = '2025-01-01'       # 1-year test period\n",
    "        EPISODES = 100\n",
    "        \n",
    "        print(\"Initializing data handler and fetching training data for top-10 stocks...\")\n",
    "        data_handler = DataHandler()\n",
    "        top10_data = data_handler.fetch_multiple_data(TOP_10_SP500_STOCKS, TRAIN_START_DATE, TRAIN_END_DATE)\n",
    "        train_data = aggregate_data(top10_data)\n",
    "        \n",
    "        print(\"\\nFetching testing data for the S&P500 index...\")\n",
    "        test_data = data_handler.fetch_data(INDEX_SYMBOL, TEST_START_DATE, TEST_END_DATE)\n",
    "        \n",
    "        print(\"\\nInitializing training environment...\")\n",
    "        train_env = TradingEnvironment(train_data, initial_balance=100000)\n",
    "        state_size = len(train_env.features)\n",
    "        action_size = 5  # (0: Sell all, 1: Sell half, 2: Hold, 3: Buy with half cash, 4: Buy with full cash)\n",
    "        print(f\"State size: {state_size}, Action size: {action_size}\")\n",
    "        \n",
    "        # Initialize agent\n",
    "        agent = DQNAgent(state_size, action_size)\n",
    "        \n",
    "        print(\"\\nStarting training...\")\n",
    "        training_losses = train_agent(train_env, agent, EPISODES)\n",
    "        \n",
    "        print(\"\\nStarting testing phase on the S&P500 index...\")\n",
    "        test_portfolio_values, test_actions = test_agent(agent, test_data, initial_balance=10000)\n",
    "        \n",
    "        # Plot portfolio evolution and training loss\n",
    "        plot_results(train_env.portfolio_value_history, test_portfolio_values, training_losses)\n",
    "        \n",
    "        # Visualize trading signals over the test period using raw index data\n",
    "        plot_test_signals(test_data, test_actions)\n",
    "        \n",
    "        # Print final results\n",
    "        print(\"\\nTraining Results:\")\n",
    "        print(f\"Initial Training Balance: $100000.00\")\n",
    "        print(f\"Final Training Portfolio Value: ${train_env.portfolio_value_history[-1]:.2f}\")\n",
    "        training_return = ((train_env.portfolio_value_history[-1] / 100000) - 1) * 100\n",
    "        print(f\"Training Return: {training_return:.2f}%\")\n",
    "        \n",
    "        print(\"\\nTesting Results:\")\n",
    "        print(f\"Initial Testing Balance: $10000.00\")\n",
    "        print(f\"Final Testing Portfolio Value: ${test_portfolio_values[-1]:.2f}\")\n",
    "        testing_return = ((test_portfolio_values[-1] / 10000) - 1) * 100\n",
    "        print(f\"Testing Return: {testing_return:.2f}%\")\n",
    "        \n",
    "        # Save final model and training statistics\n",
    "        torch.save({\n",
    "            'model_state_dict': agent.state_dict(),\n",
    "            'optimizer_state_dict': agent.optimizer.state_dict(),\n",
    "            'training_losses': training_losses,\n",
    "            'train_portfolio_history': train_env.portfolio_value_history,\n",
    "            'test_portfolio_history': test_portfolio_values,\n",
    "            'test_actions': test_actions\n",
    "        }, 'final_model.pth')\n",
    "    \n",
    "    except Exception as e:\n",
    "        print(f\"\\nError occurred: {str(e)}\")\n",
    "        raise\n"
   ]
  },
  {
   "cell_type": "markdown",
   "metadata": {},
   "source": [
    "# Testing and Visualization of Improved Version over different indices"
   ]
  },
  {
   "cell_type": "code",
   "execution_count": 4,
   "metadata": {},
   "outputs": [
    {
     "name": "stdout",
     "output_type": "stream",
     "text": [
      "Using device: cuda\n"
     ]
    },
    {
     "name": "stderr",
     "output_type": "stream",
     "text": [
      "[*********************100%***********************]  1 of 1 completed"
     ]
    },
    {
     "name": "stdout",
     "output_type": "stream",
     "text": [
      "Model loaded successfully.\n",
      "\n",
      "Fetching data for ^DJI from 2024-01-01 to 2025-01-01...\n",
      "Data shape after preparation: (252, 17)\n"
     ]
    },
    {
     "name": "stderr",
     "output_type": "stream",
     "text": [
      "\n"
     ]
    },
    {
     "data": {
      "application/vnd.plotly.v1+json": {
       "config": {
        "plotlyServerURL": "https://plot.ly"
       },
       "data": [
        {
         "mode": "lines+markers",
         "name": "Portfolio Value",
         "type": "scatter",
         "x": [
          0,
          1,
          2,
          3,
          4,
          5,
          6,
          7,
          8,
          9,
          10,
          11,
          12,
          13,
          14,
          15,
          16,
          17,
          18,
          19,
          20,
          21,
          22,
          23,
          24,
          25,
          26,
          27,
          28,
          29,
          30,
          31,
          32,
          33,
          34,
          35,
          36,
          37,
          38,
          39,
          40,
          41,
          42,
          43,
          44,
          45,
          46,
          47,
          48,
          49,
          50,
          51,
          52,
          53,
          54,
          55,
          56,
          57,
          58,
          59,
          60,
          61,
          62,
          63,
          64,
          65,
          66,
          67,
          68,
          69,
          70,
          71,
          72,
          73,
          74,
          75,
          76,
          77,
          78,
          79,
          80,
          81,
          82,
          83,
          84,
          85,
          86,
          87,
          88,
          89,
          90,
          91,
          92,
          93,
          94,
          95,
          96,
          97,
          98,
          99,
          100,
          101,
          102,
          103,
          104,
          105,
          106,
          107,
          108,
          109,
          110,
          111,
          112,
          113,
          114,
          115,
          116,
          117,
          118,
          119,
          120,
          121,
          122,
          123,
          124,
          125,
          126,
          127,
          128,
          129,
          130,
          131,
          132,
          133,
          134,
          135,
          136,
          137,
          138,
          139,
          140,
          141,
          142,
          143,
          144,
          145,
          146,
          147,
          148,
          149,
          150,
          151,
          152,
          153,
          154,
          155,
          156,
          157,
          158,
          159,
          160,
          161,
          162,
          163,
          164,
          165,
          166,
          167,
          168,
          169,
          170,
          171,
          172,
          173,
          174,
          175,
          176,
          177,
          178,
          179,
          180,
          181,
          182,
          183,
          184,
          185,
          186,
          187,
          188,
          189,
          190,
          191,
          192,
          193,
          194,
          195,
          196,
          197,
          198,
          199,
          200,
          201,
          202,
          203,
          204,
          205,
          206,
          207,
          208,
          209,
          210,
          211,
          212,
          213,
          214,
          215,
          216,
          217,
          218,
          219,
          220,
          221,
          222,
          223,
          224,
          225,
          226,
          227,
          228,
          229,
          230,
          231,
          232,
          233,
          234,
          235,
          236,
          237,
          238,
          239,
          240,
          241,
          242,
          243,
          244,
          245,
          246,
          247,
          248,
          249,
          250,
          251
         ],
         "y": [
          10000,
          10000,
          9962.236860503053,
          9964.260094730393,
          9970.257967580077,
          10024.360418833503,
          9983.678098817876,
          10028.34859389123,
          10032.384318588014,
          10001.104274892843,
          9939.541683839643,
          9914.439129000175,
          9968.136197398862,
          10073.272785792506,
          10109.988337670526,
          10084.352922054137,
          10057.99940719213,
          10122.577417643644,
          10138.619817143815,
          10198.217897660446,
          10233.829800625519,
          10149.493149136448,
          10149.493149136448,
          10167.22348511019,
          10113.080290914915,
          10127.019536101672,
          10155.223300862559,
          10166.078591540789,
          10166.078591540789,
          10166.078591540789,
          10097.34432594492,
          10097.34432594492,
          10097.34432594492,
          10078.446492349554,
          10078.446492349554,
          10078.446492349554,
          10078.446492349554,
          10086.497808814196,
          10074.450671737224,
          10074.450671737224,
          10074.450671737224,
          10074.450671737224,
          10074.450671737224,
          10061.87921566633,
          10061.87921566633,
          10061.87921566633,
          10061.87921566633,
          10061.87921566633,
          10061.87921566633,
          10061.87921566633,
          10066.758802433404,
          10066.758802433404,
          10066.758802433404,
          10066.758802433404,
          10066.758802433405,
          10170.067111712293,
          10239.36763264034,
          10160.741714451353,
          10139.859862622514,
          10137.844973553949,
          10153.216043454247,
          10165.2928740768,
          10103.873307551448,
          10053.2333123586,
          10050.48193562905,
          10050.48193562905,
          10050.48193562905,
          10049.030285036817,
          10046.671579735765,
          9937.594832623807,
          9936.966046401061,
          9814.019668032339,
          9749.908705504246,
          9766.408540447166,
          9754.610976791197,
          9760.313452166012,
          9814.836181762998,
          9880.356109888126,
          9948.493120959607,
          9937.442430184587,
          9840.519525278567,
          9880.273348298615,
          9918.107506157088,
          9770.788848965167,
          9793.362577148026,
          9876.656061264395,
          9992.931048088421,
          10038.557916100694,
          10046.823982174985,
          10091.298243660169,
          10176.917126584252,
          10209.23451800047,
          10188.22114856619,
          10220.931152888745,
          10311.335068689288,
          10301.356241427198,
          10336.033347432145,
          10285.179378540905,
          10293.734100890806,
          10254.621392215833,
          10195.959138123817,
          10196.168701564173,
          10196.168701564173,
          10196.168701564173,
          10196.168701564173,
          10196.168701564173,
          10165.783109933858,
          10202.749466682455,
          10228.061527257874,
          10248.841590328493,
          10225.863477582103,
          10244.062505272319,
          10212.272632725024,
          10202.992436107974,
          10185.832205664994,
          10170.561165458568,
          10220.358572843765,
          10235.31766501658,
          10314.359943169911,
          10318.462626054197,
          10387.220914413016,
          10308.40307411885,
          10312.525318100954,
          10322.081429150374,
          10310.168720579717,
          10323.520714137132,
          10366.304953189141,
          10360.01863406958,
          10377.90674325765,
          10369.714761398112,
          10355.79343694107,
          10468.963653596582,
          10477.500528496581,
          10542.638984227759,
          10598.202797343165,
          10793.96511664009,
          10858.167728270437,
          10717.674776090196,
          10618.183943997672,
          10635.039947893021,
          10623.715221939005,
          10507.568979679501,
          10507.568979679501,
          10507.568979679503,
          10494.777921064304,
          10547.432709750634,
          10573.18066883516,
          10445.084016212688,
          10286.987178916559,
          10019.312358965553,
          10019.312358965553,
          10019.312358965553,
          10019.312358965552,
          10032.279133596188,
          9996.5855290865,
          10100.376280279104,
          10162.03419156889,
          10302.918510466823,
          10327.480869695226,
          10387.619756426171,
          10371.983030725749,
          10386.084857018903,
          10340.947702051308,
          10399.658844601865,
          10416.187490819484,
          10418.708274624536,
          10378.52964461401,
          10409.296526245562,
          10452.406600305787,
          10314.485016909324,
          10318.674445019904,
          10278.999838161693,
          10190.12194730982,
          10190.12194730982,
          10178.562930256923,
          10178.562930256923,
          10207.839221360367,
          10263.222157300115,
          10312.809189949403,
          10309.112988164808,
          10284.360488763772,
          10411.732342166886,
          10421.1884484063,
          10436.372800764952,
          10457.077328130219,
          10384.370506970188,
          10448.874487429648,
          10483.036860805076,
          10487.285382593125,
          10444.380151396916,
          10454.1788491427,
          10408.362557914952,
          10492.88491495432,
          10394.153720354103,
          10425.403098152758,
          10532.33906899878,
          10517.999582134653,
          10619.512155235749,
          10669.39889809004,
          10588.930540542731,
          10672.490931600933,
          10712.465747313267,
          10721.597649726029,
          10636.295267957466,
          10634.632634601689,
          10533.069737324515,
          10498.238633070832,
          10498.238633070832,
          10498.238633070832,
          10498.238633070832,
          10498.238633070832,
          10498.238633070832,
          10498.238633070832,
          10498.238633070832,
          10498.238633070832,
          10685.722911156901,
          10685.578778593268,
          10749.025742200733,
          10823.344691899503,
          10729.963972030113,
          10741.500304242538,
          10690.837230865172,
          10616.09542867839,
          10602.561285501164,
          10573.077108295342,
          10607.171618496863,
          10720.036006504595,
          10824.171306469747,
          10931.702789623034,
          10961.93912881656,
          10928.156746749532,
          10974.240031780446,
          10942.80386058369,
          10924.118171406923,
          10999.504274788756,
          10938.82351097871,
          10908.720804625638,
          10849.93094550803,
          10812.275120108383,
          10788.01789600493,
          10730.73140634244,
          10709.701415335976,
          10709.701415335976,
          10709.701415335976,
          10709.701415335976,
          10709.701415335976,
          10709.701415335976,
          10709.701415335976,
          10709.701415335976,
          10709.701415335976,
          10709.701415335976,
          10709.701415335976
         ]
        }
       ],
       "layout": {
        "template": {
         "data": {
          "bar": [
           {
            "error_x": {
             "color": "#2a3f5f"
            },
            "error_y": {
             "color": "#2a3f5f"
            },
            "marker": {
             "line": {
              "color": "#E5ECF6",
              "width": 0.5
             },
             "pattern": {
              "fillmode": "overlay",
              "size": 10,
              "solidity": 0.2
             }
            },
            "type": "bar"
           }
          ],
          "barpolar": [
           {
            "marker": {
             "line": {
              "color": "#E5ECF6",
              "width": 0.5
             },
             "pattern": {
              "fillmode": "overlay",
              "size": 10,
              "solidity": 0.2
             }
            },
            "type": "barpolar"
           }
          ],
          "carpet": [
           {
            "aaxis": {
             "endlinecolor": "#2a3f5f",
             "gridcolor": "white",
             "linecolor": "white",
             "minorgridcolor": "white",
             "startlinecolor": "#2a3f5f"
            },
            "baxis": {
             "endlinecolor": "#2a3f5f",
             "gridcolor": "white",
             "linecolor": "white",
             "minorgridcolor": "white",
             "startlinecolor": "#2a3f5f"
            },
            "type": "carpet"
           }
          ],
          "choropleth": [
           {
            "colorbar": {
             "outlinewidth": 0,
             "ticks": ""
            },
            "type": "choropleth"
           }
          ],
          "contour": [
           {
            "colorbar": {
             "outlinewidth": 0,
             "ticks": ""
            },
            "colorscale": [
             [
              0,
              "#0d0887"
             ],
             [
              0.1111111111111111,
              "#46039f"
             ],
             [
              0.2222222222222222,
              "#7201a8"
             ],
             [
              0.3333333333333333,
              "#9c179e"
             ],
             [
              0.4444444444444444,
              "#bd3786"
             ],
             [
              0.5555555555555556,
              "#d8576b"
             ],
             [
              0.6666666666666666,
              "#ed7953"
             ],
             [
              0.7777777777777778,
              "#fb9f3a"
             ],
             [
              0.8888888888888888,
              "#fdca26"
             ],
             [
              1,
              "#f0f921"
             ]
            ],
            "type": "contour"
           }
          ],
          "contourcarpet": [
           {
            "colorbar": {
             "outlinewidth": 0,
             "ticks": ""
            },
            "type": "contourcarpet"
           }
          ],
          "heatmap": [
           {
            "colorbar": {
             "outlinewidth": 0,
             "ticks": ""
            },
            "colorscale": [
             [
              0,
              "#0d0887"
             ],
             [
              0.1111111111111111,
              "#46039f"
             ],
             [
              0.2222222222222222,
              "#7201a8"
             ],
             [
              0.3333333333333333,
              "#9c179e"
             ],
             [
              0.4444444444444444,
              "#bd3786"
             ],
             [
              0.5555555555555556,
              "#d8576b"
             ],
             [
              0.6666666666666666,
              "#ed7953"
             ],
             [
              0.7777777777777778,
              "#fb9f3a"
             ],
             [
              0.8888888888888888,
              "#fdca26"
             ],
             [
              1,
              "#f0f921"
             ]
            ],
            "type": "heatmap"
           }
          ],
          "histogram": [
           {
            "marker": {
             "pattern": {
              "fillmode": "overlay",
              "size": 10,
              "solidity": 0.2
             }
            },
            "type": "histogram"
           }
          ],
          "histogram2d": [
           {
            "colorbar": {
             "outlinewidth": 0,
             "ticks": ""
            },
            "colorscale": [
             [
              0,
              "#0d0887"
             ],
             [
              0.1111111111111111,
              "#46039f"
             ],
             [
              0.2222222222222222,
              "#7201a8"
             ],
             [
              0.3333333333333333,
              "#9c179e"
             ],
             [
              0.4444444444444444,
              "#bd3786"
             ],
             [
              0.5555555555555556,
              "#d8576b"
             ],
             [
              0.6666666666666666,
              "#ed7953"
             ],
             [
              0.7777777777777778,
              "#fb9f3a"
             ],
             [
              0.8888888888888888,
              "#fdca26"
             ],
             [
              1,
              "#f0f921"
             ]
            ],
            "type": "histogram2d"
           }
          ],
          "histogram2dcontour": [
           {
            "colorbar": {
             "outlinewidth": 0,
             "ticks": ""
            },
            "colorscale": [
             [
              0,
              "#0d0887"
             ],
             [
              0.1111111111111111,
              "#46039f"
             ],
             [
              0.2222222222222222,
              "#7201a8"
             ],
             [
              0.3333333333333333,
              "#9c179e"
             ],
             [
              0.4444444444444444,
              "#bd3786"
             ],
             [
              0.5555555555555556,
              "#d8576b"
             ],
             [
              0.6666666666666666,
              "#ed7953"
             ],
             [
              0.7777777777777778,
              "#fb9f3a"
             ],
             [
              0.8888888888888888,
              "#fdca26"
             ],
             [
              1,
              "#f0f921"
             ]
            ],
            "type": "histogram2dcontour"
           }
          ],
          "mesh3d": [
           {
            "colorbar": {
             "outlinewidth": 0,
             "ticks": ""
            },
            "type": "mesh3d"
           }
          ],
          "parcoords": [
           {
            "line": {
             "colorbar": {
              "outlinewidth": 0,
              "ticks": ""
             }
            },
            "type": "parcoords"
           }
          ],
          "pie": [
           {
            "automargin": true,
            "type": "pie"
           }
          ],
          "scatter": [
           {
            "fillpattern": {
             "fillmode": "overlay",
             "size": 10,
             "solidity": 0.2
            },
            "type": "scatter"
           }
          ],
          "scatter3d": [
           {
            "line": {
             "colorbar": {
              "outlinewidth": 0,
              "ticks": ""
             }
            },
            "marker": {
             "colorbar": {
              "outlinewidth": 0,
              "ticks": ""
             }
            },
            "type": "scatter3d"
           }
          ],
          "scattercarpet": [
           {
            "marker": {
             "colorbar": {
              "outlinewidth": 0,
              "ticks": ""
             }
            },
            "type": "scattercarpet"
           }
          ],
          "scattergeo": [
           {
            "marker": {
             "colorbar": {
              "outlinewidth": 0,
              "ticks": ""
             }
            },
            "type": "scattergeo"
           }
          ],
          "scattergl": [
           {
            "marker": {
             "colorbar": {
              "outlinewidth": 0,
              "ticks": ""
             }
            },
            "type": "scattergl"
           }
          ],
          "scattermap": [
           {
            "marker": {
             "colorbar": {
              "outlinewidth": 0,
              "ticks": ""
             }
            },
            "type": "scattermap"
           }
          ],
          "scattermapbox": [
           {
            "marker": {
             "colorbar": {
              "outlinewidth": 0,
              "ticks": ""
             }
            },
            "type": "scattermapbox"
           }
          ],
          "scatterpolar": [
           {
            "marker": {
             "colorbar": {
              "outlinewidth": 0,
              "ticks": ""
             }
            },
            "type": "scatterpolar"
           }
          ],
          "scatterpolargl": [
           {
            "marker": {
             "colorbar": {
              "outlinewidth": 0,
              "ticks": ""
             }
            },
            "type": "scatterpolargl"
           }
          ],
          "scatterternary": [
           {
            "marker": {
             "colorbar": {
              "outlinewidth": 0,
              "ticks": ""
             }
            },
            "type": "scatterternary"
           }
          ],
          "surface": [
           {
            "colorbar": {
             "outlinewidth": 0,
             "ticks": ""
            },
            "colorscale": [
             [
              0,
              "#0d0887"
             ],
             [
              0.1111111111111111,
              "#46039f"
             ],
             [
              0.2222222222222222,
              "#7201a8"
             ],
             [
              0.3333333333333333,
              "#9c179e"
             ],
             [
              0.4444444444444444,
              "#bd3786"
             ],
             [
              0.5555555555555556,
              "#d8576b"
             ],
             [
              0.6666666666666666,
              "#ed7953"
             ],
             [
              0.7777777777777778,
              "#fb9f3a"
             ],
             [
              0.8888888888888888,
              "#fdca26"
             ],
             [
              1,
              "#f0f921"
             ]
            ],
            "type": "surface"
           }
          ],
          "table": [
           {
            "cells": {
             "fill": {
              "color": "#EBF0F8"
             },
             "line": {
              "color": "white"
             }
            },
            "header": {
             "fill": {
              "color": "#C8D4E3"
             },
             "line": {
              "color": "white"
             }
            },
            "type": "table"
           }
          ]
         },
         "layout": {
          "annotationdefaults": {
           "arrowcolor": "#2a3f5f",
           "arrowhead": 0,
           "arrowwidth": 1
          },
          "autotypenumbers": "strict",
          "coloraxis": {
           "colorbar": {
            "outlinewidth": 0,
            "ticks": ""
           }
          },
          "colorscale": {
           "diverging": [
            [
             0,
             "#8e0152"
            ],
            [
             0.1,
             "#c51b7d"
            ],
            [
             0.2,
             "#de77ae"
            ],
            [
             0.3,
             "#f1b6da"
            ],
            [
             0.4,
             "#fde0ef"
            ],
            [
             0.5,
             "#f7f7f7"
            ],
            [
             0.6,
             "#e6f5d0"
            ],
            [
             0.7,
             "#b8e186"
            ],
            [
             0.8,
             "#7fbc41"
            ],
            [
             0.9,
             "#4d9221"
            ],
            [
             1,
             "#276419"
            ]
           ],
           "sequential": [
            [
             0,
             "#0d0887"
            ],
            [
             0.1111111111111111,
             "#46039f"
            ],
            [
             0.2222222222222222,
             "#7201a8"
            ],
            [
             0.3333333333333333,
             "#9c179e"
            ],
            [
             0.4444444444444444,
             "#bd3786"
            ],
            [
             0.5555555555555556,
             "#d8576b"
            ],
            [
             0.6666666666666666,
             "#ed7953"
            ],
            [
             0.7777777777777778,
             "#fb9f3a"
            ],
            [
             0.8888888888888888,
             "#fdca26"
            ],
            [
             1,
             "#f0f921"
            ]
           ],
           "sequentialminus": [
            [
             0,
             "#0d0887"
            ],
            [
             0.1111111111111111,
             "#46039f"
            ],
            [
             0.2222222222222222,
             "#7201a8"
            ],
            [
             0.3333333333333333,
             "#9c179e"
            ],
            [
             0.4444444444444444,
             "#bd3786"
            ],
            [
             0.5555555555555556,
             "#d8576b"
            ],
            [
             0.6666666666666666,
             "#ed7953"
            ],
            [
             0.7777777777777778,
             "#fb9f3a"
            ],
            [
             0.8888888888888888,
             "#fdca26"
            ],
            [
             1,
             "#f0f921"
            ]
           ]
          },
          "colorway": [
           "#636efa",
           "#EF553B",
           "#00cc96",
           "#ab63fa",
           "#FFA15A",
           "#19d3f3",
           "#FF6692",
           "#B6E880",
           "#FF97FF",
           "#FECB52"
          ],
          "font": {
           "color": "#2a3f5f"
          },
          "geo": {
           "bgcolor": "white",
           "lakecolor": "white",
           "landcolor": "#E5ECF6",
           "showlakes": true,
           "showland": true,
           "subunitcolor": "white"
          },
          "hoverlabel": {
           "align": "left"
          },
          "hovermode": "closest",
          "mapbox": {
           "style": "light"
          },
          "paper_bgcolor": "white",
          "plot_bgcolor": "#E5ECF6",
          "polar": {
           "angularaxis": {
            "gridcolor": "white",
            "linecolor": "white",
            "ticks": ""
           },
           "bgcolor": "#E5ECF6",
           "radialaxis": {
            "gridcolor": "white",
            "linecolor": "white",
            "ticks": ""
           }
          },
          "scene": {
           "xaxis": {
            "backgroundcolor": "#E5ECF6",
            "gridcolor": "white",
            "gridwidth": 2,
            "linecolor": "white",
            "showbackground": true,
            "ticks": "",
            "zerolinecolor": "white"
           },
           "yaxis": {
            "backgroundcolor": "#E5ECF6",
            "gridcolor": "white",
            "gridwidth": 2,
            "linecolor": "white",
            "showbackground": true,
            "ticks": "",
            "zerolinecolor": "white"
           },
           "zaxis": {
            "backgroundcolor": "#E5ECF6",
            "gridcolor": "white",
            "gridwidth": 2,
            "linecolor": "white",
            "showbackground": true,
            "ticks": "",
            "zerolinecolor": "white"
           }
          },
          "shapedefaults": {
           "line": {
            "color": "#2a3f5f"
           }
          },
          "ternary": {
           "aaxis": {
            "gridcolor": "white",
            "linecolor": "white",
            "ticks": ""
           },
           "baxis": {
            "gridcolor": "white",
            "linecolor": "white",
            "ticks": ""
           },
           "bgcolor": "#E5ECF6",
           "caxis": {
            "gridcolor": "white",
            "linecolor": "white",
            "ticks": ""
           }
          },
          "title": {
           "x": 0.05
          },
          "xaxis": {
           "automargin": true,
           "gridcolor": "white",
           "linecolor": "white",
           "ticks": "",
           "title": {
            "standoff": 15
           },
           "zerolinecolor": "white",
           "zerolinewidth": 2
          },
          "yaxis": {
           "automargin": true,
           "gridcolor": "white",
           "linecolor": "white",
           "ticks": "",
           "title": {
            "standoff": 15
           },
           "zerolinecolor": "white",
           "zerolinewidth": 2
          }
         }
        },
        "title": {
         "text": "^DJI Portfolio Value (Return: 7.10%)"
        },
        "xaxis": {
         "title": {
          "text": "Trading Days"
         }
        },
        "yaxis": {
         "title": {
          "text": "Portfolio Value ($)"
         }
        }
       }
      }
     },
     "metadata": {},
     "output_type": "display_data"
    },
    {
     "name": "stderr",
     "output_type": "stream",
     "text": [
      "[*********************100%***********************]  1 of 1 completed"
     ]
    },
    {
     "name": "stdout",
     "output_type": "stream",
     "text": [
      "\n",
      "Testing Results for ^DJI:\n",
      "  Initial Balance: $10000.00\n",
      "  Final Portfolio Value: $10709.70\n",
      "  Return: 7.10%\n",
      "\n",
      "Fetching data for ^GSPC from 2024-01-01 to 2025-01-01...\n",
      "Data shape after preparation: (252, 17)\n"
     ]
    },
    {
     "name": "stderr",
     "output_type": "stream",
     "text": [
      "\n"
     ]
    },
    {
     "data": {
      "application/vnd.plotly.v1+json": {
       "config": {
        "plotlyServerURL": "https://plot.ly"
       },
       "data": [
        {
         "mode": "lines+markers",
         "name": "Portfolio Value",
         "type": "scatter",
         "x": [
          0,
          1,
          2,
          3,
          4,
          5,
          6,
          7,
          8,
          9,
          10,
          11,
          12,
          13,
          14,
          15,
          16,
          17,
          18,
          19,
          20,
          21,
          22,
          23,
          24,
          25,
          26,
          27,
          28,
          29,
          30,
          31,
          32,
          33,
          34,
          35,
          36,
          37,
          38,
          39,
          40,
          41,
          42,
          43,
          44,
          45,
          46,
          47,
          48,
          49,
          50,
          51,
          52,
          53,
          54,
          55,
          56,
          57,
          58,
          59,
          60,
          61,
          62,
          63,
          64,
          65,
          66,
          67,
          68,
          69,
          70,
          71,
          72,
          73,
          74,
          75,
          76,
          77,
          78,
          79,
          80,
          81,
          82,
          83,
          84,
          85,
          86,
          87,
          88,
          89,
          90,
          91,
          92,
          93,
          94,
          95,
          96,
          97,
          98,
          99,
          100,
          101,
          102,
          103,
          104,
          105,
          106,
          107,
          108,
          109,
          110,
          111,
          112,
          113,
          114,
          115,
          116,
          117,
          118,
          119,
          120,
          121,
          122,
          123,
          124,
          125,
          126,
          127,
          128,
          129,
          130,
          131,
          132,
          133,
          134,
          135,
          136,
          137,
          138,
          139,
          140,
          141,
          142,
          143,
          144,
          145,
          146,
          147,
          148,
          149,
          150,
          151,
          152,
          153,
          154,
          155,
          156,
          157,
          158,
          159,
          160,
          161,
          162,
          163,
          164,
          165,
          166,
          167,
          168,
          169,
          170,
          171,
          172,
          173,
          174,
          175,
          176,
          177,
          178,
          179,
          180,
          181,
          182,
          183,
          184,
          185,
          186,
          187,
          188,
          189,
          190,
          191,
          192,
          193,
          194,
          195,
          196,
          197,
          198,
          199,
          200,
          201,
          202,
          203,
          204,
          205,
          206,
          207,
          208,
          209,
          210,
          211,
          212,
          213,
          214,
          215,
          216,
          217,
          218,
          219,
          220,
          221,
          222,
          223,
          224,
          225,
          226,
          227,
          228,
          229,
          230,
          231,
          232,
          233,
          234,
          235,
          236,
          237,
          238,
          239,
          240,
          241,
          242,
          243,
          244,
          245,
          246,
          247,
          248,
          249,
          250,
          251
         ],
         "y": [
          10000,
          10000,
          9959.918425386346,
          9934.342980576943,
          9950.197865528564,
          10081.819576641472,
          10066.919648634443,
          10123.958532419987,
          10117.16479357145,
          10124.762537413015,
          10086.983603569695,
          10030.326053771847,
          10118.645692228274,
          10243.241663936937,
          10265.718667276713,
          10295.708673571899,
          10304.068051963413,
          10358.271216339102,
          10351.519847933643,
          10429.743953257826,
          10423.479328235035,
          10255.601432210211,
          10383.731718926783,
          10494.676140561036,
          10461.236560144094,
          10485.40631435608,
          10571.82134972491,
          10577.853454023498,
          10638.595101163819,
          10628.499568031577,
          10483.162747723865,
          10583.588965220544,
          10645.198689731229,
          10594.06479891504,
          10530.444028496346,
          10543.756615026137,
          10766.471165221928,
          10770.217332445225,
          10729.433197419741,
          10747.74136253089,
          10729.91994080241,
          10786.027708265696,
          10872.400373191449,
          10859.426750206274,
          10748.735517805044,
          10803.995876406783,
          10915.321632028732,
          10844.060747325395,
          10831.891129333248,
          10953.227677201283,
          10932.147865057615,
          10900.760667566321,
          10830.091935640625,
          10830.091935640625,
          10860.682340675141,
          10933.279489526929,
          10968.665435649451,
          10953.285306255664,
          10919.823409006947,
          10889.250139568236,
          10983.231190665956,
          10995.49380911233,
          10973.353452767355,
          10893.916698892008,
          10905.803295041218,
          10771.287449029101,
          10771.287449029103,
          10767.252190858902,
          10782.81618061078,
          10680.843296647849,
          10680.843296647847,
          10525.429675102023,
          10525.429675102023,
          10525.429675102023,
          10525.429675102023,
          10525.429675102023,
          10433.242192730699,
          10524.337418505125,
          10650.256656249228,
          10652.525268073021,
          10603.77472809462,
          10712.030176760421,
          10746.077814792208,
          10577.036491721143,
          10540.699730004586,
          10636.919844243524,
          10770.48487816592,
          10881.702239556458,
          10896.321042873076,
          10896.257456104055,
          10951.729732923843,
          10969.79350329115,
          10967.146447632373,
          11020.203452822398,
          11149.315361727202,
          11126.106191034409,
          11139.06558479818,
          11149.273312412204,
          11177.167392151603,
          11146.920601958414,
          11064.647527589177,
          11142.111596152912,
          11144.883774163634,
          11062.778897054388,
          11062.778897054388,
          11062.77889705439,
          11075.125871875238,
          11091.769671722855,
          11223.18107438172,
          11220.938496098335,
          11208.424684098029,
          11237.351999225843,
          11267.809508116166,
          11363.627273255757,
          11390.271068461056,
          11385.784888353306,
          11473.049945078488,
          11501.977260206302,
          11472.924049538162,
          11455.001847008687,
          11419.890297290178,
          11464.811463744409,
          11482.839090994645,
          11493.257714612437,
          11446.323243053952,
          11476.948612664712,
          11548.051957343041,
          11606.767385561392,
          11670.009935526621,
          11681.874822546706,
          11690.531932140897,
          11809.869645420113,
          11706.379417107422,
          11770.963829295162,
          11804.230958170832,
          11879.652622236476,
          11714.198246640413,
          11622.635341347483,
          11539.646638829503,
          11664.182916737342,
          11646.008923127212,
          11376.41437069726,
          11376.41437069726,
          11376.41437069726,
          11381.040647218624,
          11381.040647218624,
          11381.040647218624,
          11225.194333047291,
          11122.024352820212,
          11039.468896528706,
          11067.136651362825,
          11046.254448811327,
          11107.98430752181,
          11159.877220656297,
          11160.357474563245,
          11348.38248719417,
          11391.775619928818,
          11575.561958480794,
          11598.594772714478,
          11711.35961364288,
          11688.117771700227,
          11737.67161378898,
          11632.821275675304,
          11766.40527641704,
          11729.29725001452,
          11748.007779085667,
          11677.801999350755,
          11677.342138391024,
          11795.202157181471,
          11545.720958818876,
          11527.218437809339,
          11492.429089505336,
          11294.066891930363,
          11294.066891930363,
          11319.324223993803,
          11409.93223093917,
          11495.453122905066,
          11557.617215867633,
          11572.140861681213,
          11575.202272484656,
          11541.675210002915,
          11737.616535341607,
          11714.833500093051,
          11747.74366623006,
          11777.24435159351,
          11755.32396814409,
          11802.799909601148,
          11788.00844049644,
          11837.948958081959,
          11727.570654215633,
          11729.193643298191,
          11709.472018853077,
          11814.508903149177,
          11701.254758924571,
          11814.632282418124,
          11898.674629323641,
          11874.04291120787,
          11945.90280915932,
          12037.97784863167,
          11946.37526148187,
          12002.274094982346,
          12000.219780000218,
          12047.879285735466,
          12025.918778946549,
          12020.208224652972,
          11909.726603187446,
          11935.282161195084,
          11931.708174729596,
          11963.344424837649,
          11982.654785052942,
          11943.109221647004,
          11720.79181600801,
          11720.79181600801,
          11720.79181600801,
          11720.79181600801,
          11869.035967696746,
          11957.237500616522,
          12002.158848745234,
          12013.789701964188,
          11979.037897233244,
          11981.819761949702,
          11909.332930030107,
          11752.08817355197,
          11798.13067376423,
          11844.893565507069,
          11845.153571134117,
          11908.412158223042,
          11949.710044474059,
          11985.803908325068,
          12054.386745979893,
          12008.565152804149,
          12075.906610209535,
          12105.473941835737,
          12110.938947327559,
          12184.227300353092,
          12161.44552911398,
          12191.793855086089,
          12116.884865482942,
          12080.971832613151,
          12179.622463853008,
          12113.681713453483,
          12113.361105011109,
          12159.384055928102,
          12112.400257148749,
          11755.17109741554,
          11755.17109741554,
          11755.17109741554,
          11798.002670643673,
          11895.83279272139,
          11891.603217181868,
          11768.25541953447,
          11768.25541953447
         ]
        }
       ],
       "layout": {
        "template": {
         "data": {
          "bar": [
           {
            "error_x": {
             "color": "#2a3f5f"
            },
            "error_y": {
             "color": "#2a3f5f"
            },
            "marker": {
             "line": {
              "color": "#E5ECF6",
              "width": 0.5
             },
             "pattern": {
              "fillmode": "overlay",
              "size": 10,
              "solidity": 0.2
             }
            },
            "type": "bar"
           }
          ],
          "barpolar": [
           {
            "marker": {
             "line": {
              "color": "#E5ECF6",
              "width": 0.5
             },
             "pattern": {
              "fillmode": "overlay",
              "size": 10,
              "solidity": 0.2
             }
            },
            "type": "barpolar"
           }
          ],
          "carpet": [
           {
            "aaxis": {
             "endlinecolor": "#2a3f5f",
             "gridcolor": "white",
             "linecolor": "white",
             "minorgridcolor": "white",
             "startlinecolor": "#2a3f5f"
            },
            "baxis": {
             "endlinecolor": "#2a3f5f",
             "gridcolor": "white",
             "linecolor": "white",
             "minorgridcolor": "white",
             "startlinecolor": "#2a3f5f"
            },
            "type": "carpet"
           }
          ],
          "choropleth": [
           {
            "colorbar": {
             "outlinewidth": 0,
             "ticks": ""
            },
            "type": "choropleth"
           }
          ],
          "contour": [
           {
            "colorbar": {
             "outlinewidth": 0,
             "ticks": ""
            },
            "colorscale": [
             [
              0,
              "#0d0887"
             ],
             [
              0.1111111111111111,
              "#46039f"
             ],
             [
              0.2222222222222222,
              "#7201a8"
             ],
             [
              0.3333333333333333,
              "#9c179e"
             ],
             [
              0.4444444444444444,
              "#bd3786"
             ],
             [
              0.5555555555555556,
              "#d8576b"
             ],
             [
              0.6666666666666666,
              "#ed7953"
             ],
             [
              0.7777777777777778,
              "#fb9f3a"
             ],
             [
              0.8888888888888888,
              "#fdca26"
             ],
             [
              1,
              "#f0f921"
             ]
            ],
            "type": "contour"
           }
          ],
          "contourcarpet": [
           {
            "colorbar": {
             "outlinewidth": 0,
             "ticks": ""
            },
            "type": "contourcarpet"
           }
          ],
          "heatmap": [
           {
            "colorbar": {
             "outlinewidth": 0,
             "ticks": ""
            },
            "colorscale": [
             [
              0,
              "#0d0887"
             ],
             [
              0.1111111111111111,
              "#46039f"
             ],
             [
              0.2222222222222222,
              "#7201a8"
             ],
             [
              0.3333333333333333,
              "#9c179e"
             ],
             [
              0.4444444444444444,
              "#bd3786"
             ],
             [
              0.5555555555555556,
              "#d8576b"
             ],
             [
              0.6666666666666666,
              "#ed7953"
             ],
             [
              0.7777777777777778,
              "#fb9f3a"
             ],
             [
              0.8888888888888888,
              "#fdca26"
             ],
             [
              1,
              "#f0f921"
             ]
            ],
            "type": "heatmap"
           }
          ],
          "histogram": [
           {
            "marker": {
             "pattern": {
              "fillmode": "overlay",
              "size": 10,
              "solidity": 0.2
             }
            },
            "type": "histogram"
           }
          ],
          "histogram2d": [
           {
            "colorbar": {
             "outlinewidth": 0,
             "ticks": ""
            },
            "colorscale": [
             [
              0,
              "#0d0887"
             ],
             [
              0.1111111111111111,
              "#46039f"
             ],
             [
              0.2222222222222222,
              "#7201a8"
             ],
             [
              0.3333333333333333,
              "#9c179e"
             ],
             [
              0.4444444444444444,
              "#bd3786"
             ],
             [
              0.5555555555555556,
              "#d8576b"
             ],
             [
              0.6666666666666666,
              "#ed7953"
             ],
             [
              0.7777777777777778,
              "#fb9f3a"
             ],
             [
              0.8888888888888888,
              "#fdca26"
             ],
             [
              1,
              "#f0f921"
             ]
            ],
            "type": "histogram2d"
           }
          ],
          "histogram2dcontour": [
           {
            "colorbar": {
             "outlinewidth": 0,
             "ticks": ""
            },
            "colorscale": [
             [
              0,
              "#0d0887"
             ],
             [
              0.1111111111111111,
              "#46039f"
             ],
             [
              0.2222222222222222,
              "#7201a8"
             ],
             [
              0.3333333333333333,
              "#9c179e"
             ],
             [
              0.4444444444444444,
              "#bd3786"
             ],
             [
              0.5555555555555556,
              "#d8576b"
             ],
             [
              0.6666666666666666,
              "#ed7953"
             ],
             [
              0.7777777777777778,
              "#fb9f3a"
             ],
             [
              0.8888888888888888,
              "#fdca26"
             ],
             [
              1,
              "#f0f921"
             ]
            ],
            "type": "histogram2dcontour"
           }
          ],
          "mesh3d": [
           {
            "colorbar": {
             "outlinewidth": 0,
             "ticks": ""
            },
            "type": "mesh3d"
           }
          ],
          "parcoords": [
           {
            "line": {
             "colorbar": {
              "outlinewidth": 0,
              "ticks": ""
             }
            },
            "type": "parcoords"
           }
          ],
          "pie": [
           {
            "automargin": true,
            "type": "pie"
           }
          ],
          "scatter": [
           {
            "fillpattern": {
             "fillmode": "overlay",
             "size": 10,
             "solidity": 0.2
            },
            "type": "scatter"
           }
          ],
          "scatter3d": [
           {
            "line": {
             "colorbar": {
              "outlinewidth": 0,
              "ticks": ""
             }
            },
            "marker": {
             "colorbar": {
              "outlinewidth": 0,
              "ticks": ""
             }
            },
            "type": "scatter3d"
           }
          ],
          "scattercarpet": [
           {
            "marker": {
             "colorbar": {
              "outlinewidth": 0,
              "ticks": ""
             }
            },
            "type": "scattercarpet"
           }
          ],
          "scattergeo": [
           {
            "marker": {
             "colorbar": {
              "outlinewidth": 0,
              "ticks": ""
             }
            },
            "type": "scattergeo"
           }
          ],
          "scattergl": [
           {
            "marker": {
             "colorbar": {
              "outlinewidth": 0,
              "ticks": ""
             }
            },
            "type": "scattergl"
           }
          ],
          "scattermap": [
           {
            "marker": {
             "colorbar": {
              "outlinewidth": 0,
              "ticks": ""
             }
            },
            "type": "scattermap"
           }
          ],
          "scattermapbox": [
           {
            "marker": {
             "colorbar": {
              "outlinewidth": 0,
              "ticks": ""
             }
            },
            "type": "scattermapbox"
           }
          ],
          "scatterpolar": [
           {
            "marker": {
             "colorbar": {
              "outlinewidth": 0,
              "ticks": ""
             }
            },
            "type": "scatterpolar"
           }
          ],
          "scatterpolargl": [
           {
            "marker": {
             "colorbar": {
              "outlinewidth": 0,
              "ticks": ""
             }
            },
            "type": "scatterpolargl"
           }
          ],
          "scatterternary": [
           {
            "marker": {
             "colorbar": {
              "outlinewidth": 0,
              "ticks": ""
             }
            },
            "type": "scatterternary"
           }
          ],
          "surface": [
           {
            "colorbar": {
             "outlinewidth": 0,
             "ticks": ""
            },
            "colorscale": [
             [
              0,
              "#0d0887"
             ],
             [
              0.1111111111111111,
              "#46039f"
             ],
             [
              0.2222222222222222,
              "#7201a8"
             ],
             [
              0.3333333333333333,
              "#9c179e"
             ],
             [
              0.4444444444444444,
              "#bd3786"
             ],
             [
              0.5555555555555556,
              "#d8576b"
             ],
             [
              0.6666666666666666,
              "#ed7953"
             ],
             [
              0.7777777777777778,
              "#fb9f3a"
             ],
             [
              0.8888888888888888,
              "#fdca26"
             ],
             [
              1,
              "#f0f921"
             ]
            ],
            "type": "surface"
           }
          ],
          "table": [
           {
            "cells": {
             "fill": {
              "color": "#EBF0F8"
             },
             "line": {
              "color": "white"
             }
            },
            "header": {
             "fill": {
              "color": "#C8D4E3"
             },
             "line": {
              "color": "white"
             }
            },
            "type": "table"
           }
          ]
         },
         "layout": {
          "annotationdefaults": {
           "arrowcolor": "#2a3f5f",
           "arrowhead": 0,
           "arrowwidth": 1
          },
          "autotypenumbers": "strict",
          "coloraxis": {
           "colorbar": {
            "outlinewidth": 0,
            "ticks": ""
           }
          },
          "colorscale": {
           "diverging": [
            [
             0,
             "#8e0152"
            ],
            [
             0.1,
             "#c51b7d"
            ],
            [
             0.2,
             "#de77ae"
            ],
            [
             0.3,
             "#f1b6da"
            ],
            [
             0.4,
             "#fde0ef"
            ],
            [
             0.5,
             "#f7f7f7"
            ],
            [
             0.6,
             "#e6f5d0"
            ],
            [
             0.7,
             "#b8e186"
            ],
            [
             0.8,
             "#7fbc41"
            ],
            [
             0.9,
             "#4d9221"
            ],
            [
             1,
             "#276419"
            ]
           ],
           "sequential": [
            [
             0,
             "#0d0887"
            ],
            [
             0.1111111111111111,
             "#46039f"
            ],
            [
             0.2222222222222222,
             "#7201a8"
            ],
            [
             0.3333333333333333,
             "#9c179e"
            ],
            [
             0.4444444444444444,
             "#bd3786"
            ],
            [
             0.5555555555555556,
             "#d8576b"
            ],
            [
             0.6666666666666666,
             "#ed7953"
            ],
            [
             0.7777777777777778,
             "#fb9f3a"
            ],
            [
             0.8888888888888888,
             "#fdca26"
            ],
            [
             1,
             "#f0f921"
            ]
           ],
           "sequentialminus": [
            [
             0,
             "#0d0887"
            ],
            [
             0.1111111111111111,
             "#46039f"
            ],
            [
             0.2222222222222222,
             "#7201a8"
            ],
            [
             0.3333333333333333,
             "#9c179e"
            ],
            [
             0.4444444444444444,
             "#bd3786"
            ],
            [
             0.5555555555555556,
             "#d8576b"
            ],
            [
             0.6666666666666666,
             "#ed7953"
            ],
            [
             0.7777777777777778,
             "#fb9f3a"
            ],
            [
             0.8888888888888888,
             "#fdca26"
            ],
            [
             1,
             "#f0f921"
            ]
           ]
          },
          "colorway": [
           "#636efa",
           "#EF553B",
           "#00cc96",
           "#ab63fa",
           "#FFA15A",
           "#19d3f3",
           "#FF6692",
           "#B6E880",
           "#FF97FF",
           "#FECB52"
          ],
          "font": {
           "color": "#2a3f5f"
          },
          "geo": {
           "bgcolor": "white",
           "lakecolor": "white",
           "landcolor": "#E5ECF6",
           "showlakes": true,
           "showland": true,
           "subunitcolor": "white"
          },
          "hoverlabel": {
           "align": "left"
          },
          "hovermode": "closest",
          "mapbox": {
           "style": "light"
          },
          "paper_bgcolor": "white",
          "plot_bgcolor": "#E5ECF6",
          "polar": {
           "angularaxis": {
            "gridcolor": "white",
            "linecolor": "white",
            "ticks": ""
           },
           "bgcolor": "#E5ECF6",
           "radialaxis": {
            "gridcolor": "white",
            "linecolor": "white",
            "ticks": ""
           }
          },
          "scene": {
           "xaxis": {
            "backgroundcolor": "#E5ECF6",
            "gridcolor": "white",
            "gridwidth": 2,
            "linecolor": "white",
            "showbackground": true,
            "ticks": "",
            "zerolinecolor": "white"
           },
           "yaxis": {
            "backgroundcolor": "#E5ECF6",
            "gridcolor": "white",
            "gridwidth": 2,
            "linecolor": "white",
            "showbackground": true,
            "ticks": "",
            "zerolinecolor": "white"
           },
           "zaxis": {
            "backgroundcolor": "#E5ECF6",
            "gridcolor": "white",
            "gridwidth": 2,
            "linecolor": "white",
            "showbackground": true,
            "ticks": "",
            "zerolinecolor": "white"
           }
          },
          "shapedefaults": {
           "line": {
            "color": "#2a3f5f"
           }
          },
          "ternary": {
           "aaxis": {
            "gridcolor": "white",
            "linecolor": "white",
            "ticks": ""
           },
           "baxis": {
            "gridcolor": "white",
            "linecolor": "white",
            "ticks": ""
           },
           "bgcolor": "#E5ECF6",
           "caxis": {
            "gridcolor": "white",
            "linecolor": "white",
            "ticks": ""
           }
          },
          "title": {
           "x": 0.05
          },
          "xaxis": {
           "automargin": true,
           "gridcolor": "white",
           "linecolor": "white",
           "ticks": "",
           "title": {
            "standoff": 15
           },
           "zerolinecolor": "white",
           "zerolinewidth": 2
          },
          "yaxis": {
           "automargin": true,
           "gridcolor": "white",
           "linecolor": "white",
           "ticks": "",
           "title": {
            "standoff": 15
           },
           "zerolinecolor": "white",
           "zerolinewidth": 2
          }
         }
        },
        "title": {
         "text": "^GSPC Portfolio Value (Return: 17.68%)"
        },
        "xaxis": {
         "title": {
          "text": "Trading Days"
         }
        },
        "yaxis": {
         "title": {
          "text": "Portfolio Value ($)"
         }
        }
       }
      }
     },
     "metadata": {},
     "output_type": "display_data"
    },
    {
     "name": "stderr",
     "output_type": "stream",
     "text": [
      "[*********************100%***********************]  1 of 1 completed"
     ]
    },
    {
     "name": "stdout",
     "output_type": "stream",
     "text": [
      "\n",
      "Testing Results for ^GSPC:\n",
      "  Initial Balance: $10000.00\n",
      "  Final Portfolio Value: $11768.26\n",
      "  Return: 17.68%\n",
      "\n",
      "Fetching data for ^FTSE from 2024-01-01 to 2025-01-01...\n",
      "Data shape after preparation: (254, 17)\n"
     ]
    },
    {
     "name": "stderr",
     "output_type": "stream",
     "text": [
      "\n"
     ]
    },
    {
     "data": {
      "application/vnd.plotly.v1+json": {
       "config": {
        "plotlyServerURL": "https://plot.ly"
       },
       "data": [
        {
         "mode": "lines+markers",
         "name": "Portfolio Value",
         "type": "scatter",
         "x": [
          0,
          1,
          2,
          3,
          4,
          5,
          6,
          7,
          8,
          9,
          10,
          11,
          12,
          13,
          14,
          15,
          16,
          17,
          18,
          19,
          20,
          21,
          22,
          23,
          24,
          25,
          26,
          27,
          28,
          29,
          30,
          31,
          32,
          33,
          34,
          35,
          36,
          37,
          38,
          39,
          40,
          41,
          42,
          43,
          44,
          45,
          46,
          47,
          48,
          49,
          50,
          51,
          52,
          53,
          54,
          55,
          56,
          57,
          58,
          59,
          60,
          61,
          62,
          63,
          64,
          65,
          66,
          67,
          68,
          69,
          70,
          71,
          72,
          73,
          74,
          75,
          76,
          77,
          78,
          79,
          80,
          81,
          82,
          83,
          84,
          85,
          86,
          87,
          88,
          89,
          90,
          91,
          92,
          93,
          94,
          95,
          96,
          97,
          98,
          99,
          100,
          101,
          102,
          103,
          104,
          105,
          106,
          107,
          108,
          109,
          110,
          111,
          112,
          113,
          114,
          115,
          116,
          117,
          118,
          119,
          120,
          121,
          122,
          123,
          124,
          125,
          126,
          127,
          128,
          129,
          130,
          131,
          132,
          133,
          134,
          135,
          136,
          137,
          138,
          139,
          140,
          141,
          142,
          143,
          144,
          145,
          146,
          147,
          148,
          149,
          150,
          151,
          152,
          153,
          154,
          155,
          156,
          157,
          158,
          159,
          160,
          161,
          162,
          163,
          164,
          165,
          166,
          167,
          168,
          169,
          170,
          171,
          172,
          173,
          174,
          175,
          176,
          177,
          178,
          179,
          180,
          181,
          182,
          183,
          184,
          185,
          186,
          187,
          188,
          189,
          190,
          191,
          192,
          193,
          194,
          195,
          196,
          197,
          198,
          199,
          200,
          201,
          202,
          203,
          204,
          205,
          206,
          207,
          208,
          209,
          210,
          211,
          212,
          213,
          214,
          215,
          216,
          217,
          218,
          219,
          220,
          221,
          222,
          223,
          224,
          225,
          226,
          227,
          228,
          229,
          230,
          231,
          232,
          233,
          234,
          235,
          236,
          237,
          238,
          239,
          240,
          241,
          242,
          243,
          244,
          245,
          246,
          247,
          248,
          249,
          250,
          251,
          252,
          253
         ],
         "y": [
          10000,
          10000,
          9949.23240910121,
          10002.072262716118,
          9958.686910129185,
          9964.644428300848,
          9951.434306805673,
          9909.732311969825,
          9812.342287970278,
          9874.894647858253,
          9836.04209330279,
          9788.641850271968,
          9643.59231326491,
          9660.169782628052,
          9663.79576810691,
          9697.209344444085,
          9694.619174140387,
          9749.012750518033,
          9751.602920821731,
          9888.10476935343,
          9884.996691462151,
          9928.51104667163,
          9882.27688617011,
          9871.39829736774,
          9862.720973904034,
          9859.353626036069,
          9947.549051350126,
          9879.945353477304,
          9836.81927086706,
          9807.161947362883,
          9808.586667503076,
          9729.067933286926,
          9801.7223367788,
          9839.409441170757,
          9987.308418458202,
          10009.065596062941,
          9997.021557097067,
          9923.589976040925,
          9952.081849381597,
          9980.31445274558,
          9951.822579404909,
          9950.139221653824,
          9875.024282846598,
          9881.499708605841,
          9949.491679077899,
          9894.838832723564,
          9902.48034101211,
          9945.347153645665,
          9962.442530596387,
          9919.963990562068,
          9932.26729950463,
          10034.060486547303,
          10065.66107014505,
          10028.103600741437,
          10007.640875922749,
          10001.424720140192,
          10021.75717760474,
          10020.591727441235,
          10208.63834443599,
          10271.190704323966,
          10253.966324750696,
          10271.32033931231,
          10272.615424464158,
          10299.294305065401,
          10276.630314908049,
          10279.608757810982,
          10329.46953615716,
          10245.677906252024,
          10266.59340498122,
          10255.34881911638,
          10289.47005991446,
          10241.131845810558,
          10333.930286582094,
          10295.027351592864,
          10107.492422951864,
          10125.32832529809,
          10153.50312001341,
          10174.720511318481,
          10329.42159684042,
          10356.326705985455,
          10350.662571730709,
          10400.224846474714,
          10478.623228081053,
          10487.892268556081,
          10484.159132018634,
          10454.679359250535,
          10520.333281638697,
          10573.499834023,
          10702.49073297056,
          10754.498183860494,
          10789.643348043312,
          10857.098780671637,
          10832.897194046818,
          10849.760737913906,
          10872.546762410027,
          10863.407209412135,
          10839.719801215946,
          10844.740898144912,
          10834.828191764116,
          10775.353210639316,
          10735.317694164642,
          10707.510572739553,
          10625.89449018437,
          10534.365072668406,
          10534.365072668406,
          10534.365072668406,
          10526.344966925515,
          10526.344966925515,
          10526.344966925515,
          10526.344966925515,
          10500.99917339355,
          10500.99917339355,
          10500.99917339355,
          10500.99917339355,
          10467.894085072365,
          10467.894085072365,
          10467.894085072365,
          10467.894085072365,
          10476.711665756005,
          10541.275101469011,
          10496.931273764167,
          10524.900799326339,
          10481.945379099328,
          10467.648004246963,
          10424.144725962751,
          10416.703265400889,
          10416.703265400889,
          10416.703265400889,
          10416.703265400889,
          10461.449352752845,
          10413.974793483088,
          10400.7726090764,
          10332.6059500774,
          10366.6892795769,
          10394.998049453156,
          10432.41587932573,
          10344.055435044142,
          10332.615351117955,
          10332.615351117955,
          10343.594987349243,
          10297.059965338949,
          10317.442417666238,
          10277.928501962775,
          10269.308585523726,
          10269.308585523726,
          10393.874373085246,
          10402.279334248655,
          10379.699499798287,
          10497.114148926432,
          10390.989417023471,
          10254.632060641312,
          10150.200326308362,
          10156.00208932686,
          10156.00208932686,
          10128.76832172609,
          10143.131460913897,
          10182.452650449897,
          10213.33423267568,
          10270.258903088807,
          10352.485445581264,
          10307.838075310216,
          10364.267390513902,
          10260.585548424231,
          10266.848945650705,
          10271.12554965645,
          10314.289476803684,
          10336.211826347477,
          10334.230650703188,
          10378.44545952652,
          10374.729848061774,
          10358.876814380643,
          10278.000580066448,
          10260.10347627613,
          10260.10347627613,
          10260.10347627613,
          10260.10347627613,
          10219.910706711122,
          10216.158250868228,
          10216.158250868228,
          10236.054785825518,
          10240.976844567653,
          10275.085444558885,
          10209.912891000638,
          10253.39976404164,
          10131.890700730943,
          10150.172543543616,
          10171.475295136259,
          10156.316548245017,
          10174.974335451985,
          10217.691697242448,
          10114.788059529203,
          10139.16338194682,
          10152.220531086128,
          10143.215285177246,
          10141.03301011414,
          10168.32255024104,
          10032.097697057972,
          10064.104707076005,
          10058.633933602538,
          10058.633933602538,
          10082.398228047912,
          10042.791965512137,
          10079.203757770709,
          10146.970435671865,
          10114.539476170585,
          10066.014167019195,
          10051.85553546343,
          9993.890350770145,
          10000.425467413444,
          9981.736733321797,
          9981.736733321797,
          9941.981335073142,
          9923.910846564779,
          9916.456709393155,
          9926.561221153943,
          9931.33704174593,
          9931.33704174593,
          9931.33704174593,
          9931.33704174593,
          9931.33704174593,
          9931.33704174593,
          9931.33704174593,
          9931.33704174593,
          9931.33704174593,
          9921.985380338963,
          9978.217313911864,
          9965.543754919345,
          9948.440398332637,
          10027.435952039628,
          10166.232271234547,
          10202.654784425238,
          10161.925640398367,
          10181.859429165494,
          10189.7348919167,
          10197.24025358042,
          10228.740902958334,
          10285.957569781862,
          10256.917852310336,
          10273.65291024992,
          10223.448938058074,
          10276.97420702202,
          10188.750759479526,
          10214.835676385715,
          10227.386669433678,
          10213.236310971944,
          10166.232271234547,
          10166.232271234547,
          10166.232271234547,
          10166.232271234547,
          10166.232271234547,
          10166.232271234547,
          10166.232271234547,
          10166.232271234547,
          10166.232271234547
         ]
        }
       ],
       "layout": {
        "template": {
         "data": {
          "bar": [
           {
            "error_x": {
             "color": "#2a3f5f"
            },
            "error_y": {
             "color": "#2a3f5f"
            },
            "marker": {
             "line": {
              "color": "#E5ECF6",
              "width": 0.5
             },
             "pattern": {
              "fillmode": "overlay",
              "size": 10,
              "solidity": 0.2
             }
            },
            "type": "bar"
           }
          ],
          "barpolar": [
           {
            "marker": {
             "line": {
              "color": "#E5ECF6",
              "width": 0.5
             },
             "pattern": {
              "fillmode": "overlay",
              "size": 10,
              "solidity": 0.2
             }
            },
            "type": "barpolar"
           }
          ],
          "carpet": [
           {
            "aaxis": {
             "endlinecolor": "#2a3f5f",
             "gridcolor": "white",
             "linecolor": "white",
             "minorgridcolor": "white",
             "startlinecolor": "#2a3f5f"
            },
            "baxis": {
             "endlinecolor": "#2a3f5f",
             "gridcolor": "white",
             "linecolor": "white",
             "minorgridcolor": "white",
             "startlinecolor": "#2a3f5f"
            },
            "type": "carpet"
           }
          ],
          "choropleth": [
           {
            "colorbar": {
             "outlinewidth": 0,
             "ticks": ""
            },
            "type": "choropleth"
           }
          ],
          "contour": [
           {
            "colorbar": {
             "outlinewidth": 0,
             "ticks": ""
            },
            "colorscale": [
             [
              0,
              "#0d0887"
             ],
             [
              0.1111111111111111,
              "#46039f"
             ],
             [
              0.2222222222222222,
              "#7201a8"
             ],
             [
              0.3333333333333333,
              "#9c179e"
             ],
             [
              0.4444444444444444,
              "#bd3786"
             ],
             [
              0.5555555555555556,
              "#d8576b"
             ],
             [
              0.6666666666666666,
              "#ed7953"
             ],
             [
              0.7777777777777778,
              "#fb9f3a"
             ],
             [
              0.8888888888888888,
              "#fdca26"
             ],
             [
              1,
              "#f0f921"
             ]
            ],
            "type": "contour"
           }
          ],
          "contourcarpet": [
           {
            "colorbar": {
             "outlinewidth": 0,
             "ticks": ""
            },
            "type": "contourcarpet"
           }
          ],
          "heatmap": [
           {
            "colorbar": {
             "outlinewidth": 0,
             "ticks": ""
            },
            "colorscale": [
             [
              0,
              "#0d0887"
             ],
             [
              0.1111111111111111,
              "#46039f"
             ],
             [
              0.2222222222222222,
              "#7201a8"
             ],
             [
              0.3333333333333333,
              "#9c179e"
             ],
             [
              0.4444444444444444,
              "#bd3786"
             ],
             [
              0.5555555555555556,
              "#d8576b"
             ],
             [
              0.6666666666666666,
              "#ed7953"
             ],
             [
              0.7777777777777778,
              "#fb9f3a"
             ],
             [
              0.8888888888888888,
              "#fdca26"
             ],
             [
              1,
              "#f0f921"
             ]
            ],
            "type": "heatmap"
           }
          ],
          "histogram": [
           {
            "marker": {
             "pattern": {
              "fillmode": "overlay",
              "size": 10,
              "solidity": 0.2
             }
            },
            "type": "histogram"
           }
          ],
          "histogram2d": [
           {
            "colorbar": {
             "outlinewidth": 0,
             "ticks": ""
            },
            "colorscale": [
             [
              0,
              "#0d0887"
             ],
             [
              0.1111111111111111,
              "#46039f"
             ],
             [
              0.2222222222222222,
              "#7201a8"
             ],
             [
              0.3333333333333333,
              "#9c179e"
             ],
             [
              0.4444444444444444,
              "#bd3786"
             ],
             [
              0.5555555555555556,
              "#d8576b"
             ],
             [
              0.6666666666666666,
              "#ed7953"
             ],
             [
              0.7777777777777778,
              "#fb9f3a"
             ],
             [
              0.8888888888888888,
              "#fdca26"
             ],
             [
              1,
              "#f0f921"
             ]
            ],
            "type": "histogram2d"
           }
          ],
          "histogram2dcontour": [
           {
            "colorbar": {
             "outlinewidth": 0,
             "ticks": ""
            },
            "colorscale": [
             [
              0,
              "#0d0887"
             ],
             [
              0.1111111111111111,
              "#46039f"
             ],
             [
              0.2222222222222222,
              "#7201a8"
             ],
             [
              0.3333333333333333,
              "#9c179e"
             ],
             [
              0.4444444444444444,
              "#bd3786"
             ],
             [
              0.5555555555555556,
              "#d8576b"
             ],
             [
              0.6666666666666666,
              "#ed7953"
             ],
             [
              0.7777777777777778,
              "#fb9f3a"
             ],
             [
              0.8888888888888888,
              "#fdca26"
             ],
             [
              1,
              "#f0f921"
             ]
            ],
            "type": "histogram2dcontour"
           }
          ],
          "mesh3d": [
           {
            "colorbar": {
             "outlinewidth": 0,
             "ticks": ""
            },
            "type": "mesh3d"
           }
          ],
          "parcoords": [
           {
            "line": {
             "colorbar": {
              "outlinewidth": 0,
              "ticks": ""
             }
            },
            "type": "parcoords"
           }
          ],
          "pie": [
           {
            "automargin": true,
            "type": "pie"
           }
          ],
          "scatter": [
           {
            "fillpattern": {
             "fillmode": "overlay",
             "size": 10,
             "solidity": 0.2
            },
            "type": "scatter"
           }
          ],
          "scatter3d": [
           {
            "line": {
             "colorbar": {
              "outlinewidth": 0,
              "ticks": ""
             }
            },
            "marker": {
             "colorbar": {
              "outlinewidth": 0,
              "ticks": ""
             }
            },
            "type": "scatter3d"
           }
          ],
          "scattercarpet": [
           {
            "marker": {
             "colorbar": {
              "outlinewidth": 0,
              "ticks": ""
             }
            },
            "type": "scattercarpet"
           }
          ],
          "scattergeo": [
           {
            "marker": {
             "colorbar": {
              "outlinewidth": 0,
              "ticks": ""
             }
            },
            "type": "scattergeo"
           }
          ],
          "scattergl": [
           {
            "marker": {
             "colorbar": {
              "outlinewidth": 0,
              "ticks": ""
             }
            },
            "type": "scattergl"
           }
          ],
          "scattermap": [
           {
            "marker": {
             "colorbar": {
              "outlinewidth": 0,
              "ticks": ""
             }
            },
            "type": "scattermap"
           }
          ],
          "scattermapbox": [
           {
            "marker": {
             "colorbar": {
              "outlinewidth": 0,
              "ticks": ""
             }
            },
            "type": "scattermapbox"
           }
          ],
          "scatterpolar": [
           {
            "marker": {
             "colorbar": {
              "outlinewidth": 0,
              "ticks": ""
             }
            },
            "type": "scatterpolar"
           }
          ],
          "scatterpolargl": [
           {
            "marker": {
             "colorbar": {
              "outlinewidth": 0,
              "ticks": ""
             }
            },
            "type": "scatterpolargl"
           }
          ],
          "scatterternary": [
           {
            "marker": {
             "colorbar": {
              "outlinewidth": 0,
              "ticks": ""
             }
            },
            "type": "scatterternary"
           }
          ],
          "surface": [
           {
            "colorbar": {
             "outlinewidth": 0,
             "ticks": ""
            },
            "colorscale": [
             [
              0,
              "#0d0887"
             ],
             [
              0.1111111111111111,
              "#46039f"
             ],
             [
              0.2222222222222222,
              "#7201a8"
             ],
             [
              0.3333333333333333,
              "#9c179e"
             ],
             [
              0.4444444444444444,
              "#bd3786"
             ],
             [
              0.5555555555555556,
              "#d8576b"
             ],
             [
              0.6666666666666666,
              "#ed7953"
             ],
             [
              0.7777777777777778,
              "#fb9f3a"
             ],
             [
              0.8888888888888888,
              "#fdca26"
             ],
             [
              1,
              "#f0f921"
             ]
            ],
            "type": "surface"
           }
          ],
          "table": [
           {
            "cells": {
             "fill": {
              "color": "#EBF0F8"
             },
             "line": {
              "color": "white"
             }
            },
            "header": {
             "fill": {
              "color": "#C8D4E3"
             },
             "line": {
              "color": "white"
             }
            },
            "type": "table"
           }
          ]
         },
         "layout": {
          "annotationdefaults": {
           "arrowcolor": "#2a3f5f",
           "arrowhead": 0,
           "arrowwidth": 1
          },
          "autotypenumbers": "strict",
          "coloraxis": {
           "colorbar": {
            "outlinewidth": 0,
            "ticks": ""
           }
          },
          "colorscale": {
           "diverging": [
            [
             0,
             "#8e0152"
            ],
            [
             0.1,
             "#c51b7d"
            ],
            [
             0.2,
             "#de77ae"
            ],
            [
             0.3,
             "#f1b6da"
            ],
            [
             0.4,
             "#fde0ef"
            ],
            [
             0.5,
             "#f7f7f7"
            ],
            [
             0.6,
             "#e6f5d0"
            ],
            [
             0.7,
             "#b8e186"
            ],
            [
             0.8,
             "#7fbc41"
            ],
            [
             0.9,
             "#4d9221"
            ],
            [
             1,
             "#276419"
            ]
           ],
           "sequential": [
            [
             0,
             "#0d0887"
            ],
            [
             0.1111111111111111,
             "#46039f"
            ],
            [
             0.2222222222222222,
             "#7201a8"
            ],
            [
             0.3333333333333333,
             "#9c179e"
            ],
            [
             0.4444444444444444,
             "#bd3786"
            ],
            [
             0.5555555555555556,
             "#d8576b"
            ],
            [
             0.6666666666666666,
             "#ed7953"
            ],
            [
             0.7777777777777778,
             "#fb9f3a"
            ],
            [
             0.8888888888888888,
             "#fdca26"
            ],
            [
             1,
             "#f0f921"
            ]
           ],
           "sequentialminus": [
            [
             0,
             "#0d0887"
            ],
            [
             0.1111111111111111,
             "#46039f"
            ],
            [
             0.2222222222222222,
             "#7201a8"
            ],
            [
             0.3333333333333333,
             "#9c179e"
            ],
            [
             0.4444444444444444,
             "#bd3786"
            ],
            [
             0.5555555555555556,
             "#d8576b"
            ],
            [
             0.6666666666666666,
             "#ed7953"
            ],
            [
             0.7777777777777778,
             "#fb9f3a"
            ],
            [
             0.8888888888888888,
             "#fdca26"
            ],
            [
             1,
             "#f0f921"
            ]
           ]
          },
          "colorway": [
           "#636efa",
           "#EF553B",
           "#00cc96",
           "#ab63fa",
           "#FFA15A",
           "#19d3f3",
           "#FF6692",
           "#B6E880",
           "#FF97FF",
           "#FECB52"
          ],
          "font": {
           "color": "#2a3f5f"
          },
          "geo": {
           "bgcolor": "white",
           "lakecolor": "white",
           "landcolor": "#E5ECF6",
           "showlakes": true,
           "showland": true,
           "subunitcolor": "white"
          },
          "hoverlabel": {
           "align": "left"
          },
          "hovermode": "closest",
          "mapbox": {
           "style": "light"
          },
          "paper_bgcolor": "white",
          "plot_bgcolor": "#E5ECF6",
          "polar": {
           "angularaxis": {
            "gridcolor": "white",
            "linecolor": "white",
            "ticks": ""
           },
           "bgcolor": "#E5ECF6",
           "radialaxis": {
            "gridcolor": "white",
            "linecolor": "white",
            "ticks": ""
           }
          },
          "scene": {
           "xaxis": {
            "backgroundcolor": "#E5ECF6",
            "gridcolor": "white",
            "gridwidth": 2,
            "linecolor": "white",
            "showbackground": true,
            "ticks": "",
            "zerolinecolor": "white"
           },
           "yaxis": {
            "backgroundcolor": "#E5ECF6",
            "gridcolor": "white",
            "gridwidth": 2,
            "linecolor": "white",
            "showbackground": true,
            "ticks": "",
            "zerolinecolor": "white"
           },
           "zaxis": {
            "backgroundcolor": "#E5ECF6",
            "gridcolor": "white",
            "gridwidth": 2,
            "linecolor": "white",
            "showbackground": true,
            "ticks": "",
            "zerolinecolor": "white"
           }
          },
          "shapedefaults": {
           "line": {
            "color": "#2a3f5f"
           }
          },
          "ternary": {
           "aaxis": {
            "gridcolor": "white",
            "linecolor": "white",
            "ticks": ""
           },
           "baxis": {
            "gridcolor": "white",
            "linecolor": "white",
            "ticks": ""
           },
           "bgcolor": "#E5ECF6",
           "caxis": {
            "gridcolor": "white",
            "linecolor": "white",
            "ticks": ""
           }
          },
          "title": {
           "x": 0.05
          },
          "xaxis": {
           "automargin": true,
           "gridcolor": "white",
           "linecolor": "white",
           "ticks": "",
           "title": {
            "standoff": 15
           },
           "zerolinecolor": "white",
           "zerolinewidth": 2
          },
          "yaxis": {
           "automargin": true,
           "gridcolor": "white",
           "linecolor": "white",
           "ticks": "",
           "title": {
            "standoff": 15
           },
           "zerolinecolor": "white",
           "zerolinewidth": 2
          }
         }
        },
        "title": {
         "text": "^FTSE Portfolio Value (Return: 1.66%)"
        },
        "xaxis": {
         "title": {
          "text": "Trading Days"
         }
        },
        "yaxis": {
         "title": {
          "text": "Portfolio Value ($)"
         }
        }
       }
      }
     },
     "metadata": {},
     "output_type": "display_data"
    },
    {
     "name": "stderr",
     "output_type": "stream",
     "text": [
      "[*********************100%***********************]  1 of 1 completed"
     ]
    },
    {
     "name": "stdout",
     "output_type": "stream",
     "text": [
      "\n",
      "Testing Results for ^FTSE:\n",
      "  Initial Balance: $10000.00\n",
      "  Final Portfolio Value: $10166.23\n",
      "  Return: 1.66%\n",
      "\n",
      "Fetching data for ^NSEI from 2024-01-01 to 2025-01-01...\n",
      "Data shape after preparation: (246, 17)\n"
     ]
    },
    {
     "name": "stderr",
     "output_type": "stream",
     "text": [
      "\n"
     ]
    },
    {
     "data": {
      "application/vnd.plotly.v1+json": {
       "config": {
        "plotlyServerURL": "https://plot.ly"
       },
       "data": [
        {
         "mode": "lines+markers",
         "name": "Portfolio Value",
         "type": "scatter",
         "x": [
          0,
          1,
          2,
          3,
          4,
          5,
          6,
          7,
          8,
          9,
          10,
          11,
          12,
          13,
          14,
          15,
          16,
          17,
          18,
          19,
          20,
          21,
          22,
          23,
          24,
          25,
          26,
          27,
          28,
          29,
          30,
          31,
          32,
          33,
          34,
          35,
          36,
          37,
          38,
          39,
          40,
          41,
          42,
          43,
          44,
          45,
          46,
          47,
          48,
          49,
          50,
          51,
          52,
          53,
          54,
          55,
          56,
          57,
          58,
          59,
          60,
          61,
          62,
          63,
          64,
          65,
          66,
          67,
          68,
          69,
          70,
          71,
          72,
          73,
          74,
          75,
          76,
          77,
          78,
          79,
          80,
          81,
          82,
          83,
          84,
          85,
          86,
          87,
          88,
          89,
          90,
          91,
          92,
          93,
          94,
          95,
          96,
          97,
          98,
          99,
          100,
          101,
          102,
          103,
          104,
          105,
          106,
          107,
          108,
          109,
          110,
          111,
          112,
          113,
          114,
          115,
          116,
          117,
          118,
          119,
          120,
          121,
          122,
          123,
          124,
          125,
          126,
          127,
          128,
          129,
          130,
          131,
          132,
          133,
          134,
          135,
          136,
          137,
          138,
          139,
          140,
          141,
          142,
          143,
          144,
          145,
          146,
          147,
          148,
          149,
          150,
          151,
          152,
          153,
          154,
          155,
          156,
          157,
          158,
          159,
          160,
          161,
          162,
          163,
          164,
          165,
          166,
          167,
          168,
          169,
          170,
          171,
          172,
          173,
          174,
          175,
          176,
          177,
          178,
          179,
          180,
          181,
          182,
          183,
          184,
          185,
          186,
          187,
          188,
          189,
          190,
          191,
          192,
          193,
          194,
          195,
          196,
          197,
          198,
          199,
          200,
          201,
          202,
          203,
          204,
          205,
          206,
          207,
          208,
          209,
          210,
          211,
          212,
          213,
          214,
          215,
          216,
          217,
          218,
          219,
          220,
          221,
          222,
          223,
          224,
          225,
          226,
          227,
          228,
          229,
          230,
          231,
          232,
          233,
          234,
          235,
          236,
          237,
          238,
          239,
          240,
          241,
          242,
          243,
          244,
          245
         ],
         "y": [
          10000,
          10000,
          9964.99863948976,
          9896.719800378249,
          9961.686522450485,
          9985.696002273835,
          9894.719234973729,
          9909.368188746294,
          9943.33468111733,
          9956.44301088058,
          10070.210233642145,
          10163.531624070134,
          10133.567160831175,
          9921.832420891653,
          9871.377209167244,
          9945.037003273399,
          9768.603663738642,
          9867.559336257855,
          9820.944455518771,
          9998.021892671419,
          9898.904522005456,
          9992.54841040391,
          9979.555065989463,
          10051.467621787675,
          10013.705714583188,
          10086.239011600315,
          10086.744767470429,
          9988.983864591097,
          10018.673440980581,
          9942.116555078477,
          10000.620741218914,
          10045.143427603653,
          10077.660924915197,
          10137.42994989244,
          10174.938530000352,
          10209.295792892703,
          10144.030827572014,
          10218.724591494336,
          10216.539869867129,
          10174.846901050527,
          10209.939890510592,
          10096.242736945951,
          10110.800061768692,
          10274.515842061515,
          10305.262744666139,
          10282.58817287652,
          10336.746272161517,
          10345.71512936795,
          10271.710379215392,
          10273.112661476935,
          10117.652469898767,
          10117.652469898767,
          10061.322757190492,
          10076.101610850988,
          9967.257579883046,
          9977.14851708202,
          10056.11451177503,
          10094.85557729646,
          10052.802363928155,
          10107.144966384547,
          10199.999318091723,
          10261.719301582045,
          10257.745081078281,
          10249.224687815944,
          10285.772526126271,
          10285.33798517761,
          10355.053700579527,
          10344.29457376444,
          10395.027898731447,
          10287.942554025947,
          10175.146609584459,
          10118.223529872366,
          10048.759437771318,
          10117.812188235133,
          10204.339373891073,
          10218.775591567412,
          10234.491340497094,
          10311.218601637353,
          10242.508487157696,
          10344.591703406953,
          10326.979856908682,
          10346.784038336848,
          10268.04646763328,
          10252.901778677195,
          10188.85204895083,
          10188.85204895083,
          10031.239496237546,
          10031.239496237546,
          10053.45837163026,
          10105.216838556398,
          10097.348911987021,
          10189.814149503107,
          10218.12695921511,
          10246.758678900964,
          10278.027846253579,
          10446.244418338607,
          10441.445667144322,
          10430.234071656898,
          10410.085890272676,
          10326.64784817242,
          10228.383601438214,
          10247.508428254532,
          10580.986103112598,
          9953.60135168403,
          10120.942475916048,
          10210.897911040087,
          10420.629054347413,
          10406.780681730783,
          10409.3088158874,
          10435.30411722058,
          10469.286679594714,
          10499.129673527817,
          10540.427483404557,
          10521.680140832175,
          10544.49888922401,
          10515.013312114294,
          10531.456233749586,
          10613.537138322201,
          10679.532538082905,
          10758.145013873074,
          10742.977082813135,
          10801.74637080714,
          10793.648127036186,
          10866.422212124537,
          10873.42461067171,
          10883.133414847312,
          10881.657431926287,
          10932.059321182092,
          10883.401695934792,
          10879.59857120282,
          10962.909898482836,
          11000.73927957713,
          11012.5069444762,
          11096.555826276846,
          10975.773408605684,
          10966.086451424178,
          10952.574522516603,
          10923.245369884602,
          10919.934239459637,
          11111.768325204737,
          11112.327608253558,
          11121.813573089396,
          11163.804369618812,
          11190.538099352387,
          11059.352143093418,
          10763.111272570639,
          10763.111272570639,
          10763.111272570639,
          10723.133052904028,
          10723.133052904028,
          10718.622450101431,
          10649.954008368564,
          10649.954008368564,
          10737.601865123708,
          10751.384204311873,
          10806.600726156132,
          10837.818647341828,
          10855.889167212423,
          10860.986615951102,
          10943.002130661238,
          10946.130673801608,
          10961.269199267777,
          11004.847472265083,
          11041.579012773822,
          11060.304979950799,
          11060.808315626757,
          11025.30221375863,
          11001.850531321823,
          10873.675118695763,
          10910.537406841891,
          10956.346935272002,
          10902.68314844169,
          11108.521803116346,
          11094.345511896572,
          11106.26832913078,
          11121.494874248261,
          11103.555956574775,
          11120.291654160406,
          11284.43206722503,
          11349.231621786059,
          11349.822122553607,
          11377.714951862992,
          11470.428699726444,
          11454.195483257048,
          11293.139176227276,
          11287.035910696406,
          11047.791661949044,
          11047.791661949044,
          11047.791661949044,
          11047.791661949044,
          11047.791661949044,
          11047.791661949044,
          11047.791661949044,
          11047.791661949044,
          11032.271697128199,
          11032.271697128199,
          11032.271697128199,
          11032.271697128199,
          11032.271697128199,
          11032.271697128199,
          11032.271697128199,
          11032.271697128199,
          11032.271697128199,
          11032.271697128199,
          11032.271697128199,
          10975.457425735223,
          10914.359538641984,
          10958.999323307893,
          10819.669086320357,
          10917.944777029272,
          11040.027824486797,
          10911.65409714708,
          10888.590032267512,
          10885.479479090429,
          10769.21242630489,
          10622.938927355824,
          10611.056825581984,
          10575.480974466058,
          10604.654299648408,
          10528.63156977713,
          10779.94436317237,
          10921.822400369787,
          10909.46737474088,
          10945.720466908102,
          10783.055797027022,
          10880.879700142552,
          10946.239185996807,
          11027.8982523158,
          11032.542065142175,
          11141.188614914887,
          11127.391039426393,
          11100.87736050531,
          11096.842095879772,
          11111.15839045697,
          11069.178252052328,
          11168.198115307856,
          11123.08452610931,
          10973.270703329023,
          10911.42864368917,
          10799.986823309418,
          10799.986823309418,
          10799.986823309418,
          10799.986823309418,
          10799.986823309418,
          10799.986823309418,
          10799.986823309418
         ]
        }
       ],
       "layout": {
        "template": {
         "data": {
          "bar": [
           {
            "error_x": {
             "color": "#2a3f5f"
            },
            "error_y": {
             "color": "#2a3f5f"
            },
            "marker": {
             "line": {
              "color": "#E5ECF6",
              "width": 0.5
             },
             "pattern": {
              "fillmode": "overlay",
              "size": 10,
              "solidity": 0.2
             }
            },
            "type": "bar"
           }
          ],
          "barpolar": [
           {
            "marker": {
             "line": {
              "color": "#E5ECF6",
              "width": 0.5
             },
             "pattern": {
              "fillmode": "overlay",
              "size": 10,
              "solidity": 0.2
             }
            },
            "type": "barpolar"
           }
          ],
          "carpet": [
           {
            "aaxis": {
             "endlinecolor": "#2a3f5f",
             "gridcolor": "white",
             "linecolor": "white",
             "minorgridcolor": "white",
             "startlinecolor": "#2a3f5f"
            },
            "baxis": {
             "endlinecolor": "#2a3f5f",
             "gridcolor": "white",
             "linecolor": "white",
             "minorgridcolor": "white",
             "startlinecolor": "#2a3f5f"
            },
            "type": "carpet"
           }
          ],
          "choropleth": [
           {
            "colorbar": {
             "outlinewidth": 0,
             "ticks": ""
            },
            "type": "choropleth"
           }
          ],
          "contour": [
           {
            "colorbar": {
             "outlinewidth": 0,
             "ticks": ""
            },
            "colorscale": [
             [
              0,
              "#0d0887"
             ],
             [
              0.1111111111111111,
              "#46039f"
             ],
             [
              0.2222222222222222,
              "#7201a8"
             ],
             [
              0.3333333333333333,
              "#9c179e"
             ],
             [
              0.4444444444444444,
              "#bd3786"
             ],
             [
              0.5555555555555556,
              "#d8576b"
             ],
             [
              0.6666666666666666,
              "#ed7953"
             ],
             [
              0.7777777777777778,
              "#fb9f3a"
             ],
             [
              0.8888888888888888,
              "#fdca26"
             ],
             [
              1,
              "#f0f921"
             ]
            ],
            "type": "contour"
           }
          ],
          "contourcarpet": [
           {
            "colorbar": {
             "outlinewidth": 0,
             "ticks": ""
            },
            "type": "contourcarpet"
           }
          ],
          "heatmap": [
           {
            "colorbar": {
             "outlinewidth": 0,
             "ticks": ""
            },
            "colorscale": [
             [
              0,
              "#0d0887"
             ],
             [
              0.1111111111111111,
              "#46039f"
             ],
             [
              0.2222222222222222,
              "#7201a8"
             ],
             [
              0.3333333333333333,
              "#9c179e"
             ],
             [
              0.4444444444444444,
              "#bd3786"
             ],
             [
              0.5555555555555556,
              "#d8576b"
             ],
             [
              0.6666666666666666,
              "#ed7953"
             ],
             [
              0.7777777777777778,
              "#fb9f3a"
             ],
             [
              0.8888888888888888,
              "#fdca26"
             ],
             [
              1,
              "#f0f921"
             ]
            ],
            "type": "heatmap"
           }
          ],
          "histogram": [
           {
            "marker": {
             "pattern": {
              "fillmode": "overlay",
              "size": 10,
              "solidity": 0.2
             }
            },
            "type": "histogram"
           }
          ],
          "histogram2d": [
           {
            "colorbar": {
             "outlinewidth": 0,
             "ticks": ""
            },
            "colorscale": [
             [
              0,
              "#0d0887"
             ],
             [
              0.1111111111111111,
              "#46039f"
             ],
             [
              0.2222222222222222,
              "#7201a8"
             ],
             [
              0.3333333333333333,
              "#9c179e"
             ],
             [
              0.4444444444444444,
              "#bd3786"
             ],
             [
              0.5555555555555556,
              "#d8576b"
             ],
             [
              0.6666666666666666,
              "#ed7953"
             ],
             [
              0.7777777777777778,
              "#fb9f3a"
             ],
             [
              0.8888888888888888,
              "#fdca26"
             ],
             [
              1,
              "#f0f921"
             ]
            ],
            "type": "histogram2d"
           }
          ],
          "histogram2dcontour": [
           {
            "colorbar": {
             "outlinewidth": 0,
             "ticks": ""
            },
            "colorscale": [
             [
              0,
              "#0d0887"
             ],
             [
              0.1111111111111111,
              "#46039f"
             ],
             [
              0.2222222222222222,
              "#7201a8"
             ],
             [
              0.3333333333333333,
              "#9c179e"
             ],
             [
              0.4444444444444444,
              "#bd3786"
             ],
             [
              0.5555555555555556,
              "#d8576b"
             ],
             [
              0.6666666666666666,
              "#ed7953"
             ],
             [
              0.7777777777777778,
              "#fb9f3a"
             ],
             [
              0.8888888888888888,
              "#fdca26"
             ],
             [
              1,
              "#f0f921"
             ]
            ],
            "type": "histogram2dcontour"
           }
          ],
          "mesh3d": [
           {
            "colorbar": {
             "outlinewidth": 0,
             "ticks": ""
            },
            "type": "mesh3d"
           }
          ],
          "parcoords": [
           {
            "line": {
             "colorbar": {
              "outlinewidth": 0,
              "ticks": ""
             }
            },
            "type": "parcoords"
           }
          ],
          "pie": [
           {
            "automargin": true,
            "type": "pie"
           }
          ],
          "scatter": [
           {
            "fillpattern": {
             "fillmode": "overlay",
             "size": 10,
             "solidity": 0.2
            },
            "type": "scatter"
           }
          ],
          "scatter3d": [
           {
            "line": {
             "colorbar": {
              "outlinewidth": 0,
              "ticks": ""
             }
            },
            "marker": {
             "colorbar": {
              "outlinewidth": 0,
              "ticks": ""
             }
            },
            "type": "scatter3d"
           }
          ],
          "scattercarpet": [
           {
            "marker": {
             "colorbar": {
              "outlinewidth": 0,
              "ticks": ""
             }
            },
            "type": "scattercarpet"
           }
          ],
          "scattergeo": [
           {
            "marker": {
             "colorbar": {
              "outlinewidth": 0,
              "ticks": ""
             }
            },
            "type": "scattergeo"
           }
          ],
          "scattergl": [
           {
            "marker": {
             "colorbar": {
              "outlinewidth": 0,
              "ticks": ""
             }
            },
            "type": "scattergl"
           }
          ],
          "scattermap": [
           {
            "marker": {
             "colorbar": {
              "outlinewidth": 0,
              "ticks": ""
             }
            },
            "type": "scattermap"
           }
          ],
          "scattermapbox": [
           {
            "marker": {
             "colorbar": {
              "outlinewidth": 0,
              "ticks": ""
             }
            },
            "type": "scattermapbox"
           }
          ],
          "scatterpolar": [
           {
            "marker": {
             "colorbar": {
              "outlinewidth": 0,
              "ticks": ""
             }
            },
            "type": "scatterpolar"
           }
          ],
          "scatterpolargl": [
           {
            "marker": {
             "colorbar": {
              "outlinewidth": 0,
              "ticks": ""
             }
            },
            "type": "scatterpolargl"
           }
          ],
          "scatterternary": [
           {
            "marker": {
             "colorbar": {
              "outlinewidth": 0,
              "ticks": ""
             }
            },
            "type": "scatterternary"
           }
          ],
          "surface": [
           {
            "colorbar": {
             "outlinewidth": 0,
             "ticks": ""
            },
            "colorscale": [
             [
              0,
              "#0d0887"
             ],
             [
              0.1111111111111111,
              "#46039f"
             ],
             [
              0.2222222222222222,
              "#7201a8"
             ],
             [
              0.3333333333333333,
              "#9c179e"
             ],
             [
              0.4444444444444444,
              "#bd3786"
             ],
             [
              0.5555555555555556,
              "#d8576b"
             ],
             [
              0.6666666666666666,
              "#ed7953"
             ],
             [
              0.7777777777777778,
              "#fb9f3a"
             ],
             [
              0.8888888888888888,
              "#fdca26"
             ],
             [
              1,
              "#f0f921"
             ]
            ],
            "type": "surface"
           }
          ],
          "table": [
           {
            "cells": {
             "fill": {
              "color": "#EBF0F8"
             },
             "line": {
              "color": "white"
             }
            },
            "header": {
             "fill": {
              "color": "#C8D4E3"
             },
             "line": {
              "color": "white"
             }
            },
            "type": "table"
           }
          ]
         },
         "layout": {
          "annotationdefaults": {
           "arrowcolor": "#2a3f5f",
           "arrowhead": 0,
           "arrowwidth": 1
          },
          "autotypenumbers": "strict",
          "coloraxis": {
           "colorbar": {
            "outlinewidth": 0,
            "ticks": ""
           }
          },
          "colorscale": {
           "diverging": [
            [
             0,
             "#8e0152"
            ],
            [
             0.1,
             "#c51b7d"
            ],
            [
             0.2,
             "#de77ae"
            ],
            [
             0.3,
             "#f1b6da"
            ],
            [
             0.4,
             "#fde0ef"
            ],
            [
             0.5,
             "#f7f7f7"
            ],
            [
             0.6,
             "#e6f5d0"
            ],
            [
             0.7,
             "#b8e186"
            ],
            [
             0.8,
             "#7fbc41"
            ],
            [
             0.9,
             "#4d9221"
            ],
            [
             1,
             "#276419"
            ]
           ],
           "sequential": [
            [
             0,
             "#0d0887"
            ],
            [
             0.1111111111111111,
             "#46039f"
            ],
            [
             0.2222222222222222,
             "#7201a8"
            ],
            [
             0.3333333333333333,
             "#9c179e"
            ],
            [
             0.4444444444444444,
             "#bd3786"
            ],
            [
             0.5555555555555556,
             "#d8576b"
            ],
            [
             0.6666666666666666,
             "#ed7953"
            ],
            [
             0.7777777777777778,
             "#fb9f3a"
            ],
            [
             0.8888888888888888,
             "#fdca26"
            ],
            [
             1,
             "#f0f921"
            ]
           ],
           "sequentialminus": [
            [
             0,
             "#0d0887"
            ],
            [
             0.1111111111111111,
             "#46039f"
            ],
            [
             0.2222222222222222,
             "#7201a8"
            ],
            [
             0.3333333333333333,
             "#9c179e"
            ],
            [
             0.4444444444444444,
             "#bd3786"
            ],
            [
             0.5555555555555556,
             "#d8576b"
            ],
            [
             0.6666666666666666,
             "#ed7953"
            ],
            [
             0.7777777777777778,
             "#fb9f3a"
            ],
            [
             0.8888888888888888,
             "#fdca26"
            ],
            [
             1,
             "#f0f921"
            ]
           ]
          },
          "colorway": [
           "#636efa",
           "#EF553B",
           "#00cc96",
           "#ab63fa",
           "#FFA15A",
           "#19d3f3",
           "#FF6692",
           "#B6E880",
           "#FF97FF",
           "#FECB52"
          ],
          "font": {
           "color": "#2a3f5f"
          },
          "geo": {
           "bgcolor": "white",
           "lakecolor": "white",
           "landcolor": "#E5ECF6",
           "showlakes": true,
           "showland": true,
           "subunitcolor": "white"
          },
          "hoverlabel": {
           "align": "left"
          },
          "hovermode": "closest",
          "mapbox": {
           "style": "light"
          },
          "paper_bgcolor": "white",
          "plot_bgcolor": "#E5ECF6",
          "polar": {
           "angularaxis": {
            "gridcolor": "white",
            "linecolor": "white",
            "ticks": ""
           },
           "bgcolor": "#E5ECF6",
           "radialaxis": {
            "gridcolor": "white",
            "linecolor": "white",
            "ticks": ""
           }
          },
          "scene": {
           "xaxis": {
            "backgroundcolor": "#E5ECF6",
            "gridcolor": "white",
            "gridwidth": 2,
            "linecolor": "white",
            "showbackground": true,
            "ticks": "",
            "zerolinecolor": "white"
           },
           "yaxis": {
            "backgroundcolor": "#E5ECF6",
            "gridcolor": "white",
            "gridwidth": 2,
            "linecolor": "white",
            "showbackground": true,
            "ticks": "",
            "zerolinecolor": "white"
           },
           "zaxis": {
            "backgroundcolor": "#E5ECF6",
            "gridcolor": "white",
            "gridwidth": 2,
            "linecolor": "white",
            "showbackground": true,
            "ticks": "",
            "zerolinecolor": "white"
           }
          },
          "shapedefaults": {
           "line": {
            "color": "#2a3f5f"
           }
          },
          "ternary": {
           "aaxis": {
            "gridcolor": "white",
            "linecolor": "white",
            "ticks": ""
           },
           "baxis": {
            "gridcolor": "white",
            "linecolor": "white",
            "ticks": ""
           },
           "bgcolor": "#E5ECF6",
           "caxis": {
            "gridcolor": "white",
            "linecolor": "white",
            "ticks": ""
           }
          },
          "title": {
           "x": 0.05
          },
          "xaxis": {
           "automargin": true,
           "gridcolor": "white",
           "linecolor": "white",
           "ticks": "",
           "title": {
            "standoff": 15
           },
           "zerolinecolor": "white",
           "zerolinewidth": 2
          },
          "yaxis": {
           "automargin": true,
           "gridcolor": "white",
           "linecolor": "white",
           "ticks": "",
           "title": {
            "standoff": 15
           },
           "zerolinecolor": "white",
           "zerolinewidth": 2
          }
         }
        },
        "title": {
         "text": "^NSEI Portfolio Value (Return: 8.00%)"
        },
        "xaxis": {
         "title": {
          "text": "Trading Days"
         }
        },
        "yaxis": {
         "title": {
          "text": "Portfolio Value ($)"
         }
        }
       }
      }
     },
     "metadata": {},
     "output_type": "display_data"
    },
    {
     "name": "stderr",
     "output_type": "stream",
     "text": [
      "[*********************100%***********************]  1 of 1 completed"
     ]
    },
    {
     "name": "stdout",
     "output_type": "stream",
     "text": [
      "\n",
      "Testing Results for ^NSEI:\n",
      "  Initial Balance: $10000.00\n",
      "  Final Portfolio Value: $10799.99\n",
      "  Return: 8.00%\n",
      "\n",
      "Fetching data for ^N225 from 2024-01-01 to 2025-01-01...\n",
      "Data shape after preparation: (245, 17)\n"
     ]
    },
    {
     "name": "stderr",
     "output_type": "stream",
     "text": [
      "\n"
     ]
    },
    {
     "data": {
      "application/vnd.plotly.v1+json": {
       "config": {
        "plotlyServerURL": "https://plot.ly"
       },
       "data": [
        {
         "mode": "lines+markers",
         "name": "Portfolio Value",
         "type": "scatter",
         "x": [
          0,
          1,
          2,
          3,
          4,
          5,
          6,
          7,
          8,
          9,
          10,
          11,
          12,
          13,
          14,
          15,
          16,
          17,
          18,
          19,
          20,
          21,
          22,
          23,
          24,
          25,
          26,
          27,
          28,
          29,
          30,
          31,
          32,
          33,
          34,
          35,
          36,
          37,
          38,
          39,
          40,
          41,
          42,
          43,
          44,
          45,
          46,
          47,
          48,
          49,
          50,
          51,
          52,
          53,
          54,
          55,
          56,
          57,
          58,
          59,
          60,
          61,
          62,
          63,
          64,
          65,
          66,
          67,
          68,
          69,
          70,
          71,
          72,
          73,
          74,
          75,
          76,
          77,
          78,
          79,
          80,
          81,
          82,
          83,
          84,
          85,
          86,
          87,
          88,
          89,
          90,
          91,
          92,
          93,
          94,
          95,
          96,
          97,
          98,
          99,
          100,
          101,
          102,
          103,
          104,
          105,
          106,
          107,
          108,
          109,
          110,
          111,
          112,
          113,
          114,
          115,
          116,
          117,
          118,
          119,
          120,
          121,
          122,
          123,
          124,
          125,
          126,
          127,
          128,
          129,
          130,
          131,
          132,
          133,
          134,
          135,
          136,
          137,
          138,
          139,
          140,
          141,
          142,
          143,
          144,
          145,
          146,
          147,
          148,
          149,
          150,
          151,
          152,
          153,
          154,
          155,
          156,
          157,
          158,
          159,
          160,
          161,
          162,
          163,
          164,
          165,
          166,
          167,
          168,
          169,
          170,
          171,
          172,
          173,
          174,
          175,
          176,
          177,
          178,
          179,
          180,
          181,
          182,
          183,
          184,
          185,
          186,
          187,
          188,
          189,
          190,
          191,
          192,
          193,
          194,
          195,
          196,
          197,
          198,
          199,
          200,
          201,
          202,
          203,
          204,
          205,
          206,
          207,
          208,
          209,
          210,
          211,
          212,
          213,
          214,
          215,
          216,
          217,
          218,
          219,
          220,
          221,
          222,
          223,
          224,
          225,
          226,
          227,
          228,
          229,
          230,
          231,
          232,
          233,
          234,
          235,
          236,
          237,
          238,
          239,
          240,
          241,
          242,
          243,
          244
         ],
         "y": [
          10000,
          10000,
          10013.388013474145,
          10100.223603574423,
          10278.086662755075,
          10448.532110001144,
          10601.006985087519,
          10696.326714360259,
          10612.743042669264,
          10570.759135459875,
          10567.315753752711,
          10715.291504934481,
          10889.199441520639,
          10880.445967527086,
          10793.715462471178,
          10796.691480687043,
          10652.066539138481,
          10734.262602673463,
          10745.858249714782,
          10811.661189835435,
          10729.650181793735,
          10773.317458853177,
          10831.757750857461,
          10774.104235667382,
          10761.966224727514,
          10983.45088115258,
          10993.62311392796,
          11311.401803637229,
          11233.741345494198,
          11369.196147221568,
          11467.310474791893,
          11462.287207439656,
          11430.475120660538,
          11400.2482262201,
          11649.490042766454,
          11689.722736425421,
          11691.45341264247,
          11682.071448294375,
          11669.60522572491,
          11891.468140233728,
          11950.58464130466,
          11947.127944354674,
          11945.087678444463,
          11798.474845181901,
          11825.359102032993,
          11566.602639841472,
          11559.756750461062,
          11529.501923115979,
          11562.69668867509,
          11532.97956974445,
          11840.703577652057,
          11919.112404865406,
          12161.066061041114,
          12182.747814401822,
          12041.427102698717,
          12036.633117938787,
          12145.295608626193,
          11968.11603058333,
          12028.114745892675,
          11859.369741181985,
          11870.042438498947,
          11754.717950053384,
          11850.4463420185,
          11617.728002441494,
          11723.48896265876,
          11850.44285040542,
          11793.438775248369,
          11751.970050558799,
          11776.080802752713,
          11689.451554476147,
          11462.531620355312,
          11310.755855217283,
          11345.88381055213,
          11044.551782324428,
          11044.551782324428,
          11061.300768256002,
          11261.978091182336,
          11018.467546171813,
          11108.153602347496,
          11246.043282890027,
          11207.505090299077,
          11196.383552647356,
          11371.793409889646,
          11186.5156615313,
          11148.919991518262,
          11194.345233188817,
          11179.807051192172,
          11231.518826950341,
          11240.207421005929,
          11396.73022387146,
          11357.819140066435,
          11440.483174269073,
          11404.539206443536,
          11307.958094321686,
          11450.304168023848,
          11316.452235903675,
          11390.802854940963,
          11377.728785686702,
          11290.321254966353,
          11143.107006395763,
          11270.12450598801,
          11397.54120507017,
          11372.484288089958,
          11270.790219750563,
          11333.260936489096,
          11327.526876194117,
          11431.253544801652,
          11459.54866738631,
          11383.977573117676,
          11338.226337594324,
          11365.777965426989,
          11157.253995769053,
          11268.429337953467,
          11294.38874317879,
          11312.619234497637,
          11301.91634158319,
          11362.87604821806,
          11470.78115733179,
          11615.412619517769,
          11520.089729283904,
          11590.81781312187,
          11604.86757625836,
          11734.773267002576,
          11882.962065617316,
          11980.438802955796,
          11980.064767903641,
          11941.508273903411,
          12175.611894544116,
          12249.349416370529,
          12364.145006078106,
          12061.559799588531,
          12086.273565144747,
          12034.330734094421,
          11749.900525610414,
          11731.58081492133,
          11595.4800971359,
          11594.130368201515,
          11465.423419765128,
          11089.04693105938,
          11089.04693105938,
          11089.04693105938,
          11097.308567274238,
          11221.748170277599,
          10976.374227005643,
          10976.374227005643,
          10976.374227005643,
          10976.374227005643,
          11107.474917292326,
          11025.65646338448,
          11087.019376434862,
          11469.252233624109,
          11535.700901346967,
          11625.666702090928,
          12048.581887137965,
          11835.213890780513,
          12048.661023607461,
          12013.486099423682,
          12095.53825321801,
          12144.051382033927,
          12063.632654430297,
          12120.105180967275,
          12146.423003104146,
          12143.501136269462,
          12233.78595590608,
          12250.601219166712,
          12245.991519818552,
          11727.26803686552,
          11665.459362920552,
          11602.174480124333,
          11553.230811510099,
          11536.3233124298,
          11364.234563277312,
          11751.393122246604,
          11671.1513404114,
          11550.379893943162,
          11606.835532080873,
          11854.143629918566,
          12035.545689971785,
          12104.675805810612,
          12082.238116869523,
          12418.945524777206,
          12707.33787353869,
          12097.963442300465,
          12331.636194953506,
          12062.61697852868,
          12299.76056897893,
          12326.420591297736,
          12548.83088033377,
          12422.745375564886,
          12531.35455773763,
          12564.193543718395,
          12635.949532174356,
          12733.177855903974,
          12500.19677828772,
          12414.339342910605,
          12436.850561270021,
          12428.189045043595,
          12255.06340646659,
          12157.08483341779,
          12169.345552358162,
          12096.167579727475,
          12316.820640291671,
          12411.94278237774,
          12531.172603583807,
          12468.595329805205,
          12140.753824981663,
          12275.143168975968,
          12596.028043069162,
          12564.359296474959,
          12602.312938943962,
          12612.825153241789,
          12562.661888546845,
          12353.870743298205,
          12294.541226539179,
          12328.746114934933,
          12194.091317277862,
          12255.851043625597,
          12236.041719824296,
          12131.980145235759,
          12214.191019968479,
          12372.528521632856,
          12264.647156075398,
          12166.691015730494,
          12234.99486030916,
          12190.001087600864,
          12287.305433271462,
          12522.069910847431,
          12530.853560683956,
          12568.886963877923,
          12471.760833577164,
          12493.879479618403,
          12559.946285114127,
          12561.430582355231,
          12713.585381573666,
          12592.764084652325,
          12588.631482090192,
          12559.02155920909,
          12468.742388641855,
          12383.196518596627,
          12347.565907242164,
          12494.147425803823,
          12454.430323556346,
          12484.285759918974,
          12623.908155227633,
          12851.418145615971
         ]
        }
       ],
       "layout": {
        "template": {
         "data": {
          "bar": [
           {
            "error_x": {
             "color": "#2a3f5f"
            },
            "error_y": {
             "color": "#2a3f5f"
            },
            "marker": {
             "line": {
              "color": "#E5ECF6",
              "width": 0.5
             },
             "pattern": {
              "fillmode": "overlay",
              "size": 10,
              "solidity": 0.2
             }
            },
            "type": "bar"
           }
          ],
          "barpolar": [
           {
            "marker": {
             "line": {
              "color": "#E5ECF6",
              "width": 0.5
             },
             "pattern": {
              "fillmode": "overlay",
              "size": 10,
              "solidity": 0.2
             }
            },
            "type": "barpolar"
           }
          ],
          "carpet": [
           {
            "aaxis": {
             "endlinecolor": "#2a3f5f",
             "gridcolor": "white",
             "linecolor": "white",
             "minorgridcolor": "white",
             "startlinecolor": "#2a3f5f"
            },
            "baxis": {
             "endlinecolor": "#2a3f5f",
             "gridcolor": "white",
             "linecolor": "white",
             "minorgridcolor": "white",
             "startlinecolor": "#2a3f5f"
            },
            "type": "carpet"
           }
          ],
          "choropleth": [
           {
            "colorbar": {
             "outlinewidth": 0,
             "ticks": ""
            },
            "type": "choropleth"
           }
          ],
          "contour": [
           {
            "colorbar": {
             "outlinewidth": 0,
             "ticks": ""
            },
            "colorscale": [
             [
              0,
              "#0d0887"
             ],
             [
              0.1111111111111111,
              "#46039f"
             ],
             [
              0.2222222222222222,
              "#7201a8"
             ],
             [
              0.3333333333333333,
              "#9c179e"
             ],
             [
              0.4444444444444444,
              "#bd3786"
             ],
             [
              0.5555555555555556,
              "#d8576b"
             ],
             [
              0.6666666666666666,
              "#ed7953"
             ],
             [
              0.7777777777777778,
              "#fb9f3a"
             ],
             [
              0.8888888888888888,
              "#fdca26"
             ],
             [
              1,
              "#f0f921"
             ]
            ],
            "type": "contour"
           }
          ],
          "contourcarpet": [
           {
            "colorbar": {
             "outlinewidth": 0,
             "ticks": ""
            },
            "type": "contourcarpet"
           }
          ],
          "heatmap": [
           {
            "colorbar": {
             "outlinewidth": 0,
             "ticks": ""
            },
            "colorscale": [
             [
              0,
              "#0d0887"
             ],
             [
              0.1111111111111111,
              "#46039f"
             ],
             [
              0.2222222222222222,
              "#7201a8"
             ],
             [
              0.3333333333333333,
              "#9c179e"
             ],
             [
              0.4444444444444444,
              "#bd3786"
             ],
             [
              0.5555555555555556,
              "#d8576b"
             ],
             [
              0.6666666666666666,
              "#ed7953"
             ],
             [
              0.7777777777777778,
              "#fb9f3a"
             ],
             [
              0.8888888888888888,
              "#fdca26"
             ],
             [
              1,
              "#f0f921"
             ]
            ],
            "type": "heatmap"
           }
          ],
          "histogram": [
           {
            "marker": {
             "pattern": {
              "fillmode": "overlay",
              "size": 10,
              "solidity": 0.2
             }
            },
            "type": "histogram"
           }
          ],
          "histogram2d": [
           {
            "colorbar": {
             "outlinewidth": 0,
             "ticks": ""
            },
            "colorscale": [
             [
              0,
              "#0d0887"
             ],
             [
              0.1111111111111111,
              "#46039f"
             ],
             [
              0.2222222222222222,
              "#7201a8"
             ],
             [
              0.3333333333333333,
              "#9c179e"
             ],
             [
              0.4444444444444444,
              "#bd3786"
             ],
             [
              0.5555555555555556,
              "#d8576b"
             ],
             [
              0.6666666666666666,
              "#ed7953"
             ],
             [
              0.7777777777777778,
              "#fb9f3a"
             ],
             [
              0.8888888888888888,
              "#fdca26"
             ],
             [
              1,
              "#f0f921"
             ]
            ],
            "type": "histogram2d"
           }
          ],
          "histogram2dcontour": [
           {
            "colorbar": {
             "outlinewidth": 0,
             "ticks": ""
            },
            "colorscale": [
             [
              0,
              "#0d0887"
             ],
             [
              0.1111111111111111,
              "#46039f"
             ],
             [
              0.2222222222222222,
              "#7201a8"
             ],
             [
              0.3333333333333333,
              "#9c179e"
             ],
             [
              0.4444444444444444,
              "#bd3786"
             ],
             [
              0.5555555555555556,
              "#d8576b"
             ],
             [
              0.6666666666666666,
              "#ed7953"
             ],
             [
              0.7777777777777778,
              "#fb9f3a"
             ],
             [
              0.8888888888888888,
              "#fdca26"
             ],
             [
              1,
              "#f0f921"
             ]
            ],
            "type": "histogram2dcontour"
           }
          ],
          "mesh3d": [
           {
            "colorbar": {
             "outlinewidth": 0,
             "ticks": ""
            },
            "type": "mesh3d"
           }
          ],
          "parcoords": [
           {
            "line": {
             "colorbar": {
              "outlinewidth": 0,
              "ticks": ""
             }
            },
            "type": "parcoords"
           }
          ],
          "pie": [
           {
            "automargin": true,
            "type": "pie"
           }
          ],
          "scatter": [
           {
            "fillpattern": {
             "fillmode": "overlay",
             "size": 10,
             "solidity": 0.2
            },
            "type": "scatter"
           }
          ],
          "scatter3d": [
           {
            "line": {
             "colorbar": {
              "outlinewidth": 0,
              "ticks": ""
             }
            },
            "marker": {
             "colorbar": {
              "outlinewidth": 0,
              "ticks": ""
             }
            },
            "type": "scatter3d"
           }
          ],
          "scattercarpet": [
           {
            "marker": {
             "colorbar": {
              "outlinewidth": 0,
              "ticks": ""
             }
            },
            "type": "scattercarpet"
           }
          ],
          "scattergeo": [
           {
            "marker": {
             "colorbar": {
              "outlinewidth": 0,
              "ticks": ""
             }
            },
            "type": "scattergeo"
           }
          ],
          "scattergl": [
           {
            "marker": {
             "colorbar": {
              "outlinewidth": 0,
              "ticks": ""
             }
            },
            "type": "scattergl"
           }
          ],
          "scattermap": [
           {
            "marker": {
             "colorbar": {
              "outlinewidth": 0,
              "ticks": ""
             }
            },
            "type": "scattermap"
           }
          ],
          "scattermapbox": [
           {
            "marker": {
             "colorbar": {
              "outlinewidth": 0,
              "ticks": ""
             }
            },
            "type": "scattermapbox"
           }
          ],
          "scatterpolar": [
           {
            "marker": {
             "colorbar": {
              "outlinewidth": 0,
              "ticks": ""
             }
            },
            "type": "scatterpolar"
           }
          ],
          "scatterpolargl": [
           {
            "marker": {
             "colorbar": {
              "outlinewidth": 0,
              "ticks": ""
             }
            },
            "type": "scatterpolargl"
           }
          ],
          "scatterternary": [
           {
            "marker": {
             "colorbar": {
              "outlinewidth": 0,
              "ticks": ""
             }
            },
            "type": "scatterternary"
           }
          ],
          "surface": [
           {
            "colorbar": {
             "outlinewidth": 0,
             "ticks": ""
            },
            "colorscale": [
             [
              0,
              "#0d0887"
             ],
             [
              0.1111111111111111,
              "#46039f"
             ],
             [
              0.2222222222222222,
              "#7201a8"
             ],
             [
              0.3333333333333333,
              "#9c179e"
             ],
             [
              0.4444444444444444,
              "#bd3786"
             ],
             [
              0.5555555555555556,
              "#d8576b"
             ],
             [
              0.6666666666666666,
              "#ed7953"
             ],
             [
              0.7777777777777778,
              "#fb9f3a"
             ],
             [
              0.8888888888888888,
              "#fdca26"
             ],
             [
              1,
              "#f0f921"
             ]
            ],
            "type": "surface"
           }
          ],
          "table": [
           {
            "cells": {
             "fill": {
              "color": "#EBF0F8"
             },
             "line": {
              "color": "white"
             }
            },
            "header": {
             "fill": {
              "color": "#C8D4E3"
             },
             "line": {
              "color": "white"
             }
            },
            "type": "table"
           }
          ]
         },
         "layout": {
          "annotationdefaults": {
           "arrowcolor": "#2a3f5f",
           "arrowhead": 0,
           "arrowwidth": 1
          },
          "autotypenumbers": "strict",
          "coloraxis": {
           "colorbar": {
            "outlinewidth": 0,
            "ticks": ""
           }
          },
          "colorscale": {
           "diverging": [
            [
             0,
             "#8e0152"
            ],
            [
             0.1,
             "#c51b7d"
            ],
            [
             0.2,
             "#de77ae"
            ],
            [
             0.3,
             "#f1b6da"
            ],
            [
             0.4,
             "#fde0ef"
            ],
            [
             0.5,
             "#f7f7f7"
            ],
            [
             0.6,
             "#e6f5d0"
            ],
            [
             0.7,
             "#b8e186"
            ],
            [
             0.8,
             "#7fbc41"
            ],
            [
             0.9,
             "#4d9221"
            ],
            [
             1,
             "#276419"
            ]
           ],
           "sequential": [
            [
             0,
             "#0d0887"
            ],
            [
             0.1111111111111111,
             "#46039f"
            ],
            [
             0.2222222222222222,
             "#7201a8"
            ],
            [
             0.3333333333333333,
             "#9c179e"
            ],
            [
             0.4444444444444444,
             "#bd3786"
            ],
            [
             0.5555555555555556,
             "#d8576b"
            ],
            [
             0.6666666666666666,
             "#ed7953"
            ],
            [
             0.7777777777777778,
             "#fb9f3a"
            ],
            [
             0.8888888888888888,
             "#fdca26"
            ],
            [
             1,
             "#f0f921"
            ]
           ],
           "sequentialminus": [
            [
             0,
             "#0d0887"
            ],
            [
             0.1111111111111111,
             "#46039f"
            ],
            [
             0.2222222222222222,
             "#7201a8"
            ],
            [
             0.3333333333333333,
             "#9c179e"
            ],
            [
             0.4444444444444444,
             "#bd3786"
            ],
            [
             0.5555555555555556,
             "#d8576b"
            ],
            [
             0.6666666666666666,
             "#ed7953"
            ],
            [
             0.7777777777777778,
             "#fb9f3a"
            ],
            [
             0.8888888888888888,
             "#fdca26"
            ],
            [
             1,
             "#f0f921"
            ]
           ]
          },
          "colorway": [
           "#636efa",
           "#EF553B",
           "#00cc96",
           "#ab63fa",
           "#FFA15A",
           "#19d3f3",
           "#FF6692",
           "#B6E880",
           "#FF97FF",
           "#FECB52"
          ],
          "font": {
           "color": "#2a3f5f"
          },
          "geo": {
           "bgcolor": "white",
           "lakecolor": "white",
           "landcolor": "#E5ECF6",
           "showlakes": true,
           "showland": true,
           "subunitcolor": "white"
          },
          "hoverlabel": {
           "align": "left"
          },
          "hovermode": "closest",
          "mapbox": {
           "style": "light"
          },
          "paper_bgcolor": "white",
          "plot_bgcolor": "#E5ECF6",
          "polar": {
           "angularaxis": {
            "gridcolor": "white",
            "linecolor": "white",
            "ticks": ""
           },
           "bgcolor": "#E5ECF6",
           "radialaxis": {
            "gridcolor": "white",
            "linecolor": "white",
            "ticks": ""
           }
          },
          "scene": {
           "xaxis": {
            "backgroundcolor": "#E5ECF6",
            "gridcolor": "white",
            "gridwidth": 2,
            "linecolor": "white",
            "showbackground": true,
            "ticks": "",
            "zerolinecolor": "white"
           },
           "yaxis": {
            "backgroundcolor": "#E5ECF6",
            "gridcolor": "white",
            "gridwidth": 2,
            "linecolor": "white",
            "showbackground": true,
            "ticks": "",
            "zerolinecolor": "white"
           },
           "zaxis": {
            "backgroundcolor": "#E5ECF6",
            "gridcolor": "white",
            "gridwidth": 2,
            "linecolor": "white",
            "showbackground": true,
            "ticks": "",
            "zerolinecolor": "white"
           }
          },
          "shapedefaults": {
           "line": {
            "color": "#2a3f5f"
           }
          },
          "ternary": {
           "aaxis": {
            "gridcolor": "white",
            "linecolor": "white",
            "ticks": ""
           },
           "baxis": {
            "gridcolor": "white",
            "linecolor": "white",
            "ticks": ""
           },
           "bgcolor": "#E5ECF6",
           "caxis": {
            "gridcolor": "white",
            "linecolor": "white",
            "ticks": ""
           }
          },
          "title": {
           "x": 0.05
          },
          "xaxis": {
           "automargin": true,
           "gridcolor": "white",
           "linecolor": "white",
           "ticks": "",
           "title": {
            "standoff": 15
           },
           "zerolinecolor": "white",
           "zerolinewidth": 2
          },
          "yaxis": {
           "automargin": true,
           "gridcolor": "white",
           "linecolor": "white",
           "ticks": "",
           "title": {
            "standoff": 15
           },
           "zerolinecolor": "white",
           "zerolinewidth": 2
          }
         }
        },
        "title": {
         "text": "^N225 Portfolio Value (Return: 28.51%)"
        },
        "xaxis": {
         "title": {
          "text": "Trading Days"
         }
        },
        "yaxis": {
         "title": {
          "text": "Portfolio Value ($)"
         }
        }
       }
      }
     },
     "metadata": {},
     "output_type": "display_data"
    },
    {
     "name": "stdout",
     "output_type": "stream",
     "text": [
      "\n",
      "Testing Results for ^N225:\n",
      "  Initial Balance: $10000.00\n",
      "  Final Portfolio Value: $12851.42\n",
      "  Return: 28.51%\n"
     ]
    }
   ],
   "source": [
    "import numpy as np\n",
    "import yfinance as yf\n",
    "import talib\n",
    "import torch\n",
    "import torch.nn as nn\n",
    "import torch.optim as optim\n",
    "from collections import deque\n",
    "import plotly.graph_objects as go\n",
    "import warnings\n",
    "warnings.filterwarnings('ignore')\n",
    "\n",
    "# Set the device for computation\n",
    "device = torch.device('cuda' if torch.cuda.is_available() else 'cpu')\n",
    "print(f\"Using device: {device}\")\n",
    "\n",
    "# -------------------------\n",
    "# DataHandler: Downloads and Prepares Test Data\n",
    "# -------------------------\n",
    "class DataHandler:\n",
    "    def __init__(self):\n",
    "        from sklearn.preprocessing import MinMaxScaler\n",
    "        self.scaler = MinMaxScaler()\n",
    "\n",
    "    def fetch_data(self, symbol, start_date, end_date):\n",
    "        print(f\"\\nFetching data for {symbol} from {start_date} to {end_date}...\")\n",
    "        df = yf.download(symbol, start=start_date, end=end_date)\n",
    "        if df.empty:\n",
    "            raise ValueError(f\"No data found for {symbol}\")\n",
    "        return self.prepare_data(df)\n",
    "\n",
    "    def prepare_data(self, df):\n",
    "        df = df.copy()\n",
    "        # Preserve the original close prices for portfolio value calculation.\n",
    "        df['CloseOrig'] = df['Close'].astype(float)\n",
    "        \n",
    "        # Convert necessary columns to one-dimensional float64 arrays to avoid dimension issues.\n",
    "        close_prices = np.array(df['Close'], dtype=np.float64).flatten()\n",
    "        volume = np.array(df['Volume'], dtype=np.float64).flatten()\n",
    "\n",
    "        # Compute technical indicators.\n",
    "        df['Returns'] = df['Close'].pct_change()\n",
    "        df['SMA_20'] = talib.SMA(close_prices, timeperiod=20)\n",
    "        df['EMA_20'] = talib.EMA(close_prices, timeperiod=20)\n",
    "        df['RSI'] = talib.RSI(close_prices, timeperiod=14)\n",
    "        macd, signal, _ = talib.MACD(close_prices)\n",
    "        df['MACD'] = macd\n",
    "        df['MACD_signal'] = signal\n",
    "        bb_upper, bb_middle, bb_lower = talib.BBANDS(close_prices)\n",
    "        df['BB_upper'] = bb_upper\n",
    "        df['BB_middle'] = bb_middle\n",
    "        df['BB_lower'] = bb_lower\n",
    "        df['OBV'] = talib.OBV(close_prices, volume)\n",
    "        df['MOM'] = talib.MOM(close_prices, timeperiod=14)\n",
    "\n",
    "        # Features used for training (normalization applied to these)\n",
    "        features = ['Close', 'Returns', 'SMA_20', 'EMA_20', 'RSI', \n",
    "                    'MACD', 'MACD_signal', 'BB_upper', 'BB_middle', \n",
    "                    'BB_lower', 'OBV', 'MOM']\n",
    "        df[features] = df[features].fillna(method='ffill').fillna(method='bfill')\n",
    "        df[features] = self.scaler.fit_transform(df[features])\n",
    "        df = df.dropna()\n",
    "        print(f\"Data shape after preparation: {df.shape}\")\n",
    "        return df\n",
    "\n",
    "# -------------------------\n",
    "# Trading Environment for Testing Mode\n",
    "# -------------------------\n",
    "class TradingEnvironment:\n",
    "    def __init__(self, data, initial_balance=10000):\n",
    "        if data.empty:\n",
    "            raise ValueError(\"Data cannot be empty\")\n",
    "        # Reset index to simulate sequential trading.\n",
    "        self.data = data.reset_index(drop=True)\n",
    "        self.initial_balance = initial_balance\n",
    "        # This list must match the feature names used in training.\n",
    "        self.features = ['Close', 'Returns', 'SMA_20', 'EMA_20', 'RSI',\n",
    "                         'MACD', 'MACD_signal', 'BB_upper', 'BB_middle',\n",
    "                         'BB_lower', 'OBV', 'MOM']\n",
    "        self.reset()\n",
    "\n",
    "    def reset(self):\n",
    "        self.balance = self.initial_balance\n",
    "        self.position = 0.0  # Number (or proportion) of shares held.\n",
    "        self.current_step = 0\n",
    "        self.portfolio_value_history = [self.initial_balance]\n",
    "        return self._get_state()\n",
    "\n",
    "    def _get_state(self):\n",
    "        return self.data.iloc[self.current_step][self.features].values\n",
    "\n",
    "    def step(self, action):\n",
    "        # Actual price for trading is taken from the unscaled close.\n",
    "        current_price = float(self.data.iloc[self.current_step]['CloseOrig'])\n",
    "        prev_value = self.portfolio_value_history[-1]\n",
    "\n",
    "        # Define the 5-action space:\n",
    "        # 0: Sell all, 1: Sell half, 2: Hold, 3: Buy with 50% of cash, 4: Buy with full cash.\n",
    "        if current_price > 0:\n",
    "            if action == 0 and self.position > 0:\n",
    "                self.balance += current_price * self.position\n",
    "                self.position = 0.0\n",
    "            elif action == 1 and self.position > 0:\n",
    "                shares_to_sell = self.position * 0.5\n",
    "                self.balance += current_price * shares_to_sell\n",
    "                self.position -= shares_to_sell\n",
    "            elif action == 3 and self.balance > 0:\n",
    "                cash_to_use = self.balance * 0.5\n",
    "                shares_to_buy = cash_to_use / current_price\n",
    "                self.position += shares_to_buy\n",
    "                self.balance -= cash_to_use\n",
    "            elif action == 4 and self.balance > 0:\n",
    "                shares_to_buy = self.balance / current_price\n",
    "                self.position += shares_to_buy\n",
    "                self.balance = 0\n",
    "            # Action 2 (Hold) does nothing.\n",
    "\n",
    "        new_value = self.balance + (self.position * current_price)\n",
    "        self.portfolio_value_history.append(new_value)\n",
    "        reward = (new_value - prev_value) / prev_value if prev_value > 0 else 0\n",
    "\n",
    "        self.current_step += 1\n",
    "        done = (self.current_step >= len(self.data) - 1)\n",
    "        next_state = self._get_state() if not done else np.zeros(len(self.features))\n",
    "        return next_state, reward, done\n",
    "\n",
    "# -------------------------\n",
    "# DQNAgent: Loads Policy and Acts Greedily (epsilon = 0 during testing)\n",
    "# -------------------------\n",
    "class DQNAgent(nn.Module):\n",
    "    def __init__(self, state_size, action_size):\n",
    "        super(DQNAgent, self).__init__()\n",
    "        self.state_size = state_size\n",
    "        self.action_size = action_size\n",
    "        self.memory = deque(maxlen=2000)\n",
    "        self.gamma = 0.95\n",
    "        self.epsilon = 0.0  # Deterministic policy during testing.\n",
    "        self.epsilon_min = 0.01\n",
    "        self.epsilon_decay = 0.995\n",
    "        self.batch_size = 32\n",
    "\n",
    "        self.fc1 = nn.Linear(state_size, 64)\n",
    "        self.fc2 = nn.Linear(64, 32)\n",
    "        self.fc3 = nn.Linear(32, action_size)\n",
    "        self.optimizer = optim.Adam(self.parameters(), lr=0.001)\n",
    "        self.criterion = nn.MSELoss()\n",
    "        self.to(device)\n",
    "\n",
    "    def forward(self, x):\n",
    "        x = torch.relu(self.fc1(x))\n",
    "        x = torch.relu(self.fc2(x))\n",
    "        return self.fc3(x)\n",
    "\n",
    "    def act(self, state):\n",
    "        with torch.no_grad():\n",
    "            state_tensor = torch.FloatTensor(state).unsqueeze(0).to(device)\n",
    "            action_values = self(state_tensor)\n",
    "            return torch.argmax(action_values).item()\n",
    "\n",
    "# -------------------------\n",
    "# Test Simulation Function\n",
    "# -------------------------\n",
    "def test_agent(agent, env):\n",
    "    state = env.reset()\n",
    "    done = False\n",
    "    actions_taken = []\n",
    "    while not done:\n",
    "        action = agent.act(state)\n",
    "        actions_taken.append(action)\n",
    "        state, reward, done = env.step(action)\n",
    "    return env.portfolio_value_history, actions_taken\n",
    "\n",
    "# -------------------------\n",
    "# Plotting Function\n",
    "# -------------------------\n",
    "def plot_results(portfolio_values, title):\n",
    "    fig = go.Figure()\n",
    "    fig.add_trace(go.Scatter(\n",
    "        x=list(range(len(portfolio_values))),\n",
    "        y=portfolio_values,\n",
    "        mode='lines+markers',\n",
    "        name='Portfolio Value'\n",
    "    ))\n",
    "    fig.update_layout(title=title,\n",
    "                      xaxis_title='Trading Days',\n",
    "                      yaxis_title='Portfolio Value ($)')\n",
    "    fig.show()\n",
    "\n",
    "# -------------------------\n",
    "# Main Routine: Load Model and Test on Multiple Indexes\n",
    "# -------------------------\n",
    "if __name__ == '__main__':\n",
    "    try:\n",
    "        # List of indexes to test; include at least five.\n",
    "        index_list = ['^DJI', '^GSPC', '^FTSE', '^NSEI', '^N225']\n",
    "        TEST_START_DATE = '2024-01-01'\n",
    "        TEST_END_DATE = '2025-01-01'\n",
    "        TEST_INITIAL_BALANCE = 10000\n",
    "\n",
    "        # Load the pre-trained model once.\n",
    "        state_size = 12    # Must match training state vector dimension.\n",
    "        action_size = 5    # 5-action space used during training.\n",
    "        agent = DQNAgent(state_size, action_size)\n",
    "        model_path = 'final_model.pth'\n",
    "        checkpoint = torch.load(model_path, map_location=device)\n",
    "        agent.load_state_dict(checkpoint['model_state_dict'])\n",
    "        agent.eval()\n",
    "        print(\"Model loaded successfully.\")\n",
    "\n",
    "        # Initialize a DataHandler (common for all tests).\n",
    "        data_handler = DataHandler()\n",
    "\n",
    "        # Test the model on each index.\n",
    "        for symbol in index_list:\n",
    "            try:\n",
    "                test_data = data_handler.fetch_data(symbol, TEST_START_DATE, TEST_END_DATE)\n",
    "                test_env = TradingEnvironment(test_data, initial_balance=TEST_INITIAL_BALANCE)\n",
    "                portfolio_history, actions_taken = test_agent(agent, test_env)\n",
    "                final_value = portfolio_history[-1]\n",
    "                testing_return = ((final_value/TEST_INITIAL_BALANCE) - 1) * 100\n",
    "                title = f\"{symbol} Portfolio Value (Return: {testing_return:.2f}%)\"\n",
    "                plot_results(portfolio_history, title)\n",
    "                print(f\"\\nTesting Results for {symbol}:\")\n",
    "                print(f\"  Initial Balance: ${TEST_INITIAL_BALANCE:.2f}\")\n",
    "                print(f\"  Final Portfolio Value: ${final_value:.2f}\")\n",
    "                print(f\"  Return: {testing_return:.2f}%\")\n",
    "            except Exception as inner_e:\n",
    "                print(f\"Error testing on {symbol}: {inner_e}\")\n",
    "\n",
    "    except Exception as e:\n",
    "        print(f\"Error during testing: {e}\")\n",
    "        raise\n"
   ]
  },
  {
   "cell_type": "markdown",
   "metadata": {},
   "source": [
    "# Training over Multiple Indices for Better Performance🎭"
   ]
  },
  {
   "cell_type": "code",
   "execution_count": 9,
   "metadata": {},
   "outputs": [
    {
     "name": "stderr",
     "output_type": "stream",
     "text": [
      "[*********************100%***********************]  1 of 1 completed"
     ]
    },
    {
     "name": "stdout",
     "output_type": "stream",
     "text": [
      "Using device: cuda\n",
      "\n",
      "Processing USA data:\n",
      "Fetching data for AAPL from 1995-01-01 to 2024-01-01...\n",
      "Prepared data shape for 2023-12-29 00:00:00 rows and 17 columns.\n",
      "Fetching data for MSFT from 1995-01-01 to 2024-01-01...\n"
     ]
    },
    {
     "name": "stderr",
     "output_type": "stream",
     "text": [
      "\n",
      "[*********************100%***********************]  1 of 1 completed\n",
      "[*********************100%***********************]  1 of 1 completed\n",
      "[*********************100%***********************]  1 of 1 completed\n",
      "[*********************100%***********************]  1 of 1 completed\n",
      "[*********************100%***********************]  1 of 1 completed"
     ]
    },
    {
     "name": "stdout",
     "output_type": "stream",
     "text": [
      "Prepared data shape for 2023-12-29 00:00:00 rows and 17 columns.\n",
      "Fetching data for AMZN from 1995-01-01 to 2024-01-01...\n",
      "Prepared data shape for 2023-12-29 00:00:00 rows and 17 columns.\n",
      "Fetching data for NVDA from 1995-01-01 to 2024-01-01...\n",
      "Prepared data shape for 2023-12-29 00:00:00 rows and 17 columns.\n",
      "Fetching data for GOOGL from 1995-01-01 to 2024-01-01...\n",
      "Prepared data shape for 2023-12-29 00:00:00 rows and 17 columns.\n",
      "Fetching data for META from 1995-01-01 to 2024-01-01...\n"
     ]
    },
    {
     "name": "stderr",
     "output_type": "stream",
     "text": [
      "\n",
      "[*********************100%***********************]  1 of 1 completed\n",
      "[*********************100%***********************]  1 of 1 completed\n",
      "[*********************100%***********************]  1 of 1 completed\n"
     ]
    },
    {
     "name": "stdout",
     "output_type": "stream",
     "text": [
      "Prepared data shape for 2023-12-29 00:00:00 rows and 17 columns.\n",
      "Fetching data for TSLA from 1995-01-01 to 2024-01-01...\n",
      "Prepared data shape for 2023-12-29 00:00:00 rows and 17 columns.\n",
      "Fetching data for BRK-B from 1995-01-01 to 2024-01-01...\n",
      "Prepared data shape for 2023-12-29 00:00:00 rows and 17 columns.\n",
      "Fetching data for UNH from 1995-01-01 to 2024-01-01...\n",
      "Prepared data shape for 2023-12-29 00:00:00 rows and 17 columns.\n",
      "Fetching data for XOM from 1995-01-01 to 2024-01-01...\n"
     ]
    },
    {
     "name": "stderr",
     "output_type": "stream",
     "text": [
      "[*********************100%***********************]  1 of 1 completed\n",
      "[*********************100%***********************]  1 of 1 completed\n",
      "[*********************100%***********************]  1 of 1 completed\n"
     ]
    },
    {
     "name": "stdout",
     "output_type": "stream",
     "text": [
      "Prepared data shape for 2023-12-29 00:00:00 rows and 17 columns.\n",
      "\n",
      "Processing India data:\n",
      "Fetching data for RELIANCE.NS from 1995-01-01 to 2024-01-01...\n",
      "Prepared data shape for 2023-12-29 00:00:00 rows and 17 columns.\n",
      "Fetching data for TCS.NS from 1995-01-01 to 2024-01-01...\n",
      "Prepared data shape for 2023-12-29 00:00:00 rows and 17 columns.\n",
      "Fetching data for HDFCBANK.NS from 1995-01-01 to 2024-01-01...\n"
     ]
    },
    {
     "name": "stderr",
     "output_type": "stream",
     "text": [
      "[*********************100%***********************]  1 of 1 completed\n",
      "[*********************100%***********************]  1 of 1 completed\n",
      "[*********************100%***********************]  1 of 1 completed\n",
      "[*********************100%***********************]  1 of 1 completed"
     ]
    },
    {
     "name": "stdout",
     "output_type": "stream",
     "text": [
      "Prepared data shape for 2023-12-29 00:00:00 rows and 17 columns.\n",
      "Fetching data for INFY.NS from 1995-01-01 to 2024-01-01...\n",
      "Prepared data shape for 2023-12-29 00:00:00 rows and 17 columns.\n",
      "Fetching data for ICICIBANK.NS from 1995-01-01 to 2024-01-01...\n",
      "Prepared data shape for 2023-12-29 00:00:00 rows and 17 columns.\n",
      "Fetching data for KOTAKBANK.NS from 1995-01-01 to 2024-01-01...\n"
     ]
    },
    {
     "name": "stderr",
     "output_type": "stream",
     "text": [
      "\n",
      "[*********************100%***********************]  1 of 1 completed\n"
     ]
    },
    {
     "name": "stdout",
     "output_type": "stream",
     "text": [
      "Prepared data shape for 2023-12-29 00:00:00 rows and 17 columns.\n",
      "Fetching data for LT.NS from 1995-01-01 to 2024-01-01...\n",
      "Prepared data shape for 2023-12-29 00:00:00 rows and 17 columns.\n",
      "Fetching data for AXISBANK.NS from 1995-01-01 to 2024-01-01...\n"
     ]
    },
    {
     "name": "stderr",
     "output_type": "stream",
     "text": [
      "[*********************100%***********************]  1 of 1 completed\n",
      "[*********************100%***********************]  1 of 1 completed\n",
      "[*********************100%***********************]  1 of 1 completed\n"
     ]
    },
    {
     "name": "stdout",
     "output_type": "stream",
     "text": [
      "Prepared data shape for 2023-12-29 00:00:00 rows and 17 columns.\n",
      "Fetching data for ITC.NS from 1995-01-01 to 2024-01-01...\n",
      "Prepared data shape for 2023-12-29 00:00:00 rows and 17 columns.\n",
      "Fetching data for HINDUNILVR.NS from 1995-01-01 to 2024-01-01...\n",
      "Prepared data shape for 2023-12-29 00:00:00 rows and 17 columns.\n",
      "\n",
      "Processing Japan data:\n",
      "Fetching data for 7203.T from 1995-01-01 to 2024-01-01...\n"
     ]
    },
    {
     "name": "stderr",
     "output_type": "stream",
     "text": [
      "[*********************100%***********************]  1 of 1 completed\n",
      "[*********************100%***********************]  1 of 1 completed\n",
      "[*********************100%***********************]  1 of 1 completed\n",
      "[*********************100%***********************]  1 of 1 completed"
     ]
    },
    {
     "name": "stdout",
     "output_type": "stream",
     "text": [
      "Prepared data shape for 2023-12-29 00:00:00 rows and 17 columns.\n",
      "Fetching data for 6758.T from 1995-01-01 to 2024-01-01...\n",
      "Prepared data shape for 2023-12-29 00:00:00 rows and 17 columns.\n",
      "Fetching data for 9984.T from 1995-01-01 to 2024-01-01...\n",
      "Prepared data shape for 2023-12-29 00:00:00 rows and 17 columns.\n",
      "Fetching data for 8306.T from 1995-01-01 to 2024-01-01...\n",
      "Prepared data shape for 2023-12-29 00:00:00 rows and 17 columns.\n",
      "Fetching data for 6902.T from 1995-01-01 to 2024-01-01...\n"
     ]
    },
    {
     "name": "stderr",
     "output_type": "stream",
     "text": [
      "\n",
      "[*********************100%***********************]  1 of 1 completed\n",
      "[*********************100%***********************]  1 of 1 completed\n",
      "[*********************100%***********************]  1 of 1 completed\n",
      "[*********************100%***********************]  1 of 1 completed"
     ]
    },
    {
     "name": "stdout",
     "output_type": "stream",
     "text": [
      "Prepared data shape for 2023-12-29 00:00:00 rows and 17 columns.\n",
      "Fetching data for 9432.T from 1995-01-01 to 2024-01-01...\n",
      "Prepared data shape for 2023-12-29 00:00:00 rows and 17 columns.\n",
      "Fetching data for 7267.T from 1995-01-01 to 2024-01-01...\n",
      "Prepared data shape for 2023-12-29 00:00:00 rows and 17 columns.\n",
      "Fetching data for 7974.T from 1995-01-01 to 2024-01-01...\n"
     ]
    },
    {
     "name": "stderr",
     "output_type": "stream",
     "text": [
      "\n",
      "[*********************100%***********************]  1 of 1 completed\n",
      "[*********************100%***********************]  1 of 1 completed\n"
     ]
    },
    {
     "name": "stdout",
     "output_type": "stream",
     "text": [
      "Prepared data shape for 2023-12-29 00:00:00 rows and 17 columns.\n",
      "Fetching data for 6501.T from 1995-01-01 to 2024-01-01...\n",
      "Prepared data shape for 2023-12-29 00:00:00 rows and 17 columns.\n",
      "Fetching data for 8801.T from 1995-01-01 to 2024-01-01...\n",
      "Prepared data shape for 2023-12-29 00:00:00 rows and 17 columns.\n",
      "\n",
      "Processing UK data:\n",
      "Fetching data for HSBA.L from 1995-01-01 to 2024-01-01...\n"
     ]
    },
    {
     "name": "stderr",
     "output_type": "stream",
     "text": [
      "[*********************100%***********************]  1 of 1 completed\n",
      "[*********************100%***********************]  1 of 1 completed\n"
     ]
    },
    {
     "name": "stdout",
     "output_type": "stream",
     "text": [
      "Prepared data shape for 2023-12-29 00:00:00 rows and 17 columns.\n",
      "Fetching data for BP.L from 1995-01-01 to 2024-01-01...\n",
      "Prepared data shape for 2023-12-29 00:00:00 rows and 17 columns.\n",
      "Fetching data for VOD.L from 1995-01-01 to 2024-01-01...\n"
     ]
    },
    {
     "name": "stderr",
     "output_type": "stream",
     "text": [
      "[*********************100%***********************]  1 of 1 completed\n",
      "[*********************100%***********************]  1 of 1 completed\n",
      "[*********************100%***********************]  1 of 1 completed\n"
     ]
    },
    {
     "name": "stdout",
     "output_type": "stream",
     "text": [
      "Prepared data shape for 2023-12-29 00:00:00 rows and 17 columns.\n",
      "Fetching data for GSK.L from 1995-01-01 to 2024-01-01...\n",
      "Prepared data shape for 2023-12-29 00:00:00 rows and 17 columns.\n",
      "Fetching data for RIO.L from 1995-01-01 to 2024-01-01...\n",
      "Prepared data shape for 2023-12-29 00:00:00 rows and 17 columns.\n",
      "Fetching data for BT-A.L from 1995-01-01 to 2024-01-01...\n"
     ]
    },
    {
     "name": "stderr",
     "output_type": "stream",
     "text": [
      "[*********************100%***********************]  1 of 1 completed\n",
      "[*********************100%***********************]  1 of 1 completed\n",
      "[*********************100%***********************]  1 of 1 completed\n"
     ]
    },
    {
     "name": "stdout",
     "output_type": "stream",
     "text": [
      "Prepared data shape for 2023-12-29 00:00:00 rows and 17 columns.\n",
      "Fetching data for ULVR.L from 1995-01-01 to 2024-01-01...\n",
      "Prepared data shape for 2023-12-29 00:00:00 rows and 17 columns.\n",
      "Fetching data for DGE.L from 1995-01-01 to 2024-01-01...\n",
      "Prepared data shape for 2023-12-29 00:00:00 rows and 17 columns.\n",
      "Fetching data for AZN.L from 1995-01-01 to 2024-01-01...\n"
     ]
    },
    {
     "name": "stderr",
     "output_type": "stream",
     "text": [
      "[*********************100%***********************]  1 of 1 completed\n",
      "[*********************100%***********************]  1 of 1 completed\n",
      "[*********************100%***********************]  1 of 1 completed\n"
     ]
    },
    {
     "name": "stdout",
     "output_type": "stream",
     "text": [
      "Prepared data shape for 2023-12-29 00:00:00 rows and 17 columns.\n",
      "Fetching data for BATS.L from 1995-01-01 to 2024-01-01...\n",
      "Prepared data shape for 2023-12-29 00:00:00 rows and 17 columns.\n",
      "\n",
      "Processing France data:\n",
      "Fetching data for OR.PA from 1995-01-01 to 2024-01-01...\n",
      "Prepared data shape for 2023-12-29 00:00:00 rows and 17 columns.\n",
      "Fetching data for MC.PA from 1995-01-01 to 2024-01-01...\n"
     ]
    },
    {
     "name": "stderr",
     "output_type": "stream",
     "text": [
      "[*********************100%***********************]  1 of 1 completed\n",
      "[*********************100%***********************]  1 of 1 completed\n",
      "[*********************100%***********************]  1 of 1 completed\n",
      "[*********************100%***********************]  1 of 1 completed"
     ]
    },
    {
     "name": "stdout",
     "output_type": "stream",
     "text": [
      "Prepared data shape for 2023-12-29 00:00:00 rows and 17 columns.\n",
      "Fetching data for SAN.PA from 1995-01-01 to 2024-01-01...\n",
      "Prepared data shape for 2023-12-29 00:00:00 rows and 17 columns.\n",
      "Fetching data for AI.PA from 1995-01-01 to 2024-01-01...\n",
      "Prepared data shape for 2023-12-29 00:00:00 rows and 17 columns.\n",
      "Fetching data for BNP.PA from 1995-01-01 to 2024-01-01...\n"
     ]
    },
    {
     "name": "stderr",
     "output_type": "stream",
     "text": [
      "\n",
      "[*********************100%***********************]  1 of 1 completed\n"
     ]
    },
    {
     "name": "stdout",
     "output_type": "stream",
     "text": [
      "Prepared data shape for 2023-12-29 00:00:00 rows and 17 columns.\n",
      "Fetching data for DG.PA from 1995-01-01 to 2024-01-01...\n",
      "Prepared data shape for 2023-12-29 00:00:00 rows and 17 columns.\n",
      "Fetching data for EN.PA from 1995-01-01 to 2024-01-01...\n"
     ]
    },
    {
     "name": "stderr",
     "output_type": "stream",
     "text": [
      "[*********************100%***********************]  1 of 1 completed\n",
      "[*********************100%***********************]  1 of 1 completed\n",
      "[*********************100%***********************]  1 of 1 completed\n",
      "[*********************100%***********************]  1 of 1 completed"
     ]
    },
    {
     "name": "stdout",
     "output_type": "stream",
     "text": [
      "Prepared data shape for 2023-12-29 00:00:00 rows and 17 columns.\n",
      "Fetching data for RI.PA from 1995-01-01 to 2024-01-01...\n",
      "Prepared data shape for 2023-12-29 00:00:00 rows and 17 columns.\n",
      "Fetching data for KER.PA from 1995-01-01 to 2024-01-01...\n",
      "Prepared data shape for 2023-12-29 00:00:00 rows and 17 columns.\n",
      "Fetching data for SU.PA from 1995-01-01 to 2024-01-01...\n",
      "Prepared data shape for 2023-12-29 00:00:00 rows and 17 columns.\n"
     ]
    },
    {
     "name": "stderr",
     "output_type": "stream",
     "text": [
      "\n"
     ]
    },
    {
     "name": "stdout",
     "output_type": "stream",
     "text": [
      "\n",
      "Starting training on multiple indexes...\n"
     ]
    },
    {
     "name": "stderr",
     "output_type": "stream",
     "text": [
      "Training Episodes:   1%|          | 1/100 [00:15<24:47, 15.03s/it]"
     ]
    },
    {
     "name": "stdout",
     "output_type": "stream",
     "text": [
      "\n",
      "Episode 1/100 | Country: France | Total Reward: 1.44 | Avg Loss: 0.0002 | Epsilon: 0.0100 | Final Portfolio: $307754.28\n"
     ]
    },
    {
     "name": "stderr",
     "output_type": "stream",
     "text": [
      "Training Episodes:   2%|▏         | 2/100 [00:25<19:53, 12.18s/it]"
     ]
    },
    {
     "name": "stdout",
     "output_type": "stream",
     "text": [
      "\n",
      "Episode 2/100 | Country: Japan | Total Reward: 0.95 | Avg Loss: 0.0001 | Epsilon: 0.0100 | Final Portfolio: $197847.65\n"
     ]
    },
    {
     "name": "stderr",
     "output_type": "stream",
     "text": [
      "Training Episodes:   3%|▎         | 3/100 [00:41<22:31, 13.93s/it]"
     ]
    },
    {
     "name": "stdout",
     "output_type": "stream",
     "text": [
      "\n",
      "Episode 3/100 | Country: UK | Total Reward: 16.06 | Avg Loss: 0.0342 | Epsilon: 0.0100 | Final Portfolio: $160757.18\n"
     ]
    },
    {
     "name": "stderr",
     "output_type": "stream",
     "text": [
      "Training Episodes:   4%|▍         | 4/100 [00:52<20:46, 12.99s/it]"
     ]
    },
    {
     "name": "stdout",
     "output_type": "stream",
     "text": [
      "\n",
      "Episode 4/100 | Country: India | Total Reward: 2.38 | Avg Loss: 0.0001 | Epsilon: 0.0100 | Final Portfolio: $758757.08\n"
     ]
    },
    {
     "name": "stderr",
     "output_type": "stream",
     "text": [
      "Training Episodes:   5%|▌         | 5/100 [00:59<16:47, 10.60s/it]"
     ]
    },
    {
     "name": "stdout",
     "output_type": "stream",
     "text": [
      "\n",
      "Episode 5/100 | Country: USA | Total Reward: 0.45 | Avg Loss: 0.0000 | Epsilon: 0.0100 | Final Portfolio: $144427.59\n"
     ]
    },
    {
     "name": "stderr",
     "output_type": "stream",
     "text": [
      "Training Episodes:   6%|▌         | 6/100 [01:12<18:03, 11.53s/it]"
     ]
    },
    {
     "name": "stdout",
     "output_type": "stream",
     "text": [
      "\n",
      "Episode 6/100 | Country: France | Total Reward: 0.99 | Avg Loss: 0.0001 | Epsilon: 0.0100 | Final Portfolio: $221909.35\n"
     ]
    },
    {
     "name": "stderr",
     "output_type": "stream",
     "text": [
      "Training Episodes:   7%|▋         | 7/100 [01:23<17:48, 11.49s/it]"
     ]
    },
    {
     "name": "stdout",
     "output_type": "stream",
     "text": [
      "\n",
      "Episode 7/100 | Country: India | Total Reward: 1.29 | Avg Loss: 0.0001 | Epsilon: 0.0100 | Final Portfolio: $302857.33\n"
     ]
    },
    {
     "name": "stderr",
     "output_type": "stream",
     "text": [
      "Training Episodes:   8%|▊         | 8/100 [01:30<15:11,  9.91s/it]"
     ]
    },
    {
     "name": "stdout",
     "output_type": "stream",
     "text": [
      "\n",
      "Episode 8/100 | Country: USA | Total Reward: 0.68 | Avg Loss: 0.0001 | Epsilon: 0.0100 | Final Portfolio: $175654.32\n"
     ]
    },
    {
     "name": "stderr",
     "output_type": "stream",
     "text": [
      "Training Episodes:   9%|▉         | 9/100 [01:40<14:59,  9.89s/it]"
     ]
    },
    {
     "name": "stdout",
     "output_type": "stream",
     "text": [
      "\n",
      "Episode 9/100 | Country: Japan | Total Reward: 1.20 | Avg Loss: 0.0001 | Epsilon: 0.0100 | Final Portfolio: $259895.05\n"
     ]
    },
    {
     "name": "stderr",
     "output_type": "stream",
     "text": [
      "Training Episodes:  10%|█         | 10/100 [01:53<16:25, 10.95s/it]"
     ]
    },
    {
     "name": "stdout",
     "output_type": "stream",
     "text": [
      "\n",
      "Episode 10/100 | Country: France | Total Reward: 0.78 | Avg Loss: 0.0001 | Epsilon: 0.0100 | Final Portfolio: $172116.83\n"
     ]
    },
    {
     "name": "stderr",
     "output_type": "stream",
     "text": [
      "Training Episodes:  11%|█         | 11/100 [02:05<16:29, 11.12s/it]"
     ]
    },
    {
     "name": "stdout",
     "output_type": "stream",
     "text": [
      "\n",
      "Episode 11/100 | Country: India | Total Reward: 2.74 | Avg Loss: 0.0001 | Epsilon: 0.0100 | Final Portfolio: $1244014.93\n"
     ]
    },
    {
     "name": "stderr",
     "output_type": "stream",
     "text": [
      "Training Episodes:  12%|█▏        | 12/100 [02:16<16:30, 11.26s/it]"
     ]
    },
    {
     "name": "stdout",
     "output_type": "stream",
     "text": [
      "\n",
      "Episode 12/100 | Country: India | Total Reward: 3.02 | Avg Loss: 0.0001 | Epsilon: 0.0100 | Final Portfolio: $1492373.11\n"
     ]
    },
    {
     "name": "stderr",
     "output_type": "stream",
     "text": [
      "Training Episodes:  13%|█▎        | 13/100 [02:30<17:40, 12.19s/it]"
     ]
    },
    {
     "name": "stdout",
     "output_type": "stream",
     "text": [
      "\n",
      "Episode 13/100 | Country: France | Total Reward: 0.22 | Avg Loss: 0.0001 | Epsilon: 0.0100 | Final Portfolio: $99523.30\n"
     ]
    },
    {
     "name": "stderr",
     "output_type": "stream",
     "text": [
      "Training Episodes:  14%|█▍        | 14/100 [02:40<16:30, 11.52s/it]"
     ]
    },
    {
     "name": "stdout",
     "output_type": "stream",
     "text": [
      "\n",
      "Episode 14/100 | Country: Japan | Total Reward: 0.81 | Avg Loss: 0.0001 | Epsilon: 0.0100 | Final Portfolio: $172276.34\n"
     ]
    },
    {
     "name": "stderr",
     "output_type": "stream",
     "text": [
      "Training Episodes:  15%|█▌        | 15/100 [02:50<15:31, 10.96s/it]"
     ]
    },
    {
     "name": "stdout",
     "output_type": "stream",
     "text": [
      "\n",
      "Episode 15/100 | Country: Japan | Total Reward: 1.21 | Avg Loss: 0.0001 | Epsilon: 0.0100 | Final Portfolio: $246364.50\n"
     ]
    },
    {
     "name": "stderr",
     "output_type": "stream",
     "text": [
      "Training Episodes:  16%|█▌        | 16/100 [03:00<14:50, 10.60s/it]"
     ]
    },
    {
     "name": "stdout",
     "output_type": "stream",
     "text": [
      "\n",
      "Episode 16/100 | Country: Japan | Total Reward: 2.63 | Avg Loss: 0.0001 | Epsilon: 0.0100 | Final Portfolio: $1013422.35\n"
     ]
    },
    {
     "name": "stderr",
     "output_type": "stream",
     "text": [
      "Training Episodes:  17%|█▋        | 17/100 [03:06<12:53,  9.32s/it]"
     ]
    },
    {
     "name": "stdout",
     "output_type": "stream",
     "text": [
      "\n",
      "Episode 17/100 | Country: USA | Total Reward: 1.20 | Avg Loss: 0.0001 | Epsilon: 0.0100 | Final Portfolio: $299355.14\n"
     ]
    },
    {
     "name": "stderr",
     "output_type": "stream",
     "text": [
      "Training Episodes:  18%|█▊        | 18/100 [03:16<12:56,  9.47s/it]"
     ]
    },
    {
     "name": "stdout",
     "output_type": "stream",
     "text": [
      "\n",
      "Episode 18/100 | Country: Japan | Total Reward: 2.75 | Avg Loss: 0.0001 | Epsilon: 0.0100 | Final Portfolio: $1134602.87\n"
     ]
    },
    {
     "name": "stderr",
     "output_type": "stream",
     "text": [
      "Training Episodes:  19%|█▉        | 19/100 [03:26<12:53,  9.56s/it]"
     ]
    },
    {
     "name": "stdout",
     "output_type": "stream",
     "text": [
      "\n",
      "Episode 19/100 | Country: Japan | Total Reward: 0.99 | Avg Loss: 0.0001 | Epsilon: 0.0100 | Final Portfolio: $207120.63\n"
     ]
    },
    {
     "name": "stderr",
     "output_type": "stream",
     "text": [
      "Training Episodes:  20%|██        | 20/100 [03:36<12:50,  9.63s/it]"
     ]
    },
    {
     "name": "stdout",
     "output_type": "stream",
     "text": [
      "\n",
      "Episode 20/100 | Country: Japan | Total Reward: 1.79 | Avg Loss: 0.0001 | Epsilon: 0.0100 | Final Portfolio: $475981.53\n"
     ]
    },
    {
     "name": "stderr",
     "output_type": "stream",
     "text": [
      "Training Episodes:  21%|██        | 21/100 [03:49<14:05, 10.71s/it]"
     ]
    },
    {
     "name": "stdout",
     "output_type": "stream",
     "text": [
      "\n",
      "Episode 21/100 | Country: France | Total Reward: 0.39 | Avg Loss: 0.0001 | Epsilon: 0.0100 | Final Portfolio: $120716.73\n"
     ]
    },
    {
     "name": "stderr",
     "output_type": "stream",
     "text": [
      "Training Episodes:  22%|██▏       | 22/100 [03:58<13:30, 10.39s/it]"
     ]
    },
    {
     "name": "stdout",
     "output_type": "stream",
     "text": [
      "\n",
      "Episode 22/100 | Country: Japan | Total Reward: 1.34 | Avg Loss: 0.0001 | Epsilon: 0.0100 | Final Portfolio: $270148.98\n"
     ]
    },
    {
     "name": "stderr",
     "output_type": "stream",
     "text": [
      "Training Episodes:  23%|██▎       | 23/100 [04:08<13:02, 10.16s/it]"
     ]
    },
    {
     "name": "stdout",
     "output_type": "stream",
     "text": [
      "\n",
      "Episode 23/100 | Country: Japan | Total Reward: 1.34 | Avg Loss: 0.0001 | Epsilon: 0.0100 | Final Portfolio: $263607.12\n"
     ]
    },
    {
     "name": "stderr",
     "output_type": "stream",
     "text": [
      "Training Episodes:  24%|██▍       | 24/100 [04:18<12:41, 10.02s/it]"
     ]
    },
    {
     "name": "stdout",
     "output_type": "stream",
     "text": [
      "\n",
      "Episode 24/100 | Country: Japan | Total Reward: 1.94 | Avg Loss: 0.0001 | Epsilon: 0.0100 | Final Portfolio: $483627.27\n"
     ]
    },
    {
     "name": "stderr",
     "output_type": "stream",
     "text": [
      "Training Episodes:  25%|██▌       | 25/100 [04:29<13:05, 10.47s/it]"
     ]
    },
    {
     "name": "stdout",
     "output_type": "stream",
     "text": [
      "\n",
      "Episode 25/100 | Country: India | Total Reward: 2.94 | Avg Loss: 0.0001 | Epsilon: 0.0100 | Final Portfolio: $1364454.97\n"
     ]
    },
    {
     "name": "stderr",
     "output_type": "stream",
     "text": [
      "Training Episodes:  26%|██▌       | 26/100 [04:39<12:38, 10.25s/it]"
     ]
    },
    {
     "name": "stdout",
     "output_type": "stream",
     "text": [
      "\n",
      "Episode 26/100 | Country: Japan | Total Reward: 1.07 | Avg Loss: 0.0001 | Epsilon: 0.0100 | Final Portfolio: $205059.05\n"
     ]
    },
    {
     "name": "stderr",
     "output_type": "stream",
     "text": [
      "Training Episodes:  27%|██▋       | 27/100 [04:45<11:02,  9.08s/it]"
     ]
    },
    {
     "name": "stdout",
     "output_type": "stream",
     "text": [
      "\n",
      "Episode 27/100 | Country: USA | Total Reward: 1.54 | Avg Loss: 0.0001 | Epsilon: 0.0100 | Final Portfolio: $411761.10\n"
     ]
    },
    {
     "name": "stderr",
     "output_type": "stream",
     "text": [
      "Training Episodes:  28%|██▊       | 28/100 [05:01<13:22, 11.15s/it]"
     ]
    },
    {
     "name": "stdout",
     "output_type": "stream",
     "text": [
      "\n",
      "Episode 28/100 | Country: UK | Total Reward: 4.41 | Avg Loss: 0.0016 | Epsilon: 0.0100 | Final Portfolio: $654373.38\n"
     ]
    },
    {
     "name": "stderr",
     "output_type": "stream",
     "text": [
      "Training Episodes:  29%|██▉       | 29/100 [05:17<14:55, 12.62s/it]"
     ]
    },
    {
     "name": "stdout",
     "output_type": "stream",
     "text": [
      "\n",
      "Episode 29/100 | Country: UK | Total Reward: 6.17 | Avg Loss: 0.0020 | Epsilon: 0.0100 | Final Portfolio: $595231.21\n"
     ]
    },
    {
     "name": "stderr",
     "output_type": "stream",
     "text": [
      "Training Episodes:  30%|███       | 30/100 [05:33<15:54, 13.63s/it]"
     ]
    },
    {
     "name": "stdout",
     "output_type": "stream",
     "text": [
      "\n",
      "Episode 30/100 | Country: UK | Total Reward: 2.49 | Avg Loss: 0.0017 | Epsilon: 0.0100 | Final Portfolio: $90491.22\n"
     ]
    },
    {
     "name": "stderr",
     "output_type": "stream",
     "text": [
      "Training Episodes:  31%|███       | 31/100 [05:49<16:31, 14.36s/it]"
     ]
    },
    {
     "name": "stdout",
     "output_type": "stream",
     "text": [
      "\n",
      "Episode 31/100 | Country: UK | Total Reward: 7.56 | Avg Loss: 0.0090 | Epsilon: 0.0100 | Final Portfolio: $35776.79\n"
     ]
    },
    {
     "name": "stderr",
     "output_type": "stream",
     "text": [
      "Training Episodes:  32%|███▏      | 32/100 [05:56<13:33, 11.96s/it]"
     ]
    },
    {
     "name": "stdout",
     "output_type": "stream",
     "text": [
      "\n",
      "Episode 32/100 | Country: USA | Total Reward: 1.38 | Avg Loss: 0.0001 | Epsilon: 0.0100 | Final Portfolio: $361452.69\n"
     ]
    },
    {
     "name": "stderr",
     "output_type": "stream",
     "text": [
      "Training Episodes:  33%|███▎      | 33/100 [06:02<11:29, 10.29s/it]"
     ]
    },
    {
     "name": "stdout",
     "output_type": "stream",
     "text": [
      "\n",
      "Episode 33/100 | Country: USA | Total Reward: 0.80 | Avg Loss: 0.0001 | Epsilon: 0.0100 | Final Portfolio: $199786.86\n"
     ]
    },
    {
     "name": "stderr",
     "output_type": "stream",
     "text": [
      "Training Episodes:  34%|███▍      | 34/100 [06:12<11:08, 10.12s/it]"
     ]
    },
    {
     "name": "stdout",
     "output_type": "stream",
     "text": [
      "\n",
      "Episode 34/100 | Country: Japan | Total Reward: 1.32 | Avg Loss: 0.0001 | Epsilon: 0.0100 | Final Portfolio: $299316.39\n"
     ]
    },
    {
     "name": "stderr",
     "output_type": "stream",
     "text": [
      "Training Episodes:  35%|███▌      | 35/100 [06:28<12:51, 11.87s/it]"
     ]
    },
    {
     "name": "stdout",
     "output_type": "stream",
     "text": [
      "\n",
      "Episode 35/100 | Country: UK | Total Reward: 13.87 | Avg Loss: 0.0315 | Epsilon: 0.0100 | Final Portfolio: $139529.17\n"
     ]
    },
    {
     "name": "stderr",
     "output_type": "stream",
     "text": [
      "Training Episodes:  36%|███▌      | 36/100 [06:39<12:32, 11.76s/it]"
     ]
    },
    {
     "name": "stdout",
     "output_type": "stream",
     "text": [
      "\n",
      "Episode 36/100 | Country: India | Total Reward: 4.06 | Avg Loss: 0.0001 | Epsilon: 0.0100 | Final Portfolio: $3958281.53\n"
     ]
    },
    {
     "name": "stderr",
     "output_type": "stream",
     "text": [
      "Training Episodes:  37%|███▋      | 37/100 [06:46<10:37, 10.12s/it]"
     ]
    },
    {
     "name": "stdout",
     "output_type": "stream",
     "text": [
      "\n",
      "Episode 37/100 | Country: USA | Total Reward: 0.98 | Avg Loss: 0.0001 | Epsilon: 0.0100 | Final Portfolio: $240455.24\n"
     ]
    },
    {
     "name": "stderr",
     "output_type": "stream",
     "text": [
      "Training Episodes:  38%|███▊      | 38/100 [06:55<10:19, 10.00s/it]"
     ]
    },
    {
     "name": "stdout",
     "output_type": "stream",
     "text": [
      "\n",
      "Episode 38/100 | Country: Japan | Total Reward: 1.11 | Avg Loss: 0.0001 | Epsilon: 0.0100 | Final Portfolio: $224887.13\n"
     ]
    },
    {
     "name": "stderr",
     "output_type": "stream",
     "text": [
      "Training Episodes:  39%|███▉      | 39/100 [07:02<09:03,  8.91s/it]"
     ]
    },
    {
     "name": "stdout",
     "output_type": "stream",
     "text": [
      "\n",
      "Episode 39/100 | Country: USA | Total Reward: 0.21 | Avg Loss: 0.0001 | Epsilon: 0.0100 | Final Portfolio: $115929.59\n"
     ]
    },
    {
     "name": "stderr",
     "output_type": "stream",
     "text": [
      "Training Episodes:  40%|████      | 40/100 [07:18<11:12, 11.21s/it]"
     ]
    },
    {
     "name": "stdout",
     "output_type": "stream",
     "text": [
      "\n",
      "Episode 40/100 | Country: UK | Total Reward: 4.78 | Avg Loss: 0.0066 | Epsilon: 0.0100 | Final Portfolio: $1947.90\n"
     ]
    },
    {
     "name": "stderr",
     "output_type": "stream",
     "text": [
      "Training Episodes:  41%|████      | 41/100 [07:30<11:05, 11.28s/it]"
     ]
    },
    {
     "name": "stdout",
     "output_type": "stream",
     "text": [
      "\n",
      "Episode 41/100 | Country: India | Total Reward: 2.87 | Avg Loss: 0.0001 | Epsilon: 0.0100 | Final Portfolio: $1272589.06\n"
     ]
    },
    {
     "name": "stderr",
     "output_type": "stream",
     "text": [
      "Training Episodes:  42%|████▏     | 42/100 [07:36<09:28,  9.80s/it]"
     ]
    },
    {
     "name": "stdout",
     "output_type": "stream",
     "text": [
      "\n",
      "Episode 42/100 | Country: USA | Total Reward: 1.46 | Avg Loss: 0.0001 | Epsilon: 0.0100 | Final Portfolio: $387416.79\n"
     ]
    },
    {
     "name": "stderr",
     "output_type": "stream",
     "text": [
      "Training Episodes:  43%|████▎     | 43/100 [07:52<11:04, 11.65s/it]"
     ]
    },
    {
     "name": "stdout",
     "output_type": "stream",
     "text": [
      "\n",
      "Episode 43/100 | Country: UK | Total Reward: 17.41 | Avg Loss: 0.0252 | Epsilon: 0.0100 | Final Portfolio: $538869.89\n"
     ]
    },
    {
     "name": "stderr",
     "output_type": "stream",
     "text": [
      "Training Episodes:  44%|████▍     | 44/100 [08:04<10:49, 11.60s/it]"
     ]
    },
    {
     "name": "stdout",
     "output_type": "stream",
     "text": [
      "\n",
      "Episode 44/100 | Country: India | Total Reward: 3.04 | Avg Loss: 0.0001 | Epsilon: 0.0100 | Final Portfolio: $1579560.78\n"
     ]
    },
    {
     "name": "stderr",
     "output_type": "stream",
     "text": [
      "Training Episodes:  45%|████▌     | 45/100 [08:10<09:11, 10.02s/it]"
     ]
    },
    {
     "name": "stdout",
     "output_type": "stream",
     "text": [
      "\n",
      "Episode 45/100 | Country: USA | Total Reward: 1.34 | Avg Loss: 0.0001 | Epsilon: 0.0100 | Final Portfolio: $338380.95\n"
     ]
    },
    {
     "name": "stderr",
     "output_type": "stream",
     "text": [
      "Training Episodes:  46%|████▌     | 46/100 [08:21<09:25, 10.47s/it]"
     ]
    },
    {
     "name": "stdout",
     "output_type": "stream",
     "text": [
      "\n",
      "Episode 46/100 | Country: India | Total Reward: 3.20 | Avg Loss: 0.0001 | Epsilon: 0.0100 | Final Portfolio: $1821697.03\n"
     ]
    },
    {
     "name": "stderr",
     "output_type": "stream",
     "text": [
      "Training Episodes:  47%|████▋     | 47/100 [08:28<08:08,  9.22s/it]"
     ]
    },
    {
     "name": "stdout",
     "output_type": "stream",
     "text": [
      "\n",
      "Episode 47/100 | Country: USA | Total Reward: 1.64 | Avg Loss: 0.0001 | Epsilon: 0.0100 | Final Portfolio: $451890.50\n"
     ]
    },
    {
     "name": "stderr",
     "output_type": "stream",
     "text": [
      "Training Episodes:  48%|████▊     | 48/100 [08:41<09:01, 10.42s/it]"
     ]
    },
    {
     "name": "stdout",
     "output_type": "stream",
     "text": [
      "\n",
      "Episode 48/100 | Country: France | Total Reward: -0.00 | Avg Loss: 0.0001 | Epsilon: 0.0100 | Final Portfolio: $74485.51\n"
     ]
    },
    {
     "name": "stderr",
     "output_type": "stream",
     "text": [
      "Training Episodes:  49%|████▉     | 49/100 [08:51<08:41, 10.23s/it]"
     ]
    },
    {
     "name": "stdout",
     "output_type": "stream",
     "text": [
      "\n",
      "Episode 49/100 | Country: Japan | Total Reward: 0.73 | Avg Loss: 0.0001 | Epsilon: 0.0100 | Final Portfolio: $170499.84\n"
     ]
    },
    {
     "name": "stderr",
     "output_type": "stream",
     "text": [
      "Training Episodes:  50%|█████     | 50/100 [09:04<09:17, 11.15s/it]"
     ]
    },
    {
     "name": "stdout",
     "output_type": "stream",
     "text": [
      "\n",
      "Episode 50/100 | Country: France | Total Reward: 0.95 | Avg Loss: 0.0001 | Epsilon: 0.0100 | Final Portfolio: $195796.85\n"
     ]
    },
    {
     "name": "stderr",
     "output_type": "stream",
     "text": [
      "Training Episodes:  51%|█████     | 51/100 [09:21<10:24, 12.75s/it]"
     ]
    },
    {
     "name": "stdout",
     "output_type": "stream",
     "text": [
      "\n",
      "Episode 51/100 | Country: UK | Total Reward: 0.67 | Avg Loss: 0.0017 | Epsilon: 0.0100 | Final Portfolio: $4019.76\n"
     ]
    },
    {
     "name": "stderr",
     "output_type": "stream",
     "text": [
      "Training Episodes:  52%|█████▏    | 52/100 [09:34<10:20, 12.92s/it]"
     ]
    },
    {
     "name": "stdout",
     "output_type": "stream",
     "text": [
      "\n",
      "Episode 52/100 | Country: France | Total Reward: 0.17 | Avg Loss: 0.0001 | Epsilon: 0.0100 | Final Portfolio: $91482.21\n"
     ]
    },
    {
     "name": "stderr",
     "output_type": "stream",
     "text": [
      "Training Episodes:  53%|█████▎    | 53/100 [09:45<09:48, 12.51s/it]"
     ]
    },
    {
     "name": "stdout",
     "output_type": "stream",
     "text": [
      "\n",
      "Episode 53/100 | Country: India | Total Reward: 3.31 | Avg Loss: 0.0001 | Epsilon: 0.0100 | Final Portfolio: $1956957.22\n"
     ]
    },
    {
     "name": "stderr",
     "output_type": "stream",
     "text": [
      "Training Episodes:  54%|█████▍    | 54/100 [09:59<09:46, 12.76s/it]"
     ]
    },
    {
     "name": "stdout",
     "output_type": "stream",
     "text": [
      "\n",
      "Episode 54/100 | Country: India | Total Reward: 3.99 | Avg Loss: 0.0001 | Epsilon: 0.0100 | Final Portfolio: $3732938.77\n"
     ]
    },
    {
     "name": "stderr",
     "output_type": "stream",
     "text": [
      "Training Episodes:  55%|█████▌    | 55/100 [10:26<12:55, 17.22s/it]"
     ]
    },
    {
     "name": "stdout",
     "output_type": "stream",
     "text": [
      "\n",
      "Episode 55/100 | Country: UK | Total Reward: 2.89 | Avg Loss: 0.0017 | Epsilon: 0.0100 | Final Portfolio: $205508.98\n"
     ]
    },
    {
     "name": "stderr",
     "output_type": "stream",
     "text": [
      "Training Episodes:  56%|█████▌    | 56/100 [10:37<11:13, 15.30s/it]"
     ]
    },
    {
     "name": "stdout",
     "output_type": "stream",
     "text": [
      "\n",
      "Episode 56/100 | Country: USA | Total Reward: 1.23 | Avg Loss: 0.0001 | Epsilon: 0.0100 | Final Portfolio: $311850.69\n"
     ]
    },
    {
     "name": "stderr",
     "output_type": "stream",
     "text": [
      "Training Episodes:  57%|█████▋    | 57/100 [11:00<12:35, 17.56s/it]"
     ]
    },
    {
     "name": "stdout",
     "output_type": "stream",
     "text": [
      "\n",
      "Episode 57/100 | Country: France | Total Reward: 0.67 | Avg Loss: 0.0001 | Epsilon: 0.0100 | Final Portfolio: $140545.50\n"
     ]
    },
    {
     "name": "stderr",
     "output_type": "stream",
     "text": [
      "Training Episodes:  58%|█████▊    | 58/100 [11:22<13:18, 19.00s/it]"
     ]
    },
    {
     "name": "stdout",
     "output_type": "stream",
     "text": [
      "\n",
      "Episode 58/100 | Country: France | Total Reward: 1.06 | Avg Loss: 0.0001 | Epsilon: 0.0100 | Final Portfolio: $217137.06\n"
     ]
    },
    {
     "name": "stderr",
     "output_type": "stream",
     "text": [
      "Training Episodes:  59%|█████▉    | 59/100 [11:39<12:27, 18.22s/it]"
     ]
    },
    {
     "name": "stdout",
     "output_type": "stream",
     "text": [
      "\n",
      "Episode 59/100 | Country: Japan | Total Reward: 1.61 | Avg Loss: 0.0002 | Epsilon: 0.0100 | Final Portfolio: $352276.93\n"
     ]
    },
    {
     "name": "stderr",
     "output_type": "stream",
     "text": [
      "Training Episodes:  60%|██████    | 60/100 [11:50<10:44, 16.11s/it]"
     ]
    },
    {
     "name": "stdout",
     "output_type": "stream",
     "text": [
      "\n",
      "Episode 60/100 | Country: USA | Total Reward: 0.45 | Avg Loss: 0.0001 | Epsilon: 0.0100 | Final Portfolio: $144536.38\n"
     ]
    },
    {
     "name": "stderr",
     "output_type": "stream",
     "text": [
      "Training Episodes:  61%|██████    | 61/100 [12:13<11:49, 18.19s/it]"
     ]
    },
    {
     "name": "stdout",
     "output_type": "stream",
     "text": [
      "\n",
      "Episode 61/100 | Country: France | Total Reward: 0.46 | Avg Loss: 0.0001 | Epsilon: 0.0100 | Final Portfolio: $123274.69\n"
     ]
    },
    {
     "name": "stderr",
     "output_type": "stream",
     "text": [
      "Training Episodes:  62%|██████▏   | 62/100 [12:32<11:44, 18.54s/it]"
     ]
    },
    {
     "name": "stdout",
     "output_type": "stream",
     "text": [
      "\n",
      "Episode 62/100 | Country: India | Total Reward: 3.64 | Avg Loss: 0.0001 | Epsilon: 0.0100 | Final Portfolio: $2759494.11\n"
     ]
    },
    {
     "name": "stderr",
     "output_type": "stream",
     "text": [
      "Training Episodes:  63%|██████▎   | 63/100 [12:49<11:08, 18.06s/it]"
     ]
    },
    {
     "name": "stdout",
     "output_type": "stream",
     "text": [
      "\n",
      "Episode 63/100 | Country: Japan | Total Reward: 0.86 | Avg Loss: 0.0001 | Epsilon: 0.0100 | Final Portfolio: $194320.52\n"
     ]
    },
    {
     "name": "stderr",
     "output_type": "stream",
     "text": [
      "Training Episodes:  64%|██████▍   | 64/100 [13:11<11:27, 19.10s/it]"
     ]
    },
    {
     "name": "stdout",
     "output_type": "stream",
     "text": [
      "\n",
      "Episode 64/100 | Country: France | Total Reward: 0.62 | Avg Loss: 0.0001 | Epsilon: 0.0100 | Final Portfolio: $149981.29\n"
     ]
    },
    {
     "name": "stderr",
     "output_type": "stream",
     "text": [
      "Training Episodes:  65%|██████▌   | 65/100 [13:27<10:32, 18.08s/it]"
     ]
    },
    {
     "name": "stdout",
     "output_type": "stream",
     "text": [
      "\n",
      "Episode 65/100 | Country: Japan | Total Reward: 1.68 | Avg Loss: 0.0001 | Epsilon: 0.0100 | Final Portfolio: $389981.63\n"
     ]
    },
    {
     "name": "stderr",
     "output_type": "stream",
     "text": [
      "Training Episodes:  66%|██████▌   | 66/100 [13:54<11:45, 20.75s/it]"
     ]
    },
    {
     "name": "stdout",
     "output_type": "stream",
     "text": [
      "\n",
      "Episode 66/100 | Country: UK | Total Reward: 3.03 | Avg Loss: 0.0074 | Epsilon: 0.0100 | Final Portfolio: $198.23\n"
     ]
    },
    {
     "name": "stderr",
     "output_type": "stream",
     "text": [
      "Training Episodes:  67%|██████▋   | 67/100 [14:04<09:45, 17.75s/it]"
     ]
    },
    {
     "name": "stdout",
     "output_type": "stream",
     "text": [
      "\n",
      "Episode 67/100 | Country: USA | Total Reward: 1.03 | Avg Loss: 0.0000 | Epsilon: 0.0100 | Final Portfolio: $250638.70\n"
     ]
    },
    {
     "name": "stderr",
     "output_type": "stream",
     "text": [
      "Training Episodes:  68%|██████▊   | 68/100 [14:15<08:18, 15.59s/it]"
     ]
    },
    {
     "name": "stdout",
     "output_type": "stream",
     "text": [
      "\n",
      "Episode 68/100 | Country: USA | Total Reward: 1.25 | Avg Loss: 0.0001 | Epsilon: 0.0100 | Final Portfolio: $310266.13\n"
     ]
    },
    {
     "name": "stderr",
     "output_type": "stream",
     "text": [
      "Training Episodes:  69%|██████▉   | 69/100 [14:35<08:43, 16.88s/it]"
     ]
    },
    {
     "name": "stdout",
     "output_type": "stream",
     "text": [
      "\n",
      "Episode 69/100 | Country: India | Total Reward: 2.62 | Avg Loss: 0.0001 | Epsilon: 0.0100 | Final Portfolio: $1044152.71\n"
     ]
    },
    {
     "name": "stderr",
     "output_type": "stream",
     "text": [
      "Training Episodes:  70%|███████   | 70/100 [14:58<09:22, 18.74s/it]"
     ]
    },
    {
     "name": "stdout",
     "output_type": "stream",
     "text": [
      "\n",
      "Episode 70/100 | Country: France | Total Reward: 0.01 | Avg Loss: 0.0001 | Epsilon: 0.0100 | Final Portfolio: $77544.58\n"
     ]
    },
    {
     "name": "stderr",
     "output_type": "stream",
     "text": [
      "Training Episodes:  71%|███████   | 71/100 [15:17<09:05, 18.81s/it]"
     ]
    },
    {
     "name": "stdout",
     "output_type": "stream",
     "text": [
      "\n",
      "Episode 71/100 | Country: India | Total Reward: 3.36 | Avg Loss: 0.0001 | Epsilon: 0.0100 | Final Portfolio: $2217949.12\n"
     ]
    },
    {
     "name": "stderr",
     "output_type": "stream",
     "text": [
      "Training Episodes:  72%|███████▏  | 72/100 [15:36<08:46, 18.81s/it]"
     ]
    },
    {
     "name": "stdout",
     "output_type": "stream",
     "text": [
      "\n",
      "Episode 72/100 | Country: India | Total Reward: 2.78 | Avg Loss: 0.0001 | Epsilon: 0.0100 | Final Portfolio: $1178094.84\n"
     ]
    },
    {
     "name": "stderr",
     "output_type": "stream",
     "text": [
      "Training Episodes:  73%|███████▎  | 73/100 [15:46<07:19, 16.29s/it]"
     ]
    },
    {
     "name": "stdout",
     "output_type": "stream",
     "text": [
      "\n",
      "Episode 73/100 | Country: USA | Total Reward: 1.18 | Avg Loss: 0.0001 | Epsilon: 0.0100 | Final Portfolio: $283691.80\n"
     ]
    },
    {
     "name": "stderr",
     "output_type": "stream",
     "text": [
      "Training Episodes:  74%|███████▍  | 74/100 [16:08<07:47, 18.00s/it]"
     ]
    },
    {
     "name": "stdout",
     "output_type": "stream",
     "text": [
      "\n",
      "Episode 74/100 | Country: France | Total Reward: 0.92 | Avg Loss: 0.0001 | Epsilon: 0.0100 | Final Portfolio: $198908.62\n"
     ]
    },
    {
     "name": "stderr",
     "output_type": "stream",
     "text": [
      "Training Episodes:  75%|███████▌  | 75/100 [16:27<07:37, 18.31s/it]"
     ]
    },
    {
     "name": "stdout",
     "output_type": "stream",
     "text": [
      "\n",
      "Episode 75/100 | Country: India | Total Reward: 1.10 | Avg Loss: 0.0001 | Epsilon: 0.0100 | Final Portfolio: $258097.63\n"
     ]
    },
    {
     "name": "stderr",
     "output_type": "stream",
     "text": [
      "Training Episodes:  76%|███████▌  | 76/100 [16:43<07:05, 17.72s/it]"
     ]
    },
    {
     "name": "stdout",
     "output_type": "stream",
     "text": [
      "\n",
      "Episode 76/100 | Country: Japan | Total Reward: 1.21 | Avg Loss: 0.0001 | Epsilon: 0.0100 | Final Portfolio: $250977.90\n"
     ]
    },
    {
     "name": "stderr",
     "output_type": "stream",
     "text": [
      "Training Episodes:  77%|███████▋  | 77/100 [16:54<05:58, 15.57s/it]"
     ]
    },
    {
     "name": "stdout",
     "output_type": "stream",
     "text": [
      "\n",
      "Episode 77/100 | Country: USA | Total Reward: 0.85 | Avg Loss: 0.0001 | Epsilon: 0.0100 | Final Portfolio: $217679.65\n"
     ]
    },
    {
     "name": "stderr",
     "output_type": "stream",
     "text": [
      "Training Episodes:  78%|███████▊  | 78/100 [17:23<07:12, 19.66s/it]"
     ]
    },
    {
     "name": "stdout",
     "output_type": "stream",
     "text": [
      "\n",
      "Episode 78/100 | Country: UK | Total Reward: 7.37 | Avg Loss: 0.0087 | Epsilon: 0.0100 | Final Portfolio: $4518.49\n"
     ]
    },
    {
     "name": "stderr",
     "output_type": "stream",
     "text": [
      "Training Episodes:  79%|███████▉  | 79/100 [17:34<05:56, 16.99s/it]"
     ]
    },
    {
     "name": "stdout",
     "output_type": "stream",
     "text": [
      "\n",
      "Episode 79/100 | Country: USA | Total Reward: 1.30 | Avg Loss: 0.0000 | Epsilon: 0.0100 | Final Portfolio: $328998.90\n"
     ]
    },
    {
     "name": "stderr",
     "output_type": "stream",
     "text": [
      "Training Episodes:  80%|████████  | 80/100 [17:45<05:02, 15.11s/it]"
     ]
    },
    {
     "name": "stdout",
     "output_type": "stream",
     "text": [
      "\n",
      "Episode 80/100 | Country: USA | Total Reward: 1.03 | Avg Loss: 0.0001 | Epsilon: 0.0100 | Final Portfolio: $257005.53\n"
     ]
    },
    {
     "name": "stderr",
     "output_type": "stream",
     "text": [
      "Training Episodes:  81%|████████  | 81/100 [18:12<05:56, 18.78s/it]"
     ]
    },
    {
     "name": "stdout",
     "output_type": "stream",
     "text": [
      "\n",
      "Episode 81/100 | Country: UK | Total Reward: 17.40 | Avg Loss: 0.0234 | Epsilon: 0.0100 | Final Portfolio: $637433.21\n"
     ]
    },
    {
     "name": "stderr",
     "output_type": "stream",
     "text": [
      "Training Episodes:  82%|████████▏ | 82/100 [18:31<05:39, 18.88s/it]"
     ]
    },
    {
     "name": "stdout",
     "output_type": "stream",
     "text": [
      "\n",
      "Episode 82/100 | Country: India | Total Reward: 2.65 | Avg Loss: 0.0001 | Epsilon: 0.0100 | Final Portfolio: $1045470.83\n"
     ]
    },
    {
     "name": "stderr",
     "output_type": "stream",
     "text": [
      "Training Episodes:  83%|████████▎ | 83/100 [18:51<05:25, 19.15s/it]"
     ]
    },
    {
     "name": "stdout",
     "output_type": "stream",
     "text": [
      "\n",
      "Episode 83/100 | Country: India | Total Reward: 1.27 | Avg Loss: 0.0001 | Epsilon: 0.0100 | Final Portfolio: $303910.02\n"
     ]
    },
    {
     "name": "stderr",
     "output_type": "stream",
     "text": [
      "Training Episodes:  84%|████████▍ | 84/100 [19:01<04:24, 16.53s/it]"
     ]
    },
    {
     "name": "stdout",
     "output_type": "stream",
     "text": [
      "\n",
      "Episode 84/100 | Country: USA | Total Reward: 0.63 | Avg Loss: 0.0000 | Epsilon: 0.0100 | Final Portfolio: $172613.40\n"
     ]
    },
    {
     "name": "stderr",
     "output_type": "stream",
     "text": [
      "Training Episodes:  85%|████████▌ | 85/100 [19:18<04:09, 16.61s/it]"
     ]
    },
    {
     "name": "stdout",
     "output_type": "stream",
     "text": [
      "\n",
      "Episode 85/100 | Country: Japan | Total Reward: 1.38 | Avg Loss: 0.0001 | Epsilon: 0.0100 | Final Portfolio: $309542.49\n"
     ]
    },
    {
     "name": "stderr",
     "output_type": "stream",
     "text": [
      "Training Episodes:  86%|████████▌ | 86/100 [19:35<03:53, 16.70s/it]"
     ]
    },
    {
     "name": "stdout",
     "output_type": "stream",
     "text": [
      "\n",
      "Episode 86/100 | Country: Japan | Total Reward: 1.44 | Avg Loss: 0.0001 | Epsilon: 0.0100 | Final Portfolio: $316011.93\n"
     ]
    },
    {
     "name": "stderr",
     "output_type": "stream",
     "text": [
      "Training Episodes:  87%|████████▋ | 87/100 [19:52<03:36, 16.69s/it]"
     ]
    },
    {
     "name": "stdout",
     "output_type": "stream",
     "text": [
      "\n",
      "Episode 87/100 | Country: Japan | Total Reward: 1.22 | Avg Loss: 0.0002 | Epsilon: 0.0100 | Final Portfolio: $242255.91\n"
     ]
    },
    {
     "name": "stderr",
     "output_type": "stream",
     "text": [
      "Training Episodes:  88%|████████▊ | 88/100 [20:02<02:58, 14.88s/it]"
     ]
    },
    {
     "name": "stdout",
     "output_type": "stream",
     "text": [
      "\n",
      "Episode 88/100 | Country: USA | Total Reward: 0.87 | Avg Loss: 0.0000 | Epsilon: 0.0100 | Final Portfolio: $219507.89\n"
     ]
    },
    {
     "name": "stderr",
     "output_type": "stream",
     "text": [
      "Training Episodes:  89%|████████▉ | 89/100 [20:25<03:08, 17.17s/it]"
     ]
    },
    {
     "name": "stdout",
     "output_type": "stream",
     "text": [
      "\n",
      "Episode 89/100 | Country: France | Total Reward: -0.17 | Avg Loss: 0.0001 | Epsilon: 0.0100 | Final Portfolio: $68479.86\n"
     ]
    },
    {
     "name": "stderr",
     "output_type": "stream",
     "text": [
      "Training Episodes:  90%|█████████ | 90/100 [20:52<03:22, 20.26s/it]"
     ]
    },
    {
     "name": "stdout",
     "output_type": "stream",
     "text": [
      "\n",
      "Episode 90/100 | Country: UK | Total Reward: 15.27 | Avg Loss: 0.0274 | Epsilon: 0.0100 | Final Portfolio: $291311.35\n"
     ]
    },
    {
     "name": "stderr",
     "output_type": "stream",
     "text": [
      "Training Episodes:  91%|█████████ | 91/100 [21:12<03:00, 20.01s/it]"
     ]
    },
    {
     "name": "stdout",
     "output_type": "stream",
     "text": [
      "\n",
      "Episode 91/100 | Country: India | Total Reward: 1.29 | Avg Loss: 0.0001 | Epsilon: 0.0100 | Final Portfolio: $286472.28\n"
     ]
    },
    {
     "name": "stderr",
     "output_type": "stream",
     "text": [
      "Training Episodes:  92%|█████████▏| 92/100 [21:39<02:57, 22.14s/it]"
     ]
    },
    {
     "name": "stdout",
     "output_type": "stream",
     "text": [
      "\n",
      "Episode 92/100 | Country: UK | Total Reward: -3.56 | Avg Loss: 0.0014 | Epsilon: 0.0100 | Final Portfolio: $31.23\n"
     ]
    },
    {
     "name": "stderr",
     "output_type": "stream",
     "text": [
      "Training Episodes:  93%|█████████▎| 93/100 [21:52<02:15, 19.42s/it]"
     ]
    },
    {
     "name": "stdout",
     "output_type": "stream",
     "text": [
      "\n",
      "Episode 93/100 | Country: Japan | Total Reward: 2.35 | Avg Loss: 0.0001 | Epsilon: 0.0100 | Final Portfolio: $738575.29\n"
     ]
    },
    {
     "name": "stderr",
     "output_type": "stream",
     "text": [
      "Training Episodes:  94%|█████████▍| 94/100 [22:04<01:43, 17.19s/it]"
     ]
    },
    {
     "name": "stdout",
     "output_type": "stream",
     "text": [
      "\n",
      "Episode 94/100 | Country: India | Total Reward: 3.21 | Avg Loss: 0.0001 | Epsilon: 0.0100 | Final Portfolio: $1870586.17\n"
     ]
    },
    {
     "name": "stderr",
     "output_type": "stream",
     "text": [
      "Training Episodes:  95%|█████████▌| 95/100 [22:16<01:17, 15.55s/it]"
     ]
    },
    {
     "name": "stdout",
     "output_type": "stream",
     "text": [
      "\n",
      "Episode 95/100 | Country: India | Total Reward: 2.98 | Avg Loss: 0.0001 | Epsilon: 0.0100 | Final Portfolio: $1455290.44\n"
     ]
    },
    {
     "name": "stderr",
     "output_type": "stream",
     "text": [
      "Training Episodes:  96%|█████████▌| 96/100 [22:27<00:57, 14.33s/it]"
     ]
    },
    {
     "name": "stdout",
     "output_type": "stream",
     "text": [
      "\n",
      "Episode 96/100 | Country: India | Total Reward: 3.18 | Avg Loss: 0.0001 | Epsilon: 0.0100 | Final Portfolio: $1803250.95\n"
     ]
    },
    {
     "name": "stderr",
     "output_type": "stream",
     "text": [
      "Training Episodes:  97%|█████████▋| 97/100 [22:33<00:35, 11.94s/it]"
     ]
    },
    {
     "name": "stdout",
     "output_type": "stream",
     "text": [
      "\n",
      "Episode 97/100 | Country: USA | Total Reward: 0.91 | Avg Loss: 0.0001 | Epsilon: 0.0100 | Final Portfolio: $221797.29\n"
     ]
    },
    {
     "name": "stderr",
     "output_type": "stream",
     "text": [
      "Training Episodes:  98%|█████████▊| 98/100 [22:45<00:23, 11.70s/it]"
     ]
    },
    {
     "name": "stdout",
     "output_type": "stream",
     "text": [
      "\n",
      "Episode 98/100 | Country: Japan | Total Reward: 0.98 | Avg Loss: 0.0001 | Epsilon: 0.0100 | Final Portfolio: $215342.60\n"
     ]
    },
    {
     "name": "stderr",
     "output_type": "stream",
     "text": [
      "Training Episodes:  99%|█████████▉| 99/100 [23:03<00:13, 13.67s/it]"
     ]
    },
    {
     "name": "stdout",
     "output_type": "stream",
     "text": [
      "\n",
      "Episode 99/100 | Country: UK | Total Reward: 3.56 | Avg Loss: 0.0063 | Epsilon: 0.0100 | Final Portfolio: $13554.52\n"
     ]
    },
    {
     "name": "stderr",
     "output_type": "stream",
     "text": [
      "Training Episodes: 100%|██████████| 100/100 [23:10<00:00, 13.90s/it]"
     ]
    },
    {
     "name": "stdout",
     "output_type": "stream",
     "text": [
      "\n",
      "Episode 100/100 | Country: USA | Total Reward: 0.92 | Avg Loss: 0.0000 | Epsilon: 0.0100 | Final Portfolio: $236717.10\n",
      "\n",
      "Training Completed. Best model saved as final_model.pth\n"
     ]
    },
    {
     "name": "stderr",
     "output_type": "stream",
     "text": [
      "\n"
     ]
    }
   ],
   "source": [
    "import numpy as np\n",
    "import pandas as pd\n",
    "import yfinance as yf\n",
    "import talib\n",
    "import torch\n",
    "import torch.nn as nn\n",
    "import torch.optim as optim\n",
    "from collections import deque\n",
    "import random\n",
    "from tqdm import tqdm\n",
    "import warnings\n",
    "warnings.filterwarnings('ignore')\n",
    "\n",
    "# Set device for training\n",
    "device = torch.device('cuda' if torch.cuda.is_available() else 'cpu')\n",
    "print(f\"Using device: {device}\")\n",
    "\n",
    "# ---------------------------\n",
    "# DataHandler Class\n",
    "# ---------------------------\n",
    "class DataHandler:\n",
    "    def __init__(self):\n",
    "        from sklearn.preprocessing import MinMaxScaler\n",
    "        self.scaler = MinMaxScaler()\n",
    "    \n",
    "    def fetch_data(self, symbol, start_date, end_date):\n",
    "        print(f\"Fetching data for {symbol} from {start_date} to {end_date}...\")\n",
    "        df = yf.download(symbol, start=start_date, end=end_date)\n",
    "        if df.empty:\n",
    "            raise ValueError(f\"No data found for {symbol}\")\n",
    "        return self.prepare_data(df)\n",
    "    \n",
    "    def prepare_data(self, df):\n",
    "        df = df.copy()\n",
    "        # Preserve the original closing price for portfolio simulation\n",
    "        df['CloseOrig'] = df['Close'].astype(float)\n",
    "        \n",
    "        # Convert columns explicitly to one-dimensional arrays (to avoid TA-Lib errors)\n",
    "        close_prices = np.array(df['Close'], dtype=np.float64).flatten()\n",
    "        volume = np.array(df['Volume'], dtype=np.float64).flatten()\n",
    "        \n",
    "        # Compute technical indicators\n",
    "        df['Returns'] = df['Close'].pct_change()\n",
    "        df['SMA_20'] = talib.SMA(close_prices, timeperiod=20)\n",
    "        df['EMA_20'] = talib.EMA(close_prices, timeperiod=20)\n",
    "        df['RSI'] = talib.RSI(close_prices, timeperiod=14)\n",
    "        macd, signal, _ = talib.MACD(close_prices)\n",
    "        df['MACD'] = macd\n",
    "        df['MACD_signal'] = signal\n",
    "        bb_upper, bb_middle, bb_lower = talib.BBANDS(close_prices)\n",
    "        df['BB_upper'] = bb_upper\n",
    "        df['BB_middle'] = bb_middle\n",
    "        df['BB_lower'] = bb_lower\n",
    "        df['OBV'] = talib.OBV(close_prices, volume)\n",
    "        df['MOM'] = talib.MOM(close_prices, timeperiod=14)\n",
    "        \n",
    "        # List of features to normalize (do not scale CloseOrig)\n",
    "        features = ['Close', 'Returns', 'SMA_20', 'EMA_20', 'RSI', \n",
    "                    'MACD', 'MACD_signal', 'BB_upper', 'BB_middle', \n",
    "                    'BB_lower', 'OBV', 'MOM']\n",
    "        df[features] = df[features].fillna(method='ffill').fillna(method='bfill')\n",
    "        df[features] = self.scaler.fit_transform(df[features])\n",
    "        df = df.dropna()\n",
    "        print(f\"Prepared data shape for {df.index[-1]} rows and {len(df.columns)} columns.\")\n",
    "        return df\n",
    "    \n",
    "    def fetch_multiple_data(self, symbols, start_date, end_date):\n",
    "        data_dict = {}\n",
    "        for symbol in symbols:\n",
    "            try:\n",
    "                data = self.fetch_data(symbol, start_date, end_date)\n",
    "                data_dict[symbol] = data\n",
    "            except Exception as e:\n",
    "                print(f\"Error fetching {symbol}: {e}\")\n",
    "        return data_dict\n",
    "\n",
    "# ---------------------------\n",
    "# Aggregate Data Function\n",
    "# ---------------------------\n",
    "def aggregate_data(data_dict):\n",
    "    \"\"\"\n",
    "    Given a dictionary of DataFrames (keyed by symbol), find the common date\n",
    "    index and average the features.\n",
    "    \"\"\"\n",
    "    common_index = None\n",
    "    for df in data_dict.values():\n",
    "        if common_index is None:\n",
    "            common_index = df.index\n",
    "        else:\n",
    "            common_index = common_index.intersection(df.index)\n",
    "    reindexed = []\n",
    "    for symbol, df in data_dict.items():\n",
    "        reindexed.append(df.loc[common_index])\n",
    "    concatenated = pd.concat(reindexed, axis=1, keys=data_dict.keys())\n",
    "    # Average features across symbols; this applies to every column including CloseOrig.\n",
    "    aggregated = concatenated.groupby(axis=1, level=1).mean()\n",
    "    return aggregated\n",
    "\n",
    "# ---------------------------\n",
    "# Trading Environment Class\n",
    "# ---------------------------\n",
    "class TradingEnvironment:\n",
    "    def __init__(self, data, initial_balance=100000):\n",
    "        if data is None or data.empty:\n",
    "            raise ValueError(\"Data cannot be empty\")\n",
    "        self.data = data.reset_index(drop=True)\n",
    "        self.initial_balance = initial_balance\n",
    "        # Features used as state (these are the normalized technical indicators)\n",
    "        self.features = ['Close', 'Returns', 'SMA_20', 'EMA_20', 'RSI',\n",
    "                         'MACD', 'MACD_signal', 'BB_upper', 'BB_middle',\n",
    "                         'BB_lower', 'OBV', 'MOM']\n",
    "        # \"CloseOrig\" is used for actual portfolio value calculation.\n",
    "        if 'CloseOrig' not in self.data.columns:\n",
    "            raise ValueError(\"Missing 'CloseOrig' column in data.\")\n",
    "        self.reset()\n",
    "    \n",
    "    def reset(self):\n",
    "        self.balance = self.initial_balance\n",
    "        self.position = 0.0  # shares held\n",
    "        self.current_step = 0\n",
    "        self.portfolio_value_history = [self.initial_balance]\n",
    "        return self._get_state()\n",
    "    \n",
    "    def _get_state(self):\n",
    "        return self.data.iloc[self.current_step][self.features].values\n",
    "    \n",
    "    def step(self, action):\n",
    "        # Retrieve actual price from the unscaled \"CloseOrig\"\n",
    "        current_price = float(self.data.iloc[self.current_step]['CloseOrig'])\n",
    "        prev_value = self.portfolio_value_history[-1]\n",
    "        # Action space (5 discrete actions):\n",
    "        # 0: Sell all, 1: Sell half, 2: Hold, 3: Buy with 50% cash, 4: Buy with full cash.\n",
    "        if current_price > 0:\n",
    "            if action == 0 and self.position > 0:\n",
    "                # Sell all\n",
    "                self.balance += current_price * self.position\n",
    "                self.position = 0.0\n",
    "            elif action == 1 and self.position > 0:\n",
    "                # Sell half\n",
    "                shares_to_sell = self.position * 0.5\n",
    "                self.balance += current_price * shares_to_sell\n",
    "                self.position -= shares_to_sell\n",
    "            elif action == 3 and self.balance > 0:\n",
    "                # Buy with 50% cash\n",
    "                cash_to_use = self.balance * 0.5\n",
    "                shares_to_buy = cash_to_use / current_price\n",
    "                self.position += shares_to_buy\n",
    "                self.balance -= cash_to_use\n",
    "            elif action == 4 and self.balance > 0:\n",
    "                # Buy with full cash\n",
    "                shares_to_buy = self.balance / current_price\n",
    "                self.position += shares_to_buy\n",
    "                self.balance = 0\n",
    "            # Action 2 (Hold) does nothing.\n",
    "        new_value = self.balance + (self.position * current_price)\n",
    "        self.portfolio_value_history.append(new_value)\n",
    "        reward = (new_value - prev_value) / prev_value if prev_value > 0 else 0\n",
    "        self.current_step += 1\n",
    "        done = (self.current_step >= len(self.data) - 1)\n",
    "        next_state = self._get_state() if not done else np.zeros(len(self.features))\n",
    "        return next_state, reward, done\n",
    "\n",
    "# ---------------------------\n",
    "# DQNAgent Class\n",
    "# ---------------------------\n",
    "class DQNAgent(nn.Module):\n",
    "    def __init__(self, state_size, action_size):\n",
    "        super(DQNAgent, self).__init__()\n",
    "        self.state_size = state_size\n",
    "        self.action_size = action_size\n",
    "        self.memory = deque(maxlen=2000)\n",
    "        self.gamma = 0.95\n",
    "        self.epsilon = 1.0  # initial exploration rate\n",
    "        self.epsilon_min = 0.01\n",
    "        self.epsilon_decay = 0.995\n",
    "        self.batch_size = 32\n",
    "\n",
    "        self.fc1 = nn.Linear(state_size, 64)\n",
    "        self.fc2 = nn.Linear(64, 32)\n",
    "        self.fc3 = nn.Linear(32, action_size)\n",
    "        self.optimizer = optim.Adam(self.parameters(), lr=0.001)\n",
    "        self.criterion = nn.MSELoss()\n",
    "        self.to(device)\n",
    "\n",
    "    def forward(self, x):\n",
    "        x = torch.relu(self.fc1(x))\n",
    "        x = torch.relu(self.fc2(x))\n",
    "        return self.fc3(x)\n",
    "\n",
    "    def remember(self, state, action, reward, next_state, done):\n",
    "        self.memory.append((state, action, reward, next_state, done))\n",
    "\n",
    "    def act(self, state):\n",
    "        if random.random() <= self.epsilon:\n",
    "            return random.randrange(self.action_size)\n",
    "        with torch.no_grad():\n",
    "            state_tensor = torch.FloatTensor(state).unsqueeze(0).to(device)\n",
    "            action_values = self(state_tensor)\n",
    "            return torch.argmax(action_values).item()\n",
    "\n",
    "    def replay(self):\n",
    "        if len(self.memory) < self.batch_size:\n",
    "            return 0\n",
    "        minibatch = random.sample(self.memory, self.batch_size)\n",
    "        states = torch.FloatTensor([m[0] for m in minibatch]).to(device)\n",
    "        actions = torch.LongTensor([m[1] for m in minibatch]).to(device)\n",
    "        rewards = torch.FloatTensor([m[2] for m in minibatch]).to(device)\n",
    "        next_states = torch.FloatTensor([m[3] for m in minibatch]).to(device)\n",
    "        dones = torch.FloatTensor([m[4] for m in minibatch]).to(device)\n",
    "        current_q = self(states).gather(1, actions.unsqueeze(1)).squeeze()\n",
    "        with torch.no_grad():\n",
    "            next_q = self(next_states).max(1)[0]\n",
    "            target_q = rewards + (1 - dones) * self.gamma * next_q\n",
    "        loss = self.criterion(current_q, target_q)\n",
    "        self.optimizer.zero_grad()\n",
    "        loss.backward()\n",
    "        self.optimizer.step()\n",
    "        if self.epsilon > self.epsilon_min:\n",
    "            self.epsilon *= self.epsilon_decay\n",
    "        return loss.item()\n",
    "\n",
    "# ---------------------------\n",
    "# Training Function\n",
    "# ---------------------------\n",
    "def train_agent(agent, training_datasets, episodes):\n",
    "    training_losses = []\n",
    "    best_reward = float('-inf')\n",
    "    \n",
    "    # Training proceeds across episodes.\n",
    "    # In each episode we randomly choose one aggregated dataset (i.e. one country) \n",
    "    # and simulate a complete trading episode over its available historical period.\n",
    "    for episode in tqdm(range(episodes), desc=\"Training Episodes\"):\n",
    "        # Randomly choose one country's aggregated data\n",
    "        country, data = random.choice(list(training_datasets.items()))\n",
    "        env = TradingEnvironment(data, initial_balance=100000)\n",
    "        state = env.reset()\n",
    "        total_reward = 0\n",
    "        episode_losses = []\n",
    "        while True:\n",
    "            action = agent.act(state)\n",
    "            next_state, reward, done = env.step(action)\n",
    "            agent.remember(state, action, reward, next_state, done)\n",
    "            loss = agent.replay()\n",
    "            if loss:\n",
    "                episode_losses.append(loss)\n",
    "            state = next_state\n",
    "            total_reward += reward\n",
    "            if done:\n",
    "                avg_loss = np.mean(episode_losses) if episode_losses else 0\n",
    "                training_losses.append(avg_loss)\n",
    "                if total_reward > best_reward:\n",
    "                    best_reward = total_reward\n",
    "                    torch.save(agent.state_dict(), 'final_model.pth')\n",
    "                print(f\"\\nEpisode {episode+1}/{episodes} | Country: {country} | Total Reward: {total_reward:.2f} | Avg Loss: {avg_loss:.4f} | Epsilon: {agent.epsilon:.4f} | Final Portfolio: ${env.portfolio_value_history[-1]:.2f}\")\n",
    "                break\n",
    "    return training_losses\n",
    "\n",
    "# ---------------------------\n",
    "# Main Routine for Training on Multiple Indexes\n",
    "# ---------------------------\n",
    "if __name__ == '__main__':\n",
    "    try:\n",
    "        # Define training period with a larger dataset\n",
    "        TRAIN_START_DATE = '1995-01-01'\n",
    "        TRAIN_END_DATE   = '2024-01-01'\n",
    "        EPISODES = 100  # adjust number of episodes as needed\n",
    "        \n",
    "        # Dictionary of indexes and their top 10 companies (tickers)\n",
    "        index_companies = {\n",
    "            \"USA\": ['AAPL', 'MSFT', 'AMZN', 'NVDA', 'GOOGL', 'META', 'TSLA', 'BRK-B', 'UNH', 'XOM'],\n",
    "            \"India\": ['RELIANCE.NS', 'TCS.NS', 'HDFCBANK.NS', 'INFY.NS', 'ICICIBANK.NS', 'KOTAKBANK.NS', 'LT.NS', 'AXISBANK.NS', 'ITC.NS', 'HINDUNILVR.NS'],\n",
    "            \"Japan\": ['7203.T', '6758.T', '9984.T', '8306.T', '6902.T', '9432.T', '7267.T', '7974.T', '6501.T', '8801.T'],\n",
    "            \"UK\": ['HSBA.L', 'BP.L', 'VOD.L', 'GSK.L', 'RIO.L', 'BT-A.L', 'ULVR.L', 'DGE.L', 'AZN.L', 'BATS.L'],\n",
    "            \"France\": ['OR.PA', 'MC.PA', 'SAN.PA', 'AI.PA', 'BNP.PA', 'DG.PA', 'EN.PA', 'RI.PA', 'KER.PA', 'SU.PA']\n",
    "        }\n",
    "        \n",
    "        # ... rest of your training code remains unchanged ...\n",
    "        \n",
    "        data_handler = DataHandler()\n",
    "        training_datasets = {}\n",
    "        \n",
    "        # For each country/index, fetch data for its top companies and aggregate.\n",
    "        for country, tickers in index_companies.items():\n",
    "            print(f\"\\nProcessing {country} data:\")\n",
    "            company_data = data_handler.fetch_multiple_data(tickers, TRAIN_START_DATE, TRAIN_END_DATE)\n",
    "            if company_data:\n",
    "                agg_data = aggregate_data(company_data)\n",
    "                training_datasets[country] = agg_data\n",
    "            else:\n",
    "                print(f\"No valid data fetched for {country}.\")\n",
    "        \n",
    "        if not training_datasets:\n",
    "            raise ValueError(\"No aggregated training data available from any index!\")\n",
    "        \n",
    "        # All training datasets must have the expected technical indicator columns.\n",
    "        # We assume each aggregated DataFrame contains at least the following columns:\n",
    "        # ['Close', 'Returns', 'SMA_20', 'EMA_20', 'RSI', 'MACD', 'MACD_signal', 'BB_upper', 'BB_middle', 'BB_lower', 'OBV', 'MOM', 'CloseOrig']\n",
    "        \n",
    "        # Initialize the training environment parameters are set within the episode loop.\n",
    "        state_size = 12  # corresponds to the feature vector (excluding CloseOrig)\n",
    "        action_size = 5  # five possible actions\n",
    "        \n",
    "        # Initialize the DQN agent\n",
    "        agent = DQNAgent(state_size, action_size)\n",
    "        \n",
    "        print(\"\\nStarting training on multiple indexes...\")\n",
    "        training_losses = train_agent(agent, training_datasets, EPISODES)\n",
    "        \n",
    "        print(\"\\nTraining Completed. Best model saved as final_model.pth\")\n",
    "    \n",
    "    except Exception as e:\n",
    "        print(f\"Error during training: {e}\")\n",
    "        raise\n"
   ]
  },
  {
   "cell_type": "markdown",
   "metadata": {},
   "source": [
    "# Testing the Saved Model (Returns and Porfolio Visualization)"
   ]
  },
  {
   "cell_type": "code",
   "execution_count": 10,
   "metadata": {},
   "outputs": [
    {
     "name": "stderr",
     "output_type": "stream",
     "text": [
      "[*********************100%***********************]  1 of 1 completed"
     ]
    },
    {
     "name": "stdout",
     "output_type": "stream",
     "text": [
      "Using device: cuda\n",
      "Pre-trained model loaded successfully.\n",
      "\n",
      "============================================\n",
      "Testing on USA_S&P500 (^GSPC)\n",
      "\n",
      "Fetching data for ^GSPC from 2024-01-01 to 2025-01-01...\n",
      "Data shape after preparation: (252, 17)\n",
      "Initial Balance: $10000.00\n",
      "Final Portfolio Value: $12916.94\n",
      "Cumulative Return: 29.17%\n"
     ]
    },
    {
     "name": "stderr",
     "output_type": "stream",
     "text": [
      "\n"
     ]
    },
    {
     "data": {
      "application/vnd.plotly.v1+json": {
       "config": {
        "plotlyServerURL": "https://plot.ly"
       },
       "data": [
        {
         "mode": "lines+markers",
         "name": "Portfolio Value",
         "type": "scatter",
         "x": [
          0,
          1,
          2,
          3,
          4,
          5,
          6,
          7,
          8,
          9,
          10,
          11,
          12,
          13,
          14,
          15,
          16,
          17,
          18,
          19,
          20,
          21,
          22,
          23,
          24,
          25,
          26,
          27,
          28,
          29,
          30,
          31,
          32,
          33,
          34,
          35,
          36,
          37,
          38,
          39,
          40,
          41,
          42,
          43,
          44,
          45,
          46,
          47,
          48,
          49,
          50,
          51,
          52,
          53,
          54,
          55,
          56,
          57,
          58,
          59,
          60,
          61,
          62,
          63,
          64,
          65,
          66,
          67,
          68,
          69,
          70,
          71,
          72,
          73,
          74,
          75,
          76,
          77,
          78,
          79,
          80,
          81,
          82,
          83,
          84,
          85,
          86,
          87,
          88,
          89,
          90,
          91,
          92,
          93,
          94,
          95,
          96,
          97,
          98,
          99,
          100,
          101,
          102,
          103,
          104,
          105,
          106,
          107,
          108,
          109,
          110,
          111,
          112,
          113,
          114,
          115,
          116,
          117,
          118,
          119,
          120,
          121,
          122,
          123,
          124,
          125,
          126,
          127,
          128,
          129,
          130,
          131,
          132,
          133,
          134,
          135,
          136,
          137,
          138,
          139,
          140,
          141,
          142,
          143,
          144,
          145,
          146,
          147,
          148,
          149,
          150,
          151,
          152,
          153,
          154,
          155,
          156,
          157,
          158,
          159,
          160,
          161,
          162,
          163,
          164,
          165,
          166,
          167,
          168,
          169,
          170,
          171,
          172,
          173,
          174,
          175,
          176,
          177,
          178,
          179,
          180,
          181,
          182,
          183,
          184,
          185,
          186,
          187,
          188,
          189,
          190,
          191,
          192,
          193,
          194,
          195,
          196,
          197,
          198,
          199,
          200,
          201,
          202,
          203,
          204,
          205,
          206,
          207,
          208,
          209,
          210,
          211,
          212,
          213,
          214,
          215,
          216,
          217,
          218,
          219,
          220,
          221,
          222,
          223,
          224,
          225,
          226,
          227,
          228,
          229,
          230,
          231,
          232,
          233,
          234,
          235,
          236,
          237,
          238,
          239,
          240,
          241,
          242,
          243,
          244,
          245,
          246,
          247,
          248,
          249,
          250,
          251
         ],
         "y": [
          10000,
          10000,
          9959.918425386346,
          9934.342980576943,
          9950.197865528564,
          10081.819576641472,
          10067.381492596915,
          10123.537685068975,
          10116.796654849462,
          10124.364787243685,
          10086.660215280577,
          10030.059334433063,
          10118.333629917806,
          10242.895696783737,
          10265.369262339436,
          10295.356464826687,
          10303.715309469026,
          10357.915815622177,
          10351.16472858893,
          10429.38586208808,
          10423.121463609214,
          10255.24948485701,
          10383.375314878536,
          10494.31590305925,
          10460.87747427899,
          10485.046397477992,
          10571.458464150855,
          10577.490361307986,
          10638.229923018092,
          10628.134736458318,
          10482.802905205514,
          10583.225675496049,
          10644.833285206178,
          10593.701149599603,
          10530.082563012142,
          10543.394692577298,
          10766.101597927105,
          10769.847636560367,
          10729.064901481275,
          10747.37243815076,
          10729.551628156109,
          10785.657469677688,
          10872.027169796158,
          10859.05399214044,
          10748.36655929978,
          10803.625021047766,
          10914.946955328653,
          10843.688516709271,
          10831.519316448499,
          10952.851699347431,
          10931.772610784317,
          10900.386490682398,
          10829.720184514566,
          10898.143001062313,
          10959.708241783761,
          11057.295390002664,
          11093.082717977426,
          11077.528132182153,
          11043.686677516751,
          11012.76661629031,
          11107.813691968367,
          11120.215404971894,
          11097.823911149677,
          11017.486108273237,
          11029.507533768614,
          10893.465878068066,
          10893.465878068066,
          10891.425363069544,
          10903.232236602225,
          10812.99799232927,
          10888.429846912793,
          10734.94905525631,
          10734.94905525631,
          10734.94905525631,
          10703.921817377459,
          10686.211965691255,
          10604.36908488302,
          10691.100368052277,
          10815.001131427405,
          10817.269106542013,
          10768.14843838178,
          10877.653897693173,
          10912.161320648604,
          10740.672327191061,
          10703.791412025224,
          10801.47637427415,
          10937.091247128503,
          11050.022240756301,
          11064.866730068536,
          11064.802160687126,
          11121.132072828297,
          11139.475187675467,
          11136.7871920789,
          11190.664837963632,
          11321.773800191764,
          11298.20563364998,
          11311.365482795078,
          11321.731103715487,
          11350.056650360706,
          11319.342000995523,
          11235.796321167607,
          11314.458609444122,
          11317.273667706122,
          11233.898786307003,
          11166.775841325418,
          11256.421335366986,
          11268.984431138717,
          11285.919563390686,
          11419.631185969743,
          11417.349353686022,
          11404.61650042223,
          11434.050158114242,
          11465.040794019085,
          11562.535749478258,
          11589.645916606667,
          11585.081210582164,
          11673.873751361793,
          11703.307409053905,
          11673.745652150976,
          11655.509740106927,
          11619.78359922977,
          11665.491063980722,
          11683.834246095617,
          11694.435236883533,
          11646.679226216494,
          11677.840661069147,
          11750.188595842186,
          11809.931776562165,
          11874.28132158659,
          11886.35389111341,
          11895.162534406873,
          12016.58913023507,
          11911.287413114926,
          11911.287413114926,
          11928.119268993247,
          11985.306080007678,
          11839.117082624087,
          11839.117082624087,
          11839.117082624087,
          11839.117082624087,
          11829.89380313057,
          11829.89380313057,
          11829.89380313057,
          11829.89380313057,
          11834.704489359847,
          11790.671897607519,
          11953.532400729819,
          11799.971211905891,
          11799.971211905891,
          11799.971211905891,
          11799.971211905891,
          11754.33690087361,
          11957.211981602257,
          12006.181505459746,
          12006.666441725285,
          12202.737182299055,
          12248.692137160408,
          12444.816042048435,
          12469.486763945326,
          12590.49459705318,
          12565.530931877673,
          12618.780294445014,
          12506.084917914104,
          12649.680387961662,
          12609.789024617718,
          12629.903536281396,
          12554.428647122782,
          12553.934268967787,
          12680.64132319545,
          12412.432611197864,
          12412.432611197864,
          12412.432611197864,
          12412.432611197864,
          12412.432611197863,
          12440.190985145524,
          12539.771215279265,
          12622.131225120847,
          12686.192889769447,
          12701.647305108794,
          12704.956218963858,
          12668.437749534443,
          12882.684816256346,
          12857.72622849536,
          12893.81303973411,
          12926.176490614907,
          12902.123298740704,
          12954.224671447504,
          12937.991166725651,
          12992.802041803257,
          12871.657530079388,
          12871.657530079388,
          12871.657530079388,
          12871.657530079388,
          12809.963532881891,
          12809.963532881891,
          12855.524806958936,
          12835.541840958207,
          12835.541840958205,
          12885.00788134609,
          12811.377753554129,
          12811.377753554129,
          12810.28135277822,
          12810.28135277822,
          12810.28135277822,
          12810.28135277822,
          12810.28135277822,
          12810.28135277822,
          12810.28135277822,
          12810.28135277822,
          12810.28135277822,
          12810.28135277822,
          12810.28135277822,
          12810.28135277822,
          12810.28135277822,
          12810.28135277822,
          12972.30532879006,
          13044.906473881856,
          13087.898251577904,
          13099.80538169741,
          13063.07009647869,
          13063.07009647869,
          13063.07009647869,
          13063.07009647869,
          13063.07009647869,
          13063.07009647869,
          13063.07009647869,
          13063.07009647869,
          13085.721192853489,
          13085.721192853489,
          13085.721192853489,
          13060.85022241154,
          13060.85022241154,
          13060.85022241154,
          13060.85022241154,
          13060.85022241154,
          13060.85022241154,
          13060.85022241154,
          13060.85022241154,
          13060.85022241154,
          13060.85022241154,
          13060.85022241154,
          13060.85022241154,
          13060.85022241154,
          13060.85022241154,
          13060.85022241154,
          13060.85022241154,
          13060.85022241154,
          13060.85022241154,
          13060.85022241154,
          13058.20109808577,
          12986.031729446842,
          12916.94385516613
         ]
        },
        {
         "marker": {
          "color": "green",
          "size": 10,
          "symbol": "triangle-up"
         },
         "mode": "markers",
         "name": "Buy Signal",
         "type": "scatter",
         "x": [
          0,
          1,
          2,
          3,
          4,
          5,
          6,
          7,
          8,
          9,
          10,
          11,
          12,
          13,
          14,
          15,
          16,
          17,
          18,
          19,
          20,
          21,
          22,
          23,
          24,
          25,
          26,
          27,
          28,
          29,
          30,
          31,
          32,
          33,
          34,
          35,
          36,
          37,
          38,
          39,
          40,
          41,
          42,
          43,
          44,
          45,
          46,
          47,
          48,
          49,
          50,
          51,
          52,
          53,
          54,
          55,
          56,
          57,
          58,
          59,
          60,
          61,
          62,
          63,
          65,
          66,
          67,
          68,
          69,
          72,
          73,
          74,
          75,
          76,
          77,
          78,
          79,
          80,
          81,
          82,
          83,
          84,
          85,
          86,
          87,
          88,
          89,
          90,
          91,
          92,
          93,
          94,
          95,
          96,
          97,
          98,
          99,
          100,
          101,
          102,
          103,
          104,
          105,
          106,
          107,
          108,
          109,
          110,
          111,
          112,
          113,
          114,
          115,
          116,
          117,
          118,
          119,
          120,
          121,
          122,
          123,
          124,
          125,
          126,
          127,
          128,
          129,
          130,
          132,
          133,
          134,
          138,
          142,
          143,
          144,
          145,
          149,
          150,
          151,
          152,
          153,
          154,
          155,
          156,
          157,
          158,
          159,
          160,
          161,
          162,
          163,
          164,
          165,
          166,
          167,
          172,
          173,
          174,
          175,
          176,
          177,
          178,
          179,
          180,
          181,
          182,
          183,
          184,
          185,
          186,
          187,
          191,
          193,
          194,
          196,
          197,
          199,
          213,
          214,
          215,
          216,
          217,
          225,
          228,
          247
         ],
         "y": [
          10000,
          10000,
          9959.918425386346,
          9934.342980576943,
          9950.197865528564,
          10081.819576641472,
          10067.381492596915,
          10123.537685068975,
          10116.796654849462,
          10124.364787243685,
          10086.660215280577,
          10030.059334433063,
          10118.333629917806,
          10242.895696783737,
          10265.369262339436,
          10295.356464826687,
          10303.715309469026,
          10357.915815622177,
          10351.16472858893,
          10429.38586208808,
          10423.121463609214,
          10255.24948485701,
          10383.375314878536,
          10494.31590305925,
          10460.87747427899,
          10485.046397477992,
          10571.458464150855,
          10577.490361307986,
          10638.229923018092,
          10628.134736458318,
          10482.802905205514,
          10583.225675496049,
          10644.833285206178,
          10593.701149599603,
          10530.082563012142,
          10543.394692577298,
          10766.101597927105,
          10769.847636560367,
          10729.064901481275,
          10747.37243815076,
          10729.551628156109,
          10785.657469677688,
          10872.027169796158,
          10859.05399214044,
          10748.36655929978,
          10803.625021047766,
          10914.946955328653,
          10843.688516709271,
          10831.519316448499,
          10952.851699347431,
          10931.772610784317,
          10900.386490682398,
          10829.720184514566,
          10898.143001062313,
          10959.708241783761,
          11057.295390002664,
          11093.082717977426,
          11077.528132182153,
          11043.686677516751,
          11012.76661629031,
          11107.813691968367,
          11120.215404971894,
          11097.823911149677,
          11017.486108273237,
          10893.465878068066,
          10893.465878068066,
          10891.425363069544,
          10903.232236602225,
          10812.99799232927,
          10734.94905525631,
          10734.94905525631,
          10703.921817377459,
          10686.211965691255,
          10604.36908488302,
          10691.100368052277,
          10815.001131427405,
          10817.269106542013,
          10768.14843838178,
          10877.653897693173,
          10912.161320648604,
          10740.672327191061,
          10703.791412025224,
          10801.47637427415,
          10937.091247128503,
          11050.022240756301,
          11064.866730068536,
          11064.802160687126,
          11121.132072828297,
          11139.475187675467,
          11136.7871920789,
          11190.664837963632,
          11321.773800191764,
          11298.20563364998,
          11311.365482795078,
          11321.731103715487,
          11350.056650360706,
          11319.342000995523,
          11235.796321167607,
          11314.458609444122,
          11317.273667706122,
          11233.898786307003,
          11166.775841325418,
          11256.421335366986,
          11268.984431138717,
          11285.919563390686,
          11419.631185969743,
          11417.349353686022,
          11404.61650042223,
          11434.050158114242,
          11465.040794019085,
          11562.535749478258,
          11589.645916606667,
          11585.081210582164,
          11673.873751361793,
          11703.307409053905,
          11673.745652150976,
          11655.509740106927,
          11619.78359922977,
          11665.491063980722,
          11683.834246095617,
          11694.435236883533,
          11646.679226216494,
          11677.840661069147,
          11750.188595842186,
          11809.931776562165,
          11874.28132158659,
          11886.35389111341,
          11895.162534406873,
          11911.287413114926,
          11911.287413114926,
          11928.119268993247,
          11839.117082624087,
          11829.89380313057,
          11829.89380313057,
          11834.704489359847,
          11790.671897607519,
          11799.971211905891,
          11799.971211905891,
          11754.33690087361,
          11957.211981602257,
          12006.181505459746,
          12006.666441725285,
          12202.737182299055,
          12248.692137160408,
          12444.816042048435,
          12469.486763945326,
          12590.49459705318,
          12565.530931877673,
          12618.780294445014,
          12506.084917914104,
          12649.680387961662,
          12609.789024617718,
          12629.903536281396,
          12554.428647122782,
          12553.934268967787,
          12412.432611197864,
          12412.432611197863,
          12440.190985145524,
          12539.771215279265,
          12622.131225120847,
          12686.192889769447,
          12701.647305108794,
          12704.956218963858,
          12668.437749534443,
          12882.684816256346,
          12857.72622849536,
          12893.81303973411,
          12926.176490614907,
          12902.123298740704,
          12954.224671447504,
          12937.991166725651,
          12871.657530079388,
          12809.963532881891,
          12809.963532881891,
          12835.541840958207,
          12835.541840958205,
          12811.377753554129,
          12810.28135277822,
          12810.28135277822,
          12972.30532879006,
          13044.906473881856,
          13087.898251577904,
          13063.07009647869,
          13085.721192853489,
          13060.85022241154
         ]
        },
        {
         "marker": {
          "color": "red",
          "size": 10,
          "symbol": "triangle-down"
         },
         "mode": "markers",
         "name": "Sell Signal",
         "type": "scatter",
         "x": [
          64,
          70,
          71,
          131,
          135,
          136,
          137,
          139,
          140,
          141,
          146,
          147,
          148,
          168,
          169,
          170,
          171,
          188,
          189,
          190,
          192,
          195,
          198,
          200,
          201,
          202,
          203,
          204,
          205,
          206,
          207,
          208,
          209,
          210,
          211,
          212,
          218,
          219,
          220,
          221,
          222,
          223,
          224,
          226,
          227,
          229,
          230,
          231,
          232,
          233,
          234,
          235,
          236,
          237,
          238,
          239,
          240,
          241,
          242,
          243,
          244
         ],
         "y": [
          11029.507533768614,
          10888.429846912793,
          10734.94905525631,
          12016.58913023507,
          11985.306080007678,
          11839.117082624087,
          11839.117082624087,
          11839.117082624087,
          11829.89380313057,
          11829.89380313057,
          11953.532400729819,
          11799.971211905891,
          11799.971211905891,
          12680.64132319545,
          12412.432611197864,
          12412.432611197864,
          12412.432611197864,
          12992.802041803257,
          12871.657530079388,
          12871.657530079388,
          12871.657530079388,
          12855.524806958936,
          12885.00788134609,
          12811.377753554129,
          12810.28135277822,
          12810.28135277822,
          12810.28135277822,
          12810.28135277822,
          12810.28135277822,
          12810.28135277822,
          12810.28135277822,
          12810.28135277822,
          12810.28135277822,
          12810.28135277822,
          12810.28135277822,
          12810.28135277822,
          13099.80538169741,
          13063.07009647869,
          13063.07009647869,
          13063.07009647869,
          13063.07009647869,
          13063.07009647869,
          13063.07009647869,
          13063.07009647869,
          13085.721192853489,
          13085.721192853489,
          13060.85022241154,
          13060.85022241154,
          13060.85022241154,
          13060.85022241154,
          13060.85022241154,
          13060.85022241154,
          13060.85022241154,
          13060.85022241154,
          13060.85022241154,
          13060.85022241154,
          13060.85022241154,
          13060.85022241154,
          13060.85022241154,
          13060.85022241154,
          13060.85022241154
         ]
        }
       ],
       "layout": {
        "template": {
         "data": {
          "bar": [
           {
            "error_x": {
             "color": "#2a3f5f"
            },
            "error_y": {
             "color": "#2a3f5f"
            },
            "marker": {
             "line": {
              "color": "#E5ECF6",
              "width": 0.5
             },
             "pattern": {
              "fillmode": "overlay",
              "size": 10,
              "solidity": 0.2
             }
            },
            "type": "bar"
           }
          ],
          "barpolar": [
           {
            "marker": {
             "line": {
              "color": "#E5ECF6",
              "width": 0.5
             },
             "pattern": {
              "fillmode": "overlay",
              "size": 10,
              "solidity": 0.2
             }
            },
            "type": "barpolar"
           }
          ],
          "carpet": [
           {
            "aaxis": {
             "endlinecolor": "#2a3f5f",
             "gridcolor": "white",
             "linecolor": "white",
             "minorgridcolor": "white",
             "startlinecolor": "#2a3f5f"
            },
            "baxis": {
             "endlinecolor": "#2a3f5f",
             "gridcolor": "white",
             "linecolor": "white",
             "minorgridcolor": "white",
             "startlinecolor": "#2a3f5f"
            },
            "type": "carpet"
           }
          ],
          "choropleth": [
           {
            "colorbar": {
             "outlinewidth": 0,
             "ticks": ""
            },
            "type": "choropleth"
           }
          ],
          "contour": [
           {
            "colorbar": {
             "outlinewidth": 0,
             "ticks": ""
            },
            "colorscale": [
             [
              0,
              "#0d0887"
             ],
             [
              0.1111111111111111,
              "#46039f"
             ],
             [
              0.2222222222222222,
              "#7201a8"
             ],
             [
              0.3333333333333333,
              "#9c179e"
             ],
             [
              0.4444444444444444,
              "#bd3786"
             ],
             [
              0.5555555555555556,
              "#d8576b"
             ],
             [
              0.6666666666666666,
              "#ed7953"
             ],
             [
              0.7777777777777778,
              "#fb9f3a"
             ],
             [
              0.8888888888888888,
              "#fdca26"
             ],
             [
              1,
              "#f0f921"
             ]
            ],
            "type": "contour"
           }
          ],
          "contourcarpet": [
           {
            "colorbar": {
             "outlinewidth": 0,
             "ticks": ""
            },
            "type": "contourcarpet"
           }
          ],
          "heatmap": [
           {
            "colorbar": {
             "outlinewidth": 0,
             "ticks": ""
            },
            "colorscale": [
             [
              0,
              "#0d0887"
             ],
             [
              0.1111111111111111,
              "#46039f"
             ],
             [
              0.2222222222222222,
              "#7201a8"
             ],
             [
              0.3333333333333333,
              "#9c179e"
             ],
             [
              0.4444444444444444,
              "#bd3786"
             ],
             [
              0.5555555555555556,
              "#d8576b"
             ],
             [
              0.6666666666666666,
              "#ed7953"
             ],
             [
              0.7777777777777778,
              "#fb9f3a"
             ],
             [
              0.8888888888888888,
              "#fdca26"
             ],
             [
              1,
              "#f0f921"
             ]
            ],
            "type": "heatmap"
           }
          ],
          "histogram": [
           {
            "marker": {
             "pattern": {
              "fillmode": "overlay",
              "size": 10,
              "solidity": 0.2
             }
            },
            "type": "histogram"
           }
          ],
          "histogram2d": [
           {
            "colorbar": {
             "outlinewidth": 0,
             "ticks": ""
            },
            "colorscale": [
             [
              0,
              "#0d0887"
             ],
             [
              0.1111111111111111,
              "#46039f"
             ],
             [
              0.2222222222222222,
              "#7201a8"
             ],
             [
              0.3333333333333333,
              "#9c179e"
             ],
             [
              0.4444444444444444,
              "#bd3786"
             ],
             [
              0.5555555555555556,
              "#d8576b"
             ],
             [
              0.6666666666666666,
              "#ed7953"
             ],
             [
              0.7777777777777778,
              "#fb9f3a"
             ],
             [
              0.8888888888888888,
              "#fdca26"
             ],
             [
              1,
              "#f0f921"
             ]
            ],
            "type": "histogram2d"
           }
          ],
          "histogram2dcontour": [
           {
            "colorbar": {
             "outlinewidth": 0,
             "ticks": ""
            },
            "colorscale": [
             [
              0,
              "#0d0887"
             ],
             [
              0.1111111111111111,
              "#46039f"
             ],
             [
              0.2222222222222222,
              "#7201a8"
             ],
             [
              0.3333333333333333,
              "#9c179e"
             ],
             [
              0.4444444444444444,
              "#bd3786"
             ],
             [
              0.5555555555555556,
              "#d8576b"
             ],
             [
              0.6666666666666666,
              "#ed7953"
             ],
             [
              0.7777777777777778,
              "#fb9f3a"
             ],
             [
              0.8888888888888888,
              "#fdca26"
             ],
             [
              1,
              "#f0f921"
             ]
            ],
            "type": "histogram2dcontour"
           }
          ],
          "mesh3d": [
           {
            "colorbar": {
             "outlinewidth": 0,
             "ticks": ""
            },
            "type": "mesh3d"
           }
          ],
          "parcoords": [
           {
            "line": {
             "colorbar": {
              "outlinewidth": 0,
              "ticks": ""
             }
            },
            "type": "parcoords"
           }
          ],
          "pie": [
           {
            "automargin": true,
            "type": "pie"
           }
          ],
          "scatter": [
           {
            "fillpattern": {
             "fillmode": "overlay",
             "size": 10,
             "solidity": 0.2
            },
            "type": "scatter"
           }
          ],
          "scatter3d": [
           {
            "line": {
             "colorbar": {
              "outlinewidth": 0,
              "ticks": ""
             }
            },
            "marker": {
             "colorbar": {
              "outlinewidth": 0,
              "ticks": ""
             }
            },
            "type": "scatter3d"
           }
          ],
          "scattercarpet": [
           {
            "marker": {
             "colorbar": {
              "outlinewidth": 0,
              "ticks": ""
             }
            },
            "type": "scattercarpet"
           }
          ],
          "scattergeo": [
           {
            "marker": {
             "colorbar": {
              "outlinewidth": 0,
              "ticks": ""
             }
            },
            "type": "scattergeo"
           }
          ],
          "scattergl": [
           {
            "marker": {
             "colorbar": {
              "outlinewidth": 0,
              "ticks": ""
             }
            },
            "type": "scattergl"
           }
          ],
          "scattermap": [
           {
            "marker": {
             "colorbar": {
              "outlinewidth": 0,
              "ticks": ""
             }
            },
            "type": "scattermap"
           }
          ],
          "scattermapbox": [
           {
            "marker": {
             "colorbar": {
              "outlinewidth": 0,
              "ticks": ""
             }
            },
            "type": "scattermapbox"
           }
          ],
          "scatterpolar": [
           {
            "marker": {
             "colorbar": {
              "outlinewidth": 0,
              "ticks": ""
             }
            },
            "type": "scatterpolar"
           }
          ],
          "scatterpolargl": [
           {
            "marker": {
             "colorbar": {
              "outlinewidth": 0,
              "ticks": ""
             }
            },
            "type": "scatterpolargl"
           }
          ],
          "scatterternary": [
           {
            "marker": {
             "colorbar": {
              "outlinewidth": 0,
              "ticks": ""
             }
            },
            "type": "scatterternary"
           }
          ],
          "surface": [
           {
            "colorbar": {
             "outlinewidth": 0,
             "ticks": ""
            },
            "colorscale": [
             [
              0,
              "#0d0887"
             ],
             [
              0.1111111111111111,
              "#46039f"
             ],
             [
              0.2222222222222222,
              "#7201a8"
             ],
             [
              0.3333333333333333,
              "#9c179e"
             ],
             [
              0.4444444444444444,
              "#bd3786"
             ],
             [
              0.5555555555555556,
              "#d8576b"
             ],
             [
              0.6666666666666666,
              "#ed7953"
             ],
             [
              0.7777777777777778,
              "#fb9f3a"
             ],
             [
              0.8888888888888888,
              "#fdca26"
             ],
             [
              1,
              "#f0f921"
             ]
            ],
            "type": "surface"
           }
          ],
          "table": [
           {
            "cells": {
             "fill": {
              "color": "#EBF0F8"
             },
             "line": {
              "color": "white"
             }
            },
            "header": {
             "fill": {
              "color": "#C8D4E3"
             },
             "line": {
              "color": "white"
             }
            },
            "type": "table"
           }
          ]
         },
         "layout": {
          "annotationdefaults": {
           "arrowcolor": "#2a3f5f",
           "arrowhead": 0,
           "arrowwidth": 1
          },
          "autotypenumbers": "strict",
          "coloraxis": {
           "colorbar": {
            "outlinewidth": 0,
            "ticks": ""
           }
          },
          "colorscale": {
           "diverging": [
            [
             0,
             "#8e0152"
            ],
            [
             0.1,
             "#c51b7d"
            ],
            [
             0.2,
             "#de77ae"
            ],
            [
             0.3,
             "#f1b6da"
            ],
            [
             0.4,
             "#fde0ef"
            ],
            [
             0.5,
             "#f7f7f7"
            ],
            [
             0.6,
             "#e6f5d0"
            ],
            [
             0.7,
             "#b8e186"
            ],
            [
             0.8,
             "#7fbc41"
            ],
            [
             0.9,
             "#4d9221"
            ],
            [
             1,
             "#276419"
            ]
           ],
           "sequential": [
            [
             0,
             "#0d0887"
            ],
            [
             0.1111111111111111,
             "#46039f"
            ],
            [
             0.2222222222222222,
             "#7201a8"
            ],
            [
             0.3333333333333333,
             "#9c179e"
            ],
            [
             0.4444444444444444,
             "#bd3786"
            ],
            [
             0.5555555555555556,
             "#d8576b"
            ],
            [
             0.6666666666666666,
             "#ed7953"
            ],
            [
             0.7777777777777778,
             "#fb9f3a"
            ],
            [
             0.8888888888888888,
             "#fdca26"
            ],
            [
             1,
             "#f0f921"
            ]
           ],
           "sequentialminus": [
            [
             0,
             "#0d0887"
            ],
            [
             0.1111111111111111,
             "#46039f"
            ],
            [
             0.2222222222222222,
             "#7201a8"
            ],
            [
             0.3333333333333333,
             "#9c179e"
            ],
            [
             0.4444444444444444,
             "#bd3786"
            ],
            [
             0.5555555555555556,
             "#d8576b"
            ],
            [
             0.6666666666666666,
             "#ed7953"
            ],
            [
             0.7777777777777778,
             "#fb9f3a"
            ],
            [
             0.8888888888888888,
             "#fdca26"
            ],
            [
             1,
             "#f0f921"
            ]
           ]
          },
          "colorway": [
           "#636efa",
           "#EF553B",
           "#00cc96",
           "#ab63fa",
           "#FFA15A",
           "#19d3f3",
           "#FF6692",
           "#B6E880",
           "#FF97FF",
           "#FECB52"
          ],
          "font": {
           "color": "#2a3f5f"
          },
          "geo": {
           "bgcolor": "white",
           "lakecolor": "white",
           "landcolor": "#E5ECF6",
           "showlakes": true,
           "showland": true,
           "subunitcolor": "white"
          },
          "hoverlabel": {
           "align": "left"
          },
          "hovermode": "closest",
          "mapbox": {
           "style": "light"
          },
          "paper_bgcolor": "white",
          "plot_bgcolor": "#E5ECF6",
          "polar": {
           "angularaxis": {
            "gridcolor": "white",
            "linecolor": "white",
            "ticks": ""
           },
           "bgcolor": "#E5ECF6",
           "radialaxis": {
            "gridcolor": "white",
            "linecolor": "white",
            "ticks": ""
           }
          },
          "scene": {
           "xaxis": {
            "backgroundcolor": "#E5ECF6",
            "gridcolor": "white",
            "gridwidth": 2,
            "linecolor": "white",
            "showbackground": true,
            "ticks": "",
            "zerolinecolor": "white"
           },
           "yaxis": {
            "backgroundcolor": "#E5ECF6",
            "gridcolor": "white",
            "gridwidth": 2,
            "linecolor": "white",
            "showbackground": true,
            "ticks": "",
            "zerolinecolor": "white"
           },
           "zaxis": {
            "backgroundcolor": "#E5ECF6",
            "gridcolor": "white",
            "gridwidth": 2,
            "linecolor": "white",
            "showbackground": true,
            "ticks": "",
            "zerolinecolor": "white"
           }
          },
          "shapedefaults": {
           "line": {
            "color": "#2a3f5f"
           }
          },
          "ternary": {
           "aaxis": {
            "gridcolor": "white",
            "linecolor": "white",
            "ticks": ""
           },
           "baxis": {
            "gridcolor": "white",
            "linecolor": "white",
            "ticks": ""
           },
           "bgcolor": "#E5ECF6",
           "caxis": {
            "gridcolor": "white",
            "linecolor": "white",
            "ticks": ""
           }
          },
          "title": {
           "x": 0.05
          },
          "xaxis": {
           "automargin": true,
           "gridcolor": "white",
           "linecolor": "white",
           "ticks": "",
           "title": {
            "standoff": 15
           },
           "zerolinecolor": "white",
           "zerolinewidth": 2
          },
          "yaxis": {
           "automargin": true,
           "gridcolor": "white",
           "linecolor": "white",
           "ticks": "",
           "title": {
            "standoff": 15
           },
           "zerolinecolor": "white",
           "zerolinewidth": 2
          }
         }
        },
        "title": {
         "text": "USA_S&P500 Portfolio Evolution (Return: 29.17%)"
        },
        "xaxis": {
         "title": {
          "text": "Trading Steps"
         }
        },
        "yaxis": {
         "title": {
          "text": "Portfolio Value ($)"
         }
        }
       }
      }
     },
     "metadata": {},
     "output_type": "display_data"
    },
    {
     "data": {
      "application/vnd.plotly.v1+json": {
       "config": {
        "plotlyServerURL": "https://plot.ly"
       },
       "data": [
        {
         "mode": "lines",
         "name": "Price",
         "type": "scatter",
         "x": [
          0,
          1,
          2,
          3,
          4,
          5,
          6,
          7,
          8,
          9,
          10,
          11,
          12,
          13,
          14,
          15,
          16,
          17,
          18,
          19,
          20,
          21,
          22,
          23,
          24,
          25,
          26,
          27,
          28,
          29,
          30,
          31,
          32,
          33,
          34,
          35,
          36,
          37,
          38,
          39,
          40,
          41,
          42,
          43,
          44,
          45,
          46,
          47,
          48,
          49,
          50,
          51,
          52,
          53,
          54,
          55,
          56,
          57,
          58,
          59,
          60,
          61,
          62,
          63,
          64,
          65,
          66,
          67,
          68,
          69,
          70,
          71,
          72,
          73,
          74,
          75,
          76,
          77,
          78,
          79,
          80,
          81,
          82,
          83,
          84,
          85,
          86,
          87,
          88,
          89,
          90,
          91,
          92,
          93,
          94,
          95,
          96,
          97,
          98,
          99,
          100,
          101,
          102,
          103,
          104,
          105,
          106,
          107,
          108,
          109,
          110,
          111,
          112,
          113,
          114,
          115,
          116,
          117,
          118,
          119,
          120,
          121,
          122,
          123,
          124,
          125,
          126,
          127,
          128,
          129,
          130,
          131,
          132,
          133,
          134,
          135,
          136,
          137,
          138,
          139,
          140,
          141,
          142,
          143,
          144,
          145,
          146,
          147,
          148,
          149,
          150,
          151,
          152,
          153,
          154,
          155,
          156,
          157,
          158,
          159,
          160,
          161,
          162,
          163,
          164,
          165,
          166,
          167,
          168,
          169,
          170,
          171,
          172,
          173,
          174,
          175,
          176,
          177,
          178,
          179,
          180,
          181,
          182,
          183,
          184,
          185,
          186,
          187,
          188,
          189,
          190,
          191,
          192,
          193,
          194,
          195,
          196,
          197,
          198,
          199,
          200,
          201,
          202,
          203,
          204,
          205,
          206,
          207,
          208,
          209,
          210,
          211,
          212,
          213,
          214,
          215,
          216,
          217,
          218,
          219,
          220,
          221,
          222,
          223,
          224,
          225,
          226,
          227,
          228,
          229,
          230,
          231,
          232,
          233,
          234,
          235,
          236,
          237,
          238,
          239,
          240,
          241,
          242,
          243,
          244,
          245,
          246,
          247,
          248,
          249,
          250,
          251
         ],
         "y": {
          "bdata": "AAAAgNSGskAAAABgz2CyQAAAACCuULJAAAAAgD1ZskAAAABAipuyQAAAAACAlLJAAAAAQHOvskAAAACAPayyQAAAAIDUr7JAAAAA4PqdskAAAADANYOyQAAAAKDwrLJAAAAAYM/nskAAAAAgbvKyQAAAAKCZALNAAAAAwIwEs0AAAAAAKR6zQAAAAGD4GrNAAAAAIO4/s0AAAABg+DyzQAAAAGCm7bJAAAAAoDAqs0AAAAAgnF6zQAAAAGDPTrNAAAAA4Dpas0AAAABgD4OzQAAAAADphbNAAAAAIJyis0AAAAAA152zQAAAAIArWbNAAAAAwJ6Is0AAAADguqWzQAAAAOCRjbNAAAAAgIJvs0AAAADAzHWzQAAAAKAH37NAAAAAwMzgs0AAAACgh82zQAAAACAu1rNAAAAAgMLNs0AAAAAgReizQAAAAIAUEbRAAAAAQPMKtEAAAABgptazQAAAAIDC8LNAAAAAIFwltEAAAACgsAO0QAAAAKDw/bNAAAAAIEU3tEAAAABgTy20QAAAAOB6HrRAAAAAABf9s0AAAACAax20QAAAAICCOrRAAAAAwJ5otEAAAACgh3m0QAAAACAucrRAAAAAoDBitEAAAACAlFO0QAAAAIB9gLRAAAAAoFmGtEAAAAAgxXu0QAAAAGDPVbRAAAAAgH1btEAAAADANRu0QAAAAABXVLRAAAAA4GNStEAAAAAA6Vm0QAAAAOCjKLRAAAAAYA9PtEAAAAAAaQO0QAAAAODRxbNAAAAAAGm7s0AAAADANZ6zQAAAAMAek7NAAAAA4Dpns0AAAACgmZKzQAAAAMCMzrNAAAAAQKHPs0AAAACAa7izQAAAAMD167NAAAAAgCv8s0AAAACgsKuzQAAAAOBjmrNAAAAAQDPIs0AAAABAyge0QAAAAIC9PLRAAAAAQLNDtEAAAACAq0O0QAAAAIAUXrRAAAAAIK5mtEAAAACAa2W0QAAAACCufrRAAAAAYCa8tEAAAACgGbG0QAAAACBFt7RAAAAAQCG8tEAAAAAAacm0QAAAAIACu7RAAAAAANeTtEAAAABguLi0QAAAAEAKurRAAAAAQPOStEAAAADgenO0QAAAAICCnbRAAAAAYGajtEAAAAAAV6u0QAAAAKAH6rRAAAAAwPXotEAAAACA/eK0QAAAAEDK8LRAAAAA4FH/tEAAAACgBy21QAAAAIC9ObVAAAAAoJk3tUAAAADgOmG1QAAAAKAHb7VAAAAAgCthtUAAAADAnli1QAAAAMDeR7VAAAAAwExdtUAAAABg5mW1QAAAAMDearVAAAAA4HpUtUAAAAAAF2O1QAAAAIAChbVAAAAAIAWhtUAAAACgML+1QAAAAKDZxLVAAAAA4PrItUAAAAAA6QG2QAAAAECK0LVAAAAAoFnvtUAAAABgOP+1QAAAAEAzI7ZAAAAAIEXUtUAAAAAAl6i1QAAAAAAAgbVAAAAAAGm8tUAAAACAvbO1QAAAAEAhM7VAAAAAYDgXtUAAAACgGVO1QAAAAECKV7VAAAAAoHA8tUAAAADATJK1QAAAACCuRrVAAAAAYI/itEAAAACAVEK0QAAAAKAHeLRAAAAAAIBPtEAAAABgT8e0QAAAAAAp4LRAAAAA4GPgtEAAAAAgbjq1QAAAAMA1T7VAAAAAYDintUAAAAAAQLK1QAAAAABA6LVAAAAAwB7dtUAAAACg2fS1QAAAAOCjwrVAAAAAIJwCtkAAAAAA1/C1QAAAAMDM+bVAAAAAIC7YtUAAAADA9de1QAAAAGBmELZAAAAAIO6YtUAAAADgEZC1QAAAAABpf7VAAAAAgGsgtUAAAADADF+1QAAAACCFd7VAAAAAQCGytUAAAACAwtu1QAAAACAF+rVAAAAAABcBtkAAAACAlAK2QAAAAIBC8rVAAAAA4KNRtkAAAADAjEa2QAAAAOCRVrZAAAAAIO5ktkAAAACAQlq2QAAAAMBecbZAAAAAgCtqtkAAAADgeoK2QAAAAADATLZAAAAAQIpNtkAAAACg8EO2QAAAAOARd7ZAAAAAoPA/tkAAAABAIXe2QAAAAEAKoLZAAAAAwAyUtkAAAACgB7e2QAAAAKDZ47ZAAAAAgEK3tkAAAABgeNK2QAAAAGB40bZAAAAAgKvotkAAAADg+t22QAAAAEAz27ZAAAAAgGultkAAAAAg3LG2QAAAAMAesLZAAAAAIIW/tkAAAACA68i2QAAAAICrtbZAAAAAQHNJtkAAAADAzGC2QAAAAKCwULZAAAAAgMKWtkAAAABACim3QAAAAKAZVbdAAAAAQIprt0AAAACgWXG3QAAAAID9X7dAAAAAQGFht0AAAACAKz23QAAAAMCe7rZAAAAAwJ4Ft0AAAADg+hy3QAAAACAcHbdAAAAAwLU8t0AAAAAAV1G3QAAAAMBeY7dAAAAAQKGFt0AAAACAvW63QAAAAEBhkLdAAAAAYCaft0AAAABA4aG3QAAAAIB9xrdAAAAAIBy7t0AAAAAgRcq3QAAAAKDZpLdAAAAAAOmSt0AAAACgMMS3QAAAAABAo7dAAAAAABejt0AAAACAFLq3QAAAACCcordAAAAAACnwtkAAAACAFOu2QAAAAKDZKrdAAAAA4BFWt0AAAABACpi3QAAAAACXlbdAAAAAANdSt0AAAACg8BK3QAAAAECh+bZA",
          "dtype": "f8"
         }
        },
        {
         "marker": {
          "color": "green",
          "size": 10,
          "symbol": "triangle-up"
         },
         "mode": "markers",
         "name": "Buy Signal",
         "type": "scatter",
         "x": [
          0,
          1,
          2,
          3,
          4,
          5,
          6,
          7,
          8,
          9,
          10,
          11,
          12,
          13,
          14,
          15,
          16,
          17,
          18,
          19,
          20,
          21,
          22,
          23,
          24,
          25,
          26,
          27,
          28,
          29,
          30,
          31,
          32,
          33,
          34,
          35,
          36,
          37,
          38,
          39,
          40,
          41,
          42,
          43,
          44,
          45,
          46,
          47,
          48,
          49,
          50,
          51,
          52,
          53,
          54,
          55,
          56,
          57,
          58,
          59,
          60,
          61,
          62,
          63,
          65,
          66,
          67,
          68,
          69,
          72,
          73,
          74,
          75,
          76,
          77,
          78,
          79,
          80,
          81,
          82,
          83,
          84,
          85,
          86,
          87,
          88,
          89,
          90,
          91,
          92,
          93,
          94,
          95,
          96,
          97,
          98,
          99,
          100,
          101,
          102,
          103,
          104,
          105,
          106,
          107,
          108,
          109,
          110,
          111,
          112,
          113,
          114,
          115,
          116,
          117,
          118,
          119,
          120,
          121,
          122,
          123,
          124,
          125,
          126,
          127,
          128,
          129,
          130,
          132,
          133,
          134,
          138,
          142,
          143,
          144,
          145,
          149,
          150,
          151,
          152,
          153,
          154,
          155,
          156,
          157,
          158,
          159,
          160,
          161,
          162,
          163,
          164,
          165,
          166,
          167,
          172,
          173,
          174,
          175,
          176,
          177,
          178,
          179,
          180,
          181,
          182,
          183,
          184,
          185,
          186,
          187,
          191,
          193,
          194,
          196,
          197,
          199,
          213,
          214,
          215,
          216,
          217,
          225,
          228,
          247
         ],
         "y": [
          4742.830078125,
          4704.81005859375,
          4688.68017578125,
          4697.240234375,
          4763.5400390625,
          4756.5,
          4783.4501953125,
          4780.240234375,
          4783.830078125,
          4765.97998046875,
          4739.2099609375,
          4780.93994140625,
          4839.81005859375,
          4850.43017578125,
          4864.60009765625,
          4868.5498046875,
          4894.16015625,
          4890.97021484375,
          4927.93017578125,
          4924.97021484375,
          4845.64990234375,
          4906.18994140625,
          4958.60986328125,
          4942.81005859375,
          4954.22998046875,
          4995.06005859375,
          4997.91015625,
          5026.60986328125,
          5021.83984375,
          4953.169921875,
          5000.6201171875,
          5029.72998046875,
          5005.56982421875,
          4975.509765625,
          4981.7998046875,
          5087.02978515625,
          5088.7998046875,
          5069.52978515625,
          5078.18017578125,
          5069.759765625,
          5096.27001953125,
          5137.080078125,
          5130.9501953125,
          5078.64990234375,
          5104.759765625,
          5157.35986328125,
          5123.68994140625,
          5117.93994140625,
          5175.27001953125,
          5165.31005859375,
          5150.47998046875,
          5117.08984375,
          5149.419921875,
          5178.509765625,
          5224.6201171875,
          5241.52978515625,
          5234.18017578125,
          5218.18994140625,
          5203.580078125,
          5248.490234375,
          5254.35009765625,
          5243.77001953125,
          5205.81005859375,
          5211.490234375,
          5204.33984375,
          5202.39013671875,
          5209.91015625,
          5160.64013671875,
          5199.06005859375,
          5051.41015625,
          5022.2099609375,
          5011.1201171875,
          4967.22998046875,
          5010.60009765625,
          5070.5498046875,
          5071.6298828125,
          5048.419921875,
          5099.9599609375,
          5116.169921875,
          5035.68994140625,
          5018.39013671875,
          5064.2001953125,
          5127.7900390625,
          5180.740234375,
          5187.7001953125,
          5187.669921875,
          5214.080078125,
          5222.68017578125,
          5221.419921875,
          5246.68017578125,
          5308.14990234375,
          5297.10009765625,
          5303.27001953125,
          5308.1298828125,
          5321.41015625,
          5307.009765625,
          5267.83984375,
          5304.72021484375,
          5306.0400390625,
          5266.9501953125,
          5235.47998046875,
          5277.509765625,
          5283.39990234375,
          5291.33984375,
          5354.02978515625,
          5352.9599609375,
          5346.990234375,
          5360.7900390625,
          5375.31982421875,
          5421.02978515625,
          5433.740234375,
          5431.60009765625,
          5473.22998046875,
          5487.02978515625,
          5473.169921875,
          5464.6201171875,
          5447.8701171875,
          5469.2998046875,
          5477.89990234375,
          5482.8701171875,
          5460.47998046875,
          5475.08984375,
          5509.009765625,
          5537.02001953125,
          5567.18994140625,
          5572.85009765625,
          5576.97998046875,
          5633.91015625,
          5615.35009765625,
          5631.22021484375,
          5667.2001953125,
          5564.41015625,
          5459.10009765625,
          5463.5400390625,
          5436.43994140625,
          5522.2998046875,
          5240.02978515625,
          5199.5,
          5319.31005859375,
          5344.16015625,
          5344.39013671875,
          5434.43017578125,
          5455.2099609375,
          5543.22021484375,
          5554.25,
          5608.25,
          5597.1201171875,
          5620.85009765625,
          5570.64013671875,
          5634.60986328125,
          5616.83984375,
          5625.7998046875,
          5592.18017578125,
          5591.9599609375,
          5648.39990234375,
          5471.0498046875,
          5495.52001953125,
          5554.1298828125,
          5595.759765625,
          5626.02001953125,
          5633.08984375,
          5634.580078125,
          5618.259765625,
          5713.64013671875,
          5702.5498046875,
          5718.56982421875,
          5732.93017578125,
          5722.259765625,
          5745.3701171875,
          5738.169921875,
          5762.47998046875,
          5751.06982421875,
          5751.1298828125,
          5792.0400390625,
          5815.02978515625,
          5859.85009765625,
          5842.47021484375,
          5782.759765625,
          5929.0400390625,
          5973.10009765625,
          5995.5400390625,
          6001.35009765625,
          5948.7099609375,
          6021.6298828125,
          6040.0400390625
         ]
        },
        {
         "marker": {
          "color": "red",
          "size": 10,
          "symbol": "triangle-down"
         },
         "mode": "markers",
         "name": "Sell Signal",
         "type": "scatter",
         "x": [
          64,
          70,
          71,
          131,
          135,
          136,
          137,
          139,
          140,
          141,
          146,
          147,
          148,
          168,
          169,
          170,
          171,
          188,
          189,
          190,
          192,
          195,
          198,
          200,
          201,
          202,
          203,
          204,
          205,
          206,
          207,
          208,
          209,
          210,
          211,
          212,
          218,
          219,
          220,
          221,
          222,
          223,
          224,
          226,
          227,
          229,
          230,
          231,
          232,
          233,
          234,
          235,
          236,
          237,
          238,
          239,
          240,
          241,
          242,
          243,
          244
         ],
         "y": [
          5147.2099609375,
          5123.41015625,
          5061.81982421875,
          5584.5400390625,
          5588.27001953125,
          5544.58984375,
          5505,
          5555.740234375,
          5427.1298828125,
          5399.22021484375,
          5446.68017578125,
          5346.56005859375,
          5186.330078125,
          5528.93017578125,
          5520.06982421875,
          5503.41015625,
          5408.419921875,
          5708.75,
          5709.5400390625,
          5699.93994140625,
          5695.93994140625,
          5780.0498046875,
          5815.259765625,
          5841.47021484375,
          5864.669921875,
          5853.97998046875,
          5851.2001953125,
          5797.419921875,
          5809.85986328125,
          5808.1201171875,
          5823.52001953125,
          5832.919921875,
          5813.669921875,
          5705.4501953125,
          5728.7998046875,
          5712.68994140625,
          5983.990234375,
          5985.3798828125,
          5949.169921875,
          5870.6201171875,
          5893.6201171875,
          5916.97998046875,
          5917.10986328125,
          5969.33984375,
          5987.3701171875,
          5998.740234375,
          6032.3798828125,
          6047.14990234375,
          6049.8798828125,
          6086.490234375,
          6075.10986328125,
          6090.27001953125,
          6052.85009765625,
          6034.91015625,
          6084.18994140625,
          6051.25,
          6051.08984375,
          6074.080078125,
          6050.60986328125,
          5872.16015625,
          5867.080078125
         ]
        }
       ],
       "layout": {
        "template": {
         "data": {
          "bar": [
           {
            "error_x": {
             "color": "#2a3f5f"
            },
            "error_y": {
             "color": "#2a3f5f"
            },
            "marker": {
             "line": {
              "color": "#E5ECF6",
              "width": 0.5
             },
             "pattern": {
              "fillmode": "overlay",
              "size": 10,
              "solidity": 0.2
             }
            },
            "type": "bar"
           }
          ],
          "barpolar": [
           {
            "marker": {
             "line": {
              "color": "#E5ECF6",
              "width": 0.5
             },
             "pattern": {
              "fillmode": "overlay",
              "size": 10,
              "solidity": 0.2
             }
            },
            "type": "barpolar"
           }
          ],
          "carpet": [
           {
            "aaxis": {
             "endlinecolor": "#2a3f5f",
             "gridcolor": "white",
             "linecolor": "white",
             "minorgridcolor": "white",
             "startlinecolor": "#2a3f5f"
            },
            "baxis": {
             "endlinecolor": "#2a3f5f",
             "gridcolor": "white",
             "linecolor": "white",
             "minorgridcolor": "white",
             "startlinecolor": "#2a3f5f"
            },
            "type": "carpet"
           }
          ],
          "choropleth": [
           {
            "colorbar": {
             "outlinewidth": 0,
             "ticks": ""
            },
            "type": "choropleth"
           }
          ],
          "contour": [
           {
            "colorbar": {
             "outlinewidth": 0,
             "ticks": ""
            },
            "colorscale": [
             [
              0,
              "#0d0887"
             ],
             [
              0.1111111111111111,
              "#46039f"
             ],
             [
              0.2222222222222222,
              "#7201a8"
             ],
             [
              0.3333333333333333,
              "#9c179e"
             ],
             [
              0.4444444444444444,
              "#bd3786"
             ],
             [
              0.5555555555555556,
              "#d8576b"
             ],
             [
              0.6666666666666666,
              "#ed7953"
             ],
             [
              0.7777777777777778,
              "#fb9f3a"
             ],
             [
              0.8888888888888888,
              "#fdca26"
             ],
             [
              1,
              "#f0f921"
             ]
            ],
            "type": "contour"
           }
          ],
          "contourcarpet": [
           {
            "colorbar": {
             "outlinewidth": 0,
             "ticks": ""
            },
            "type": "contourcarpet"
           }
          ],
          "heatmap": [
           {
            "colorbar": {
             "outlinewidth": 0,
             "ticks": ""
            },
            "colorscale": [
             [
              0,
              "#0d0887"
             ],
             [
              0.1111111111111111,
              "#46039f"
             ],
             [
              0.2222222222222222,
              "#7201a8"
             ],
             [
              0.3333333333333333,
              "#9c179e"
             ],
             [
              0.4444444444444444,
              "#bd3786"
             ],
             [
              0.5555555555555556,
              "#d8576b"
             ],
             [
              0.6666666666666666,
              "#ed7953"
             ],
             [
              0.7777777777777778,
              "#fb9f3a"
             ],
             [
              0.8888888888888888,
              "#fdca26"
             ],
             [
              1,
              "#f0f921"
             ]
            ],
            "type": "heatmap"
           }
          ],
          "histogram": [
           {
            "marker": {
             "pattern": {
              "fillmode": "overlay",
              "size": 10,
              "solidity": 0.2
             }
            },
            "type": "histogram"
           }
          ],
          "histogram2d": [
           {
            "colorbar": {
             "outlinewidth": 0,
             "ticks": ""
            },
            "colorscale": [
             [
              0,
              "#0d0887"
             ],
             [
              0.1111111111111111,
              "#46039f"
             ],
             [
              0.2222222222222222,
              "#7201a8"
             ],
             [
              0.3333333333333333,
              "#9c179e"
             ],
             [
              0.4444444444444444,
              "#bd3786"
             ],
             [
              0.5555555555555556,
              "#d8576b"
             ],
             [
              0.6666666666666666,
              "#ed7953"
             ],
             [
              0.7777777777777778,
              "#fb9f3a"
             ],
             [
              0.8888888888888888,
              "#fdca26"
             ],
             [
              1,
              "#f0f921"
             ]
            ],
            "type": "histogram2d"
           }
          ],
          "histogram2dcontour": [
           {
            "colorbar": {
             "outlinewidth": 0,
             "ticks": ""
            },
            "colorscale": [
             [
              0,
              "#0d0887"
             ],
             [
              0.1111111111111111,
              "#46039f"
             ],
             [
              0.2222222222222222,
              "#7201a8"
             ],
             [
              0.3333333333333333,
              "#9c179e"
             ],
             [
              0.4444444444444444,
              "#bd3786"
             ],
             [
              0.5555555555555556,
              "#d8576b"
             ],
             [
              0.6666666666666666,
              "#ed7953"
             ],
             [
              0.7777777777777778,
              "#fb9f3a"
             ],
             [
              0.8888888888888888,
              "#fdca26"
             ],
             [
              1,
              "#f0f921"
             ]
            ],
            "type": "histogram2dcontour"
           }
          ],
          "mesh3d": [
           {
            "colorbar": {
             "outlinewidth": 0,
             "ticks": ""
            },
            "type": "mesh3d"
           }
          ],
          "parcoords": [
           {
            "line": {
             "colorbar": {
              "outlinewidth": 0,
              "ticks": ""
             }
            },
            "type": "parcoords"
           }
          ],
          "pie": [
           {
            "automargin": true,
            "type": "pie"
           }
          ],
          "scatter": [
           {
            "fillpattern": {
             "fillmode": "overlay",
             "size": 10,
             "solidity": 0.2
            },
            "type": "scatter"
           }
          ],
          "scatter3d": [
           {
            "line": {
             "colorbar": {
              "outlinewidth": 0,
              "ticks": ""
             }
            },
            "marker": {
             "colorbar": {
              "outlinewidth": 0,
              "ticks": ""
             }
            },
            "type": "scatter3d"
           }
          ],
          "scattercarpet": [
           {
            "marker": {
             "colorbar": {
              "outlinewidth": 0,
              "ticks": ""
             }
            },
            "type": "scattercarpet"
           }
          ],
          "scattergeo": [
           {
            "marker": {
             "colorbar": {
              "outlinewidth": 0,
              "ticks": ""
             }
            },
            "type": "scattergeo"
           }
          ],
          "scattergl": [
           {
            "marker": {
             "colorbar": {
              "outlinewidth": 0,
              "ticks": ""
             }
            },
            "type": "scattergl"
           }
          ],
          "scattermap": [
           {
            "marker": {
             "colorbar": {
              "outlinewidth": 0,
              "ticks": ""
             }
            },
            "type": "scattermap"
           }
          ],
          "scattermapbox": [
           {
            "marker": {
             "colorbar": {
              "outlinewidth": 0,
              "ticks": ""
             }
            },
            "type": "scattermapbox"
           }
          ],
          "scatterpolar": [
           {
            "marker": {
             "colorbar": {
              "outlinewidth": 0,
              "ticks": ""
             }
            },
            "type": "scatterpolar"
           }
          ],
          "scatterpolargl": [
           {
            "marker": {
             "colorbar": {
              "outlinewidth": 0,
              "ticks": ""
             }
            },
            "type": "scatterpolargl"
           }
          ],
          "scatterternary": [
           {
            "marker": {
             "colorbar": {
              "outlinewidth": 0,
              "ticks": ""
             }
            },
            "type": "scatterternary"
           }
          ],
          "surface": [
           {
            "colorbar": {
             "outlinewidth": 0,
             "ticks": ""
            },
            "colorscale": [
             [
              0,
              "#0d0887"
             ],
             [
              0.1111111111111111,
              "#46039f"
             ],
             [
              0.2222222222222222,
              "#7201a8"
             ],
             [
              0.3333333333333333,
              "#9c179e"
             ],
             [
              0.4444444444444444,
              "#bd3786"
             ],
             [
              0.5555555555555556,
              "#d8576b"
             ],
             [
              0.6666666666666666,
              "#ed7953"
             ],
             [
              0.7777777777777778,
              "#fb9f3a"
             ],
             [
              0.8888888888888888,
              "#fdca26"
             ],
             [
              1,
              "#f0f921"
             ]
            ],
            "type": "surface"
           }
          ],
          "table": [
           {
            "cells": {
             "fill": {
              "color": "#EBF0F8"
             },
             "line": {
              "color": "white"
             }
            },
            "header": {
             "fill": {
              "color": "#C8D4E3"
             },
             "line": {
              "color": "white"
             }
            },
            "type": "table"
           }
          ]
         },
         "layout": {
          "annotationdefaults": {
           "arrowcolor": "#2a3f5f",
           "arrowhead": 0,
           "arrowwidth": 1
          },
          "autotypenumbers": "strict",
          "coloraxis": {
           "colorbar": {
            "outlinewidth": 0,
            "ticks": ""
           }
          },
          "colorscale": {
           "diverging": [
            [
             0,
             "#8e0152"
            ],
            [
             0.1,
             "#c51b7d"
            ],
            [
             0.2,
             "#de77ae"
            ],
            [
             0.3,
             "#f1b6da"
            ],
            [
             0.4,
             "#fde0ef"
            ],
            [
             0.5,
             "#f7f7f7"
            ],
            [
             0.6,
             "#e6f5d0"
            ],
            [
             0.7,
             "#b8e186"
            ],
            [
             0.8,
             "#7fbc41"
            ],
            [
             0.9,
             "#4d9221"
            ],
            [
             1,
             "#276419"
            ]
           ],
           "sequential": [
            [
             0,
             "#0d0887"
            ],
            [
             0.1111111111111111,
             "#46039f"
            ],
            [
             0.2222222222222222,
             "#7201a8"
            ],
            [
             0.3333333333333333,
             "#9c179e"
            ],
            [
             0.4444444444444444,
             "#bd3786"
            ],
            [
             0.5555555555555556,
             "#d8576b"
            ],
            [
             0.6666666666666666,
             "#ed7953"
            ],
            [
             0.7777777777777778,
             "#fb9f3a"
            ],
            [
             0.8888888888888888,
             "#fdca26"
            ],
            [
             1,
             "#f0f921"
            ]
           ],
           "sequentialminus": [
            [
             0,
             "#0d0887"
            ],
            [
             0.1111111111111111,
             "#46039f"
            ],
            [
             0.2222222222222222,
             "#7201a8"
            ],
            [
             0.3333333333333333,
             "#9c179e"
            ],
            [
             0.4444444444444444,
             "#bd3786"
            ],
            [
             0.5555555555555556,
             "#d8576b"
            ],
            [
             0.6666666666666666,
             "#ed7953"
            ],
            [
             0.7777777777777778,
             "#fb9f3a"
            ],
            [
             0.8888888888888888,
             "#fdca26"
            ],
            [
             1,
             "#f0f921"
            ]
           ]
          },
          "colorway": [
           "#636efa",
           "#EF553B",
           "#00cc96",
           "#ab63fa",
           "#FFA15A",
           "#19d3f3",
           "#FF6692",
           "#B6E880",
           "#FF97FF",
           "#FECB52"
          ],
          "font": {
           "color": "#2a3f5f"
          },
          "geo": {
           "bgcolor": "white",
           "lakecolor": "white",
           "landcolor": "#E5ECF6",
           "showlakes": true,
           "showland": true,
           "subunitcolor": "white"
          },
          "hoverlabel": {
           "align": "left"
          },
          "hovermode": "closest",
          "mapbox": {
           "style": "light"
          },
          "paper_bgcolor": "white",
          "plot_bgcolor": "#E5ECF6",
          "polar": {
           "angularaxis": {
            "gridcolor": "white",
            "linecolor": "white",
            "ticks": ""
           },
           "bgcolor": "#E5ECF6",
           "radialaxis": {
            "gridcolor": "white",
            "linecolor": "white",
            "ticks": ""
           }
          },
          "scene": {
           "xaxis": {
            "backgroundcolor": "#E5ECF6",
            "gridcolor": "white",
            "gridwidth": 2,
            "linecolor": "white",
            "showbackground": true,
            "ticks": "",
            "zerolinecolor": "white"
           },
           "yaxis": {
            "backgroundcolor": "#E5ECF6",
            "gridcolor": "white",
            "gridwidth": 2,
            "linecolor": "white",
            "showbackground": true,
            "ticks": "",
            "zerolinecolor": "white"
           },
           "zaxis": {
            "backgroundcolor": "#E5ECF6",
            "gridcolor": "white",
            "gridwidth": 2,
            "linecolor": "white",
            "showbackground": true,
            "ticks": "",
            "zerolinecolor": "white"
           }
          },
          "shapedefaults": {
           "line": {
            "color": "#2a3f5f"
           }
          },
          "ternary": {
           "aaxis": {
            "gridcolor": "white",
            "linecolor": "white",
            "ticks": ""
           },
           "baxis": {
            "gridcolor": "white",
            "linecolor": "white",
            "ticks": ""
           },
           "bgcolor": "#E5ECF6",
           "caxis": {
            "gridcolor": "white",
            "linecolor": "white",
            "ticks": ""
           }
          },
          "title": {
           "x": 0.05
          },
          "xaxis": {
           "automargin": true,
           "gridcolor": "white",
           "linecolor": "white",
           "ticks": "",
           "title": {
            "standoff": 15
           },
           "zerolinecolor": "white",
           "zerolinewidth": 2
          },
          "yaxis": {
           "automargin": true,
           "gridcolor": "white",
           "linecolor": "white",
           "ticks": "",
           "title": {
            "standoff": 15
           },
           "zerolinecolor": "white",
           "zerolinewidth": 2
          }
         }
        },
        "title": {
         "text": "USA_S&P500 Price with Buy/Sell Signals"
        },
        "xaxis": {
         "title": {
          "text": "Trading Steps"
         }
        },
        "yaxis": {
         "title": {
          "text": "Price ($)"
         }
        }
       }
      }
     },
     "metadata": {},
     "output_type": "display_data"
    },
    {
     "name": "stderr",
     "output_type": "stream",
     "text": [
      "[*********************100%***********************]  1 of 1 completed"
     ]
    },
    {
     "name": "stdout",
     "output_type": "stream",
     "text": [
      "\n",
      "============================================\n",
      "Testing on India_Nifty50 (^NSEI)\n",
      "\n",
      "Fetching data for ^NSEI from 2024-01-01 to 2025-01-01...\n",
      "Data shape after preparation: (246, 17)\n",
      "Initial Balance: $10000.00\n",
      "Final Portfolio Value: $10871.45\n",
      "Cumulative Return: 8.71%\n"
     ]
    },
    {
     "name": "stderr",
     "output_type": "stream",
     "text": [
      "\n"
     ]
    },
    {
     "data": {
      "application/vnd.plotly.v1+json": {
       "config": {
        "plotlyServerURL": "https://plot.ly"
       },
       "data": [
        {
         "mode": "lines+markers",
         "name": "Portfolio Value",
         "type": "scatter",
         "x": [
          0,
          1,
          2,
          3,
          4,
          5,
          6,
          7,
          8,
          9,
          10,
          11,
          12,
          13,
          14,
          15,
          16,
          17,
          18,
          19,
          20,
          21,
          22,
          23,
          24,
          25,
          26,
          27,
          28,
          29,
          30,
          31,
          32,
          33,
          34,
          35,
          36,
          37,
          38,
          39,
          40,
          41,
          42,
          43,
          44,
          45,
          46,
          47,
          48,
          49,
          50,
          51,
          52,
          53,
          54,
          55,
          56,
          57,
          58,
          59,
          60,
          61,
          62,
          63,
          64,
          65,
          66,
          67,
          68,
          69,
          70,
          71,
          72,
          73,
          74,
          75,
          76,
          77,
          78,
          79,
          80,
          81,
          82,
          83,
          84,
          85,
          86,
          87,
          88,
          89,
          90,
          91,
          92,
          93,
          94,
          95,
          96,
          97,
          98,
          99,
          100,
          101,
          102,
          103,
          104,
          105,
          106,
          107,
          108,
          109,
          110,
          111,
          112,
          113,
          114,
          115,
          116,
          117,
          118,
          119,
          120,
          121,
          122,
          123,
          124,
          125,
          126,
          127,
          128,
          129,
          130,
          131,
          132,
          133,
          134,
          135,
          136,
          137,
          138,
          139,
          140,
          141,
          142,
          143,
          144,
          145,
          146,
          147,
          148,
          149,
          150,
          151,
          152,
          153,
          154,
          155,
          156,
          157,
          158,
          159,
          160,
          161,
          162,
          163,
          164,
          165,
          166,
          167,
          168,
          169,
          170,
          171,
          172,
          173,
          174,
          175,
          176,
          177,
          178,
          179,
          180,
          181,
          182,
          183,
          184,
          185,
          186,
          187,
          188,
          189,
          190,
          191,
          192,
          193,
          194,
          195,
          196,
          197,
          198,
          199,
          200,
          201,
          202,
          203,
          204,
          205,
          206,
          207,
          208,
          209,
          210,
          211,
          212,
          213,
          214,
          215,
          216,
          217,
          218,
          219,
          220,
          221,
          222,
          223,
          224,
          225,
          226,
          227,
          228,
          229,
          230,
          231,
          232,
          233,
          234,
          235,
          236,
          237,
          238,
          239,
          240,
          241,
          242,
          243,
          244,
          245
         ],
         "y": [
          10000,
          10000,
          9982.499319744878,
          9931.23023424995,
          9988.21791130352,
          10010.784972715905,
          9922.426723579141,
          9936.885372476701,
          9970.678395664587,
          9983.771276515668,
          10097.627591818984,
          10191.112562176817,
          10161.081179566178,
          9948.822562595018,
          9898.230098671987,
          9972.09026788996,
          9795.176980636554,
          9894.401840087205,
          9847.660153917102,
          10025.219290912932,
          9925.83229345163,
          10019.730919252443,
          10006.702229330022,
          10078.810407266254,
          10040.945777179217,
          10113.676384922997,
          10114.183516589641,
          10016.156676884344,
          10045.927017173062,
          9969.161875264284,
          10027.825209050761,
          10072.469009516402,
          10105.074963458037,
          10165.006576794483,
          10202.617190664836,
          10237.067914860972,
          10171.625410695891,
          10246.522362415295,
          10244.331697738075,
          10202.525312458802,
          10237.713764603393,
          10123.707323181854,
          10138.304247973947,
          10302.465380689762,
          10333.295923414784,
          10310.55967048808,
          10364.865094854988,
          10373.858349845685,
          10299.652286204991,
          10301.058383064015,
          10145.175296558586,
          10213.870469370644,
          10157.005065968926,
          10171.924465248867,
          10062.045336965084,
          10072.030336120923,
          10151.74729059025,
          10190.856780292384,
          10148.403644503966,
          10203.263040407257,
          10297.000428964146,
          10359.30736415661,
          10355.295349159758,
          10346.693927694796,
          10383.589332784839,
          10383.15065938936,
          10453.529365211994,
          10442.667920031923,
          10493.88371452923,
          10385.77999746206,
          10271.911373349572,
          10214.446960075176,
          10144.322270469223,
          10214.031706614567,
          10301.381758318588,
          10315.955263175809,
          10331.820467517873,
          10409.27739827209,
          10339.913856549465,
          10442.967875351625,
          10425.18854171717,
          10445.181059196992,
          10365.694701009477,
          10350.405987371945,
          10285.747150258338,
          10285.747150258338,
          10126.63571580753,
          10171.693868967053,
          10194.223846313542,
          10246.70701959409,
          10238.728928703405,
          10332.48883642844,
          10361.198073514128,
          10390.23068585439,
          10421.937674603647,
          10592.509564107202,
          10587.643622254263,
          10576.275045407549,
          10555.844755298973,
          10471.238439041834,
          10371.598326130574,
          10390.990932970992,
          10729.137861081264,
          10092.968658662867,
          10092.968658662867,
          10137.822059892238,
          10346.05223022511,
          10332.302965603172,
          10334.813006781393,
          10360.622268768442,
          10394.361629742336,
          10423.991047729283,
          10464.993303519246,
          10446.380129168616,
          10469.035571700831,
          10439.76101262916,
          10456.086257983257,
          10537.579738020155,
          10603.102831618231,
          10681.15270521325,
          10666.093325769634,
          10724.442022374034,
          10716.401734922056,
          10788.655001150433,
          10795.607285962422,
          10805.246607597415,
          10803.781187773697,
          10853.822368207524,
          10805.512968690298,
          10801.737061601596,
          10884.45215863778,
          10922.010807985862,
          10933.694255792956,
          11017.141628928144,
          10897.223609084864,
          10897.223609084864,
          10897.223609084864,
          10897.223609084864,
          10897.223609084864,
          10897.223609084864,
          10897.497851323606,
          10904.474842477797,
          10940.502212863423,
          10965.070245928291,
          10840.519542564607,
          10840.519542564607,
          10840.519542564607,
          10840.519542564607,
          10800.25379963976,
          10800.25379963976,
          10795.710756592822,
          10726.548451594668,
          10726.548451594668,
          10814.8266715216,
          10825.266095387993,
          10873.975935419985,
          10903.451822221867,
          10921.072870048367,
          10926.122227503083,
          11007.996791432297,
          11011.1319370413,
          11026.331385111165,
          11070.126677590973,
          11107.058622664557,
          11125.891198662517,
          11126.397459467531,
          11090.682912697903,
          11067.092856682617,
          10938.159254972858,
          10938.159254972858,
          10938.159254972858,
          10911.371902854371,
          10911.371902854371,
          10904.409555008111,
          10913.196707781002,
          10926.288636200745,
          10909.764584644941,
          10909.764584644941,
          10990.281054943247,
          11037.729463716365,
          11038.23280260886,
          11063.684173364802,
          11151.060831837445,
          11135.52083829365,
          10981.342276321757,
          10981.342276321757,
          10981.342276321757,
          10981.342276321757,
          10981.342276321757,
          10981.342276321757,
          10981.342276321757,
          10981.342276321757,
          10981.342276321757,
          10981.342276321757,
          10981.342276321757,
          10981.342276321757,
          10981.342276321757,
          10981.342276321757,
          10981.342276321757,
          10981.342276321757,
          10981.342276321757,
          10981.342276321757,
          10981.342276321757,
          10981.342276321757,
          11010.149954630298,
          10967.587604789382,
          10914.174858048487,
          10956.006778345143,
          10821.077534779293,
          10917.807515730232,
          11038.929716239485,
          10911.06755198959,
          10888.050061594096,
          10884.942726196105,
          10768.738677406018,
          10622.508027918655,
          10610.627907507942,
          10575.055741582582,
          10604.22696925865,
          10528.20850405655,
          10779.509199292357,
          10921.380957835983,
          10909.026455271149,
          10945.278047423877,
          10782.620030168593,
          10880.439956254419,
          10945.796792782894,
          11027.452553960713,
          11032.096178967118,
          11140.73833611911,
          11126.941318370438,
          11100.428711115146,
          11096.393609584966,
          11110.709325546351,
          11068.730883816446,
          11167.746745095159,
          11122.634979197725,
          10972.827211252043,
          10972.827211252043,
          10916.792759712022,
          10916.792759712022,
          10916.792759712022,
          10910.864347852961,
          10918.639537597162,
          10944.06360021466,
          10871.45291822377
         ]
        },
        {
         "marker": {
          "color": "green",
          "size": 10,
          "symbol": "triangle-up"
         },
         "mode": "markers",
         "name": "Buy Signal",
         "type": "scatter",
         "x": [
          0,
          1,
          2,
          3,
          4,
          5,
          6,
          7,
          8,
          9,
          10,
          11,
          12,
          13,
          14,
          15,
          16,
          17,
          18,
          19,
          20,
          21,
          22,
          23,
          24,
          25,
          26,
          27,
          28,
          29,
          30,
          31,
          32,
          33,
          34,
          35,
          36,
          37,
          38,
          39,
          40,
          41,
          42,
          43,
          44,
          45,
          46,
          47,
          48,
          49,
          50,
          51,
          52,
          53,
          54,
          55,
          56,
          57,
          58,
          59,
          60,
          61,
          62,
          63,
          64,
          65,
          66,
          67,
          68,
          69,
          70,
          71,
          72,
          73,
          74,
          75,
          76,
          77,
          78,
          79,
          80,
          81,
          82,
          83,
          84,
          85,
          86,
          87,
          88,
          89,
          90,
          91,
          92,
          93,
          94,
          95,
          96,
          97,
          98,
          99,
          100,
          101,
          103,
          104,
          105,
          106,
          107,
          108,
          109,
          110,
          111,
          112,
          113,
          114,
          115,
          116,
          117,
          118,
          119,
          120,
          121,
          122,
          123,
          124,
          125,
          126,
          127,
          128,
          129,
          130,
          131,
          132,
          138,
          139,
          140,
          141,
          142,
          146,
          148,
          149,
          151,
          152,
          153,
          154,
          155,
          156,
          157,
          158,
          159,
          160,
          161,
          162,
          163,
          164,
          165,
          166,
          169,
          171,
          172,
          173,
          174,
          176,
          177,
          178,
          179,
          180,
          181,
          202,
          203,
          204,
          205,
          206,
          207,
          208,
          209,
          210,
          211,
          212,
          213,
          214,
          215,
          216,
          217,
          218,
          219,
          220,
          221,
          222,
          223,
          224,
          225,
          226,
          227,
          228,
          229,
          230,
          231,
          232,
          233,
          234,
          235,
          237,
          240,
          241,
          242,
          243,
          244
         ],
         "y": [
          10000,
          10000,
          9982.499319744878,
          9931.23023424995,
          9988.21791130352,
          10010.784972715905,
          9922.426723579141,
          9936.885372476701,
          9970.678395664587,
          9983.771276515668,
          10097.627591818984,
          10191.112562176817,
          10161.081179566178,
          9948.822562595018,
          9898.230098671987,
          9972.09026788996,
          9795.176980636554,
          9894.401840087205,
          9847.660153917102,
          10025.219290912932,
          9925.83229345163,
          10019.730919252443,
          10006.702229330022,
          10078.810407266254,
          10040.945777179217,
          10113.676384922997,
          10114.183516589641,
          10016.156676884344,
          10045.927017173062,
          9969.161875264284,
          10027.825209050761,
          10072.469009516402,
          10105.074963458037,
          10165.006576794483,
          10202.617190664836,
          10237.067914860972,
          10171.625410695891,
          10246.522362415295,
          10244.331697738075,
          10202.525312458802,
          10237.713764603393,
          10123.707323181854,
          10138.304247973947,
          10302.465380689762,
          10333.295923414784,
          10310.55967048808,
          10364.865094854988,
          10373.858349845685,
          10299.652286204991,
          10301.058383064015,
          10145.175296558586,
          10213.870469370644,
          10157.005065968926,
          10171.924465248867,
          10062.045336965084,
          10072.030336120923,
          10151.74729059025,
          10190.856780292384,
          10148.403644503966,
          10203.263040407257,
          10297.000428964146,
          10359.30736415661,
          10355.295349159758,
          10346.693927694796,
          10383.589332784839,
          10383.15065938936,
          10453.529365211994,
          10442.667920031923,
          10493.88371452923,
          10385.77999746206,
          10271.911373349572,
          10214.446960075176,
          10144.322270469223,
          10214.031706614567,
          10301.381758318588,
          10315.955263175809,
          10331.820467517873,
          10409.27739827209,
          10339.913856549465,
          10442.967875351625,
          10425.18854171717,
          10445.181059196992,
          10365.694701009477,
          10350.405987371945,
          10285.747150258338,
          10285.747150258338,
          10126.63571580753,
          10171.693868967053,
          10194.223846313542,
          10246.70701959409,
          10238.728928703405,
          10332.48883642844,
          10361.198073514128,
          10390.23068585439,
          10421.937674603647,
          10592.509564107202,
          10587.643622254263,
          10576.275045407549,
          10555.844755298973,
          10471.238439041834,
          10371.598326130574,
          10390.990932970992,
          10092.968658662867,
          10092.968658662867,
          10137.822059892238,
          10346.05223022511,
          10332.302965603172,
          10334.813006781393,
          10360.622268768442,
          10394.361629742336,
          10423.991047729283,
          10464.993303519246,
          10446.380129168616,
          10469.035571700831,
          10439.76101262916,
          10456.086257983257,
          10537.579738020155,
          10603.102831618231,
          10681.15270521325,
          10666.093325769634,
          10724.442022374034,
          10716.401734922056,
          10788.655001150433,
          10795.607285962422,
          10805.246607597415,
          10803.781187773697,
          10853.822368207524,
          10805.512968690298,
          10801.737061601596,
          10884.45215863778,
          10922.010807985862,
          10933.694255792956,
          10897.223609084864,
          10897.223609084864,
          10897.497851323606,
          10904.474842477797,
          10940.502212863423,
          10840.519542564607,
          10800.25379963976,
          10800.25379963976,
          10726.548451594668,
          10726.548451594668,
          10814.8266715216,
          10825.266095387993,
          10873.975935419985,
          10903.451822221867,
          10921.072870048367,
          10926.122227503083,
          11007.996791432297,
          11011.1319370413,
          11026.331385111165,
          11070.126677590973,
          11107.058622664557,
          11125.891198662517,
          11126.397459467531,
          11090.682912697903,
          10938.159254972858,
          10911.371902854371,
          10911.371902854371,
          10904.409555008111,
          10913.196707781002,
          10909.764584644941,
          10909.764584644941,
          10990.281054943247,
          11037.729463716365,
          11038.23280260886,
          11063.684173364802,
          10981.342276321757,
          10981.342276321757,
          11010.149954630298,
          10967.587604789382,
          10914.174858048487,
          10956.006778345143,
          10821.077534779293,
          10917.807515730232,
          11038.929716239485,
          10911.06755198959,
          10888.050061594096,
          10884.942726196105,
          10768.738677406018,
          10622.508027918655,
          10610.627907507942,
          10575.055741582582,
          10604.22696925865,
          10528.20850405655,
          10779.509199292357,
          10921.380957835983,
          10909.026455271149,
          10945.278047423877,
          10782.620030168593,
          10880.439956254419,
          10945.796792782894,
          11027.452553960713,
          11032.096178967118,
          11140.73833611911,
          11126.941318370438,
          11100.428711115146,
          11096.393609584966,
          11110.709325546351,
          11068.730883816446,
          11167.746745095159,
          10972.827211252043,
          10916.792759712022,
          10916.792759712022,
          10910.864347852961,
          10918.639537597162,
          10944.06360021466
         ]
        },
        {
         "marker": {
          "color": "red",
          "size": 10,
          "symbol": "triangle-down"
         },
         "mode": "markers",
         "name": "Sell Signal",
         "type": "scatter",
         "x": [
          102,
          133,
          134,
          135,
          136,
          137,
          143,
          144,
          145,
          147,
          150,
          167,
          168,
          170,
          175,
          183,
          184,
          185,
          186,
          187,
          188,
          189,
          190,
          236,
          238,
          239
         ],
         "y": [
          10729.137861081264,
          11017.141628928144,
          10897.223609084864,
          10897.223609084864,
          10897.223609084864,
          10897.223609084864,
          10965.070245928291,
          10840.519542564607,
          10840.519542564607,
          10840.519542564607,
          10795.710756592822,
          11067.092856682617,
          10938.159254972858,
          10938.159254972858,
          10926.288636200745,
          11135.52083829365,
          10981.342276321757,
          10981.342276321757,
          10981.342276321757,
          10981.342276321757,
          10981.342276321757,
          10981.342276321757,
          10981.342276321757,
          11122.634979197725,
          10972.827211252043,
          10916.792759712022
         ]
        }
       ],
       "layout": {
        "template": {
         "data": {
          "bar": [
           {
            "error_x": {
             "color": "#2a3f5f"
            },
            "error_y": {
             "color": "#2a3f5f"
            },
            "marker": {
             "line": {
              "color": "#E5ECF6",
              "width": 0.5
             },
             "pattern": {
              "fillmode": "overlay",
              "size": 10,
              "solidity": 0.2
             }
            },
            "type": "bar"
           }
          ],
          "barpolar": [
           {
            "marker": {
             "line": {
              "color": "#E5ECF6",
              "width": 0.5
             },
             "pattern": {
              "fillmode": "overlay",
              "size": 10,
              "solidity": 0.2
             }
            },
            "type": "barpolar"
           }
          ],
          "carpet": [
           {
            "aaxis": {
             "endlinecolor": "#2a3f5f",
             "gridcolor": "white",
             "linecolor": "white",
             "minorgridcolor": "white",
             "startlinecolor": "#2a3f5f"
            },
            "baxis": {
             "endlinecolor": "#2a3f5f",
             "gridcolor": "white",
             "linecolor": "white",
             "minorgridcolor": "white",
             "startlinecolor": "#2a3f5f"
            },
            "type": "carpet"
           }
          ],
          "choropleth": [
           {
            "colorbar": {
             "outlinewidth": 0,
             "ticks": ""
            },
            "type": "choropleth"
           }
          ],
          "contour": [
           {
            "colorbar": {
             "outlinewidth": 0,
             "ticks": ""
            },
            "colorscale": [
             [
              0,
              "#0d0887"
             ],
             [
              0.1111111111111111,
              "#46039f"
             ],
             [
              0.2222222222222222,
              "#7201a8"
             ],
             [
              0.3333333333333333,
              "#9c179e"
             ],
             [
              0.4444444444444444,
              "#bd3786"
             ],
             [
              0.5555555555555556,
              "#d8576b"
             ],
             [
              0.6666666666666666,
              "#ed7953"
             ],
             [
              0.7777777777777778,
              "#fb9f3a"
             ],
             [
              0.8888888888888888,
              "#fdca26"
             ],
             [
              1,
              "#f0f921"
             ]
            ],
            "type": "contour"
           }
          ],
          "contourcarpet": [
           {
            "colorbar": {
             "outlinewidth": 0,
             "ticks": ""
            },
            "type": "contourcarpet"
           }
          ],
          "heatmap": [
           {
            "colorbar": {
             "outlinewidth": 0,
             "ticks": ""
            },
            "colorscale": [
             [
              0,
              "#0d0887"
             ],
             [
              0.1111111111111111,
              "#46039f"
             ],
             [
              0.2222222222222222,
              "#7201a8"
             ],
             [
              0.3333333333333333,
              "#9c179e"
             ],
             [
              0.4444444444444444,
              "#bd3786"
             ],
             [
              0.5555555555555556,
              "#d8576b"
             ],
             [
              0.6666666666666666,
              "#ed7953"
             ],
             [
              0.7777777777777778,
              "#fb9f3a"
             ],
             [
              0.8888888888888888,
              "#fdca26"
             ],
             [
              1,
              "#f0f921"
             ]
            ],
            "type": "heatmap"
           }
          ],
          "histogram": [
           {
            "marker": {
             "pattern": {
              "fillmode": "overlay",
              "size": 10,
              "solidity": 0.2
             }
            },
            "type": "histogram"
           }
          ],
          "histogram2d": [
           {
            "colorbar": {
             "outlinewidth": 0,
             "ticks": ""
            },
            "colorscale": [
             [
              0,
              "#0d0887"
             ],
             [
              0.1111111111111111,
              "#46039f"
             ],
             [
              0.2222222222222222,
              "#7201a8"
             ],
             [
              0.3333333333333333,
              "#9c179e"
             ],
             [
              0.4444444444444444,
              "#bd3786"
             ],
             [
              0.5555555555555556,
              "#d8576b"
             ],
             [
              0.6666666666666666,
              "#ed7953"
             ],
             [
              0.7777777777777778,
              "#fb9f3a"
             ],
             [
              0.8888888888888888,
              "#fdca26"
             ],
             [
              1,
              "#f0f921"
             ]
            ],
            "type": "histogram2d"
           }
          ],
          "histogram2dcontour": [
           {
            "colorbar": {
             "outlinewidth": 0,
             "ticks": ""
            },
            "colorscale": [
             [
              0,
              "#0d0887"
             ],
             [
              0.1111111111111111,
              "#46039f"
             ],
             [
              0.2222222222222222,
              "#7201a8"
             ],
             [
              0.3333333333333333,
              "#9c179e"
             ],
             [
              0.4444444444444444,
              "#bd3786"
             ],
             [
              0.5555555555555556,
              "#d8576b"
             ],
             [
              0.6666666666666666,
              "#ed7953"
             ],
             [
              0.7777777777777778,
              "#fb9f3a"
             ],
             [
              0.8888888888888888,
              "#fdca26"
             ],
             [
              1,
              "#f0f921"
             ]
            ],
            "type": "histogram2dcontour"
           }
          ],
          "mesh3d": [
           {
            "colorbar": {
             "outlinewidth": 0,
             "ticks": ""
            },
            "type": "mesh3d"
           }
          ],
          "parcoords": [
           {
            "line": {
             "colorbar": {
              "outlinewidth": 0,
              "ticks": ""
             }
            },
            "type": "parcoords"
           }
          ],
          "pie": [
           {
            "automargin": true,
            "type": "pie"
           }
          ],
          "scatter": [
           {
            "fillpattern": {
             "fillmode": "overlay",
             "size": 10,
             "solidity": 0.2
            },
            "type": "scatter"
           }
          ],
          "scatter3d": [
           {
            "line": {
             "colorbar": {
              "outlinewidth": 0,
              "ticks": ""
             }
            },
            "marker": {
             "colorbar": {
              "outlinewidth": 0,
              "ticks": ""
             }
            },
            "type": "scatter3d"
           }
          ],
          "scattercarpet": [
           {
            "marker": {
             "colorbar": {
              "outlinewidth": 0,
              "ticks": ""
             }
            },
            "type": "scattercarpet"
           }
          ],
          "scattergeo": [
           {
            "marker": {
             "colorbar": {
              "outlinewidth": 0,
              "ticks": ""
             }
            },
            "type": "scattergeo"
           }
          ],
          "scattergl": [
           {
            "marker": {
             "colorbar": {
              "outlinewidth": 0,
              "ticks": ""
             }
            },
            "type": "scattergl"
           }
          ],
          "scattermap": [
           {
            "marker": {
             "colorbar": {
              "outlinewidth": 0,
              "ticks": ""
             }
            },
            "type": "scattermap"
           }
          ],
          "scattermapbox": [
           {
            "marker": {
             "colorbar": {
              "outlinewidth": 0,
              "ticks": ""
             }
            },
            "type": "scattermapbox"
           }
          ],
          "scatterpolar": [
           {
            "marker": {
             "colorbar": {
              "outlinewidth": 0,
              "ticks": ""
             }
            },
            "type": "scatterpolar"
           }
          ],
          "scatterpolargl": [
           {
            "marker": {
             "colorbar": {
              "outlinewidth": 0,
              "ticks": ""
             }
            },
            "type": "scatterpolargl"
           }
          ],
          "scatterternary": [
           {
            "marker": {
             "colorbar": {
              "outlinewidth": 0,
              "ticks": ""
             }
            },
            "type": "scatterternary"
           }
          ],
          "surface": [
           {
            "colorbar": {
             "outlinewidth": 0,
             "ticks": ""
            },
            "colorscale": [
             [
              0,
              "#0d0887"
             ],
             [
              0.1111111111111111,
              "#46039f"
             ],
             [
              0.2222222222222222,
              "#7201a8"
             ],
             [
              0.3333333333333333,
              "#9c179e"
             ],
             [
              0.4444444444444444,
              "#bd3786"
             ],
             [
              0.5555555555555556,
              "#d8576b"
             ],
             [
              0.6666666666666666,
              "#ed7953"
             ],
             [
              0.7777777777777778,
              "#fb9f3a"
             ],
             [
              0.8888888888888888,
              "#fdca26"
             ],
             [
              1,
              "#f0f921"
             ]
            ],
            "type": "surface"
           }
          ],
          "table": [
           {
            "cells": {
             "fill": {
              "color": "#EBF0F8"
             },
             "line": {
              "color": "white"
             }
            },
            "header": {
             "fill": {
              "color": "#C8D4E3"
             },
             "line": {
              "color": "white"
             }
            },
            "type": "table"
           }
          ]
         },
         "layout": {
          "annotationdefaults": {
           "arrowcolor": "#2a3f5f",
           "arrowhead": 0,
           "arrowwidth": 1
          },
          "autotypenumbers": "strict",
          "coloraxis": {
           "colorbar": {
            "outlinewidth": 0,
            "ticks": ""
           }
          },
          "colorscale": {
           "diverging": [
            [
             0,
             "#8e0152"
            ],
            [
             0.1,
             "#c51b7d"
            ],
            [
             0.2,
             "#de77ae"
            ],
            [
             0.3,
             "#f1b6da"
            ],
            [
             0.4,
             "#fde0ef"
            ],
            [
             0.5,
             "#f7f7f7"
            ],
            [
             0.6,
             "#e6f5d0"
            ],
            [
             0.7,
             "#b8e186"
            ],
            [
             0.8,
             "#7fbc41"
            ],
            [
             0.9,
             "#4d9221"
            ],
            [
             1,
             "#276419"
            ]
           ],
           "sequential": [
            [
             0,
             "#0d0887"
            ],
            [
             0.1111111111111111,
             "#46039f"
            ],
            [
             0.2222222222222222,
             "#7201a8"
            ],
            [
             0.3333333333333333,
             "#9c179e"
            ],
            [
             0.4444444444444444,
             "#bd3786"
            ],
            [
             0.5555555555555556,
             "#d8576b"
            ],
            [
             0.6666666666666666,
             "#ed7953"
            ],
            [
             0.7777777777777778,
             "#fb9f3a"
            ],
            [
             0.8888888888888888,
             "#fdca26"
            ],
            [
             1,
             "#f0f921"
            ]
           ],
           "sequentialminus": [
            [
             0,
             "#0d0887"
            ],
            [
             0.1111111111111111,
             "#46039f"
            ],
            [
             0.2222222222222222,
             "#7201a8"
            ],
            [
             0.3333333333333333,
             "#9c179e"
            ],
            [
             0.4444444444444444,
             "#bd3786"
            ],
            [
             0.5555555555555556,
             "#d8576b"
            ],
            [
             0.6666666666666666,
             "#ed7953"
            ],
            [
             0.7777777777777778,
             "#fb9f3a"
            ],
            [
             0.8888888888888888,
             "#fdca26"
            ],
            [
             1,
             "#f0f921"
            ]
           ]
          },
          "colorway": [
           "#636efa",
           "#EF553B",
           "#00cc96",
           "#ab63fa",
           "#FFA15A",
           "#19d3f3",
           "#FF6692",
           "#B6E880",
           "#FF97FF",
           "#FECB52"
          ],
          "font": {
           "color": "#2a3f5f"
          },
          "geo": {
           "bgcolor": "white",
           "lakecolor": "white",
           "landcolor": "#E5ECF6",
           "showlakes": true,
           "showland": true,
           "subunitcolor": "white"
          },
          "hoverlabel": {
           "align": "left"
          },
          "hovermode": "closest",
          "mapbox": {
           "style": "light"
          },
          "paper_bgcolor": "white",
          "plot_bgcolor": "#E5ECF6",
          "polar": {
           "angularaxis": {
            "gridcolor": "white",
            "linecolor": "white",
            "ticks": ""
           },
           "bgcolor": "#E5ECF6",
           "radialaxis": {
            "gridcolor": "white",
            "linecolor": "white",
            "ticks": ""
           }
          },
          "scene": {
           "xaxis": {
            "backgroundcolor": "#E5ECF6",
            "gridcolor": "white",
            "gridwidth": 2,
            "linecolor": "white",
            "showbackground": true,
            "ticks": "",
            "zerolinecolor": "white"
           },
           "yaxis": {
            "backgroundcolor": "#E5ECF6",
            "gridcolor": "white",
            "gridwidth": 2,
            "linecolor": "white",
            "showbackground": true,
            "ticks": "",
            "zerolinecolor": "white"
           },
           "zaxis": {
            "backgroundcolor": "#E5ECF6",
            "gridcolor": "white",
            "gridwidth": 2,
            "linecolor": "white",
            "showbackground": true,
            "ticks": "",
            "zerolinecolor": "white"
           }
          },
          "shapedefaults": {
           "line": {
            "color": "#2a3f5f"
           }
          },
          "ternary": {
           "aaxis": {
            "gridcolor": "white",
            "linecolor": "white",
            "ticks": ""
           },
           "baxis": {
            "gridcolor": "white",
            "linecolor": "white",
            "ticks": ""
           },
           "bgcolor": "#E5ECF6",
           "caxis": {
            "gridcolor": "white",
            "linecolor": "white",
            "ticks": ""
           }
          },
          "title": {
           "x": 0.05
          },
          "xaxis": {
           "automargin": true,
           "gridcolor": "white",
           "linecolor": "white",
           "ticks": "",
           "title": {
            "standoff": 15
           },
           "zerolinecolor": "white",
           "zerolinewidth": 2
          },
          "yaxis": {
           "automargin": true,
           "gridcolor": "white",
           "linecolor": "white",
           "ticks": "",
           "title": {
            "standoff": 15
           },
           "zerolinecolor": "white",
           "zerolinewidth": 2
          }
         }
        },
        "title": {
         "text": "India_Nifty50 Portfolio Evolution (Return: 8.71%)"
        },
        "xaxis": {
         "title": {
          "text": "Trading Steps"
         }
        },
        "yaxis": {
         "title": {
          "text": "Portfolio Value ($)"
         }
        }
       }
      }
     },
     "metadata": {},
     "output_type": "display_data"
    },
    {
     "data": {
      "application/vnd.plotly.v1+json": {
       "config": {
        "plotlyServerURL": "https://plot.ly"
       },
       "data": [
        {
         "mode": "lines",
         "name": "Price",
         "type": "scatter",
         "x": [
          0,
          1,
          2,
          3,
          4,
          5,
          6,
          7,
          8,
          9,
          10,
          11,
          12,
          13,
          14,
          15,
          16,
          17,
          18,
          19,
          20,
          21,
          22,
          23,
          24,
          25,
          26,
          27,
          28,
          29,
          30,
          31,
          32,
          33,
          34,
          35,
          36,
          37,
          38,
          39,
          40,
          41,
          42,
          43,
          44,
          45,
          46,
          47,
          48,
          49,
          50,
          51,
          52,
          53,
          54,
          55,
          56,
          57,
          58,
          59,
          60,
          61,
          62,
          63,
          64,
          65,
          66,
          67,
          68,
          69,
          70,
          71,
          72,
          73,
          74,
          75,
          76,
          77,
          78,
          79,
          80,
          81,
          82,
          83,
          84,
          85,
          86,
          87,
          88,
          89,
          90,
          91,
          92,
          93,
          94,
          95,
          96,
          97,
          98,
          99,
          100,
          101,
          102,
          103,
          104,
          105,
          106,
          107,
          108,
          109,
          110,
          111,
          112,
          113,
          114,
          115,
          116,
          117,
          118,
          119,
          120,
          121,
          122,
          123,
          124,
          125,
          126,
          127,
          128,
          129,
          130,
          131,
          132,
          133,
          134,
          135,
          136,
          137,
          138,
          139,
          140,
          141,
          142,
          143,
          144,
          145,
          146,
          147,
          148,
          149,
          150,
          151,
          152,
          153,
          154,
          155,
          156,
          157,
          158,
          159,
          160,
          161,
          162,
          163,
          164,
          165,
          166,
          167,
          168,
          169,
          170,
          171,
          172,
          173,
          174,
          175,
          176,
          177,
          178,
          179,
          180,
          181,
          182,
          183,
          184,
          185,
          186,
          187,
          188,
          189,
          190,
          191,
          192,
          193,
          194,
          195,
          196,
          197,
          198,
          199,
          200,
          201,
          202,
          203,
          204,
          205,
          206,
          207,
          208,
          209,
          210,
          211,
          212,
          213,
          214,
          215,
          216,
          217,
          218,
          219,
          220,
          221,
          222,
          223,
          224,
          225,
          226,
          227,
          228,
          229,
          230,
          231,
          232,
          233,
          234,
          235,
          236,
          237,
          238,
          239,
          240,
          241,
          242,
          243,
          244,
          245
         ],
         "y": {
          "bdata": "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",
          "dtype": "f8"
         }
        },
        {
         "marker": {
          "color": "green",
          "size": 10,
          "symbol": "triangle-up"
         },
         "mode": "markers",
         "name": "Buy Signal",
         "type": "scatter",
         "x": [
          0,
          1,
          2,
          3,
          4,
          5,
          6,
          7,
          8,
          9,
          10,
          11,
          12,
          13,
          14,
          15,
          16,
          17,
          18,
          19,
          20,
          21,
          22,
          23,
          24,
          25,
          26,
          27,
          28,
          29,
          30,
          31,
          32,
          33,
          34,
          35,
          36,
          37,
          38,
          39,
          40,
          41,
          42,
          43,
          44,
          45,
          46,
          47,
          48,
          49,
          50,
          51,
          52,
          53,
          54,
          55,
          56,
          57,
          58,
          59,
          60,
          61,
          62,
          63,
          64,
          65,
          66,
          67,
          68,
          69,
          70,
          71,
          72,
          73,
          74,
          75,
          76,
          77,
          78,
          79,
          80,
          81,
          82,
          83,
          84,
          85,
          86,
          87,
          88,
          89,
          90,
          91,
          92,
          93,
          94,
          95,
          96,
          97,
          98,
          99,
          100,
          101,
          103,
          104,
          105,
          106,
          107,
          108,
          109,
          110,
          111,
          112,
          113,
          114,
          115,
          116,
          117,
          118,
          119,
          120,
          121,
          122,
          123,
          124,
          125,
          126,
          127,
          128,
          129,
          130,
          131,
          132,
          138,
          139,
          140,
          141,
          142,
          146,
          148,
          149,
          151,
          152,
          153,
          154,
          155,
          156,
          157,
          158,
          159,
          160,
          161,
          162,
          163,
          164,
          165,
          166,
          169,
          171,
          172,
          173,
          174,
          176,
          177,
          178,
          179,
          180,
          181,
          202,
          203,
          204,
          205,
          206,
          207,
          208,
          209,
          210,
          211,
          212,
          213,
          214,
          215,
          216,
          217,
          218,
          219,
          220,
          221,
          222,
          223,
          224,
          225,
          226,
          227,
          228,
          229,
          230,
          231,
          232,
          233,
          234,
          235,
          237,
          240,
          241,
          242,
          243,
          244
         ],
         "y": [
          21741.900390625,
          21665.80078125,
          21517.349609375,
          21658.599609375,
          21710.80078125,
          21513,
          21544.849609375,
          21618.69921875,
          21647.19921875,
          21894.55078125,
          22097.44921875,
          22032.30078125,
          21571.94921875,
          21462.25,
          21622.400390625,
          21238.80078125,
          21453.94921875,
          21352.599609375,
          21737.599609375,
          21522.099609375,
          21725.69921875,
          21697.44921875,
          21853.80078125,
          21771.69921875,
          21929.400390625,
          21930.5,
          21717.94921875,
          21782.5,
          21616.05078125,
          21743.25,
          21840.05078125,
          21910.75,
          22040.69921875,
          22122.25,
          22196.94921875,
          22055.05078125,
          22217.44921875,
          22212.69921875,
          22122.05078125,
          22198.349609375,
          21951.150390625,
          21982.80078125,
          22338.75,
          22405.599609375,
          22356.30078125,
          22474.05078125,
          22493.55078125,
          22332.650390625,
          22335.69921875,
          21997.69921875,
          22146.650390625,
          22023.349609375,
          22055.69921875,
          21817.44921875,
          21839.099609375,
          22011.94921875,
          22096.75,
          22004.69921875,
          22123.650390625,
          22326.900390625,
          22462,
          22453.30078125,
          22434.650390625,
          22514.650390625,
          22513.69921875,
          22666.30078125,
          22642.75,
          22753.80078125,
          22519.400390625,
          22272.5,
          22147.900390625,
          21995.849609375,
          22147,
          22336.400390625,
          22368,
          22402.400390625,
          22570.349609375,
          22419.94921875,
          22643.400390625,
          22604.849609375,
          22648.19921875,
          22475.849609375,
          22442.69921875,
          22302.5,
          22302.5,
          21957.5,
          22055.19921875,
          22104.05078125,
          22217.849609375,
          22200.55078125,
          22403.849609375,
          22466.099609375,
          22529.05078125,
          22597.80078125,
          22967.650390625,
          22957.099609375,
          22932.44921875,
          22888.150390625,
          22704.69921875,
          22488.650390625,
          22530.69921875,
          23263.900390625,
          22620.349609375,
          22821.400390625,
          23290.150390625,
          23259.19921875,
          23264.849609375,
          23322.94921875,
          23398.900390625,
          23465.599609375,
          23557.900390625,
          23516,
          23567,
          23501.099609375,
          23537.849609375,
          23721.30078125,
          23868.80078125,
          24044.5,
          24010.599609375,
          24141.94921875,
          24123.849609375,
          24286.5,
          24302.150390625,
          24323.849609375,
          24320.55078125,
          24433.19921875,
          24324.44921875,
          24315.94921875,
          24502.150390625,
          24586.69921875,
          24613,
          24800.849609375,
          24834.849609375,
          24836.099609375,
          24857.30078125,
          24951.150390625,
          25010.900390625,
          24297.5,
          24367.5,
          24347,
          24143.75,
          24541.150390625,
          24572.650390625,
          24698.849609375,
          24770.19921875,
          24811.5,
          24823.150390625,
          25010.599609375,
          25017.75,
          25052.349609375,
          25151.94921875,
          25235.900390625,
          25278.69921875,
          25279.849609375,
          25198.69921875,
          25145.099609375,
          25041.099609375,
          25388.900390625,
          25356.5,
          25383.75,
          25418.55078125,
          25415.80078125,
          25790.94921875,
          25939.05078125,
          25940.400390625,
          26004.150390625,
          26216.05078125,
          24339.150390625,
          24466.849609375,
          24340.849609375,
          24205.349609375,
          24304.349609375,
          23995.349609375,
          24213.30078125,
          24484.05078125,
          24199.349609375,
          24148.19921875,
          24141.30078125,
          23883.44921875,
          23559.05078125,
          23532.69921875,
          23453.80078125,
          23518.5,
          23349.900390625,
          23907.25,
          24221.900390625,
          24194.5,
          24274.900390625,
          23914.150390625,
          24131.099609375,
          24276.05078125,
          24457.150390625,
          24467.44921875,
          24708.400390625,
          24677.80078125,
          24619,
          24610.05078125,
          24641.80078125,
          24548.69921875,
          24768.30078125,
          24668.25,
          24198.849609375,
          23753.44921875,
          23727.650390625,
          23750.19921875,
          23813.400390625,
          23644.900390625
         ]
        },
        {
         "marker": {
          "color": "red",
          "size": 10,
          "symbol": "triangle-down"
         },
         "mode": "markers",
         "name": "Sell Signal",
         "type": "scatter",
         "x": [
          102,
          133,
          134,
          135,
          136,
          137,
          143,
          144,
          145,
          147,
          150,
          167,
          168,
          170,
          175,
          183,
          184,
          185,
          186,
          187,
          188,
          189,
          190,
          236,
          238,
          239
         ],
         "y": [
          21884.5,
          24530.900390625,
          24509.25,
          24479.05078125,
          24413.5,
          24406.099609375,
          24717.69921875,
          24055.599609375,
          23992.55078125,
          24117,
          24139,
          24852.150390625,
          24936.400390625,
          24918.44921875,
          25377.55078125,
          25810.849609375,
          25796.900390625,
          25250.099609375,
          25014.599609375,
          24795.75,
          25013.150390625,
          24981.94921875,
          24998.44921875,
          24336,
          23951.69921875,
          23587.5
         ]
        }
       ],
       "layout": {
        "template": {
         "data": {
          "bar": [
           {
            "error_x": {
             "color": "#2a3f5f"
            },
            "error_y": {
             "color": "#2a3f5f"
            },
            "marker": {
             "line": {
              "color": "#E5ECF6",
              "width": 0.5
             },
             "pattern": {
              "fillmode": "overlay",
              "size": 10,
              "solidity": 0.2
             }
            },
            "type": "bar"
           }
          ],
          "barpolar": [
           {
            "marker": {
             "line": {
              "color": "#E5ECF6",
              "width": 0.5
             },
             "pattern": {
              "fillmode": "overlay",
              "size": 10,
              "solidity": 0.2
             }
            },
            "type": "barpolar"
           }
          ],
          "carpet": [
           {
            "aaxis": {
             "endlinecolor": "#2a3f5f",
             "gridcolor": "white",
             "linecolor": "white",
             "minorgridcolor": "white",
             "startlinecolor": "#2a3f5f"
            },
            "baxis": {
             "endlinecolor": "#2a3f5f",
             "gridcolor": "white",
             "linecolor": "white",
             "minorgridcolor": "white",
             "startlinecolor": "#2a3f5f"
            },
            "type": "carpet"
           }
          ],
          "choropleth": [
           {
            "colorbar": {
             "outlinewidth": 0,
             "ticks": ""
            },
            "type": "choropleth"
           }
          ],
          "contour": [
           {
            "colorbar": {
             "outlinewidth": 0,
             "ticks": ""
            },
            "colorscale": [
             [
              0,
              "#0d0887"
             ],
             [
              0.1111111111111111,
              "#46039f"
             ],
             [
              0.2222222222222222,
              "#7201a8"
             ],
             [
              0.3333333333333333,
              "#9c179e"
             ],
             [
              0.4444444444444444,
              "#bd3786"
             ],
             [
              0.5555555555555556,
              "#d8576b"
             ],
             [
              0.6666666666666666,
              "#ed7953"
             ],
             [
              0.7777777777777778,
              "#fb9f3a"
             ],
             [
              0.8888888888888888,
              "#fdca26"
             ],
             [
              1,
              "#f0f921"
             ]
            ],
            "type": "contour"
           }
          ],
          "contourcarpet": [
           {
            "colorbar": {
             "outlinewidth": 0,
             "ticks": ""
            },
            "type": "contourcarpet"
           }
          ],
          "heatmap": [
           {
            "colorbar": {
             "outlinewidth": 0,
             "ticks": ""
            },
            "colorscale": [
             [
              0,
              "#0d0887"
             ],
             [
              0.1111111111111111,
              "#46039f"
             ],
             [
              0.2222222222222222,
              "#7201a8"
             ],
             [
              0.3333333333333333,
              "#9c179e"
             ],
             [
              0.4444444444444444,
              "#bd3786"
             ],
             [
              0.5555555555555556,
              "#d8576b"
             ],
             [
              0.6666666666666666,
              "#ed7953"
             ],
             [
              0.7777777777777778,
              "#fb9f3a"
             ],
             [
              0.8888888888888888,
              "#fdca26"
             ],
             [
              1,
              "#f0f921"
             ]
            ],
            "type": "heatmap"
           }
          ],
          "histogram": [
           {
            "marker": {
             "pattern": {
              "fillmode": "overlay",
              "size": 10,
              "solidity": 0.2
             }
            },
            "type": "histogram"
           }
          ],
          "histogram2d": [
           {
            "colorbar": {
             "outlinewidth": 0,
             "ticks": ""
            },
            "colorscale": [
             [
              0,
              "#0d0887"
             ],
             [
              0.1111111111111111,
              "#46039f"
             ],
             [
              0.2222222222222222,
              "#7201a8"
             ],
             [
              0.3333333333333333,
              "#9c179e"
             ],
             [
              0.4444444444444444,
              "#bd3786"
             ],
             [
              0.5555555555555556,
              "#d8576b"
             ],
             [
              0.6666666666666666,
              "#ed7953"
             ],
             [
              0.7777777777777778,
              "#fb9f3a"
             ],
             [
              0.8888888888888888,
              "#fdca26"
             ],
             [
              1,
              "#f0f921"
             ]
            ],
            "type": "histogram2d"
           }
          ],
          "histogram2dcontour": [
           {
            "colorbar": {
             "outlinewidth": 0,
             "ticks": ""
            },
            "colorscale": [
             [
              0,
              "#0d0887"
             ],
             [
              0.1111111111111111,
              "#46039f"
             ],
             [
              0.2222222222222222,
              "#7201a8"
             ],
             [
              0.3333333333333333,
              "#9c179e"
             ],
             [
              0.4444444444444444,
              "#bd3786"
             ],
             [
              0.5555555555555556,
              "#d8576b"
             ],
             [
              0.6666666666666666,
              "#ed7953"
             ],
             [
              0.7777777777777778,
              "#fb9f3a"
             ],
             [
              0.8888888888888888,
              "#fdca26"
             ],
             [
              1,
              "#f0f921"
             ]
            ],
            "type": "histogram2dcontour"
           }
          ],
          "mesh3d": [
           {
            "colorbar": {
             "outlinewidth": 0,
             "ticks": ""
            },
            "type": "mesh3d"
           }
          ],
          "parcoords": [
           {
            "line": {
             "colorbar": {
              "outlinewidth": 0,
              "ticks": ""
             }
            },
            "type": "parcoords"
           }
          ],
          "pie": [
           {
            "automargin": true,
            "type": "pie"
           }
          ],
          "scatter": [
           {
            "fillpattern": {
             "fillmode": "overlay",
             "size": 10,
             "solidity": 0.2
            },
            "type": "scatter"
           }
          ],
          "scatter3d": [
           {
            "line": {
             "colorbar": {
              "outlinewidth": 0,
              "ticks": ""
             }
            },
            "marker": {
             "colorbar": {
              "outlinewidth": 0,
              "ticks": ""
             }
            },
            "type": "scatter3d"
           }
          ],
          "scattercarpet": [
           {
            "marker": {
             "colorbar": {
              "outlinewidth": 0,
              "ticks": ""
             }
            },
            "type": "scattercarpet"
           }
          ],
          "scattergeo": [
           {
            "marker": {
             "colorbar": {
              "outlinewidth": 0,
              "ticks": ""
             }
            },
            "type": "scattergeo"
           }
          ],
          "scattergl": [
           {
            "marker": {
             "colorbar": {
              "outlinewidth": 0,
              "ticks": ""
             }
            },
            "type": "scattergl"
           }
          ],
          "scattermap": [
           {
            "marker": {
             "colorbar": {
              "outlinewidth": 0,
              "ticks": ""
             }
            },
            "type": "scattermap"
           }
          ],
          "scattermapbox": [
           {
            "marker": {
             "colorbar": {
              "outlinewidth": 0,
              "ticks": ""
             }
            },
            "type": "scattermapbox"
           }
          ],
          "scatterpolar": [
           {
            "marker": {
             "colorbar": {
              "outlinewidth": 0,
              "ticks": ""
             }
            },
            "type": "scatterpolar"
           }
          ],
          "scatterpolargl": [
           {
            "marker": {
             "colorbar": {
              "outlinewidth": 0,
              "ticks": ""
             }
            },
            "type": "scatterpolargl"
           }
          ],
          "scatterternary": [
           {
            "marker": {
             "colorbar": {
              "outlinewidth": 0,
              "ticks": ""
             }
            },
            "type": "scatterternary"
           }
          ],
          "surface": [
           {
            "colorbar": {
             "outlinewidth": 0,
             "ticks": ""
            },
            "colorscale": [
             [
              0,
              "#0d0887"
             ],
             [
              0.1111111111111111,
              "#46039f"
             ],
             [
              0.2222222222222222,
              "#7201a8"
             ],
             [
              0.3333333333333333,
              "#9c179e"
             ],
             [
              0.4444444444444444,
              "#bd3786"
             ],
             [
              0.5555555555555556,
              "#d8576b"
             ],
             [
              0.6666666666666666,
              "#ed7953"
             ],
             [
              0.7777777777777778,
              "#fb9f3a"
             ],
             [
              0.8888888888888888,
              "#fdca26"
             ],
             [
              1,
              "#f0f921"
             ]
            ],
            "type": "surface"
           }
          ],
          "table": [
           {
            "cells": {
             "fill": {
              "color": "#EBF0F8"
             },
             "line": {
              "color": "white"
             }
            },
            "header": {
             "fill": {
              "color": "#C8D4E3"
             },
             "line": {
              "color": "white"
             }
            },
            "type": "table"
           }
          ]
         },
         "layout": {
          "annotationdefaults": {
           "arrowcolor": "#2a3f5f",
           "arrowhead": 0,
           "arrowwidth": 1
          },
          "autotypenumbers": "strict",
          "coloraxis": {
           "colorbar": {
            "outlinewidth": 0,
            "ticks": ""
           }
          },
          "colorscale": {
           "diverging": [
            [
             0,
             "#8e0152"
            ],
            [
             0.1,
             "#c51b7d"
            ],
            [
             0.2,
             "#de77ae"
            ],
            [
             0.3,
             "#f1b6da"
            ],
            [
             0.4,
             "#fde0ef"
            ],
            [
             0.5,
             "#f7f7f7"
            ],
            [
             0.6,
             "#e6f5d0"
            ],
            [
             0.7,
             "#b8e186"
            ],
            [
             0.8,
             "#7fbc41"
            ],
            [
             0.9,
             "#4d9221"
            ],
            [
             1,
             "#276419"
            ]
           ],
           "sequential": [
            [
             0,
             "#0d0887"
            ],
            [
             0.1111111111111111,
             "#46039f"
            ],
            [
             0.2222222222222222,
             "#7201a8"
            ],
            [
             0.3333333333333333,
             "#9c179e"
            ],
            [
             0.4444444444444444,
             "#bd3786"
            ],
            [
             0.5555555555555556,
             "#d8576b"
            ],
            [
             0.6666666666666666,
             "#ed7953"
            ],
            [
             0.7777777777777778,
             "#fb9f3a"
            ],
            [
             0.8888888888888888,
             "#fdca26"
            ],
            [
             1,
             "#f0f921"
            ]
           ],
           "sequentialminus": [
            [
             0,
             "#0d0887"
            ],
            [
             0.1111111111111111,
             "#46039f"
            ],
            [
             0.2222222222222222,
             "#7201a8"
            ],
            [
             0.3333333333333333,
             "#9c179e"
            ],
            [
             0.4444444444444444,
             "#bd3786"
            ],
            [
             0.5555555555555556,
             "#d8576b"
            ],
            [
             0.6666666666666666,
             "#ed7953"
            ],
            [
             0.7777777777777778,
             "#fb9f3a"
            ],
            [
             0.8888888888888888,
             "#fdca26"
            ],
            [
             1,
             "#f0f921"
            ]
           ]
          },
          "colorway": [
           "#636efa",
           "#EF553B",
           "#00cc96",
           "#ab63fa",
           "#FFA15A",
           "#19d3f3",
           "#FF6692",
           "#B6E880",
           "#FF97FF",
           "#FECB52"
          ],
          "font": {
           "color": "#2a3f5f"
          },
          "geo": {
           "bgcolor": "white",
           "lakecolor": "white",
           "landcolor": "#E5ECF6",
           "showlakes": true,
           "showland": true,
           "subunitcolor": "white"
          },
          "hoverlabel": {
           "align": "left"
          },
          "hovermode": "closest",
          "mapbox": {
           "style": "light"
          },
          "paper_bgcolor": "white",
          "plot_bgcolor": "#E5ECF6",
          "polar": {
           "angularaxis": {
            "gridcolor": "white",
            "linecolor": "white",
            "ticks": ""
           },
           "bgcolor": "#E5ECF6",
           "radialaxis": {
            "gridcolor": "white",
            "linecolor": "white",
            "ticks": ""
           }
          },
          "scene": {
           "xaxis": {
            "backgroundcolor": "#E5ECF6",
            "gridcolor": "white",
            "gridwidth": 2,
            "linecolor": "white",
            "showbackground": true,
            "ticks": "",
            "zerolinecolor": "white"
           },
           "yaxis": {
            "backgroundcolor": "#E5ECF6",
            "gridcolor": "white",
            "gridwidth": 2,
            "linecolor": "white",
            "showbackground": true,
            "ticks": "",
            "zerolinecolor": "white"
           },
           "zaxis": {
            "backgroundcolor": "#E5ECF6",
            "gridcolor": "white",
            "gridwidth": 2,
            "linecolor": "white",
            "showbackground": true,
            "ticks": "",
            "zerolinecolor": "white"
           }
          },
          "shapedefaults": {
           "line": {
            "color": "#2a3f5f"
           }
          },
          "ternary": {
           "aaxis": {
            "gridcolor": "white",
            "linecolor": "white",
            "ticks": ""
           },
           "baxis": {
            "gridcolor": "white",
            "linecolor": "white",
            "ticks": ""
           },
           "bgcolor": "#E5ECF6",
           "caxis": {
            "gridcolor": "white",
            "linecolor": "white",
            "ticks": ""
           }
          },
          "title": {
           "x": 0.05
          },
          "xaxis": {
           "automargin": true,
           "gridcolor": "white",
           "linecolor": "white",
           "ticks": "",
           "title": {
            "standoff": 15
           },
           "zerolinecolor": "white",
           "zerolinewidth": 2
          },
          "yaxis": {
           "automargin": true,
           "gridcolor": "white",
           "linecolor": "white",
           "ticks": "",
           "title": {
            "standoff": 15
           },
           "zerolinecolor": "white",
           "zerolinewidth": 2
          }
         }
        },
        "title": {
         "text": "India_Nifty50 Price with Buy/Sell Signals"
        },
        "xaxis": {
         "title": {
          "text": "Trading Steps"
         }
        },
        "yaxis": {
         "title": {
          "text": "Price ($)"
         }
        }
       }
      }
     },
     "metadata": {},
     "output_type": "display_data"
    },
    {
     "name": "stderr",
     "output_type": "stream",
     "text": [
      "[*********************100%***********************]  1 of 1 completed"
     ]
    },
    {
     "name": "stdout",
     "output_type": "stream",
     "text": [
      "\n",
      "============================================\n",
      "Testing on Japan_Nikkei225 (^N225)\n",
      "\n",
      "Fetching data for ^N225 from 2024-01-01 to 2025-01-01...\n",
      "Data shape after preparation: (245, 17)\n",
      "Initial Balance: $10000.00\n",
      "Final Portfolio Value: $13740.45\n",
      "Cumulative Return: 37.40%\n"
     ]
    },
    {
     "name": "stderr",
     "output_type": "stream",
     "text": [
      "\n"
     ]
    },
    {
     "data": {
      "application/vnd.plotly.v1+json": {
       "config": {
        "plotlyServerURL": "https://plot.ly"
       },
       "data": [
        {
         "mode": "lines+markers",
         "name": "Portfolio Value",
         "type": "scatter",
         "x": [
          0,
          1,
          2,
          3,
          4,
          5,
          6,
          7,
          8,
          9,
          10,
          11,
          12,
          13,
          14,
          15,
          16,
          17,
          18,
          19,
          20,
          21,
          22,
          23,
          24,
          25,
          26,
          27,
          28,
          29,
          30,
          31,
          32,
          33,
          34,
          35,
          36,
          37,
          38,
          39,
          40,
          41,
          42,
          43,
          44,
          45,
          46,
          47,
          48,
          49,
          50,
          51,
          52,
          53,
          54,
          55,
          56,
          57,
          58,
          59,
          60,
          61,
          62,
          63,
          64,
          65,
          66,
          67,
          68,
          69,
          70,
          71,
          72,
          73,
          74,
          75,
          76,
          77,
          78,
          79,
          80,
          81,
          82,
          83,
          84,
          85,
          86,
          87,
          88,
          89,
          90,
          91,
          92,
          93,
          94,
          95,
          96,
          97,
          98,
          99,
          100,
          101,
          102,
          103,
          104,
          105,
          106,
          107,
          108,
          109,
          110,
          111,
          112,
          113,
          114,
          115,
          116,
          117,
          118,
          119,
          120,
          121,
          122,
          123,
          124,
          125,
          126,
          127,
          128,
          129,
          130,
          131,
          132,
          133,
          134,
          135,
          136,
          137,
          138,
          139,
          140,
          141,
          142,
          143,
          144,
          145,
          146,
          147,
          148,
          149,
          150,
          151,
          152,
          153,
          154,
          155,
          156,
          157,
          158,
          159,
          160,
          161,
          162,
          163,
          164,
          165,
          166,
          167,
          168,
          169,
          170,
          171,
          172,
          173,
          174,
          175,
          176,
          177,
          178,
          179,
          180,
          181,
          182,
          183,
          184,
          185,
          186,
          187,
          188,
          189,
          190,
          191,
          192,
          193,
          194,
          195,
          196,
          197,
          198,
          199,
          200,
          201,
          202,
          203,
          204,
          205,
          206,
          207,
          208,
          209,
          210,
          211,
          212,
          213,
          214,
          215,
          216,
          217,
          218,
          219,
          220,
          221,
          222,
          223,
          224,
          225,
          226,
          227,
          228,
          229,
          230,
          231,
          232,
          233,
          234,
          235,
          236,
          237,
          238,
          239,
          240,
          241,
          242,
          243,
          244
         ],
         "y": [
          10000,
          10000,
          10013.388013474145,
          10100.223603574423,
          10278.086662755075,
          10448.532110001144,
          10601.006985087519,
          10696.326714360259,
          10612.743042669264,
          10570.759135459875,
          10567.315753752711,
          10715.291504934481,
          10889.120194040885,
          10880.36874631905,
          10793.648587312677,
          10796.624418805159,
          10652.00446349246,
          10734.198870588514,
          10745.794366367238,
          10811.596681698795,
          10729.58630765894,
          10773.253285952524,
          10831.693203982115,
          10774.040045041782,
          10761.902107761509,
          10983.385432372383,
          10993.557604256903,
          11311.334396054088,
          11233.674401221444,
          11369.128395295424,
          11467.242138016818,
          11462.218900603659,
          11430.4070034142,
          11400.180289110036,
          11649.420620332688,
          11689.653074234251,
          11691.383740137735,
          11682.001831699281,
          11669.535683419379,
          11891.39727578762,
          11950.513424567476,
          11947.056748216874,
          11945.016494465153,
          11798.404534907764,
          11798.404534907764,
          11669.321206840701,
          11669.321206840701,
          11669.321206840701,
          11669.321206840701,
          11654.325630312122,
          11887.44693286265,
          11956.506051134511,
          12184.413598164387,
          12205.48682025567,
          12066.017411518846,
          12066.017411518846,
          12120.481292396762,
          11987.669474172271,
          11987.669474172271,
          11987.669474172271,
          11987.669474172271,
          11987.669474172271,
          11987.669474172271,
          11869.962914650725,
          11869.962914650725,
          11934.232943147508,
          11891.100306370909,
          11854.505404318774,
          11877.304469720839,
          11792.659328601874,
          11792.659328601874,
          11792.659328601874,
          11792.659328601874,
          11636.06042396736,
          11636.06042396736,
          11653.706428638354,
          11865.131346671507,
          11640.029090800284,
          11728.854853164232,
          11869.935694272155,
          11829.882575591024,
          11818.233643835403,
          12002.673708704677,
          11807.487467552528,
          11767.843023872205,
          11815.766860662527,
          11800.425323047279,
          11855.001175121439,
          11864.17153966522,
          12029.37825975316,
          11988.307774829425,
          12075.55996058084,
          12037.62083365724,
          11935.678559370932,
          12085.92632170873,
          11944.644149357171,
          12023.122055851554,
          12009.322228545521,
          11917.062590372389,
          11761.676279944111,
          11895.744694544346,
          12030.234469723959,
          12003.786608746705,
          11896.447362316992,
          11962.385914822995,
          11956.333548918716,
          12065.818228236953,
          12095.68405217969,
          12015.9179020257,
          11967.626952186907,
          11996.708008959333,
          11776.608585545713,
          11893.955424630109,
          11921.355872318007,
          11940.598363406356,
          11929.301338113737,
          11993.645002316469,
          12107.540073173033,
          12260.200227720483,
          12159.585832103716,
          12234.240129629003,
          12249.069814535416,
          12386.186749715847,
          12542.601713353835,
          12645.489519104836,
          12645.09472084998,
          12604.397902578765,
          12851.496938756482,
          12929.32773233231,
          13050.495783883849,
          12731.113654378203,
          12731.113654378203,
          12731.113654378203,
          12731.113654378203,
          12731.113654378203,
          12731.113654378203,
          12731.113654378203,
          12731.113654378203,
          12731.113654378203,
          12731.113654378203,
          12731.113654378203,
          12740.598674170831,
          12883.465300923408,
          12601.75636966544,
          11961.623964529996,
          11961.623964529996,
          11961.623964529997,
          12033.058170683487,
          11966.44934860049,
          12024.726711188765,
          12413.513601952458,
          12483.267310612406,
          12579.16547121092,
          13033.367258091901,
          12803.387178776142,
          13033.873897505986,
          12995.856840061851,
          13084.578698021141,
          13137.046985484903,
          13050.062243270982,
          13111.149046725066,
          13139.618047316842,
          13136.457307658406,
          13234.12390528862,
          13252.314064166118,
          13247.327445367573,
          12686.189222805146,
          12552.463929195315,
          12461.507487895024,
          12401.336235028932,
          12381.958211945474,
          12197.255028643622,
          12612.793055861252,
          12526.669396220099,
          12397.04516867787,
          12457.639114607638,
          12723.07537599961,
          12917.77455921038,
          12991.972046758417,
          12967.889631651908,
          13329.278346345054,
          13638.810414251166,
          12984.767653953504,
          13235.56907311056,
          12946.830225752234,
          13201.356901857804,
          13229.971155579895,
          13468.684550669386,
          13333.35673357329,
          13449.927179692157,
          13485.173327110713,
          13562.18916885334,
          13666.544517506325,
          13416.485474507661,
          13416.485474507661,
          13416.485474507661,
          13416.485474507661,
          13323.039132212136,
          13323.039132212136,
          13323.039132212136,
          13282.981390866067,
          13464.525515705856,
          13555.649681538547,
          13677.867149110361,
          13611.642707855317,
          13259.220183022706,
          13259.220183022706,
          13432.525012971915,
          13407.087191727212,
          13442.579915273422,
          13453.101777107702,
          13401.244535205027,
          13181.959414954134,
          13181.959414954134,
          13200.296311074038,
          13092.115828086455,
          13150.078426257232,
          13130.155386699234,
          13021.99312789578,
          13108.839348728885,
          13277.439514747815,
          13162.11682439695,
          13057.19834070121,
          13130.42922731272,
          13082.166195543843,
          13186.566388995776,
          13438.48163766774,
          13447.907543359128,
          13488.723149981719,
          13384.490535749484,
          13408.227727960959,
          13479.12928040583,
          13480.722200998813,
          13644.012094899164,
          13514.348712965595,
          13509.913672433328,
          13478.13679056886,
          13381.250665039503,
          13289.444237322312,
          13289.444237322312,
          13368.325651350831,
          13336.390971113926,
          13364.378481847007,
          13504.554505273944,
          13740.451125994852
         ]
        },
        {
         "marker": {
          "color": "green",
          "size": 10,
          "symbol": "triangle-up"
         },
         "mode": "markers",
         "name": "Buy Signal",
         "type": "scatter",
         "x": [
          0,
          1,
          2,
          3,
          4,
          5,
          6,
          7,
          8,
          9,
          10,
          11,
          12,
          13,
          14,
          15,
          16,
          17,
          18,
          19,
          20,
          21,
          22,
          23,
          24,
          25,
          26,
          27,
          28,
          29,
          30,
          31,
          32,
          33,
          34,
          35,
          36,
          37,
          38,
          39,
          40,
          41,
          43,
          47,
          48,
          49,
          50,
          51,
          52,
          54,
          55,
          61,
          63,
          64,
          65,
          66,
          67,
          71,
          73,
          74,
          75,
          76,
          77,
          78,
          79,
          80,
          81,
          82,
          83,
          84,
          85,
          86,
          87,
          88,
          89,
          90,
          91,
          92,
          93,
          94,
          95,
          96,
          97,
          98,
          99,
          100,
          101,
          102,
          103,
          104,
          105,
          106,
          107,
          108,
          109,
          110,
          111,
          112,
          113,
          114,
          115,
          116,
          117,
          118,
          119,
          120,
          121,
          122,
          123,
          124,
          125,
          126,
          127,
          128,
          139,
          140,
          141,
          145,
          146,
          147,
          148,
          149,
          150,
          151,
          152,
          153,
          154,
          155,
          156,
          157,
          158,
          159,
          160,
          161,
          162,
          163,
          164,
          165,
          166,
          167,
          168,
          169,
          170,
          171,
          172,
          173,
          174,
          175,
          176,
          177,
          178,
          179,
          180,
          181,
          182,
          183,
          184,
          185,
          186,
          187,
          188,
          189,
          190,
          191,
          195,
          198,
          199,
          200,
          201,
          202,
          203,
          205,
          206,
          207,
          208,
          209,
          210,
          212,
          213,
          214,
          215,
          216,
          217,
          218,
          219,
          220,
          221,
          222,
          223,
          224,
          225,
          226,
          227,
          228,
          229,
          230,
          231,
          232,
          233,
          234,
          235,
          236,
          238,
          239,
          240,
          241,
          242,
          243
         ],
         "y": [
          10000,
          10000,
          10013.388013474145,
          10100.223603574423,
          10278.086662755075,
          10448.532110001144,
          10601.006985087519,
          10696.326714360259,
          10612.743042669264,
          10570.759135459875,
          10567.315753752711,
          10715.291504934481,
          10889.120194040885,
          10880.36874631905,
          10793.648587312677,
          10796.624418805159,
          10652.00446349246,
          10734.198870588514,
          10745.794366367238,
          10811.596681698795,
          10729.58630765894,
          10773.253285952524,
          10831.693203982115,
          10774.040045041782,
          10761.902107761509,
          10983.385432372383,
          10993.557604256903,
          11311.334396054088,
          11233.674401221444,
          11369.128395295424,
          11467.242138016818,
          11462.218900603659,
          11430.4070034142,
          11400.180289110036,
          11649.420620332688,
          11689.653074234251,
          11691.383740137735,
          11682.001831699281,
          11669.535683419379,
          11891.39727578762,
          11950.513424567476,
          11947.056748216874,
          11798.404534907764,
          11669.321206840701,
          11669.321206840701,
          11654.325630312122,
          11887.44693286265,
          11956.506051134511,
          12184.413598164387,
          12066.017411518846,
          12066.017411518846,
          11987.669474172271,
          11869.962914650725,
          11869.962914650725,
          11934.232943147508,
          11891.100306370909,
          11854.505404318774,
          11792.659328601874,
          11636.06042396736,
          11636.06042396736,
          11653.706428638354,
          11865.131346671507,
          11640.029090800284,
          11728.854853164232,
          11869.935694272155,
          11829.882575591024,
          11818.233643835403,
          12002.673708704677,
          11807.487467552528,
          11767.843023872205,
          11815.766860662527,
          11800.425323047279,
          11855.001175121439,
          11864.17153966522,
          12029.37825975316,
          11988.307774829425,
          12075.55996058084,
          12037.62083365724,
          11935.678559370932,
          12085.92632170873,
          11944.644149357171,
          12023.122055851554,
          12009.322228545521,
          11917.062590372389,
          11761.676279944111,
          11895.744694544346,
          12030.234469723959,
          12003.786608746705,
          11896.447362316992,
          11962.385914822995,
          11956.333548918716,
          12065.818228236953,
          12095.68405217969,
          12015.9179020257,
          11967.626952186907,
          11996.708008959333,
          11776.608585545713,
          11893.955424630109,
          11921.355872318007,
          11940.598363406356,
          11929.301338113737,
          11993.645002316469,
          12107.540073173033,
          12260.200227720483,
          12159.585832103716,
          12234.240129629003,
          12249.069814535416,
          12386.186749715847,
          12542.601713353835,
          12645.489519104836,
          12645.09472084998,
          12604.397902578765,
          12851.496938756482,
          12929.32773233231,
          12731.113654378203,
          12731.113654378203,
          12740.598674170831,
          11961.623964529996,
          11961.623964529997,
          12033.058170683487,
          11966.44934860049,
          12024.726711188765,
          12413.513601952458,
          12483.267310612406,
          12579.16547121092,
          13033.367258091901,
          12803.387178776142,
          13033.873897505986,
          12995.856840061851,
          13084.578698021141,
          13137.046985484903,
          13050.062243270982,
          13111.149046725066,
          13139.618047316842,
          13136.457307658406,
          13234.12390528862,
          13252.314064166118,
          13247.327445367573,
          12686.189222805146,
          12552.463929195315,
          12461.507487895024,
          12401.336235028932,
          12381.958211945474,
          12197.255028643622,
          12612.793055861252,
          12526.669396220099,
          12397.04516867787,
          12457.639114607638,
          12723.07537599961,
          12917.77455921038,
          12991.972046758417,
          12967.889631651908,
          13329.278346345054,
          13638.810414251166,
          12984.767653953504,
          13235.56907311056,
          12946.830225752234,
          13201.356901857804,
          13229.971155579895,
          13468.684550669386,
          13333.35673357329,
          13449.927179692157,
          13485.173327110713,
          13562.18916885334,
          13416.485474507661,
          13323.039132212136,
          13323.039132212136,
          13282.981390866067,
          13464.525515705856,
          13555.649681538547,
          13677.867149110361,
          13259.220183022706,
          13259.220183022706,
          13432.525012971915,
          13407.087191727212,
          13442.579915273422,
          13453.101777107702,
          13181.959414954134,
          13181.959414954134,
          13200.296311074038,
          13092.115828086455,
          13150.078426257232,
          13130.155386699234,
          13021.99312789578,
          13108.839348728885,
          13277.439514747815,
          13162.11682439695,
          13057.19834070121,
          13130.42922731272,
          13082.166195543843,
          13186.566388995776,
          13438.48163766774,
          13447.907543359128,
          13488.723149981719,
          13384.490535749484,
          13408.227727960959,
          13479.12928040583,
          13480.722200998813,
          13644.012094899164,
          13514.348712965595,
          13509.913672433328,
          13478.13679056886,
          13289.444237322312,
          13289.444237322312,
          13368.325651350831,
          13336.390971113926,
          13364.378481847007,
          13504.554505273944
         ]
        },
        {
         "marker": {
          "color": "red",
          "size": 10,
          "symbol": "triangle-down"
         },
         "mode": "markers",
         "name": "Sell Signal",
         "type": "scatter",
         "x": [
          42,
          44,
          45,
          46,
          53,
          56,
          57,
          58,
          59,
          60,
          62,
          68,
          69,
          70,
          72,
          129,
          130,
          131,
          132,
          133,
          134,
          135,
          136,
          137,
          138,
          143,
          144,
          192,
          193,
          194,
          196,
          197,
          204,
          211,
          237
         ],
         "y": [
          11945.016494465153,
          11798.404534907764,
          11669.321206840701,
          11669.321206840701,
          12205.48682025567,
          12120.481292396762,
          11987.669474172271,
          11987.669474172271,
          11987.669474172271,
          11987.669474172271,
          11987.669474172271,
          11877.304469720839,
          11792.659328601874,
          11792.659328601874,
          11792.659328601874,
          13050.495783883849,
          12731.113654378203,
          12731.113654378203,
          12731.113654378203,
          12731.113654378203,
          12731.113654378203,
          12731.113654378203,
          12731.113654378203,
          12731.113654378203,
          12731.113654378203,
          12601.75636966544,
          11961.623964529996,
          13666.544517506325,
          13416.485474507661,
          13416.485474507661,
          13416.485474507661,
          13323.039132212136,
          13611.642707855317,
          13401.244535205027,
          13381.250665039503
         ]
        }
       ],
       "layout": {
        "template": {
         "data": {
          "bar": [
           {
            "error_x": {
             "color": "#2a3f5f"
            },
            "error_y": {
             "color": "#2a3f5f"
            },
            "marker": {
             "line": {
              "color": "#E5ECF6",
              "width": 0.5
             },
             "pattern": {
              "fillmode": "overlay",
              "size": 10,
              "solidity": 0.2
             }
            },
            "type": "bar"
           }
          ],
          "barpolar": [
           {
            "marker": {
             "line": {
              "color": "#E5ECF6",
              "width": 0.5
             },
             "pattern": {
              "fillmode": "overlay",
              "size": 10,
              "solidity": 0.2
             }
            },
            "type": "barpolar"
           }
          ],
          "carpet": [
           {
            "aaxis": {
             "endlinecolor": "#2a3f5f",
             "gridcolor": "white",
             "linecolor": "white",
             "minorgridcolor": "white",
             "startlinecolor": "#2a3f5f"
            },
            "baxis": {
             "endlinecolor": "#2a3f5f",
             "gridcolor": "white",
             "linecolor": "white",
             "minorgridcolor": "white",
             "startlinecolor": "#2a3f5f"
            },
            "type": "carpet"
           }
          ],
          "choropleth": [
           {
            "colorbar": {
             "outlinewidth": 0,
             "ticks": ""
            },
            "type": "choropleth"
           }
          ],
          "contour": [
           {
            "colorbar": {
             "outlinewidth": 0,
             "ticks": ""
            },
            "colorscale": [
             [
              0,
              "#0d0887"
             ],
             [
              0.1111111111111111,
              "#46039f"
             ],
             [
              0.2222222222222222,
              "#7201a8"
             ],
             [
              0.3333333333333333,
              "#9c179e"
             ],
             [
              0.4444444444444444,
              "#bd3786"
             ],
             [
              0.5555555555555556,
              "#d8576b"
             ],
             [
              0.6666666666666666,
              "#ed7953"
             ],
             [
              0.7777777777777778,
              "#fb9f3a"
             ],
             [
              0.8888888888888888,
              "#fdca26"
             ],
             [
              1,
              "#f0f921"
             ]
            ],
            "type": "contour"
           }
          ],
          "contourcarpet": [
           {
            "colorbar": {
             "outlinewidth": 0,
             "ticks": ""
            },
            "type": "contourcarpet"
           }
          ],
          "heatmap": [
           {
            "colorbar": {
             "outlinewidth": 0,
             "ticks": ""
            },
            "colorscale": [
             [
              0,
              "#0d0887"
             ],
             [
              0.1111111111111111,
              "#46039f"
             ],
             [
              0.2222222222222222,
              "#7201a8"
             ],
             [
              0.3333333333333333,
              "#9c179e"
             ],
             [
              0.4444444444444444,
              "#bd3786"
             ],
             [
              0.5555555555555556,
              "#d8576b"
             ],
             [
              0.6666666666666666,
              "#ed7953"
             ],
             [
              0.7777777777777778,
              "#fb9f3a"
             ],
             [
              0.8888888888888888,
              "#fdca26"
             ],
             [
              1,
              "#f0f921"
             ]
            ],
            "type": "heatmap"
           }
          ],
          "histogram": [
           {
            "marker": {
             "pattern": {
              "fillmode": "overlay",
              "size": 10,
              "solidity": 0.2
             }
            },
            "type": "histogram"
           }
          ],
          "histogram2d": [
           {
            "colorbar": {
             "outlinewidth": 0,
             "ticks": ""
            },
            "colorscale": [
             [
              0,
              "#0d0887"
             ],
             [
              0.1111111111111111,
              "#46039f"
             ],
             [
              0.2222222222222222,
              "#7201a8"
             ],
             [
              0.3333333333333333,
              "#9c179e"
             ],
             [
              0.4444444444444444,
              "#bd3786"
             ],
             [
              0.5555555555555556,
              "#d8576b"
             ],
             [
              0.6666666666666666,
              "#ed7953"
             ],
             [
              0.7777777777777778,
              "#fb9f3a"
             ],
             [
              0.8888888888888888,
              "#fdca26"
             ],
             [
              1,
              "#f0f921"
             ]
            ],
            "type": "histogram2d"
           }
          ],
          "histogram2dcontour": [
           {
            "colorbar": {
             "outlinewidth": 0,
             "ticks": ""
            },
            "colorscale": [
             [
              0,
              "#0d0887"
             ],
             [
              0.1111111111111111,
              "#46039f"
             ],
             [
              0.2222222222222222,
              "#7201a8"
             ],
             [
              0.3333333333333333,
              "#9c179e"
             ],
             [
              0.4444444444444444,
              "#bd3786"
             ],
             [
              0.5555555555555556,
              "#d8576b"
             ],
             [
              0.6666666666666666,
              "#ed7953"
             ],
             [
              0.7777777777777778,
              "#fb9f3a"
             ],
             [
              0.8888888888888888,
              "#fdca26"
             ],
             [
              1,
              "#f0f921"
             ]
            ],
            "type": "histogram2dcontour"
           }
          ],
          "mesh3d": [
           {
            "colorbar": {
             "outlinewidth": 0,
             "ticks": ""
            },
            "type": "mesh3d"
           }
          ],
          "parcoords": [
           {
            "line": {
             "colorbar": {
              "outlinewidth": 0,
              "ticks": ""
             }
            },
            "type": "parcoords"
           }
          ],
          "pie": [
           {
            "automargin": true,
            "type": "pie"
           }
          ],
          "scatter": [
           {
            "fillpattern": {
             "fillmode": "overlay",
             "size": 10,
             "solidity": 0.2
            },
            "type": "scatter"
           }
          ],
          "scatter3d": [
           {
            "line": {
             "colorbar": {
              "outlinewidth": 0,
              "ticks": ""
             }
            },
            "marker": {
             "colorbar": {
              "outlinewidth": 0,
              "ticks": ""
             }
            },
            "type": "scatter3d"
           }
          ],
          "scattercarpet": [
           {
            "marker": {
             "colorbar": {
              "outlinewidth": 0,
              "ticks": ""
             }
            },
            "type": "scattercarpet"
           }
          ],
          "scattergeo": [
           {
            "marker": {
             "colorbar": {
              "outlinewidth": 0,
              "ticks": ""
             }
            },
            "type": "scattergeo"
           }
          ],
          "scattergl": [
           {
            "marker": {
             "colorbar": {
              "outlinewidth": 0,
              "ticks": ""
             }
            },
            "type": "scattergl"
           }
          ],
          "scattermap": [
           {
            "marker": {
             "colorbar": {
              "outlinewidth": 0,
              "ticks": ""
             }
            },
            "type": "scattermap"
           }
          ],
          "scattermapbox": [
           {
            "marker": {
             "colorbar": {
              "outlinewidth": 0,
              "ticks": ""
             }
            },
            "type": "scattermapbox"
           }
          ],
          "scatterpolar": [
           {
            "marker": {
             "colorbar": {
              "outlinewidth": 0,
              "ticks": ""
             }
            },
            "type": "scatterpolar"
           }
          ],
          "scatterpolargl": [
           {
            "marker": {
             "colorbar": {
              "outlinewidth": 0,
              "ticks": ""
             }
            },
            "type": "scatterpolargl"
           }
          ],
          "scatterternary": [
           {
            "marker": {
             "colorbar": {
              "outlinewidth": 0,
              "ticks": ""
             }
            },
            "type": "scatterternary"
           }
          ],
          "surface": [
           {
            "colorbar": {
             "outlinewidth": 0,
             "ticks": ""
            },
            "colorscale": [
             [
              0,
              "#0d0887"
             ],
             [
              0.1111111111111111,
              "#46039f"
             ],
             [
              0.2222222222222222,
              "#7201a8"
             ],
             [
              0.3333333333333333,
              "#9c179e"
             ],
             [
              0.4444444444444444,
              "#bd3786"
             ],
             [
              0.5555555555555556,
              "#d8576b"
             ],
             [
              0.6666666666666666,
              "#ed7953"
             ],
             [
              0.7777777777777778,
              "#fb9f3a"
             ],
             [
              0.8888888888888888,
              "#fdca26"
             ],
             [
              1,
              "#f0f921"
             ]
            ],
            "type": "surface"
           }
          ],
          "table": [
           {
            "cells": {
             "fill": {
              "color": "#EBF0F8"
             },
             "line": {
              "color": "white"
             }
            },
            "header": {
             "fill": {
              "color": "#C8D4E3"
             },
             "line": {
              "color": "white"
             }
            },
            "type": "table"
           }
          ]
         },
         "layout": {
          "annotationdefaults": {
           "arrowcolor": "#2a3f5f",
           "arrowhead": 0,
           "arrowwidth": 1
          },
          "autotypenumbers": "strict",
          "coloraxis": {
           "colorbar": {
            "outlinewidth": 0,
            "ticks": ""
           }
          },
          "colorscale": {
           "diverging": [
            [
             0,
             "#8e0152"
            ],
            [
             0.1,
             "#c51b7d"
            ],
            [
             0.2,
             "#de77ae"
            ],
            [
             0.3,
             "#f1b6da"
            ],
            [
             0.4,
             "#fde0ef"
            ],
            [
             0.5,
             "#f7f7f7"
            ],
            [
             0.6,
             "#e6f5d0"
            ],
            [
             0.7,
             "#b8e186"
            ],
            [
             0.8,
             "#7fbc41"
            ],
            [
             0.9,
             "#4d9221"
            ],
            [
             1,
             "#276419"
            ]
           ],
           "sequential": [
            [
             0,
             "#0d0887"
            ],
            [
             0.1111111111111111,
             "#46039f"
            ],
            [
             0.2222222222222222,
             "#7201a8"
            ],
            [
             0.3333333333333333,
             "#9c179e"
            ],
            [
             0.4444444444444444,
             "#bd3786"
            ],
            [
             0.5555555555555556,
             "#d8576b"
            ],
            [
             0.6666666666666666,
             "#ed7953"
            ],
            [
             0.7777777777777778,
             "#fb9f3a"
            ],
            [
             0.8888888888888888,
             "#fdca26"
            ],
            [
             1,
             "#f0f921"
            ]
           ],
           "sequentialminus": [
            [
             0,
             "#0d0887"
            ],
            [
             0.1111111111111111,
             "#46039f"
            ],
            [
             0.2222222222222222,
             "#7201a8"
            ],
            [
             0.3333333333333333,
             "#9c179e"
            ],
            [
             0.4444444444444444,
             "#bd3786"
            ],
            [
             0.5555555555555556,
             "#d8576b"
            ],
            [
             0.6666666666666666,
             "#ed7953"
            ],
            [
             0.7777777777777778,
             "#fb9f3a"
            ],
            [
             0.8888888888888888,
             "#fdca26"
            ],
            [
             1,
             "#f0f921"
            ]
           ]
          },
          "colorway": [
           "#636efa",
           "#EF553B",
           "#00cc96",
           "#ab63fa",
           "#FFA15A",
           "#19d3f3",
           "#FF6692",
           "#B6E880",
           "#FF97FF",
           "#FECB52"
          ],
          "font": {
           "color": "#2a3f5f"
          },
          "geo": {
           "bgcolor": "white",
           "lakecolor": "white",
           "landcolor": "#E5ECF6",
           "showlakes": true,
           "showland": true,
           "subunitcolor": "white"
          },
          "hoverlabel": {
           "align": "left"
          },
          "hovermode": "closest",
          "mapbox": {
           "style": "light"
          },
          "paper_bgcolor": "white",
          "plot_bgcolor": "#E5ECF6",
          "polar": {
           "angularaxis": {
            "gridcolor": "white",
            "linecolor": "white",
            "ticks": ""
           },
           "bgcolor": "#E5ECF6",
           "radialaxis": {
            "gridcolor": "white",
            "linecolor": "white",
            "ticks": ""
           }
          },
          "scene": {
           "xaxis": {
            "backgroundcolor": "#E5ECF6",
            "gridcolor": "white",
            "gridwidth": 2,
            "linecolor": "white",
            "showbackground": true,
            "ticks": "",
            "zerolinecolor": "white"
           },
           "yaxis": {
            "backgroundcolor": "#E5ECF6",
            "gridcolor": "white",
            "gridwidth": 2,
            "linecolor": "white",
            "showbackground": true,
            "ticks": "",
            "zerolinecolor": "white"
           },
           "zaxis": {
            "backgroundcolor": "#E5ECF6",
            "gridcolor": "white",
            "gridwidth": 2,
            "linecolor": "white",
            "showbackground": true,
            "ticks": "",
            "zerolinecolor": "white"
           }
          },
          "shapedefaults": {
           "line": {
            "color": "#2a3f5f"
           }
          },
          "ternary": {
           "aaxis": {
            "gridcolor": "white",
            "linecolor": "white",
            "ticks": ""
           },
           "baxis": {
            "gridcolor": "white",
            "linecolor": "white",
            "ticks": ""
           },
           "bgcolor": "#E5ECF6",
           "caxis": {
            "gridcolor": "white",
            "linecolor": "white",
            "ticks": ""
           }
          },
          "title": {
           "x": 0.05
          },
          "xaxis": {
           "automargin": true,
           "gridcolor": "white",
           "linecolor": "white",
           "ticks": "",
           "title": {
            "standoff": 15
           },
           "zerolinecolor": "white",
           "zerolinewidth": 2
          },
          "yaxis": {
           "automargin": true,
           "gridcolor": "white",
           "linecolor": "white",
           "ticks": "",
           "title": {
            "standoff": 15
           },
           "zerolinecolor": "white",
           "zerolinewidth": 2
          }
         }
        },
        "title": {
         "text": "Japan_Nikkei225 Portfolio Evolution (Return: 37.40%)"
        },
        "xaxis": {
         "title": {
          "text": "Trading Steps"
         }
        },
        "yaxis": {
         "title": {
          "text": "Portfolio Value ($)"
         }
        }
       }
      }
     },
     "metadata": {},
     "output_type": "display_data"
    },
    {
     "data": {
      "application/vnd.plotly.v1+json": {
       "config": {
        "plotlyServerURL": "https://plot.ly"
       },
       "data": [
        {
         "mode": "lines",
         "name": "Price",
         "type": "scatter",
         "x": [
          0,
          1,
          2,
          3,
          4,
          5,
          6,
          7,
          8,
          9,
          10,
          11,
          12,
          13,
          14,
          15,
          16,
          17,
          18,
          19,
          20,
          21,
          22,
          23,
          24,
          25,
          26,
          27,
          28,
          29,
          30,
          31,
          32,
          33,
          34,
          35,
          36,
          37,
          38,
          39,
          40,
          41,
          42,
          43,
          44,
          45,
          46,
          47,
          48,
          49,
          50,
          51,
          52,
          53,
          54,
          55,
          56,
          57,
          58,
          59,
          60,
          61,
          62,
          63,
          64,
          65,
          66,
          67,
          68,
          69,
          70,
          71,
          72,
          73,
          74,
          75,
          76,
          77,
          78,
          79,
          80,
          81,
          82,
          83,
          84,
          85,
          86,
          87,
          88,
          89,
          90,
          91,
          92,
          93,
          94,
          95,
          96,
          97,
          98,
          99,
          100,
          101,
          102,
          103,
          104,
          105,
          106,
          107,
          108,
          109,
          110,
          111,
          112,
          113,
          114,
          115,
          116,
          117,
          118,
          119,
          120,
          121,
          122,
          123,
          124,
          125,
          126,
          127,
          128,
          129,
          130,
          131,
          132,
          133,
          134,
          135,
          136,
          137,
          138,
          139,
          140,
          141,
          142,
          143,
          144,
          145,
          146,
          147,
          148,
          149,
          150,
          151,
          152,
          153,
          154,
          155,
          156,
          157,
          158,
          159,
          160,
          161,
          162,
          163,
          164,
          165,
          166,
          167,
          168,
          169,
          170,
          171,
          172,
          173,
          174,
          175,
          176,
          177,
          178,
          179,
          180,
          181,
          182,
          183,
          184,
          185,
          186,
          187,
          188,
          189,
          190,
          191,
          192,
          193,
          194,
          195,
          196,
          197,
          198,
          199,
          200,
          201,
          202,
          203,
          204,
          205,
          206,
          207,
          208,
          209,
          210,
          211,
          212,
          213,
          214,
          215,
          216,
          217,
          218,
          219,
          220,
          221,
          222,
          223,
          224,
          225,
          226,
          227,
          228,
          229,
          230,
          231,
          232,
          233,
          234,
          235,
          236,
          237,
          238,
          239,
          240,
          241,
          242,
          243,
          244
         ],
         "y": {
          "bdata": "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",
          "dtype": "f8"
         }
        },
        {
         "marker": {
          "color": "green",
          "size": 10,
          "symbol": "triangle-up"
         },
         "mode": "markers",
         "name": "Buy Signal",
         "type": "scatter",
         "x": [
          0,
          1,
          2,
          3,
          4,
          5,
          6,
          7,
          8,
          9,
          10,
          11,
          12,
          13,
          14,
          15,
          16,
          17,
          18,
          19,
          20,
          21,
          22,
          23,
          24,
          25,
          26,
          27,
          28,
          29,
          30,
          31,
          32,
          33,
          34,
          35,
          36,
          37,
          38,
          39,
          40,
          41,
          43,
          47,
          48,
          49,
          50,
          51,
          52,
          54,
          55,
          61,
          63,
          64,
          65,
          66,
          67,
          71,
          73,
          74,
          75,
          76,
          77,
          78,
          79,
          80,
          81,
          82,
          83,
          84,
          85,
          86,
          87,
          88,
          89,
          90,
          91,
          92,
          93,
          94,
          95,
          96,
          97,
          98,
          99,
          100,
          101,
          102,
          103,
          104,
          105,
          106,
          107,
          108,
          109,
          110,
          111,
          112,
          113,
          114,
          115,
          116,
          117,
          118,
          119,
          120,
          121,
          122,
          123,
          124,
          125,
          126,
          127,
          128,
          139,
          140,
          141,
          145,
          146,
          147,
          148,
          149,
          150,
          151,
          152,
          153,
          154,
          155,
          156,
          157,
          158,
          159,
          160,
          161,
          162,
          163,
          164,
          165,
          166,
          167,
          168,
          169,
          170,
          171,
          172,
          173,
          174,
          175,
          176,
          177,
          178,
          179,
          180,
          181,
          182,
          183,
          184,
          185,
          186,
          187,
          188,
          189,
          190,
          191,
          195,
          198,
          199,
          200,
          201,
          202,
          203,
          205,
          206,
          207,
          208,
          209,
          210,
          212,
          213,
          214,
          215,
          216,
          217,
          218,
          219,
          220,
          221,
          222,
          223,
          224,
          225,
          226,
          227,
          228,
          229,
          230,
          231,
          232,
          233,
          234,
          235,
          236,
          238,
          239,
          240,
          241,
          242,
          243
         ],
         "y": [
          33288.2890625,
          33377.421875,
          33763.1796875,
          34441.71875,
          35049.859375,
          35577.109375,
          35901.7890625,
          35619.1796875,
          35477.75,
          35466.171875,
          35963.26953125,
          36546.94921875,
          36517.5703125,
          36226.48046875,
          36236.46875,
          35751.0703125,
          36026.94140625,
          36065.859375,
          36286.7109375,
          36011.4609375,
          36158.01953125,
          36354.16015625,
          36160.66015625,
          36119.921875,
          36863.28125,
          36897.421875,
          37963.96875,
          37703.3203125,
          38157.94140625,
          38487.23828125,
          38470.37890625,
          38363.609375,
          38262.16015625,
          39098.6796875,
          39233.7109375,
          39239.51953125,
          39208.03125,
          39166.19140625,
          39910.8203125,
          40109.23046875,
          40097.62890625,
          40090.78125,
          39688.94140625,
          38807.37890625,
          38707.640625,
          39740.44140625,
          40003.6015625,
          40815.66015625,
          40888.4296875,
          40398.03125,
          40762.73046875,
          39773.140625,
          39347.0390625,
          39773.12890625,
          39581.80859375,
          39442.62890625,
          39523.55078125,
          38079.69921875,
          37438.609375,
          37552.16015625,
          38460.078125,
          37628.48046875,
          37934.76171875,
          38405.66015625,
          38274.05078125,
          38236.0703125,
          38835.1015625,
          38202.37109375,
          38073.98046875,
          38229.109375,
          38179.4609375,
          38356.05859375,
          38385.73046875,
          38920.26171875,
          38787.37890625,
          39069.6796875,
          38946.9296875,
          38617.1015625,
          39103.21875,
          38646.109375,
          38900.01953125,
          38855.37109375,
          38556.87109375,
          38054.12890625,
          38487.8984375,
          38923.03125,
          38837.4609375,
          38490.171875,
          38703.51171875,
          38683.9296875,
          39038.16015625,
          39134.7890625,
          38876.7109375,
          38720.46875,
          38814.55859375,
          38102.44140625,
          38482.109375,
          38570.76171875,
          38633.01953125,
          38596.46875,
          38804.6484375,
          39173.1484375,
          39667.0703125,
          39341.5390625,
          39583.078125,
          39631.05859375,
          40074.69140625,
          40580.76171875,
          40913.6484375,
          40912.37109375,
          40780.69921875,
          41580.171875,
          41831.98828125,
          42224.01953125,
          38468.62890625,
          38525.94921875,
          39101.8203125,
          34675.4609375,
          35089.62109375,
          34831.1484375,
          35025,
          36232.51171875,
          36442.4296875,
          36726.640625,
          38062.671875,
          37388.62109375,
          38062.921875,
          37951.80078125,
          38211.01171875,
          38364.26953125,
          38110.21875,
          38288.62109375,
          38371.76171875,
          38362.53125,
          38647.75,
          38700.87109375,
          38686.30859375,
          37047.609375,
          36657.08984375,
          36391.46875,
          36215.75,
          36159.16015625,
          35619.76953125,
          36833.26953125,
          36581.76171875,
          36203.21875,
          36380.171875,
          37155.328125,
          37723.91015625,
          37940.58984375,
          37870.26171875,
          38925.62890625,
          39829.55859375,
          37919.55078125,
          38651.96875,
          37808.76171875,
          38552.05859375,
          38635.62109375,
          39332.73828125,
          38937.5390625,
          39277.9609375,
          39380.890625,
          39605.80078125,
          39910.55078125,
          38954.6015625,
          38143.2890625,
          37913.921875,
          38605.53125,
          38903.6796875,
          39277.390625,
          39081.25,
          38474.8984375,
          39480.671875,
          39381.41015625,
          39500.37109375,
          39533.3203125,
          39376.08984375,
          38535.69921875,
          38642.91015625,
          38220.8515625,
          38414.4296875,
          38352.33984375,
          38026.171875,
          38283.8515625,
          38780.140625,
          38442,
          38134.96875,
          38349.05859375,
          38208.03125,
          38513.01953125,
          39248.859375,
          39276.390625,
          39395.6015625,
          39091.171875,
          39160.5,
          39367.578125,
          39372.23046875,
          39849.140625,
          39470.44140625,
          39457.48828125,
          39364.6796875,
          39081.7109375,
          38701.8984375,
          39161.33984375,
          39036.8515625,
          39130.4296875,
          39568.05859375,
          40281.16015625
         ]
        },
        {
         "marker": {
          "color": "red",
          "size": 10,
          "symbol": "triangle-down"
         },
         "mode": "markers",
         "name": "Sell Signal",
         "type": "scatter",
         "x": [
          42,
          44,
          45,
          46,
          53,
          56,
          57,
          58,
          59,
          60,
          62,
          68,
          69,
          70,
          72,
          129,
          130,
          131,
          132,
          133,
          134,
          135,
          136,
          137,
          138,
          143,
          144,
          192,
          193,
          194,
          196,
          197,
          204,
          211,
          237
         ],
         "y": [
          39598.7109375,
          38820.48828125,
          38797.51171875,
          38695.96875,
          40414.12109375,
          40168.0703125,
          40369.44140625,
          39803.08984375,
          39838.91015625,
          39451.8515625,
          38992.078125,
          39232.80078125,
          38471.19921875,
          37961.80078125,
          37068.3515625,
          41190.6796875,
          41275.078125,
          41097.69140625,
          40126.3515625,
          40063.7890625,
          39599,
          39594.390625,
          39154.8515625,
          37869.51171875,
          37667.41015625,
          35909.69921875,
          31458.419921875,
          39180.30078125,
          38911.19140625,
          38981.75,
          38411.9609375,
          38104.859375,
          38053.671875,
          38721.66015625,
          38813.578125
         ]
        }
       ],
       "layout": {
        "template": {
         "data": {
          "bar": [
           {
            "error_x": {
             "color": "#2a3f5f"
            },
            "error_y": {
             "color": "#2a3f5f"
            },
            "marker": {
             "line": {
              "color": "#E5ECF6",
              "width": 0.5
             },
             "pattern": {
              "fillmode": "overlay",
              "size": 10,
              "solidity": 0.2
             }
            },
            "type": "bar"
           }
          ],
          "barpolar": [
           {
            "marker": {
             "line": {
              "color": "#E5ECF6",
              "width": 0.5
             },
             "pattern": {
              "fillmode": "overlay",
              "size": 10,
              "solidity": 0.2
             }
            },
            "type": "barpolar"
           }
          ],
          "carpet": [
           {
            "aaxis": {
             "endlinecolor": "#2a3f5f",
             "gridcolor": "white",
             "linecolor": "white",
             "minorgridcolor": "white",
             "startlinecolor": "#2a3f5f"
            },
            "baxis": {
             "endlinecolor": "#2a3f5f",
             "gridcolor": "white",
             "linecolor": "white",
             "minorgridcolor": "white",
             "startlinecolor": "#2a3f5f"
            },
            "type": "carpet"
           }
          ],
          "choropleth": [
           {
            "colorbar": {
             "outlinewidth": 0,
             "ticks": ""
            },
            "type": "choropleth"
           }
          ],
          "contour": [
           {
            "colorbar": {
             "outlinewidth": 0,
             "ticks": ""
            },
            "colorscale": [
             [
              0,
              "#0d0887"
             ],
             [
              0.1111111111111111,
              "#46039f"
             ],
             [
              0.2222222222222222,
              "#7201a8"
             ],
             [
              0.3333333333333333,
              "#9c179e"
             ],
             [
              0.4444444444444444,
              "#bd3786"
             ],
             [
              0.5555555555555556,
              "#d8576b"
             ],
             [
              0.6666666666666666,
              "#ed7953"
             ],
             [
              0.7777777777777778,
              "#fb9f3a"
             ],
             [
              0.8888888888888888,
              "#fdca26"
             ],
             [
              1,
              "#f0f921"
             ]
            ],
            "type": "contour"
           }
          ],
          "contourcarpet": [
           {
            "colorbar": {
             "outlinewidth": 0,
             "ticks": ""
            },
            "type": "contourcarpet"
           }
          ],
          "heatmap": [
           {
            "colorbar": {
             "outlinewidth": 0,
             "ticks": ""
            },
            "colorscale": [
             [
              0,
              "#0d0887"
             ],
             [
              0.1111111111111111,
              "#46039f"
             ],
             [
              0.2222222222222222,
              "#7201a8"
             ],
             [
              0.3333333333333333,
              "#9c179e"
             ],
             [
              0.4444444444444444,
              "#bd3786"
             ],
             [
              0.5555555555555556,
              "#d8576b"
             ],
             [
              0.6666666666666666,
              "#ed7953"
             ],
             [
              0.7777777777777778,
              "#fb9f3a"
             ],
             [
              0.8888888888888888,
              "#fdca26"
             ],
             [
              1,
              "#f0f921"
             ]
            ],
            "type": "heatmap"
           }
          ],
          "histogram": [
           {
            "marker": {
             "pattern": {
              "fillmode": "overlay",
              "size": 10,
              "solidity": 0.2
             }
            },
            "type": "histogram"
           }
          ],
          "histogram2d": [
           {
            "colorbar": {
             "outlinewidth": 0,
             "ticks": ""
            },
            "colorscale": [
             [
              0,
              "#0d0887"
             ],
             [
              0.1111111111111111,
              "#46039f"
             ],
             [
              0.2222222222222222,
              "#7201a8"
             ],
             [
              0.3333333333333333,
              "#9c179e"
             ],
             [
              0.4444444444444444,
              "#bd3786"
             ],
             [
              0.5555555555555556,
              "#d8576b"
             ],
             [
              0.6666666666666666,
              "#ed7953"
             ],
             [
              0.7777777777777778,
              "#fb9f3a"
             ],
             [
              0.8888888888888888,
              "#fdca26"
             ],
             [
              1,
              "#f0f921"
             ]
            ],
            "type": "histogram2d"
           }
          ],
          "histogram2dcontour": [
           {
            "colorbar": {
             "outlinewidth": 0,
             "ticks": ""
            },
            "colorscale": [
             [
              0,
              "#0d0887"
             ],
             [
              0.1111111111111111,
              "#46039f"
             ],
             [
              0.2222222222222222,
              "#7201a8"
             ],
             [
              0.3333333333333333,
              "#9c179e"
             ],
             [
              0.4444444444444444,
              "#bd3786"
             ],
             [
              0.5555555555555556,
              "#d8576b"
             ],
             [
              0.6666666666666666,
              "#ed7953"
             ],
             [
              0.7777777777777778,
              "#fb9f3a"
             ],
             [
              0.8888888888888888,
              "#fdca26"
             ],
             [
              1,
              "#f0f921"
             ]
            ],
            "type": "histogram2dcontour"
           }
          ],
          "mesh3d": [
           {
            "colorbar": {
             "outlinewidth": 0,
             "ticks": ""
            },
            "type": "mesh3d"
           }
          ],
          "parcoords": [
           {
            "line": {
             "colorbar": {
              "outlinewidth": 0,
              "ticks": ""
             }
            },
            "type": "parcoords"
           }
          ],
          "pie": [
           {
            "automargin": true,
            "type": "pie"
           }
          ],
          "scatter": [
           {
            "fillpattern": {
             "fillmode": "overlay",
             "size": 10,
             "solidity": 0.2
            },
            "type": "scatter"
           }
          ],
          "scatter3d": [
           {
            "line": {
             "colorbar": {
              "outlinewidth": 0,
              "ticks": ""
             }
            },
            "marker": {
             "colorbar": {
              "outlinewidth": 0,
              "ticks": ""
             }
            },
            "type": "scatter3d"
           }
          ],
          "scattercarpet": [
           {
            "marker": {
             "colorbar": {
              "outlinewidth": 0,
              "ticks": ""
             }
            },
            "type": "scattercarpet"
           }
          ],
          "scattergeo": [
           {
            "marker": {
             "colorbar": {
              "outlinewidth": 0,
              "ticks": ""
             }
            },
            "type": "scattergeo"
           }
          ],
          "scattergl": [
           {
            "marker": {
             "colorbar": {
              "outlinewidth": 0,
              "ticks": ""
             }
            },
            "type": "scattergl"
           }
          ],
          "scattermap": [
           {
            "marker": {
             "colorbar": {
              "outlinewidth": 0,
              "ticks": ""
             }
            },
            "type": "scattermap"
           }
          ],
          "scattermapbox": [
           {
            "marker": {
             "colorbar": {
              "outlinewidth": 0,
              "ticks": ""
             }
            },
            "type": "scattermapbox"
           }
          ],
          "scatterpolar": [
           {
            "marker": {
             "colorbar": {
              "outlinewidth": 0,
              "ticks": ""
             }
            },
            "type": "scatterpolar"
           }
          ],
          "scatterpolargl": [
           {
            "marker": {
             "colorbar": {
              "outlinewidth": 0,
              "ticks": ""
             }
            },
            "type": "scatterpolargl"
           }
          ],
          "scatterternary": [
           {
            "marker": {
             "colorbar": {
              "outlinewidth": 0,
              "ticks": ""
             }
            },
            "type": "scatterternary"
           }
          ],
          "surface": [
           {
            "colorbar": {
             "outlinewidth": 0,
             "ticks": ""
            },
            "colorscale": [
             [
              0,
              "#0d0887"
             ],
             [
              0.1111111111111111,
              "#46039f"
             ],
             [
              0.2222222222222222,
              "#7201a8"
             ],
             [
              0.3333333333333333,
              "#9c179e"
             ],
             [
              0.4444444444444444,
              "#bd3786"
             ],
             [
              0.5555555555555556,
              "#d8576b"
             ],
             [
              0.6666666666666666,
              "#ed7953"
             ],
             [
              0.7777777777777778,
              "#fb9f3a"
             ],
             [
              0.8888888888888888,
              "#fdca26"
             ],
             [
              1,
              "#f0f921"
             ]
            ],
            "type": "surface"
           }
          ],
          "table": [
           {
            "cells": {
             "fill": {
              "color": "#EBF0F8"
             },
             "line": {
              "color": "white"
             }
            },
            "header": {
             "fill": {
              "color": "#C8D4E3"
             },
             "line": {
              "color": "white"
             }
            },
            "type": "table"
           }
          ]
         },
         "layout": {
          "annotationdefaults": {
           "arrowcolor": "#2a3f5f",
           "arrowhead": 0,
           "arrowwidth": 1
          },
          "autotypenumbers": "strict",
          "coloraxis": {
           "colorbar": {
            "outlinewidth": 0,
            "ticks": ""
           }
          },
          "colorscale": {
           "diverging": [
            [
             0,
             "#8e0152"
            ],
            [
             0.1,
             "#c51b7d"
            ],
            [
             0.2,
             "#de77ae"
            ],
            [
             0.3,
             "#f1b6da"
            ],
            [
             0.4,
             "#fde0ef"
            ],
            [
             0.5,
             "#f7f7f7"
            ],
            [
             0.6,
             "#e6f5d0"
            ],
            [
             0.7,
             "#b8e186"
            ],
            [
             0.8,
             "#7fbc41"
            ],
            [
             0.9,
             "#4d9221"
            ],
            [
             1,
             "#276419"
            ]
           ],
           "sequential": [
            [
             0,
             "#0d0887"
            ],
            [
             0.1111111111111111,
             "#46039f"
            ],
            [
             0.2222222222222222,
             "#7201a8"
            ],
            [
             0.3333333333333333,
             "#9c179e"
            ],
            [
             0.4444444444444444,
             "#bd3786"
            ],
            [
             0.5555555555555556,
             "#d8576b"
            ],
            [
             0.6666666666666666,
             "#ed7953"
            ],
            [
             0.7777777777777778,
             "#fb9f3a"
            ],
            [
             0.8888888888888888,
             "#fdca26"
            ],
            [
             1,
             "#f0f921"
            ]
           ],
           "sequentialminus": [
            [
             0,
             "#0d0887"
            ],
            [
             0.1111111111111111,
             "#46039f"
            ],
            [
             0.2222222222222222,
             "#7201a8"
            ],
            [
             0.3333333333333333,
             "#9c179e"
            ],
            [
             0.4444444444444444,
             "#bd3786"
            ],
            [
             0.5555555555555556,
             "#d8576b"
            ],
            [
             0.6666666666666666,
             "#ed7953"
            ],
            [
             0.7777777777777778,
             "#fb9f3a"
            ],
            [
             0.8888888888888888,
             "#fdca26"
            ],
            [
             1,
             "#f0f921"
            ]
           ]
          },
          "colorway": [
           "#636efa",
           "#EF553B",
           "#00cc96",
           "#ab63fa",
           "#FFA15A",
           "#19d3f3",
           "#FF6692",
           "#B6E880",
           "#FF97FF",
           "#FECB52"
          ],
          "font": {
           "color": "#2a3f5f"
          },
          "geo": {
           "bgcolor": "white",
           "lakecolor": "white",
           "landcolor": "#E5ECF6",
           "showlakes": true,
           "showland": true,
           "subunitcolor": "white"
          },
          "hoverlabel": {
           "align": "left"
          },
          "hovermode": "closest",
          "mapbox": {
           "style": "light"
          },
          "paper_bgcolor": "white",
          "plot_bgcolor": "#E5ECF6",
          "polar": {
           "angularaxis": {
            "gridcolor": "white",
            "linecolor": "white",
            "ticks": ""
           },
           "bgcolor": "#E5ECF6",
           "radialaxis": {
            "gridcolor": "white",
            "linecolor": "white",
            "ticks": ""
           }
          },
          "scene": {
           "xaxis": {
            "backgroundcolor": "#E5ECF6",
            "gridcolor": "white",
            "gridwidth": 2,
            "linecolor": "white",
            "showbackground": true,
            "ticks": "",
            "zerolinecolor": "white"
           },
           "yaxis": {
            "backgroundcolor": "#E5ECF6",
            "gridcolor": "white",
            "gridwidth": 2,
            "linecolor": "white",
            "showbackground": true,
            "ticks": "",
            "zerolinecolor": "white"
           },
           "zaxis": {
            "backgroundcolor": "#E5ECF6",
            "gridcolor": "white",
            "gridwidth": 2,
            "linecolor": "white",
            "showbackground": true,
            "ticks": "",
            "zerolinecolor": "white"
           }
          },
          "shapedefaults": {
           "line": {
            "color": "#2a3f5f"
           }
          },
          "ternary": {
           "aaxis": {
            "gridcolor": "white",
            "linecolor": "white",
            "ticks": ""
           },
           "baxis": {
            "gridcolor": "white",
            "linecolor": "white",
            "ticks": ""
           },
           "bgcolor": "#E5ECF6",
           "caxis": {
            "gridcolor": "white",
            "linecolor": "white",
            "ticks": ""
           }
          },
          "title": {
           "x": 0.05
          },
          "xaxis": {
           "automargin": true,
           "gridcolor": "white",
           "linecolor": "white",
           "ticks": "",
           "title": {
            "standoff": 15
           },
           "zerolinecolor": "white",
           "zerolinewidth": 2
          },
          "yaxis": {
           "automargin": true,
           "gridcolor": "white",
           "linecolor": "white",
           "ticks": "",
           "title": {
            "standoff": 15
           },
           "zerolinecolor": "white",
           "zerolinewidth": 2
          }
         }
        },
        "title": {
         "text": "Japan_Nikkei225 Price with Buy/Sell Signals"
        },
        "xaxis": {
         "title": {
          "text": "Trading Steps"
         }
        },
        "yaxis": {
         "title": {
          "text": "Price ($)"
         }
        }
       }
      }
     },
     "metadata": {},
     "output_type": "display_data"
    },
    {
     "name": "stderr",
     "output_type": "stream",
     "text": [
      "[*********************100%***********************]  1 of 1 completed"
     ]
    },
    {
     "name": "stdout",
     "output_type": "stream",
     "text": [
      "\n",
      "============================================\n",
      "Testing on UK_FTSE100 (^FTSE)\n",
      "\n",
      "Fetching data for ^FTSE from 2024-01-01 to 2025-01-01...\n",
      "Data shape after preparation: (254, 17)\n",
      "Initial Balance: $10000.00\n",
      "Final Portfolio Value: $10602.08\n",
      "Cumulative Return: 6.02%\n"
     ]
    },
    {
     "name": "stderr",
     "output_type": "stream",
     "text": [
      "\n"
     ]
    },
    {
     "data": {
      "application/vnd.plotly.v1+json": {
       "config": {
        "plotlyServerURL": "https://plot.ly"
       },
       "data": [
        {
         "mode": "lines+markers",
         "name": "Portfolio Value",
         "type": "scatter",
         "x": [
          0,
          1,
          2,
          3,
          4,
          5,
          6,
          7,
          8,
          9,
          10,
          11,
          12,
          13,
          14,
          15,
          16,
          17,
          18,
          19,
          20,
          21,
          22,
          23,
          24,
          25,
          26,
          27,
          28,
          29,
          30,
          31,
          32,
          33,
          34,
          35,
          36,
          37,
          38,
          39,
          40,
          41,
          42,
          43,
          44,
          45,
          46,
          47,
          48,
          49,
          50,
          51,
          52,
          53,
          54,
          55,
          56,
          57,
          58,
          59,
          60,
          61,
          62,
          63,
          64,
          65,
          66,
          67,
          68,
          69,
          70,
          71,
          72,
          73,
          74,
          75,
          76,
          77,
          78,
          79,
          80,
          81,
          82,
          83,
          84,
          85,
          86,
          87,
          88,
          89,
          90,
          91,
          92,
          93,
          94,
          95,
          96,
          97,
          98,
          99,
          100,
          101,
          102,
          103,
          104,
          105,
          106,
          107,
          108,
          109,
          110,
          111,
          112,
          113,
          114,
          115,
          116,
          117,
          118,
          119,
          120,
          121,
          122,
          123,
          124,
          125,
          126,
          127,
          128,
          129,
          130,
          131,
          132,
          133,
          134,
          135,
          136,
          137,
          138,
          139,
          140,
          141,
          142,
          143,
          144,
          145,
          146,
          147,
          148,
          149,
          150,
          151,
          152,
          153,
          154,
          155,
          156,
          157,
          158,
          159,
          160,
          161,
          162,
          163,
          164,
          165,
          166,
          167,
          168,
          169,
          170,
          171,
          172,
          173,
          174,
          175,
          176,
          177,
          178,
          179,
          180,
          181,
          182,
          183,
          184,
          185,
          186,
          187,
          188,
          189,
          190,
          191,
          192,
          193,
          194,
          195,
          196,
          197,
          198,
          199,
          200,
          201,
          202,
          203,
          204,
          205,
          206,
          207,
          208,
          209,
          210,
          211,
          212,
          213,
          214,
          215,
          216,
          217,
          218,
          219,
          220,
          221,
          222,
          223,
          224,
          225,
          226,
          227,
          228,
          229,
          230,
          231,
          232,
          233,
          234,
          235,
          236,
          237,
          238,
          239,
          240,
          241,
          242,
          243,
          244,
          245,
          246,
          247,
          248,
          249,
          250,
          251,
          252,
          253
         ],
         "y": [
          10000,
          10000,
          9949.23240910121,
          10002.072262716118,
          9958.686910129185,
          9964.644428300848,
          9951.434306805673,
          9909.732311969825,
          9812.342287970278,
          9874.894647858253,
          9836.04209330279,
          9788.641850271968,
          9643.59231326491,
          9660.169782628052,
          9663.79576810691,
          9697.209344444085,
          9694.619174140387,
          9749.012750518033,
          9751.602920821731,
          9888.10476935343,
          9884.996691462151,
          9928.51104667163,
          9882.27688617011,
          9871.39829736774,
          9862.720973904034,
          9859.353626036069,
          9947.549051350126,
          9879.945353477304,
          9836.81927086706,
          9807.161947362883,
          9808.586667503076,
          9729.067933286926,
          9801.7223367788,
          9839.409441170757,
          9987.308418458202,
          10009.065596062941,
          9997.021557097067,
          9923.589976040925,
          9952.081849381597,
          9980.31445274558,
          9951.822579404909,
          9950.139221653824,
          9875.024282846598,
          9881.499708605841,
          9949.491679077899,
          9894.838832723564,
          9902.48034101211,
          9945.347153645665,
          9962.442530596387,
          9919.963990562068,
          9932.26729950463,
          10034.060486547303,
          10065.66107014505,
          10028.103600741437,
          10007.640875922749,
          10001.424720140192,
          10021.75717760474,
          10020.591727441235,
          10208.63834443599,
          10271.190704323966,
          10253.966324750696,
          10271.32033931231,
          10272.615424464158,
          10299.294305065401,
          10276.630314908049,
          10279.608757810982,
          10329.46953615716,
          10245.677906252024,
          10287.508903710419,
          10276.241409943017,
          10310.43216384446,
          10261.99547327268,
          10354.982966594898,
          10316.000777051091,
          10128.08379504468,
          10128.08379504468,
          10146.861077633013,
          10165.034962105034,
          10309.296559708444,
          10334.500456336222,
          10329.021362606594,
          10377.72225457818,
          10455.354547934288,
          10464.56800975426,
          10460.850216562905,
          10431.463795804126,
          10496.94087157782,
          10549.976709710605,
          10678.665556792947,
          10730.554228221648,
          10765.620134677498,
          10832.924411154,
          10808.776883923334,
          10808.776883923334,
          10820.126860240762,
          10820.126860240762,
          10820.126860240762,
          10820.126860240762,
          10820.126860240762,
          10820.126860240762,
          10820.126860240762,
          10820.126860240762,
          10820.126860240762,
          10820.126860240762,
          10820.126860240762,
          10820.126860240762,
          10820.126860240762,
          10820.126860240762,
          10820.126860240762,
          10820.126860240762,
          10820.126860240762,
          10820.126860240762,
          10820.126860240762,
          10820.126860240762,
          10786.015700965341,
          10774.952387642286,
          10771.85754093277,
          10820.502623029195,
          10836.453250068014,
          10919.913679079707,
          10875.399440177727,
          10932.45442157653,
          10888.180649810218,
          10858.592992169726,
          10798.512028405945,
          10777.957709743065,
          10781.518273838077,
          10721.348792684512,
          10787.192585532506,
          10879.845020127112,
          10830.477755165135,
          10816.748391637608,
          10745.857591704216,
          10816.749480854987,
          10856.089758133186,
          10895.167184918531,
          10802.887505834009,
          10778.992486247094,
          10808.82825306986,
          10831.799580584448,
          10766.847356589524,
          10823.7458261953,
          10782.292863593253,
          10764.207028357452,
          10807.375945848571,
          10938.468441016528,
          10947.313785764316,
          10923.550865681036,
          11047.117534539713,
          10935.432325682696,
          10791.930433582203,
          10572.123422508836,
          10572.123422508836,
          10664.453307172993,
          10642.943509030812,
          10669.380083490214,
          10721.088672603126,
          10752.601862064608,
          10811.611481213433,
          10897.510966456854,
          10850.69115769638,
          10909.979233067716,
          10800.941492632346,
          10814.115384362263,
          10820.117383564988,
          10872.064274478354,
          10895.169395010586,
          10893.081205815857,
          10939.685665694826,
          10935.769181068645,
          10919.058978392795,
          10833.809789232353,
          10796.080199090517,
          10759.65738835989,
          10681.06576220954,
          10797.647059477225,
          10713.050306597095,
          10697.254153056521,
          10758.743134917851,
          10800.64955461413,
          10807.569793690864,
          10848.693473827136,
          10775.323334379413,
          10873.236881262683,
          10744.382383645838,
          10783.156407689024,
          10813.313275420416,
          10794.906034827178,
          10816.055620549405,
          10862.922817269931,
          10753.520977484122,
          10805.350148485653,
          10823.888705957594,
          10812.92187619907,
          10810.440889135622,
          10840.467717158075,
          10692.945243010881,
          10762.268177814392,
          10754.435092241982,
          10775.323320435678,
          10826.23837665854,
          10769.578547715419,
          10873.758330850455,
          10946.867129530216,
          10911.879602288094,
          10859.52899034271,
          10844.254218492391,
          10781.71957536928,
          10795.82014933343,
          10768.925790583531,
          10816.968460447126,
          10730.804519145695,
          10652.474300875256,
          10587.851344899182,
          10675.451479380597,
          10684.590079215599,
          10669.184628447429,
          10661.743579628097,
          10627.800208812374,
          10538.633202233112,
          10607.564737749155,
          10477.796110125613,
          10483.670924305257,
          10537.066967593422,
          10527.144931709508,
          10586.80655101457,
          10573.36000909775,
          10555.213488345586,
          10639.027121500298,
          10786.288875286795,
          10824.932862395997,
          10781.719575369294,
          10802.869161399269,
          10811.224962643493,
          10819.188089676058,
          10852.610019736687,
          10913.316432926345,
          10882.505531390003,
          10900.261290304914,
          10846.995288476453,
          10903.785158879684,
          10810.180806217033,
          10837.856688641452,
          10851.173189098567,
          10836.15977508392,
          10786.288875286795,
          10698.95073609918,
          10704.041476771774,
          10581.584493965996,
          10554.560731214515,
          10578.190666850933,
          10622.96955105919,
          10639.679878631368,
          10602.081322864899
         ]
        },
        {
         "marker": {
          "color": "green",
          "size": 10,
          "symbol": "triangle-up"
         },
         "mode": "markers",
         "name": "Buy Signal",
         "type": "scatter",
         "x": [
          0,
          1,
          2,
          3,
          4,
          5,
          6,
          7,
          8,
          9,
          10,
          11,
          12,
          13,
          14,
          15,
          16,
          17,
          18,
          19,
          20,
          21,
          22,
          23,
          24,
          25,
          26,
          27,
          28,
          29,
          30,
          31,
          32,
          33,
          34,
          35,
          36,
          37,
          38,
          39,
          40,
          41,
          42,
          43,
          44,
          45,
          46,
          47,
          48,
          49,
          50,
          51,
          52,
          53,
          54,
          55,
          56,
          57,
          58,
          59,
          60,
          61,
          62,
          63,
          64,
          65,
          66,
          67,
          68,
          69,
          70,
          71,
          72,
          74,
          75,
          76,
          77,
          78,
          79,
          80,
          81,
          82,
          83,
          84,
          85,
          86,
          87,
          88,
          89,
          90,
          92,
          112,
          115,
          116,
          117,
          118,
          119,
          120,
          121,
          122,
          124,
          125,
          127,
          128,
          129,
          130,
          131,
          132,
          133,
          134,
          136,
          137,
          138,
          139,
          140,
          141,
          142,
          143,
          144,
          145,
          146,
          147,
          151,
          152,
          153,
          154,
          155,
          156,
          157,
          158,
          159,
          160,
          162,
          163,
          164,
          165,
          166,
          167,
          168,
          174,
          177,
          178,
          179,
          180,
          182,
          184,
          185,
          186,
          187,
          188,
          190,
          191,
          192,
          193,
          194,
          196,
          197,
          198,
          199,
          201,
          202,
          203,
          207,
          209,
          213,
          214,
          215,
          216,
          217,
          219,
          221,
          222,
          223,
          224,
          225,
          226,
          227,
          228,
          229,
          230,
          231,
          232,
          233,
          234,
          235,
          236,
          237,
          239,
          241,
          242,
          250,
          251,
          252
         ],
         "y": [
          10000,
          10000,
          9949.23240910121,
          10002.072262716118,
          9958.686910129185,
          9964.644428300848,
          9951.434306805673,
          9909.732311969825,
          9812.342287970278,
          9874.894647858253,
          9836.04209330279,
          9788.641850271968,
          9643.59231326491,
          9660.169782628052,
          9663.79576810691,
          9697.209344444085,
          9694.619174140387,
          9749.012750518033,
          9751.602920821731,
          9888.10476935343,
          9884.996691462151,
          9928.51104667163,
          9882.27688617011,
          9871.39829736774,
          9862.720973904034,
          9859.353626036069,
          9947.549051350126,
          9879.945353477304,
          9836.81927086706,
          9807.161947362883,
          9808.586667503076,
          9729.067933286926,
          9801.7223367788,
          9839.409441170757,
          9987.308418458202,
          10009.065596062941,
          9997.021557097067,
          9923.589976040925,
          9952.081849381597,
          9980.31445274558,
          9951.822579404909,
          9950.139221653824,
          9875.024282846598,
          9881.499708605841,
          9949.491679077899,
          9894.838832723564,
          9902.48034101211,
          9945.347153645665,
          9962.442530596387,
          9919.963990562068,
          9932.26729950463,
          10034.060486547303,
          10065.66107014505,
          10028.103600741437,
          10007.640875922749,
          10001.424720140192,
          10021.75717760474,
          10020.591727441235,
          10208.63834443599,
          10271.190704323966,
          10253.966324750696,
          10271.32033931231,
          10272.615424464158,
          10299.294305065401,
          10276.630314908049,
          10279.608757810982,
          10329.46953615716,
          10245.677906252024,
          10287.508903710419,
          10276.241409943017,
          10310.43216384446,
          10261.99547327268,
          10354.982966594898,
          10128.08379504468,
          10128.08379504468,
          10146.861077633013,
          10165.034962105034,
          10309.296559708444,
          10334.500456336222,
          10329.021362606594,
          10377.72225457818,
          10455.354547934288,
          10464.56800975426,
          10460.850216562905,
          10431.463795804126,
          10496.94087157782,
          10549.976709710605,
          10678.665556792947,
          10730.554228221648,
          10765.620134677498,
          10808.776883923334,
          10820.126860240762,
          10774.952387642286,
          10771.85754093277,
          10820.502623029195,
          10836.453250068014,
          10919.913679079707,
          10875.399440177727,
          10932.45442157653,
          10888.180649810218,
          10798.512028405945,
          10777.957709743065,
          10721.348792684512,
          10787.192585532506,
          10879.845020127112,
          10830.477755165135,
          10816.748391637608,
          10745.857591704216,
          10816.749480854987,
          10856.089758133186,
          10802.887505834009,
          10778.992486247094,
          10808.82825306986,
          10831.799580584448,
          10766.847356589524,
          10823.7458261953,
          10782.292863593253,
          10764.207028357452,
          10807.375945848571,
          10938.468441016528,
          10947.313785764316,
          10923.550865681036,
          10572.123422508836,
          10572.123422508836,
          10664.453307172993,
          10642.943509030812,
          10669.380083490214,
          10721.088672603126,
          10752.601862064608,
          10811.611481213433,
          10897.510966456854,
          10850.69115769638,
          10800.941492632346,
          10814.115384362263,
          10820.117383564988,
          10872.064274478354,
          10895.169395010586,
          10893.081205815857,
          10939.685665694826,
          10681.06576220954,
          10697.254153056521,
          10758.743134917851,
          10800.64955461413,
          10807.569793690864,
          10775.323334379413,
          10744.382383645838,
          10783.156407689024,
          10813.313275420416,
          10794.906034827178,
          10816.055620549405,
          10753.520977484122,
          10805.350148485653,
          10823.888705957594,
          10812.92187619907,
          10810.440889135622,
          10692.945243010881,
          10762.268177814392,
          10754.435092241982,
          10775.323320435678,
          10769.578547715419,
          10873.758330850455,
          10946.867129530216,
          10781.71957536928,
          10768.925790583531,
          10587.851344899182,
          10675.451479380597,
          10684.590079215599,
          10669.184628447429,
          10661.743579628097,
          10538.633202233112,
          10477.796110125613,
          10483.670924305257,
          10537.066967593422,
          10527.144931709508,
          10586.80655101457,
          10573.36000909775,
          10555.213488345586,
          10639.027121500298,
          10786.288875286795,
          10824.932862395997,
          10781.719575369294,
          10802.869161399269,
          10811.224962643493,
          10819.188089676058,
          10852.610019736687,
          10913.316432926345,
          10882.505531390003,
          10846.995288476453,
          10810.180806217033,
          10837.856688641452,
          10578.190666850933,
          10622.96955105919,
          10639.679878631368
         ]
        },
        {
         "marker": {
          "color": "red",
          "size": 10,
          "symbol": "triangle-down"
         },
         "mode": "markers",
         "name": "Sell Signal",
         "type": "scatter",
         "x": [
          73,
          91,
          93,
          94,
          95,
          96,
          97,
          98,
          99,
          100,
          101,
          102,
          103,
          150
         ],
         "y": [
          10316.000777051091,
          10832.924411154,
          10808.776883923334,
          10820.126860240762,
          10820.126860240762,
          10820.126860240762,
          10820.126860240762,
          10820.126860240762,
          10820.126860240762,
          10820.126860240762,
          10820.126860240762,
          10820.126860240762,
          10820.126860240762,
          10791.930433582203
         ]
        }
       ],
       "layout": {
        "template": {
         "data": {
          "bar": [
           {
            "error_x": {
             "color": "#2a3f5f"
            },
            "error_y": {
             "color": "#2a3f5f"
            },
            "marker": {
             "line": {
              "color": "#E5ECF6",
              "width": 0.5
             },
             "pattern": {
              "fillmode": "overlay",
              "size": 10,
              "solidity": 0.2
             }
            },
            "type": "bar"
           }
          ],
          "barpolar": [
           {
            "marker": {
             "line": {
              "color": "#E5ECF6",
              "width": 0.5
             },
             "pattern": {
              "fillmode": "overlay",
              "size": 10,
              "solidity": 0.2
             }
            },
            "type": "barpolar"
           }
          ],
          "carpet": [
           {
            "aaxis": {
             "endlinecolor": "#2a3f5f",
             "gridcolor": "white",
             "linecolor": "white",
             "minorgridcolor": "white",
             "startlinecolor": "#2a3f5f"
            },
            "baxis": {
             "endlinecolor": "#2a3f5f",
             "gridcolor": "white",
             "linecolor": "white",
             "minorgridcolor": "white",
             "startlinecolor": "#2a3f5f"
            },
            "type": "carpet"
           }
          ],
          "choropleth": [
           {
            "colorbar": {
             "outlinewidth": 0,
             "ticks": ""
            },
            "type": "choropleth"
           }
          ],
          "contour": [
           {
            "colorbar": {
             "outlinewidth": 0,
             "ticks": ""
            },
            "colorscale": [
             [
              0,
              "#0d0887"
             ],
             [
              0.1111111111111111,
              "#46039f"
             ],
             [
              0.2222222222222222,
              "#7201a8"
             ],
             [
              0.3333333333333333,
              "#9c179e"
             ],
             [
              0.4444444444444444,
              "#bd3786"
             ],
             [
              0.5555555555555556,
              "#d8576b"
             ],
             [
              0.6666666666666666,
              "#ed7953"
             ],
             [
              0.7777777777777778,
              "#fb9f3a"
             ],
             [
              0.8888888888888888,
              "#fdca26"
             ],
             [
              1,
              "#f0f921"
             ]
            ],
            "type": "contour"
           }
          ],
          "contourcarpet": [
           {
            "colorbar": {
             "outlinewidth": 0,
             "ticks": ""
            },
            "type": "contourcarpet"
           }
          ],
          "heatmap": [
           {
            "colorbar": {
             "outlinewidth": 0,
             "ticks": ""
            },
            "colorscale": [
             [
              0,
              "#0d0887"
             ],
             [
              0.1111111111111111,
              "#46039f"
             ],
             [
              0.2222222222222222,
              "#7201a8"
             ],
             [
              0.3333333333333333,
              "#9c179e"
             ],
             [
              0.4444444444444444,
              "#bd3786"
             ],
             [
              0.5555555555555556,
              "#d8576b"
             ],
             [
              0.6666666666666666,
              "#ed7953"
             ],
             [
              0.7777777777777778,
              "#fb9f3a"
             ],
             [
              0.8888888888888888,
              "#fdca26"
             ],
             [
              1,
              "#f0f921"
             ]
            ],
            "type": "heatmap"
           }
          ],
          "histogram": [
           {
            "marker": {
             "pattern": {
              "fillmode": "overlay",
              "size": 10,
              "solidity": 0.2
             }
            },
            "type": "histogram"
           }
          ],
          "histogram2d": [
           {
            "colorbar": {
             "outlinewidth": 0,
             "ticks": ""
            },
            "colorscale": [
             [
              0,
              "#0d0887"
             ],
             [
              0.1111111111111111,
              "#46039f"
             ],
             [
              0.2222222222222222,
              "#7201a8"
             ],
             [
              0.3333333333333333,
              "#9c179e"
             ],
             [
              0.4444444444444444,
              "#bd3786"
             ],
             [
              0.5555555555555556,
              "#d8576b"
             ],
             [
              0.6666666666666666,
              "#ed7953"
             ],
             [
              0.7777777777777778,
              "#fb9f3a"
             ],
             [
              0.8888888888888888,
              "#fdca26"
             ],
             [
              1,
              "#f0f921"
             ]
            ],
            "type": "histogram2d"
           }
          ],
          "histogram2dcontour": [
           {
            "colorbar": {
             "outlinewidth": 0,
             "ticks": ""
            },
            "colorscale": [
             [
              0,
              "#0d0887"
             ],
             [
              0.1111111111111111,
              "#46039f"
             ],
             [
              0.2222222222222222,
              "#7201a8"
             ],
             [
              0.3333333333333333,
              "#9c179e"
             ],
             [
              0.4444444444444444,
              "#bd3786"
             ],
             [
              0.5555555555555556,
              "#d8576b"
             ],
             [
              0.6666666666666666,
              "#ed7953"
             ],
             [
              0.7777777777777778,
              "#fb9f3a"
             ],
             [
              0.8888888888888888,
              "#fdca26"
             ],
             [
              1,
              "#f0f921"
             ]
            ],
            "type": "histogram2dcontour"
           }
          ],
          "mesh3d": [
           {
            "colorbar": {
             "outlinewidth": 0,
             "ticks": ""
            },
            "type": "mesh3d"
           }
          ],
          "parcoords": [
           {
            "line": {
             "colorbar": {
              "outlinewidth": 0,
              "ticks": ""
             }
            },
            "type": "parcoords"
           }
          ],
          "pie": [
           {
            "automargin": true,
            "type": "pie"
           }
          ],
          "scatter": [
           {
            "fillpattern": {
             "fillmode": "overlay",
             "size": 10,
             "solidity": 0.2
            },
            "type": "scatter"
           }
          ],
          "scatter3d": [
           {
            "line": {
             "colorbar": {
              "outlinewidth": 0,
              "ticks": ""
             }
            },
            "marker": {
             "colorbar": {
              "outlinewidth": 0,
              "ticks": ""
             }
            },
            "type": "scatter3d"
           }
          ],
          "scattercarpet": [
           {
            "marker": {
             "colorbar": {
              "outlinewidth": 0,
              "ticks": ""
             }
            },
            "type": "scattercarpet"
           }
          ],
          "scattergeo": [
           {
            "marker": {
             "colorbar": {
              "outlinewidth": 0,
              "ticks": ""
             }
            },
            "type": "scattergeo"
           }
          ],
          "scattergl": [
           {
            "marker": {
             "colorbar": {
              "outlinewidth": 0,
              "ticks": ""
             }
            },
            "type": "scattergl"
           }
          ],
          "scattermap": [
           {
            "marker": {
             "colorbar": {
              "outlinewidth": 0,
              "ticks": ""
             }
            },
            "type": "scattermap"
           }
          ],
          "scattermapbox": [
           {
            "marker": {
             "colorbar": {
              "outlinewidth": 0,
              "ticks": ""
             }
            },
            "type": "scattermapbox"
           }
          ],
          "scatterpolar": [
           {
            "marker": {
             "colorbar": {
              "outlinewidth": 0,
              "ticks": ""
             }
            },
            "type": "scatterpolar"
           }
          ],
          "scatterpolargl": [
           {
            "marker": {
             "colorbar": {
              "outlinewidth": 0,
              "ticks": ""
             }
            },
            "type": "scatterpolargl"
           }
          ],
          "scatterternary": [
           {
            "marker": {
             "colorbar": {
              "outlinewidth": 0,
              "ticks": ""
             }
            },
            "type": "scatterternary"
           }
          ],
          "surface": [
           {
            "colorbar": {
             "outlinewidth": 0,
             "ticks": ""
            },
            "colorscale": [
             [
              0,
              "#0d0887"
             ],
             [
              0.1111111111111111,
              "#46039f"
             ],
             [
              0.2222222222222222,
              "#7201a8"
             ],
             [
              0.3333333333333333,
              "#9c179e"
             ],
             [
              0.4444444444444444,
              "#bd3786"
             ],
             [
              0.5555555555555556,
              "#d8576b"
             ],
             [
              0.6666666666666666,
              "#ed7953"
             ],
             [
              0.7777777777777778,
              "#fb9f3a"
             ],
             [
              0.8888888888888888,
              "#fdca26"
             ],
             [
              1,
              "#f0f921"
             ]
            ],
            "type": "surface"
           }
          ],
          "table": [
           {
            "cells": {
             "fill": {
              "color": "#EBF0F8"
             },
             "line": {
              "color": "white"
             }
            },
            "header": {
             "fill": {
              "color": "#C8D4E3"
             },
             "line": {
              "color": "white"
             }
            },
            "type": "table"
           }
          ]
         },
         "layout": {
          "annotationdefaults": {
           "arrowcolor": "#2a3f5f",
           "arrowhead": 0,
           "arrowwidth": 1
          },
          "autotypenumbers": "strict",
          "coloraxis": {
           "colorbar": {
            "outlinewidth": 0,
            "ticks": ""
           }
          },
          "colorscale": {
           "diverging": [
            [
             0,
             "#8e0152"
            ],
            [
             0.1,
             "#c51b7d"
            ],
            [
             0.2,
             "#de77ae"
            ],
            [
             0.3,
             "#f1b6da"
            ],
            [
             0.4,
             "#fde0ef"
            ],
            [
             0.5,
             "#f7f7f7"
            ],
            [
             0.6,
             "#e6f5d0"
            ],
            [
             0.7,
             "#b8e186"
            ],
            [
             0.8,
             "#7fbc41"
            ],
            [
             0.9,
             "#4d9221"
            ],
            [
             1,
             "#276419"
            ]
           ],
           "sequential": [
            [
             0,
             "#0d0887"
            ],
            [
             0.1111111111111111,
             "#46039f"
            ],
            [
             0.2222222222222222,
             "#7201a8"
            ],
            [
             0.3333333333333333,
             "#9c179e"
            ],
            [
             0.4444444444444444,
             "#bd3786"
            ],
            [
             0.5555555555555556,
             "#d8576b"
            ],
            [
             0.6666666666666666,
             "#ed7953"
            ],
            [
             0.7777777777777778,
             "#fb9f3a"
            ],
            [
             0.8888888888888888,
             "#fdca26"
            ],
            [
             1,
             "#f0f921"
            ]
           ],
           "sequentialminus": [
            [
             0,
             "#0d0887"
            ],
            [
             0.1111111111111111,
             "#46039f"
            ],
            [
             0.2222222222222222,
             "#7201a8"
            ],
            [
             0.3333333333333333,
             "#9c179e"
            ],
            [
             0.4444444444444444,
             "#bd3786"
            ],
            [
             0.5555555555555556,
             "#d8576b"
            ],
            [
             0.6666666666666666,
             "#ed7953"
            ],
            [
             0.7777777777777778,
             "#fb9f3a"
            ],
            [
             0.8888888888888888,
             "#fdca26"
            ],
            [
             1,
             "#f0f921"
            ]
           ]
          },
          "colorway": [
           "#636efa",
           "#EF553B",
           "#00cc96",
           "#ab63fa",
           "#FFA15A",
           "#19d3f3",
           "#FF6692",
           "#B6E880",
           "#FF97FF",
           "#FECB52"
          ],
          "font": {
           "color": "#2a3f5f"
          },
          "geo": {
           "bgcolor": "white",
           "lakecolor": "white",
           "landcolor": "#E5ECF6",
           "showlakes": true,
           "showland": true,
           "subunitcolor": "white"
          },
          "hoverlabel": {
           "align": "left"
          },
          "hovermode": "closest",
          "mapbox": {
           "style": "light"
          },
          "paper_bgcolor": "white",
          "plot_bgcolor": "#E5ECF6",
          "polar": {
           "angularaxis": {
            "gridcolor": "white",
            "linecolor": "white",
            "ticks": ""
           },
           "bgcolor": "#E5ECF6",
           "radialaxis": {
            "gridcolor": "white",
            "linecolor": "white",
            "ticks": ""
           }
          },
          "scene": {
           "xaxis": {
            "backgroundcolor": "#E5ECF6",
            "gridcolor": "white",
            "gridwidth": 2,
            "linecolor": "white",
            "showbackground": true,
            "ticks": "",
            "zerolinecolor": "white"
           },
           "yaxis": {
            "backgroundcolor": "#E5ECF6",
            "gridcolor": "white",
            "gridwidth": 2,
            "linecolor": "white",
            "showbackground": true,
            "ticks": "",
            "zerolinecolor": "white"
           },
           "zaxis": {
            "backgroundcolor": "#E5ECF6",
            "gridcolor": "white",
            "gridwidth": 2,
            "linecolor": "white",
            "showbackground": true,
            "ticks": "",
            "zerolinecolor": "white"
           }
          },
          "shapedefaults": {
           "line": {
            "color": "#2a3f5f"
           }
          },
          "ternary": {
           "aaxis": {
            "gridcolor": "white",
            "linecolor": "white",
            "ticks": ""
           },
           "baxis": {
            "gridcolor": "white",
            "linecolor": "white",
            "ticks": ""
           },
           "bgcolor": "#E5ECF6",
           "caxis": {
            "gridcolor": "white",
            "linecolor": "white",
            "ticks": ""
           }
          },
          "title": {
           "x": 0.05
          },
          "xaxis": {
           "automargin": true,
           "gridcolor": "white",
           "linecolor": "white",
           "ticks": "",
           "title": {
            "standoff": 15
           },
           "zerolinecolor": "white",
           "zerolinewidth": 2
          },
          "yaxis": {
           "automargin": true,
           "gridcolor": "white",
           "linecolor": "white",
           "ticks": "",
           "title": {
            "standoff": 15
           },
           "zerolinecolor": "white",
           "zerolinewidth": 2
          }
         }
        },
        "title": {
         "text": "UK_FTSE100 Portfolio Evolution (Return: 6.02%)"
        },
        "xaxis": {
         "title": {
          "text": "Trading Steps"
         }
        },
        "yaxis": {
         "title": {
          "text": "Portfolio Value ($)"
         }
        }
       }
      }
     },
     "metadata": {},
     "output_type": "display_data"
    },
    {
     "data": {
      "application/vnd.plotly.v1+json": {
       "config": {
        "plotlyServerURL": "https://plot.ly"
       },
       "data": [
        {
         "mode": "lines",
         "name": "Price",
         "type": "scatter",
         "x": [
          0,
          1,
          2,
          3,
          4,
          5,
          6,
          7,
          8,
          9,
          10,
          11,
          12,
          13,
          14,
          15,
          16,
          17,
          18,
          19,
          20,
          21,
          22,
          23,
          24,
          25,
          26,
          27,
          28,
          29,
          30,
          31,
          32,
          33,
          34,
          35,
          36,
          37,
          38,
          39,
          40,
          41,
          42,
          43,
          44,
          45,
          46,
          47,
          48,
          49,
          50,
          51,
          52,
          53,
          54,
          55,
          56,
          57,
          58,
          59,
          60,
          61,
          62,
          63,
          64,
          65,
          66,
          67,
          68,
          69,
          70,
          71,
          72,
          73,
          74,
          75,
          76,
          77,
          78,
          79,
          80,
          81,
          82,
          83,
          84,
          85,
          86,
          87,
          88,
          89,
          90,
          91,
          92,
          93,
          94,
          95,
          96,
          97,
          98,
          99,
          100,
          101,
          102,
          103,
          104,
          105,
          106,
          107,
          108,
          109,
          110,
          111,
          112,
          113,
          114,
          115,
          116,
          117,
          118,
          119,
          120,
          121,
          122,
          123,
          124,
          125,
          126,
          127,
          128,
          129,
          130,
          131,
          132,
          133,
          134,
          135,
          136,
          137,
          138,
          139,
          140,
          141,
          142,
          143,
          144,
          145,
          146,
          147,
          148,
          149,
          150,
          151,
          152,
          153,
          154,
          155,
          156,
          157,
          158,
          159,
          160,
          161,
          162,
          163,
          164,
          165,
          166,
          167,
          168,
          169,
          170,
          171,
          172,
          173,
          174,
          175,
          176,
          177,
          178,
          179,
          180,
          181,
          182,
          183,
          184,
          185,
          186,
          187,
          188,
          189,
          190,
          191,
          192,
          193,
          194,
          195,
          196,
          197,
          198,
          199,
          200,
          201,
          202,
          203,
          204,
          205,
          206,
          207,
          208,
          209,
          210,
          211,
          212,
          213,
          214,
          215,
          216,
          217,
          218,
          219,
          220,
          221,
          222,
          223,
          224,
          225,
          226,
          227,
          228,
          229,
          230,
          231,
          232,
          233,
          234,
          235,
          236,
          237,
          238,
          239,
          240,
          241,
          242,
          243,
          244,
          245,
          246,
          247,
          248,
          249,
          250,
          251,
          252,
          253
         ],
         "y": {
          "bdata": "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",
          "dtype": "f8"
         }
        },
        {
         "marker": {
          "color": "green",
          "size": 10,
          "symbol": "triangle-up"
         },
         "mode": "markers",
         "name": "Buy Signal",
         "type": "scatter",
         "x": [
          0,
          1,
          2,
          3,
          4,
          5,
          6,
          7,
          8,
          9,
          10,
          11,
          12,
          13,
          14,
          15,
          16,
          17,
          18,
          19,
          20,
          21,
          22,
          23,
          24,
          25,
          26,
          27,
          28,
          29,
          30,
          31,
          32,
          33,
          34,
          35,
          36,
          37,
          38,
          39,
          40,
          41,
          42,
          43,
          44,
          45,
          46,
          47,
          48,
          49,
          50,
          51,
          52,
          53,
          54,
          55,
          56,
          57,
          58,
          59,
          60,
          61,
          62,
          63,
          64,
          65,
          66,
          67,
          68,
          69,
          70,
          71,
          72,
          74,
          75,
          76,
          77,
          78,
          79,
          80,
          81,
          82,
          83,
          84,
          85,
          86,
          87,
          88,
          89,
          90,
          92,
          112,
          115,
          116,
          117,
          118,
          119,
          120,
          121,
          122,
          124,
          125,
          127,
          128,
          129,
          130,
          131,
          132,
          133,
          134,
          136,
          137,
          138,
          139,
          140,
          141,
          142,
          143,
          144,
          145,
          146,
          147,
          151,
          152,
          153,
          154,
          155,
          156,
          157,
          158,
          159,
          160,
          162,
          163,
          164,
          165,
          166,
          167,
          168,
          174,
          177,
          178,
          179,
          180,
          182,
          184,
          185,
          186,
          187,
          188,
          190,
          191,
          192,
          193,
          194,
          196,
          197,
          198,
          199,
          201,
          202,
          203,
          207,
          209,
          213,
          214,
          215,
          216,
          217,
          219,
          221,
          222,
          223,
          224,
          225,
          226,
          227,
          228,
          229,
          230,
          231,
          232,
          233,
          234,
          235,
          236,
          237,
          239,
          241,
          242,
          250,
          251,
          252
         ],
         "y": [
          7721.5,
          7682.2998046875,
          7723.10009765625,
          7689.60009765625,
          7694.2001953125,
          7684,
          7651.7998046875,
          7576.60009765625,
          7624.89990234375,
          7594.89990234375,
          7558.2998046875,
          7446.2998046875,
          7459.10009765625,
          7461.89990234375,
          7487.7001953125,
          7485.7001953125,
          7527.7001953125,
          7529.7001953125,
          7635.10009765625,
          7632.7001953125,
          7666.2998046875,
          7630.60009765625,
          7622.2001953125,
          7615.5,
          7612.89990234375,
          7681,
          7628.7998046875,
          7595.5,
          7572.60009765625,
          7573.7001953125,
          7512.2998046875,
          7568.39990234375,
          7597.5,
          7711.7001953125,
          7728.5,
          7719.2001953125,
          7662.5,
          7684.5,
          7706.2998046875,
          7684.2998046875,
          7683,
          7625,
          7630,
          7682.5,
          7640.2998046875,
          7646.2001953125,
          7679.2998046875,
          7692.5,
          7659.7001953125,
          7669.2001953125,
          7747.7998046875,
          7772.2001953125,
          7743.2001953125,
          7727.39990234375,
          7722.60009765625,
          7738.2998046875,
          7737.39990234375,
          7882.60009765625,
          7930.89990234375,
          7917.60009765625,
          7931,
          7932,
          7952.60009765625,
          7935.10009765625,
          7937.39990234375,
          7975.89990234375,
          7911.2001953125,
          7943.5,
          7934.7998046875,
          7961.2001953125,
          7923.7998046875,
          7995.60009765625,
          7965.5,
          7848,
          7877.10009765625,
          7895.89990234375,
          8023.89990234375,
          8044.7998046875,
          8040.39990234375,
          8078.89990234375,
          8139.7998046875,
          8147,
          8144.10009765625,
          8121.2001953125,
          8172.2001953125,
          8213.5,
          8313.7001953125,
          8354.099609375,
          8381.400390625,
          8433.7998046875,
          8428.099609375,
          8215.5,
          8142.2001953125,
          8191.2998046875,
          8205.099609375,
          8272.5,
          8237.7001953125,
          8281.599609375,
          8247.7998046875,
          8225.2998046875,
          8164.10009765625,
          8166.7998046875,
          8171.10009765625,
          8241.2998046875,
          8203.900390625,
          8193.5,
          8139.7998046875,
          8193.5,
          8223.2998046875,
          8252.900390625,
          8164.89990234375,
          8187.5,
          8204.900390625,
          8155.7001953125,
          8198.7998046875,
          8167.39990234375,
          8153.7001953125,
          8186.39990234375,
          8285.7001953125,
          8292.400390625,
          8274.400390625,
          8368,
          8026.7001953125,
          8166.89990234375,
          8145,
          8168.10009765625,
          8210.2998046875,
          8235.2001953125,
          8281.099609375,
          8347.400390625,
          8311.400390625,
          8356.900390625,
          8283.400390625,
          8288,
          8327.7998046875,
          8345.5,
          8343.900390625,
          8379.599609375,
          8376.599609375,
          8270.7998046875,
          8241,
          8273.099609375,
          8278.400390625,
          8309.900390625,
          8328.7001953125,
          8259.7001953125,
          8282.7998046875,
          8268.7001953125,
          8284.900390625,
          8320.7998046875,
          8276.7001953125,
          8290.900390625,
          8282.5,
          8280.599609375,
          8303.599609375,
          8243.7001953125,
          8237.7001953125,
          8253.7001953125,
          8292.7001953125,
          8329.099609375,
          8385.099609375,
          8358.2998046875,
          8269.400390625,
          8285.599609375,
          8177.2001953125,
          8184.2001953125,
          8172.39990234375,
          8166.7001953125,
          8140.7001953125,
          8125.2001953125,
          8030.2998046875,
          8071.2001953125,
          8063.60009765625,
          8109.2998046875,
          8099,
          8085.10009765625,
          8149.2998046875,
          8262.099609375,
          8291.7001953125,
          8258.599609375,
          8274.7998046875,
          8281.2001953125,
          8287.2998046875,
          8312.900390625,
          8359.400390625,
          8335.7998046875,
          8349.400390625,
          8352.099609375,
          8301.599609375,
          8311.7998046875,
          8137,
          8149.7998046875,
          8121
         ]
        },
        {
         "marker": {
          "color": "red",
          "size": 10,
          "symbol": "triangle-down"
         },
         "mode": "markers",
         "name": "Sell Signal",
         "type": "scatter",
         "x": [
          73,
          91,
          93,
          94,
          95,
          96,
          97,
          98,
          99,
          100,
          101,
          102,
          103,
          150
         ],
         "y": [
          7820.39990234375,
          8415,
          8445.7998046875,
          8438.7001953125,
          8420.2998046875,
          8424.2001953125,
          8416.5,
          8370.2998046875,
          8339.2001953125,
          8317.599609375,
          8254.2001953125,
          8183.10009765625,
          8231.099609375,
          8008.2001953125
         ]
        }
       ],
       "layout": {
        "template": {
         "data": {
          "bar": [
           {
            "error_x": {
             "color": "#2a3f5f"
            },
            "error_y": {
             "color": "#2a3f5f"
            },
            "marker": {
             "line": {
              "color": "#E5ECF6",
              "width": 0.5
             },
             "pattern": {
              "fillmode": "overlay",
              "size": 10,
              "solidity": 0.2
             }
            },
            "type": "bar"
           }
          ],
          "barpolar": [
           {
            "marker": {
             "line": {
              "color": "#E5ECF6",
              "width": 0.5
             },
             "pattern": {
              "fillmode": "overlay",
              "size": 10,
              "solidity": 0.2
             }
            },
            "type": "barpolar"
           }
          ],
          "carpet": [
           {
            "aaxis": {
             "endlinecolor": "#2a3f5f",
             "gridcolor": "white",
             "linecolor": "white",
             "minorgridcolor": "white",
             "startlinecolor": "#2a3f5f"
            },
            "baxis": {
             "endlinecolor": "#2a3f5f",
             "gridcolor": "white",
             "linecolor": "white",
             "minorgridcolor": "white",
             "startlinecolor": "#2a3f5f"
            },
            "type": "carpet"
           }
          ],
          "choropleth": [
           {
            "colorbar": {
             "outlinewidth": 0,
             "ticks": ""
            },
            "type": "choropleth"
           }
          ],
          "contour": [
           {
            "colorbar": {
             "outlinewidth": 0,
             "ticks": ""
            },
            "colorscale": [
             [
              0,
              "#0d0887"
             ],
             [
              0.1111111111111111,
              "#46039f"
             ],
             [
              0.2222222222222222,
              "#7201a8"
             ],
             [
              0.3333333333333333,
              "#9c179e"
             ],
             [
              0.4444444444444444,
              "#bd3786"
             ],
             [
              0.5555555555555556,
              "#d8576b"
             ],
             [
              0.6666666666666666,
              "#ed7953"
             ],
             [
              0.7777777777777778,
              "#fb9f3a"
             ],
             [
              0.8888888888888888,
              "#fdca26"
             ],
             [
              1,
              "#f0f921"
             ]
            ],
            "type": "contour"
           }
          ],
          "contourcarpet": [
           {
            "colorbar": {
             "outlinewidth": 0,
             "ticks": ""
            },
            "type": "contourcarpet"
           }
          ],
          "heatmap": [
           {
            "colorbar": {
             "outlinewidth": 0,
             "ticks": ""
            },
            "colorscale": [
             [
              0,
              "#0d0887"
             ],
             [
              0.1111111111111111,
              "#46039f"
             ],
             [
              0.2222222222222222,
              "#7201a8"
             ],
             [
              0.3333333333333333,
              "#9c179e"
             ],
             [
              0.4444444444444444,
              "#bd3786"
             ],
             [
              0.5555555555555556,
              "#d8576b"
             ],
             [
              0.6666666666666666,
              "#ed7953"
             ],
             [
              0.7777777777777778,
              "#fb9f3a"
             ],
             [
              0.8888888888888888,
              "#fdca26"
             ],
             [
              1,
              "#f0f921"
             ]
            ],
            "type": "heatmap"
           }
          ],
          "histogram": [
           {
            "marker": {
             "pattern": {
              "fillmode": "overlay",
              "size": 10,
              "solidity": 0.2
             }
            },
            "type": "histogram"
           }
          ],
          "histogram2d": [
           {
            "colorbar": {
             "outlinewidth": 0,
             "ticks": ""
            },
            "colorscale": [
             [
              0,
              "#0d0887"
             ],
             [
              0.1111111111111111,
              "#46039f"
             ],
             [
              0.2222222222222222,
              "#7201a8"
             ],
             [
              0.3333333333333333,
              "#9c179e"
             ],
             [
              0.4444444444444444,
              "#bd3786"
             ],
             [
              0.5555555555555556,
              "#d8576b"
             ],
             [
              0.6666666666666666,
              "#ed7953"
             ],
             [
              0.7777777777777778,
              "#fb9f3a"
             ],
             [
              0.8888888888888888,
              "#fdca26"
             ],
             [
              1,
              "#f0f921"
             ]
            ],
            "type": "histogram2d"
           }
          ],
          "histogram2dcontour": [
           {
            "colorbar": {
             "outlinewidth": 0,
             "ticks": ""
            },
            "colorscale": [
             [
              0,
              "#0d0887"
             ],
             [
              0.1111111111111111,
              "#46039f"
             ],
             [
              0.2222222222222222,
              "#7201a8"
             ],
             [
              0.3333333333333333,
              "#9c179e"
             ],
             [
              0.4444444444444444,
              "#bd3786"
             ],
             [
              0.5555555555555556,
              "#d8576b"
             ],
             [
              0.6666666666666666,
              "#ed7953"
             ],
             [
              0.7777777777777778,
              "#fb9f3a"
             ],
             [
              0.8888888888888888,
              "#fdca26"
             ],
             [
              1,
              "#f0f921"
             ]
            ],
            "type": "histogram2dcontour"
           }
          ],
          "mesh3d": [
           {
            "colorbar": {
             "outlinewidth": 0,
             "ticks": ""
            },
            "type": "mesh3d"
           }
          ],
          "parcoords": [
           {
            "line": {
             "colorbar": {
              "outlinewidth": 0,
              "ticks": ""
             }
            },
            "type": "parcoords"
           }
          ],
          "pie": [
           {
            "automargin": true,
            "type": "pie"
           }
          ],
          "scatter": [
           {
            "fillpattern": {
             "fillmode": "overlay",
             "size": 10,
             "solidity": 0.2
            },
            "type": "scatter"
           }
          ],
          "scatter3d": [
           {
            "line": {
             "colorbar": {
              "outlinewidth": 0,
              "ticks": ""
             }
            },
            "marker": {
             "colorbar": {
              "outlinewidth": 0,
              "ticks": ""
             }
            },
            "type": "scatter3d"
           }
          ],
          "scattercarpet": [
           {
            "marker": {
             "colorbar": {
              "outlinewidth": 0,
              "ticks": ""
             }
            },
            "type": "scattercarpet"
           }
          ],
          "scattergeo": [
           {
            "marker": {
             "colorbar": {
              "outlinewidth": 0,
              "ticks": ""
             }
            },
            "type": "scattergeo"
           }
          ],
          "scattergl": [
           {
            "marker": {
             "colorbar": {
              "outlinewidth": 0,
              "ticks": ""
             }
            },
            "type": "scattergl"
           }
          ],
          "scattermap": [
           {
            "marker": {
             "colorbar": {
              "outlinewidth": 0,
              "ticks": ""
             }
            },
            "type": "scattermap"
           }
          ],
          "scattermapbox": [
           {
            "marker": {
             "colorbar": {
              "outlinewidth": 0,
              "ticks": ""
             }
            },
            "type": "scattermapbox"
           }
          ],
          "scatterpolar": [
           {
            "marker": {
             "colorbar": {
              "outlinewidth": 0,
              "ticks": ""
             }
            },
            "type": "scatterpolar"
           }
          ],
          "scatterpolargl": [
           {
            "marker": {
             "colorbar": {
              "outlinewidth": 0,
              "ticks": ""
             }
            },
            "type": "scatterpolargl"
           }
          ],
          "scatterternary": [
           {
            "marker": {
             "colorbar": {
              "outlinewidth": 0,
              "ticks": ""
             }
            },
            "type": "scatterternary"
           }
          ],
          "surface": [
           {
            "colorbar": {
             "outlinewidth": 0,
             "ticks": ""
            },
            "colorscale": [
             [
              0,
              "#0d0887"
             ],
             [
              0.1111111111111111,
              "#46039f"
             ],
             [
              0.2222222222222222,
              "#7201a8"
             ],
             [
              0.3333333333333333,
              "#9c179e"
             ],
             [
              0.4444444444444444,
              "#bd3786"
             ],
             [
              0.5555555555555556,
              "#d8576b"
             ],
             [
              0.6666666666666666,
              "#ed7953"
             ],
             [
              0.7777777777777778,
              "#fb9f3a"
             ],
             [
              0.8888888888888888,
              "#fdca26"
             ],
             [
              1,
              "#f0f921"
             ]
            ],
            "type": "surface"
           }
          ],
          "table": [
           {
            "cells": {
             "fill": {
              "color": "#EBF0F8"
             },
             "line": {
              "color": "white"
             }
            },
            "header": {
             "fill": {
              "color": "#C8D4E3"
             },
             "line": {
              "color": "white"
             }
            },
            "type": "table"
           }
          ]
         },
         "layout": {
          "annotationdefaults": {
           "arrowcolor": "#2a3f5f",
           "arrowhead": 0,
           "arrowwidth": 1
          },
          "autotypenumbers": "strict",
          "coloraxis": {
           "colorbar": {
            "outlinewidth": 0,
            "ticks": ""
           }
          },
          "colorscale": {
           "diverging": [
            [
             0,
             "#8e0152"
            ],
            [
             0.1,
             "#c51b7d"
            ],
            [
             0.2,
             "#de77ae"
            ],
            [
             0.3,
             "#f1b6da"
            ],
            [
             0.4,
             "#fde0ef"
            ],
            [
             0.5,
             "#f7f7f7"
            ],
            [
             0.6,
             "#e6f5d0"
            ],
            [
             0.7,
             "#b8e186"
            ],
            [
             0.8,
             "#7fbc41"
            ],
            [
             0.9,
             "#4d9221"
            ],
            [
             1,
             "#276419"
            ]
           ],
           "sequential": [
            [
             0,
             "#0d0887"
            ],
            [
             0.1111111111111111,
             "#46039f"
            ],
            [
             0.2222222222222222,
             "#7201a8"
            ],
            [
             0.3333333333333333,
             "#9c179e"
            ],
            [
             0.4444444444444444,
             "#bd3786"
            ],
            [
             0.5555555555555556,
             "#d8576b"
            ],
            [
             0.6666666666666666,
             "#ed7953"
            ],
            [
             0.7777777777777778,
             "#fb9f3a"
            ],
            [
             0.8888888888888888,
             "#fdca26"
            ],
            [
             1,
             "#f0f921"
            ]
           ],
           "sequentialminus": [
            [
             0,
             "#0d0887"
            ],
            [
             0.1111111111111111,
             "#46039f"
            ],
            [
             0.2222222222222222,
             "#7201a8"
            ],
            [
             0.3333333333333333,
             "#9c179e"
            ],
            [
             0.4444444444444444,
             "#bd3786"
            ],
            [
             0.5555555555555556,
             "#d8576b"
            ],
            [
             0.6666666666666666,
             "#ed7953"
            ],
            [
             0.7777777777777778,
             "#fb9f3a"
            ],
            [
             0.8888888888888888,
             "#fdca26"
            ],
            [
             1,
             "#f0f921"
            ]
           ]
          },
          "colorway": [
           "#636efa",
           "#EF553B",
           "#00cc96",
           "#ab63fa",
           "#FFA15A",
           "#19d3f3",
           "#FF6692",
           "#B6E880",
           "#FF97FF",
           "#FECB52"
          ],
          "font": {
           "color": "#2a3f5f"
          },
          "geo": {
           "bgcolor": "white",
           "lakecolor": "white",
           "landcolor": "#E5ECF6",
           "showlakes": true,
           "showland": true,
           "subunitcolor": "white"
          },
          "hoverlabel": {
           "align": "left"
          },
          "hovermode": "closest",
          "mapbox": {
           "style": "light"
          },
          "paper_bgcolor": "white",
          "plot_bgcolor": "#E5ECF6",
          "polar": {
           "angularaxis": {
            "gridcolor": "white",
            "linecolor": "white",
            "ticks": ""
           },
           "bgcolor": "#E5ECF6",
           "radialaxis": {
            "gridcolor": "white",
            "linecolor": "white",
            "ticks": ""
           }
          },
          "scene": {
           "xaxis": {
            "backgroundcolor": "#E5ECF6",
            "gridcolor": "white",
            "gridwidth": 2,
            "linecolor": "white",
            "showbackground": true,
            "ticks": "",
            "zerolinecolor": "white"
           },
           "yaxis": {
            "backgroundcolor": "#E5ECF6",
            "gridcolor": "white",
            "gridwidth": 2,
            "linecolor": "white",
            "showbackground": true,
            "ticks": "",
            "zerolinecolor": "white"
           },
           "zaxis": {
            "backgroundcolor": "#E5ECF6",
            "gridcolor": "white",
            "gridwidth": 2,
            "linecolor": "white",
            "showbackground": true,
            "ticks": "",
            "zerolinecolor": "white"
           }
          },
          "shapedefaults": {
           "line": {
            "color": "#2a3f5f"
           }
          },
          "ternary": {
           "aaxis": {
            "gridcolor": "white",
            "linecolor": "white",
            "ticks": ""
           },
           "baxis": {
            "gridcolor": "white",
            "linecolor": "white",
            "ticks": ""
           },
           "bgcolor": "#E5ECF6",
           "caxis": {
            "gridcolor": "white",
            "linecolor": "white",
            "ticks": ""
           }
          },
          "title": {
           "x": 0.05
          },
          "xaxis": {
           "automargin": true,
           "gridcolor": "white",
           "linecolor": "white",
           "ticks": "",
           "title": {
            "standoff": 15
           },
           "zerolinecolor": "white",
           "zerolinewidth": 2
          },
          "yaxis": {
           "automargin": true,
           "gridcolor": "white",
           "linecolor": "white",
           "ticks": "",
           "title": {
            "standoff": 15
           },
           "zerolinecolor": "white",
           "zerolinewidth": 2
          }
         }
        },
        "title": {
         "text": "UK_FTSE100 Price with Buy/Sell Signals"
        },
        "xaxis": {
         "title": {
          "text": "Trading Steps"
         }
        },
        "yaxis": {
         "title": {
          "text": "Price ($)"
         }
        }
       }
      }
     },
     "metadata": {},
     "output_type": "display_data"
    },
    {
     "name": "stderr",
     "output_type": "stream",
     "text": [
      "[*********************100%***********************]  1 of 1 completed"
     ]
    },
    {
     "name": "stdout",
     "output_type": "stream",
     "text": [
      "\n",
      "============================================\n",
      "Testing on France_CAC40 (^FCHI)\n",
      "\n",
      "Fetching data for ^FCHI from 2024-01-01 to 2025-01-01...\n",
      "Data shape after preparation: (256, 17)\n",
      "Initial Balance: $10000.00\n",
      "Final Portfolio Value: $10109.86\n",
      "Cumulative Return: 1.10%\n"
     ]
    },
    {
     "name": "stderr",
     "output_type": "stream",
     "text": [
      "\n"
     ]
    },
    {
     "data": {
      "application/vnd.plotly.v1+json": {
       "config": {
        "plotlyServerURL": "https://plot.ly"
       },
       "data": [
        {
         "mode": "lines+markers",
         "name": "Portfolio Value",
         "type": "scatter",
         "x": [
          0,
          1,
          2,
          3,
          4,
          5,
          6,
          7,
          8,
          9,
          10,
          11,
          12,
          13,
          14,
          15,
          16,
          17,
          18,
          19,
          20,
          21,
          22,
          23,
          24,
          25,
          26,
          27,
          28,
          29,
          30,
          31,
          32,
          33,
          34,
          35,
          36,
          37,
          38,
          39,
          40,
          41,
          42,
          43,
          44,
          45,
          46,
          47,
          48,
          49,
          50,
          51,
          52,
          53,
          54,
          55,
          56,
          57,
          58,
          59,
          60,
          61,
          62,
          63,
          64,
          65,
          66,
          67,
          68,
          69,
          70,
          71,
          72,
          73,
          74,
          75,
          76,
          77,
          78,
          79,
          80,
          81,
          82,
          83,
          84,
          85,
          86,
          87,
          88,
          89,
          90,
          91,
          92,
          93,
          94,
          95,
          96,
          97,
          98,
          99,
          100,
          101,
          102,
          103,
          104,
          105,
          106,
          107,
          108,
          109,
          110,
          111,
          112,
          113,
          114,
          115,
          116,
          117,
          118,
          119,
          120,
          121,
          122,
          123,
          124,
          125,
          126,
          127,
          128,
          129,
          130,
          131,
          132,
          133,
          134,
          135,
          136,
          137,
          138,
          139,
          140,
          141,
          142,
          143,
          144,
          145,
          146,
          147,
          148,
          149,
          150,
          151,
          152,
          153,
          154,
          155,
          156,
          157,
          158,
          159,
          160,
          161,
          162,
          163,
          164,
          165,
          166,
          167,
          168,
          169,
          170,
          171,
          172,
          173,
          174,
          175,
          176,
          177,
          178,
          179,
          180,
          181,
          182,
          183,
          184,
          185,
          186,
          187,
          188,
          189,
          190,
          191,
          192,
          193,
          194,
          195,
          196,
          197,
          198,
          199,
          200,
          201,
          202,
          203,
          204,
          205,
          206,
          207,
          208,
          209,
          210,
          211,
          212,
          213,
          214,
          215,
          216,
          217,
          218,
          219,
          220,
          221,
          222,
          223,
          224,
          225,
          226,
          227,
          228,
          229,
          230,
          231,
          232,
          233,
          234,
          235,
          236,
          237,
          238,
          239,
          240,
          241,
          242,
          243,
          244,
          245,
          246,
          247,
          248,
          249,
          250,
          251,
          252,
          253,
          254,
          255
         ],
         "y": [
          10000,
          10000,
          9920.991757806956,
          9920.991757806956,
          9901.05828126923,
          9930.609053690358,
          9903.056884949227,
          9902.381856499687,
          9852.702693920011,
          9954.462785674727,
          9883.731142220026,
          9865.559686302242,
          9760.003950864313,
          9870.12784020933,
          9830.52733669268,
          9886.00293057888,
          9852.388089993601,
          9942.531275421808,
          9953.946265556,
          10180.567641586236,
          10189.46230224773,
          10238.350560143746,
          10210.719006359615,
          10120.037157134082,
          10124.717630457646,
          10121.65070857337,
          10187.008709902419,
          10150.055224914095,
          10222.560919497666,
          10198.410369472522,
          10254.792908534879,
          10168.792101579045,
          10238.190504156335,
          10326.298436934301,
          10359.317667929836,
          10359.810589459923,
          10395.37712433165,
          10417.873750415965,
          10550.576430847606,
          10624.028901510155,
          10574.873490262738,
          10599.651099334047,
          10607.639423419176,
          10571.686755825705,
          10571.686755825705,
          10586.503478526616,
          10562.951181918812,
          10562.951181918812,
          10603.770241575243,
          10615.48156846995,
          10605.8949413776,
          10689.915461707886,
          10754.092208623157,
          10785.113863952665,
          10788.956390459323,
          10767.617311193508,
          10767.617311193508,
          10741.594754637317,
          10741.594754637317,
          10741.594754637317,
          10741.594754637317,
          10741.594754637317,
          10741.594754637317,
          10741.594754637317,
          10741.594754637317,
          10741.594754637317,
          10741.594754637317,
          10741.594754637317,
          10741.594754637317,
          10741.594754637317,
          10741.594754637317,
          10741.594754637317,
          10741.594754637317,
          10741.594754637317,
          10741.594754637317,
          10741.594754637317,
          10741.594754637317,
          10741.026023231843,
          10753.041618172456,
          10818.683527134073,
          10802.410575856156,
          10714.48709173459,
          10798.179083369021,
          10769.268980954563,
          10668.830385812531,
          10668.830385812531,
          10668.830385812531,
          10695.021455849677,
          10774.369620852076,
          10839.520008615427,
          10909.878171906694,
          10950.555360876731,
          10937.61944862613,
          10959.461490005948,
          10978.295899245635,
          10909.811703457319,
          10881.899095290713,
          10919.757858940153,
          10847.271306290873,
          10847.271306290873,
          10847.271306290873,
          10847.271306290873,
          10847.271306290873,
          10847.271306290873,
          10847.271306290873,
          10847.271306290873,
          10847.271306290873,
          10847.271306290873,
          10847.271306290873,
          10847.271306290873,
          10869.998212957991,
          10831.115209062398,
          10721.712170005238,
          10615.40371864344,
          10692.00244359597,
          10506.009241170917,
          10262.95291316617,
          10262.95291316617,
          10301.73936091796,
          10242.316298823984,
          10362.016612563875,
          10307.821453330096,
          10410.35615353781,
          10351.05197450155,
          10279.80758410882,
          10174.263878544158,
          10105.06495999421,
          10215.376969087181,
          10184.534599991573,
          10311.2175602313,
          10397.267723212755,
          10370.032947413742,
          10304.955653012794,
          10144.468537310206,
          10232.136097488217,
          10304.524418416211,
          10435.831245143529,
          10312.063172521337,
          10240.890411395609,
          10228.434235171217,
          10249.699190611334,
          10179.405100582882,
          10297.62071580845,
          10266.01980788295,
          10151.317014603357,
          10034.16876722511,
          10156.653869480137,
          10056.892949115474,
          10098.910289527481,
          10175.311750927764,
          9957.740918243002,
          9957.740918243002,
          9957.740918243002,
          9931.345423342947,
          10120.73598976496,
          10094.884591642029,
          10125.889946486233,
          10099.369309327443,
          10134.470352661423,
          10214.547115713147,
          10339.921295702086,
          10376.596138963887,
          10424.608598818935,
          10426.78158532256,
          10481.090605130832,
          10480.240453916582,
          10553.966247337368,
          10572.533549856602,
          10538.281977615901,
          10554.843603390475,
          10642.985921042036,
          10629.057043547755,
          10650.604636163665,
          10551.264126717993,
          10448.009521081913,
          10351.885983830965,
          10240.928328072801,
          10240.928328072801,
          10228.715527014074,
          10217.618194178403,
          10263.822826357296,
          10302.887276373887,
          10281.745375684626,
          10333.349676651875,
          10275.122366753156,
          10509.53689456286,
          10350.92770118815,
          10361.7098982854,
          10494.036124197908,
          10441.068494343284,
          10684.579517435202,
          10753.164955492217,
          10537.82605334573,
          10537.82605334573,
          10540.274760209119,
          10436.141361764134,
          10436.141361764134,
          10460.123660500933,
          10403.437423741289,
          10450.339470829003,
          10426.362971143531,
          10474.978905534595,
          10507.869084201826,
          10398.024690295515,
          10356.757674611597,
          10483.313392563117,
          10523.804034028928,
          10417.664531409573,
          10416.103026344274,
          10364.105430356976,
          10372.12226976207,
          10364.188203332595,
          10446.298109372614,
          10382.945613107611,
          10268.556998004566,
          10160.74846215694,
          10241.946985585857,
          10190.247437593664,
          10239.237656394536,
          10187.344372208856,
          10264.742195813122,
          10144.574693569666,
          10266.51130241787,
          9990.180646260296,
          9976.149978093234,
          10107.430917967067,
          10049.137531447597,
          10061.025834638365,
          9993.85790032169,
          9950.742636430436,
          9971.297595668977,
          10028.927483520614,
          10032.328673538117,
          9945.295602606016,
          9874.132501844888,
          9924.201339770732,
          10001.41895024748,
          10003.879902580049,
          10029.494461019067,
          10095.65331038314,
          10133.33638986065,
          10266.5113045686,
          10340.135357662299,
          10222.137890609352,
          10261.700770483514,
          10258.300255439224,
          10242.582829214265,
          10170.023883849803,
          10181.93986094228,
          10208.09372297804,
          10083.337074175684,
          10055.842040366799,
          10052.855958874949,
          10067.191039960824,
          10167.660127659825,
          10109.864196397926
         ]
        },
        {
         "marker": {
          "color": "green",
          "size": 10,
          "symbol": "triangle-up"
         },
         "mode": "markers",
         "name": "Buy Signal",
         "type": "scatter",
         "x": [
          0,
          2,
          3,
          4,
          5,
          6,
          7,
          8,
          9,
          10,
          11,
          12,
          13,
          14,
          15,
          16,
          17,
          18,
          19,
          20,
          21,
          22,
          23,
          24,
          25,
          26,
          27,
          28,
          29,
          30,
          31,
          32,
          33,
          34,
          35,
          36,
          37,
          38,
          39,
          40,
          41,
          43,
          44,
          46,
          47,
          48,
          49,
          50,
          51,
          52,
          53,
          55,
          75,
          77,
          78,
          81,
          85,
          86,
          87,
          88,
          89,
          90,
          91,
          92,
          93,
          108,
          109,
          113,
          116,
          117,
          118,
          119,
          120,
          121,
          122,
          123,
          124,
          125,
          126,
          127,
          128,
          129,
          130,
          131,
          132,
          133,
          134,
          135,
          136,
          137,
          138,
          139,
          140,
          141,
          142,
          143,
          144,
          145,
          146,
          147,
          148,
          151,
          152,
          153,
          154,
          155,
          156,
          157,
          158,
          159,
          160,
          161,
          162,
          163,
          164,
          165,
          166,
          167,
          168,
          169,
          170,
          171,
          172,
          173,
          174,
          176,
          177,
          178,
          179,
          180,
          181,
          182,
          183,
          184,
          185,
          186,
          187,
          188,
          189,
          190,
          192,
          193,
          195,
          196,
          197,
          198,
          199,
          200,
          201,
          202,
          203,
          204,
          205,
          206,
          207,
          208,
          209,
          210,
          211,
          212,
          213,
          214,
          215,
          216,
          217,
          218,
          219,
          220,
          221,
          222,
          223,
          224,
          225,
          226,
          227,
          228,
          229,
          230,
          231,
          232,
          233,
          234,
          235,
          236,
          237,
          238,
          239,
          240,
          241,
          242,
          243,
          244,
          245,
          246,
          247,
          248,
          249,
          250,
          251,
          252,
          253,
          254
         ],
         "y": [
          10000,
          9920.991757806956,
          9920.991757806956,
          9901.05828126923,
          9930.609053690358,
          9903.056884949227,
          9902.381856499687,
          9852.702693920011,
          9954.462785674727,
          9883.731142220026,
          9865.559686302242,
          9760.003950864313,
          9870.12784020933,
          9830.52733669268,
          9886.00293057888,
          9852.388089993601,
          9942.531275421808,
          9953.946265556,
          10180.567641586236,
          10189.46230224773,
          10238.350560143746,
          10210.719006359615,
          10120.037157134082,
          10124.717630457646,
          10121.65070857337,
          10187.008709902419,
          10150.055224914095,
          10222.560919497666,
          10198.410369472522,
          10254.792908534879,
          10168.792101579045,
          10238.190504156335,
          10326.298436934301,
          10359.317667929836,
          10359.810589459923,
          10395.37712433165,
          10417.873750415965,
          10550.576430847606,
          10624.028901510155,
          10574.873490262738,
          10599.651099334047,
          10571.686755825705,
          10571.686755825705,
          10562.951181918812,
          10562.951181918812,
          10603.770241575243,
          10615.48156846995,
          10605.8949413776,
          10689.915461707886,
          10754.092208623157,
          10785.113863952665,
          10767.617311193508,
          10741.594754637317,
          10741.026023231843,
          10753.041618172456,
          10714.48709173459,
          10668.830385812531,
          10668.830385812531,
          10695.021455849677,
          10774.369620852076,
          10839.520008615427,
          10909.878171906694,
          10950.555360876731,
          10937.61944862613,
          10959.461490005948,
          10847.271306290873,
          10847.271306290873,
          10615.40371864344,
          10262.95291316617,
          10262.95291316617,
          10301.73936091796,
          10242.316298823984,
          10362.016612563875,
          10307.821453330096,
          10410.35615353781,
          10351.05197450155,
          10279.80758410882,
          10174.263878544158,
          10105.06495999421,
          10215.376969087181,
          10184.534599991573,
          10311.2175602313,
          10397.267723212755,
          10370.032947413742,
          10304.955653012794,
          10144.468537310206,
          10232.136097488217,
          10304.524418416211,
          10435.831245143529,
          10312.063172521337,
          10240.890411395609,
          10228.434235171217,
          10249.699190611334,
          10179.405100582882,
          10297.62071580845,
          10266.01980788295,
          10151.317014603357,
          10034.16876722511,
          10156.653869480137,
          10056.892949115474,
          10098.910289527481,
          9957.740918243002,
          9957.740918243002,
          9931.345423342947,
          10120.73598976496,
          10094.884591642029,
          10125.889946486233,
          10099.369309327443,
          10134.470352661423,
          10214.547115713147,
          10339.921295702086,
          10376.596138963887,
          10424.608598818935,
          10426.78158532256,
          10481.090605130832,
          10480.240453916582,
          10553.966247337368,
          10572.533549856602,
          10538.281977615901,
          10554.843603390475,
          10642.985921042036,
          10629.057043547755,
          10650.604636163665,
          10551.264126717993,
          10448.009521081913,
          10240.928328072801,
          10240.928328072801,
          10228.715527014074,
          10217.618194178403,
          10263.822826357296,
          10302.887276373887,
          10281.745375684626,
          10333.349676651875,
          10275.122366753156,
          10509.53689456286,
          10350.92770118815,
          10361.7098982854,
          10494.036124197908,
          10441.068494343284,
          10684.579517435202,
          10537.82605334573,
          10537.82605334573,
          10436.141361764134,
          10436.141361764134,
          10460.123660500933,
          10403.437423741289,
          10450.339470829003,
          10426.362971143531,
          10474.978905534595,
          10507.869084201826,
          10398.024690295515,
          10356.757674611597,
          10483.313392563117,
          10523.804034028928,
          10417.664531409573,
          10416.103026344274,
          10364.105430356976,
          10372.12226976207,
          10364.188203332595,
          10446.298109372614,
          10382.945613107611,
          10268.556998004566,
          10160.74846215694,
          10241.946985585857,
          10190.247437593664,
          10239.237656394536,
          10187.344372208856,
          10264.742195813122,
          10144.574693569666,
          10266.51130241787,
          9990.180646260296,
          9976.149978093234,
          10107.430917967067,
          10049.137531447597,
          10061.025834638365,
          9993.85790032169,
          9950.742636430436,
          9971.297595668977,
          10028.927483520614,
          10032.328673538117,
          9945.295602606016,
          9874.132501844888,
          9924.201339770732,
          10001.41895024748,
          10003.879902580049,
          10029.494461019067,
          10095.65331038314,
          10133.33638986065,
          10266.5113045686,
          10340.135357662299,
          10222.137890609352,
          10261.700770483514,
          10258.300255439224,
          10242.582829214265,
          10170.023883849803,
          10181.93986094228,
          10208.09372297804,
          10083.337074175684,
          10055.842040366799,
          10052.855958874949,
          10067.191039960824,
          10167.660127659825
         ]
        },
        {
         "marker": {
          "color": "red",
          "size": 10,
          "symbol": "triangle-down"
         },
         "mode": "markers",
         "name": "Sell Signal",
         "type": "scatter",
         "x": [
          1,
          42,
          45,
          54,
          56,
          57,
          58,
          59,
          60,
          61,
          62,
          63,
          64,
          65,
          66,
          67,
          68,
          69,
          70,
          71,
          72,
          73,
          74,
          83,
          84,
          97,
          98,
          99,
          100,
          102,
          103,
          115,
          149,
          150,
          175,
          191,
          194
         ],
         "y": [
          10000,
          10607.639423419176,
          10586.503478526616,
          10788.956390459323,
          10767.617311193508,
          10741.594754637317,
          10741.594754637317,
          10741.594754637317,
          10741.594754637317,
          10741.594754637317,
          10741.594754637317,
          10741.594754637317,
          10741.594754637317,
          10741.594754637317,
          10741.594754637317,
          10741.594754637317,
          10741.594754637317,
          10741.594754637317,
          10741.594754637317,
          10741.594754637317,
          10741.594754637317,
          10741.594754637317,
          10741.594754637317,
          10769.268980954563,
          10668.830385812531,
          10919.757858940153,
          10847.271306290873,
          10847.271306290873,
          10847.271306290873,
          10847.271306290873,
          10847.271306290873,
          10506.009241170917,
          10175.311750927764,
          9957.740918243002,
          10351.885983830965,
          10753.164955492217,
          10540.274760209119
         ]
        }
       ],
       "layout": {
        "template": {
         "data": {
          "bar": [
           {
            "error_x": {
             "color": "#2a3f5f"
            },
            "error_y": {
             "color": "#2a3f5f"
            },
            "marker": {
             "line": {
              "color": "#E5ECF6",
              "width": 0.5
             },
             "pattern": {
              "fillmode": "overlay",
              "size": 10,
              "solidity": 0.2
             }
            },
            "type": "bar"
           }
          ],
          "barpolar": [
           {
            "marker": {
             "line": {
              "color": "#E5ECF6",
              "width": 0.5
             },
             "pattern": {
              "fillmode": "overlay",
              "size": 10,
              "solidity": 0.2
             }
            },
            "type": "barpolar"
           }
          ],
          "carpet": [
           {
            "aaxis": {
             "endlinecolor": "#2a3f5f",
             "gridcolor": "white",
             "linecolor": "white",
             "minorgridcolor": "white",
             "startlinecolor": "#2a3f5f"
            },
            "baxis": {
             "endlinecolor": "#2a3f5f",
             "gridcolor": "white",
             "linecolor": "white",
             "minorgridcolor": "white",
             "startlinecolor": "#2a3f5f"
            },
            "type": "carpet"
           }
          ],
          "choropleth": [
           {
            "colorbar": {
             "outlinewidth": 0,
             "ticks": ""
            },
            "type": "choropleth"
           }
          ],
          "contour": [
           {
            "colorbar": {
             "outlinewidth": 0,
             "ticks": ""
            },
            "colorscale": [
             [
              0,
              "#0d0887"
             ],
             [
              0.1111111111111111,
              "#46039f"
             ],
             [
              0.2222222222222222,
              "#7201a8"
             ],
             [
              0.3333333333333333,
              "#9c179e"
             ],
             [
              0.4444444444444444,
              "#bd3786"
             ],
             [
              0.5555555555555556,
              "#d8576b"
             ],
             [
              0.6666666666666666,
              "#ed7953"
             ],
             [
              0.7777777777777778,
              "#fb9f3a"
             ],
             [
              0.8888888888888888,
              "#fdca26"
             ],
             [
              1,
              "#f0f921"
             ]
            ],
            "type": "contour"
           }
          ],
          "contourcarpet": [
           {
            "colorbar": {
             "outlinewidth": 0,
             "ticks": ""
            },
            "type": "contourcarpet"
           }
          ],
          "heatmap": [
           {
            "colorbar": {
             "outlinewidth": 0,
             "ticks": ""
            },
            "colorscale": [
             [
              0,
              "#0d0887"
             ],
             [
              0.1111111111111111,
              "#46039f"
             ],
             [
              0.2222222222222222,
              "#7201a8"
             ],
             [
              0.3333333333333333,
              "#9c179e"
             ],
             [
              0.4444444444444444,
              "#bd3786"
             ],
             [
              0.5555555555555556,
              "#d8576b"
             ],
             [
              0.6666666666666666,
              "#ed7953"
             ],
             [
              0.7777777777777778,
              "#fb9f3a"
             ],
             [
              0.8888888888888888,
              "#fdca26"
             ],
             [
              1,
              "#f0f921"
             ]
            ],
            "type": "heatmap"
           }
          ],
          "histogram": [
           {
            "marker": {
             "pattern": {
              "fillmode": "overlay",
              "size": 10,
              "solidity": 0.2
             }
            },
            "type": "histogram"
           }
          ],
          "histogram2d": [
           {
            "colorbar": {
             "outlinewidth": 0,
             "ticks": ""
            },
            "colorscale": [
             [
              0,
              "#0d0887"
             ],
             [
              0.1111111111111111,
              "#46039f"
             ],
             [
              0.2222222222222222,
              "#7201a8"
             ],
             [
              0.3333333333333333,
              "#9c179e"
             ],
             [
              0.4444444444444444,
              "#bd3786"
             ],
             [
              0.5555555555555556,
              "#d8576b"
             ],
             [
              0.6666666666666666,
              "#ed7953"
             ],
             [
              0.7777777777777778,
              "#fb9f3a"
             ],
             [
              0.8888888888888888,
              "#fdca26"
             ],
             [
              1,
              "#f0f921"
             ]
            ],
            "type": "histogram2d"
           }
          ],
          "histogram2dcontour": [
           {
            "colorbar": {
             "outlinewidth": 0,
             "ticks": ""
            },
            "colorscale": [
             [
              0,
              "#0d0887"
             ],
             [
              0.1111111111111111,
              "#46039f"
             ],
             [
              0.2222222222222222,
              "#7201a8"
             ],
             [
              0.3333333333333333,
              "#9c179e"
             ],
             [
              0.4444444444444444,
              "#bd3786"
             ],
             [
              0.5555555555555556,
              "#d8576b"
             ],
             [
              0.6666666666666666,
              "#ed7953"
             ],
             [
              0.7777777777777778,
              "#fb9f3a"
             ],
             [
              0.8888888888888888,
              "#fdca26"
             ],
             [
              1,
              "#f0f921"
             ]
            ],
            "type": "histogram2dcontour"
           }
          ],
          "mesh3d": [
           {
            "colorbar": {
             "outlinewidth": 0,
             "ticks": ""
            },
            "type": "mesh3d"
           }
          ],
          "parcoords": [
           {
            "line": {
             "colorbar": {
              "outlinewidth": 0,
              "ticks": ""
             }
            },
            "type": "parcoords"
           }
          ],
          "pie": [
           {
            "automargin": true,
            "type": "pie"
           }
          ],
          "scatter": [
           {
            "fillpattern": {
             "fillmode": "overlay",
             "size": 10,
             "solidity": 0.2
            },
            "type": "scatter"
           }
          ],
          "scatter3d": [
           {
            "line": {
             "colorbar": {
              "outlinewidth": 0,
              "ticks": ""
             }
            },
            "marker": {
             "colorbar": {
              "outlinewidth": 0,
              "ticks": ""
             }
            },
            "type": "scatter3d"
           }
          ],
          "scattercarpet": [
           {
            "marker": {
             "colorbar": {
              "outlinewidth": 0,
              "ticks": ""
             }
            },
            "type": "scattercarpet"
           }
          ],
          "scattergeo": [
           {
            "marker": {
             "colorbar": {
              "outlinewidth": 0,
              "ticks": ""
             }
            },
            "type": "scattergeo"
           }
          ],
          "scattergl": [
           {
            "marker": {
             "colorbar": {
              "outlinewidth": 0,
              "ticks": ""
             }
            },
            "type": "scattergl"
           }
          ],
          "scattermap": [
           {
            "marker": {
             "colorbar": {
              "outlinewidth": 0,
              "ticks": ""
             }
            },
            "type": "scattermap"
           }
          ],
          "scattermapbox": [
           {
            "marker": {
             "colorbar": {
              "outlinewidth": 0,
              "ticks": ""
             }
            },
            "type": "scattermapbox"
           }
          ],
          "scatterpolar": [
           {
            "marker": {
             "colorbar": {
              "outlinewidth": 0,
              "ticks": ""
             }
            },
            "type": "scatterpolar"
           }
          ],
          "scatterpolargl": [
           {
            "marker": {
             "colorbar": {
              "outlinewidth": 0,
              "ticks": ""
             }
            },
            "type": "scatterpolargl"
           }
          ],
          "scatterternary": [
           {
            "marker": {
             "colorbar": {
              "outlinewidth": 0,
              "ticks": ""
             }
            },
            "type": "scatterternary"
           }
          ],
          "surface": [
           {
            "colorbar": {
             "outlinewidth": 0,
             "ticks": ""
            },
            "colorscale": [
             [
              0,
              "#0d0887"
             ],
             [
              0.1111111111111111,
              "#46039f"
             ],
             [
              0.2222222222222222,
              "#7201a8"
             ],
             [
              0.3333333333333333,
              "#9c179e"
             ],
             [
              0.4444444444444444,
              "#bd3786"
             ],
             [
              0.5555555555555556,
              "#d8576b"
             ],
             [
              0.6666666666666666,
              "#ed7953"
             ],
             [
              0.7777777777777778,
              "#fb9f3a"
             ],
             [
              0.8888888888888888,
              "#fdca26"
             ],
             [
              1,
              "#f0f921"
             ]
            ],
            "type": "surface"
           }
          ],
          "table": [
           {
            "cells": {
             "fill": {
              "color": "#EBF0F8"
             },
             "line": {
              "color": "white"
             }
            },
            "header": {
             "fill": {
              "color": "#C8D4E3"
             },
             "line": {
              "color": "white"
             }
            },
            "type": "table"
           }
          ]
         },
         "layout": {
          "annotationdefaults": {
           "arrowcolor": "#2a3f5f",
           "arrowhead": 0,
           "arrowwidth": 1
          },
          "autotypenumbers": "strict",
          "coloraxis": {
           "colorbar": {
            "outlinewidth": 0,
            "ticks": ""
           }
          },
          "colorscale": {
           "diverging": [
            [
             0,
             "#8e0152"
            ],
            [
             0.1,
             "#c51b7d"
            ],
            [
             0.2,
             "#de77ae"
            ],
            [
             0.3,
             "#f1b6da"
            ],
            [
             0.4,
             "#fde0ef"
            ],
            [
             0.5,
             "#f7f7f7"
            ],
            [
             0.6,
             "#e6f5d0"
            ],
            [
             0.7,
             "#b8e186"
            ],
            [
             0.8,
             "#7fbc41"
            ],
            [
             0.9,
             "#4d9221"
            ],
            [
             1,
             "#276419"
            ]
           ],
           "sequential": [
            [
             0,
             "#0d0887"
            ],
            [
             0.1111111111111111,
             "#46039f"
            ],
            [
             0.2222222222222222,
             "#7201a8"
            ],
            [
             0.3333333333333333,
             "#9c179e"
            ],
            [
             0.4444444444444444,
             "#bd3786"
            ],
            [
             0.5555555555555556,
             "#d8576b"
            ],
            [
             0.6666666666666666,
             "#ed7953"
            ],
            [
             0.7777777777777778,
             "#fb9f3a"
            ],
            [
             0.8888888888888888,
             "#fdca26"
            ],
            [
             1,
             "#f0f921"
            ]
           ],
           "sequentialminus": [
            [
             0,
             "#0d0887"
            ],
            [
             0.1111111111111111,
             "#46039f"
            ],
            [
             0.2222222222222222,
             "#7201a8"
            ],
            [
             0.3333333333333333,
             "#9c179e"
            ],
            [
             0.4444444444444444,
             "#bd3786"
            ],
            [
             0.5555555555555556,
             "#d8576b"
            ],
            [
             0.6666666666666666,
             "#ed7953"
            ],
            [
             0.7777777777777778,
             "#fb9f3a"
            ],
            [
             0.8888888888888888,
             "#fdca26"
            ],
            [
             1,
             "#f0f921"
            ]
           ]
          },
          "colorway": [
           "#636efa",
           "#EF553B",
           "#00cc96",
           "#ab63fa",
           "#FFA15A",
           "#19d3f3",
           "#FF6692",
           "#B6E880",
           "#FF97FF",
           "#FECB52"
          ],
          "font": {
           "color": "#2a3f5f"
          },
          "geo": {
           "bgcolor": "white",
           "lakecolor": "white",
           "landcolor": "#E5ECF6",
           "showlakes": true,
           "showland": true,
           "subunitcolor": "white"
          },
          "hoverlabel": {
           "align": "left"
          },
          "hovermode": "closest",
          "mapbox": {
           "style": "light"
          },
          "paper_bgcolor": "white",
          "plot_bgcolor": "#E5ECF6",
          "polar": {
           "angularaxis": {
            "gridcolor": "white",
            "linecolor": "white",
            "ticks": ""
           },
           "bgcolor": "#E5ECF6",
           "radialaxis": {
            "gridcolor": "white",
            "linecolor": "white",
            "ticks": ""
           }
          },
          "scene": {
           "xaxis": {
            "backgroundcolor": "#E5ECF6",
            "gridcolor": "white",
            "gridwidth": 2,
            "linecolor": "white",
            "showbackground": true,
            "ticks": "",
            "zerolinecolor": "white"
           },
           "yaxis": {
            "backgroundcolor": "#E5ECF6",
            "gridcolor": "white",
            "gridwidth": 2,
            "linecolor": "white",
            "showbackground": true,
            "ticks": "",
            "zerolinecolor": "white"
           },
           "zaxis": {
            "backgroundcolor": "#E5ECF6",
            "gridcolor": "white",
            "gridwidth": 2,
            "linecolor": "white",
            "showbackground": true,
            "ticks": "",
            "zerolinecolor": "white"
           }
          },
          "shapedefaults": {
           "line": {
            "color": "#2a3f5f"
           }
          },
          "ternary": {
           "aaxis": {
            "gridcolor": "white",
            "linecolor": "white",
            "ticks": ""
           },
           "baxis": {
            "gridcolor": "white",
            "linecolor": "white",
            "ticks": ""
           },
           "bgcolor": "#E5ECF6",
           "caxis": {
            "gridcolor": "white",
            "linecolor": "white",
            "ticks": ""
           }
          },
          "title": {
           "x": 0.05
          },
          "xaxis": {
           "automargin": true,
           "gridcolor": "white",
           "linecolor": "white",
           "ticks": "",
           "title": {
            "standoff": 15
           },
           "zerolinecolor": "white",
           "zerolinewidth": 2
          },
          "yaxis": {
           "automargin": true,
           "gridcolor": "white",
           "linecolor": "white",
           "ticks": "",
           "title": {
            "standoff": 15
           },
           "zerolinecolor": "white",
           "zerolinewidth": 2
          }
         }
        },
        "title": {
         "text": "France_CAC40 Portfolio Evolution (Return: 1.10%)"
        },
        "xaxis": {
         "title": {
          "text": "Trading Steps"
         }
        },
        "yaxis": {
         "title": {
          "text": "Portfolio Value ($)"
         }
        }
       }
      }
     },
     "metadata": {},
     "output_type": "display_data"
    },
    {
     "data": {
      "application/vnd.plotly.v1+json": {
       "config": {
        "plotlyServerURL": "https://plot.ly"
       },
       "data": [
        {
         "mode": "lines",
         "name": "Price",
         "type": "scatter",
         "x": [
          0,
          1,
          2,
          3,
          4,
          5,
          6,
          7,
          8,
          9,
          10,
          11,
          12,
          13,
          14,
          15,
          16,
          17,
          18,
          19,
          20,
          21,
          22,
          23,
          24,
          25,
          26,
          27,
          28,
          29,
          30,
          31,
          32,
          33,
          34,
          35,
          36,
          37,
          38,
          39,
          40,
          41,
          42,
          43,
          44,
          45,
          46,
          47,
          48,
          49,
          50,
          51,
          52,
          53,
          54,
          55,
          56,
          57,
          58,
          59,
          60,
          61,
          62,
          63,
          64,
          65,
          66,
          67,
          68,
          69,
          70,
          71,
          72,
          73,
          74,
          75,
          76,
          77,
          78,
          79,
          80,
          81,
          82,
          83,
          84,
          85,
          86,
          87,
          88,
          89,
          90,
          91,
          92,
          93,
          94,
          95,
          96,
          97,
          98,
          99,
          100,
          101,
          102,
          103,
          104,
          105,
          106,
          107,
          108,
          109,
          110,
          111,
          112,
          113,
          114,
          115,
          116,
          117,
          118,
          119,
          120,
          121,
          122,
          123,
          124,
          125,
          126,
          127,
          128,
          129,
          130,
          131,
          132,
          133,
          134,
          135,
          136,
          137,
          138,
          139,
          140,
          141,
          142,
          143,
          144,
          145,
          146,
          147,
          148,
          149,
          150,
          151,
          152,
          153,
          154,
          155,
          156,
          157,
          158,
          159,
          160,
          161,
          162,
          163,
          164,
          165,
          166,
          167,
          168,
          169,
          170,
          171,
          172,
          173,
          174,
          175,
          176,
          177,
          178,
          179,
          180,
          181,
          182,
          183,
          184,
          185,
          186,
          187,
          188,
          189,
          190,
          191,
          192,
          193,
          194,
          195,
          196,
          197,
          198,
          199,
          200,
          201,
          202,
          203,
          204,
          205,
          206,
          207,
          208,
          209,
          210,
          211,
          212,
          213,
          214,
          215,
          216,
          217,
          218,
          219,
          220,
          221,
          222,
          223,
          224,
          225,
          226,
          227,
          228,
          229,
          230,
          231,
          232,
          233,
          234,
          235,
          236,
          237,
          238,
          239,
          240,
          241,
          242,
          243,
          244,
          245,
          246,
          247,
          248,
          249,
          250,
          251,
          252,
          253,
          254,
          255
         ],
         "y": {
          "bdata": "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",
          "dtype": "f8"
         }
        },
        {
         "marker": {
          "color": "green",
          "size": 10,
          "symbol": "triangle-up"
         },
         "mode": "markers",
         "name": "Buy Signal",
         "type": "scatter",
         "x": [
          0,
          2,
          3,
          4,
          5,
          6,
          7,
          8,
          9,
          10,
          11,
          12,
          13,
          14,
          15,
          16,
          17,
          18,
          19,
          20,
          21,
          22,
          23,
          24,
          25,
          26,
          27,
          28,
          29,
          30,
          31,
          32,
          33,
          34,
          35,
          36,
          37,
          38,
          39,
          40,
          41,
          43,
          44,
          46,
          47,
          48,
          49,
          50,
          51,
          52,
          53,
          55,
          75,
          77,
          78,
          81,
          85,
          86,
          87,
          88,
          89,
          90,
          91,
          92,
          93,
          108,
          109,
          113,
          116,
          117,
          118,
          119,
          120,
          121,
          122,
          123,
          124,
          125,
          126,
          127,
          128,
          129,
          130,
          131,
          132,
          133,
          134,
          135,
          136,
          137,
          138,
          139,
          140,
          141,
          142,
          143,
          144,
          145,
          146,
          147,
          148,
          151,
          152,
          153,
          154,
          155,
          156,
          157,
          158,
          159,
          160,
          161,
          162,
          163,
          164,
          165,
          166,
          167,
          168,
          169,
          170,
          171,
          172,
          173,
          174,
          176,
          177,
          178,
          179,
          180,
          181,
          182,
          183,
          184,
          185,
          186,
          187,
          188,
          189,
          190,
          192,
          193,
          195,
          196,
          197,
          198,
          199,
          200,
          201,
          202,
          203,
          204,
          205,
          206,
          207,
          208,
          209,
          210,
          211,
          212,
          213,
          214,
          215,
          216,
          217,
          218,
          219,
          220,
          221,
          222,
          223,
          224,
          225,
          226,
          227,
          228,
          229,
          230,
          231,
          232,
          233,
          234,
          235,
          236,
          237,
          238,
          239,
          240,
          241,
          242,
          243,
          244,
          245,
          246,
          247,
          248,
          249,
          250,
          251,
          252,
          253,
          254
         ],
         "y": [
          7530.85986328125,
          7450.6298828125,
          7420.68994140625,
          7450.240234375,
          7426.6201171875,
          7426.080078125,
          7387.6201171875,
          7465.14013671875,
          7411.68017578125,
          7398,
          7318.68994140625,
          7401.35009765625,
          7371.64013671875,
          7413.25,
          7388.0400390625,
          7455.64013671875,
          7464.2001953125,
          7634.14013671875,
          7640.81005859375,
          7677.47021484375,
          7656.75,
          7588.75,
          7592.259765625,
          7589.9599609375,
          7638.97021484375,
          7611.259765625,
          7665.6298828125,
          7647.52001953125,
          7689.7998046875,
          7625.31005859375,
          7677.35009765625,
          7743.419921875,
          7768.18017578125,
          7768.5498046875,
          7795.22021484375,
          7812.08984375,
          7911.60009765625,
          7966.68017578125,
          7929.81982421875,
          7948.39990234375,
          7954.39013671875,
          7934.169921875,
          7956.41015625,
          7954.740234375,
          8016.22021484375,
          8028.009765625,
          8019.72998046875,
          8087.47998046875,
          8137.580078125,
          8161.419921875,
          8164.35009765625,
          8201.0498046875,
          8023.259765625,
          8040.35986328125,
          8105.77978515625,
          8088.240234375,
          7957.56982421875,
          7996.64013671875,
          8075.68017578125,
          8131.41015625,
          8187.64990234375,
          8219.1396484375,
          8209.2802734375,
          8225.7998046875,
          8239.990234375,
          8006.56982421875,
          8040.1201171875,
          7864.7001953125,
          7571.56982421875,
          7628.7998046875,
          7570.2001953125,
          7671.33984375,
          7628.56982421875,
          7706.89013671875,
          7662.2998046875,
          7609.14990234375,
          7530.72021484375,
          7479.39990234375,
          7561.1298828125,
          7538.2900390625,
          7632.080078125,
          7695.77978515625,
          7675.6201171875,
          7627.4501953125,
          7508.66015625,
          7573.5498046875,
          7627.1298828125,
          7724.31982421875,
          7632.7099609375,
          7580.02978515625,
          7570.81005859375,
          7586.5498046875,
          7534.52001953125,
          7622.02001953125,
          7598.6298828125,
          7513.72998046875,
          7427.02001953125,
          7517.68017578125,
          7443.83984375,
          7474.93994140625,
          7531.490234375,
          7148.990234375,
          7130.0400390625,
          7266.009765625,
          7247.4501953125,
          7269.7099609375,
          7250.669921875,
          7275.8701171875,
          7333.35986328125,
          7423.3701171875,
          7449.7001953125,
          7484.169921875,
          7485.72998046875,
          7524.72021484375,
          7524.10986328125,
          7577.0400390625,
          7590.3701171875,
          7565.77978515625,
          7577.669921875,
          7640.9501953125,
          7630.9501953125,
          7646.419921875,
          7575.10009765625,
          7500.97021484375,
          7431.9599609375,
          7425.259765625,
          7407.5498046875,
          7396.830078125,
          7435.06982421875,
          7465.25,
          7449.43994140625,
          7487.419921875,
          7444.89990234375,
          7615.41015625,
          7500.259765625,
          7508.080078125,
          7604.009765625,
          7565.6201171875,
          7742.08984375,
          7791.7900390625,
          7574.06982421875,
          7577.58984375,
          7541.35986328125,
          7576.02001953125,
          7521.31982421875,
          7560.08984375,
          7541.58984375,
          7577.89013671875,
          7602.06005859375,
          7521.97021484375,
          7492,
          7583.72998046875,
          7613.0498046875,
          7536.22998046875,
          7535.10009765625,
          7497.47998046875,
          7503.27978515625,
          7497.5400390625,
          7556.93994140625,
          7511.10986328125,
          7428.35986328125,
          7350.3701171875,
          7409.10986328125,
          7371.7099609375,
          7407.14990234375,
          7369.60986328125,
          7425.60009765625,
          7338.669921875,
          7426.8798828125,
          7226.97998046875,
          7216.830078125,
          7311.7998046875,
          7269.6298828125,
          7278.22998046875,
          7229.64013671875,
          7198.4501953125,
          7213.31982421875,
          7255.009765625,
          7257.47021484375,
          7194.509765625,
          7143.02978515625,
          7179.25,
          7235.10986328125,
          7236.89013671875,
          7255.419921875,
          7303.27978515625,
          7330.5400390625,
          7426.8798828125,
          7480.14013671875,
          7394.77978515625,
          7423.39990234375,
          7420.93994140625,
          7409.56982421875,
          7357.080078125,
          7365.7001953125,
          7384.6201171875,
          7294.3701171875,
          7274.47998046875,
          7272.31982421875,
          7282.68994140625,
          7355.3701171875,
          7313.56005859375
         ]
        },
        {
         "marker": {
          "color": "red",
          "size": 10,
          "symbol": "triangle-down"
         },
         "mode": "markers",
         "name": "Sell Signal",
         "type": "scatter",
         "x": [
          1,
          42,
          45,
          54,
          56,
          57,
          58,
          59,
          60,
          61,
          62,
          63,
          64,
          65,
          66,
          67,
          68,
          69,
          70,
          71,
          72,
          73,
          74,
          83,
          84,
          97,
          98,
          99,
          100,
          102,
          103,
          115,
          149,
          150,
          175,
          191,
          194
         ],
         "y": [
          7411.85986328125,
          7927.43017578125,
          7932.81982421875,
          8148.14013671875,
          8161.41015625,
          8179.72021484375,
          8151.919921875,
          8151.60009765625,
          8184.75,
          8204.8095703125,
          8205.8095703125,
          8130.0498046875,
          8153.22998046875,
          8151.5498046875,
          8061.31005859375,
          8119.2998046875,
          8049.169921875,
          8045.3798828125,
          8023.740234375,
          8010.830078125,
          8045.10986328125,
          7932.60986328125,
          7981.509765625,
          7984.93017578125,
          7914.64990234375,
          8141.4599609375,
          8092.10986328125,
          8102.330078125,
          8094.97021484375,
          8057.7998046875,
          7935.02978515625,
          7503.27001953125,
          7370.4501953125,
          7251.7998046875,
          7352.2998046875,
          7635.75,
          7477.77978515625
         ]
        }
       ],
       "layout": {
        "template": {
         "data": {
          "bar": [
           {
            "error_x": {
             "color": "#2a3f5f"
            },
            "error_y": {
             "color": "#2a3f5f"
            },
            "marker": {
             "line": {
              "color": "#E5ECF6",
              "width": 0.5
             },
             "pattern": {
              "fillmode": "overlay",
              "size": 10,
              "solidity": 0.2
             }
            },
            "type": "bar"
           }
          ],
          "barpolar": [
           {
            "marker": {
             "line": {
              "color": "#E5ECF6",
              "width": 0.5
             },
             "pattern": {
              "fillmode": "overlay",
              "size": 10,
              "solidity": 0.2
             }
            },
            "type": "barpolar"
           }
          ],
          "carpet": [
           {
            "aaxis": {
             "endlinecolor": "#2a3f5f",
             "gridcolor": "white",
             "linecolor": "white",
             "minorgridcolor": "white",
             "startlinecolor": "#2a3f5f"
            },
            "baxis": {
             "endlinecolor": "#2a3f5f",
             "gridcolor": "white",
             "linecolor": "white",
             "minorgridcolor": "white",
             "startlinecolor": "#2a3f5f"
            },
            "type": "carpet"
           }
          ],
          "choropleth": [
           {
            "colorbar": {
             "outlinewidth": 0,
             "ticks": ""
            },
            "type": "choropleth"
           }
          ],
          "contour": [
           {
            "colorbar": {
             "outlinewidth": 0,
             "ticks": ""
            },
            "colorscale": [
             [
              0,
              "#0d0887"
             ],
             [
              0.1111111111111111,
              "#46039f"
             ],
             [
              0.2222222222222222,
              "#7201a8"
             ],
             [
              0.3333333333333333,
              "#9c179e"
             ],
             [
              0.4444444444444444,
              "#bd3786"
             ],
             [
              0.5555555555555556,
              "#d8576b"
             ],
             [
              0.6666666666666666,
              "#ed7953"
             ],
             [
              0.7777777777777778,
              "#fb9f3a"
             ],
             [
              0.8888888888888888,
              "#fdca26"
             ],
             [
              1,
              "#f0f921"
             ]
            ],
            "type": "contour"
           }
          ],
          "contourcarpet": [
           {
            "colorbar": {
             "outlinewidth": 0,
             "ticks": ""
            },
            "type": "contourcarpet"
           }
          ],
          "heatmap": [
           {
            "colorbar": {
             "outlinewidth": 0,
             "ticks": ""
            },
            "colorscale": [
             [
              0,
              "#0d0887"
             ],
             [
              0.1111111111111111,
              "#46039f"
             ],
             [
              0.2222222222222222,
              "#7201a8"
             ],
             [
              0.3333333333333333,
              "#9c179e"
             ],
             [
              0.4444444444444444,
              "#bd3786"
             ],
             [
              0.5555555555555556,
              "#d8576b"
             ],
             [
              0.6666666666666666,
              "#ed7953"
             ],
             [
              0.7777777777777778,
              "#fb9f3a"
             ],
             [
              0.8888888888888888,
              "#fdca26"
             ],
             [
              1,
              "#f0f921"
             ]
            ],
            "type": "heatmap"
           }
          ],
          "histogram": [
           {
            "marker": {
             "pattern": {
              "fillmode": "overlay",
              "size": 10,
              "solidity": 0.2
             }
            },
            "type": "histogram"
           }
          ],
          "histogram2d": [
           {
            "colorbar": {
             "outlinewidth": 0,
             "ticks": ""
            },
            "colorscale": [
             [
              0,
              "#0d0887"
             ],
             [
              0.1111111111111111,
              "#46039f"
             ],
             [
              0.2222222222222222,
              "#7201a8"
             ],
             [
              0.3333333333333333,
              "#9c179e"
             ],
             [
              0.4444444444444444,
              "#bd3786"
             ],
             [
              0.5555555555555556,
              "#d8576b"
             ],
             [
              0.6666666666666666,
              "#ed7953"
             ],
             [
              0.7777777777777778,
              "#fb9f3a"
             ],
             [
              0.8888888888888888,
              "#fdca26"
             ],
             [
              1,
              "#f0f921"
             ]
            ],
            "type": "histogram2d"
           }
          ],
          "histogram2dcontour": [
           {
            "colorbar": {
             "outlinewidth": 0,
             "ticks": ""
            },
            "colorscale": [
             [
              0,
              "#0d0887"
             ],
             [
              0.1111111111111111,
              "#46039f"
             ],
             [
              0.2222222222222222,
              "#7201a8"
             ],
             [
              0.3333333333333333,
              "#9c179e"
             ],
             [
              0.4444444444444444,
              "#bd3786"
             ],
             [
              0.5555555555555556,
              "#d8576b"
             ],
             [
              0.6666666666666666,
              "#ed7953"
             ],
             [
              0.7777777777777778,
              "#fb9f3a"
             ],
             [
              0.8888888888888888,
              "#fdca26"
             ],
             [
              1,
              "#f0f921"
             ]
            ],
            "type": "histogram2dcontour"
           }
          ],
          "mesh3d": [
           {
            "colorbar": {
             "outlinewidth": 0,
             "ticks": ""
            },
            "type": "mesh3d"
           }
          ],
          "parcoords": [
           {
            "line": {
             "colorbar": {
              "outlinewidth": 0,
              "ticks": ""
             }
            },
            "type": "parcoords"
           }
          ],
          "pie": [
           {
            "automargin": true,
            "type": "pie"
           }
          ],
          "scatter": [
           {
            "fillpattern": {
             "fillmode": "overlay",
             "size": 10,
             "solidity": 0.2
            },
            "type": "scatter"
           }
          ],
          "scatter3d": [
           {
            "line": {
             "colorbar": {
              "outlinewidth": 0,
              "ticks": ""
             }
            },
            "marker": {
             "colorbar": {
              "outlinewidth": 0,
              "ticks": ""
             }
            },
            "type": "scatter3d"
           }
          ],
          "scattercarpet": [
           {
            "marker": {
             "colorbar": {
              "outlinewidth": 0,
              "ticks": ""
             }
            },
            "type": "scattercarpet"
           }
          ],
          "scattergeo": [
           {
            "marker": {
             "colorbar": {
              "outlinewidth": 0,
              "ticks": ""
             }
            },
            "type": "scattergeo"
           }
          ],
          "scattergl": [
           {
            "marker": {
             "colorbar": {
              "outlinewidth": 0,
              "ticks": ""
             }
            },
            "type": "scattergl"
           }
          ],
          "scattermap": [
           {
            "marker": {
             "colorbar": {
              "outlinewidth": 0,
              "ticks": ""
             }
            },
            "type": "scattermap"
           }
          ],
          "scattermapbox": [
           {
            "marker": {
             "colorbar": {
              "outlinewidth": 0,
              "ticks": ""
             }
            },
            "type": "scattermapbox"
           }
          ],
          "scatterpolar": [
           {
            "marker": {
             "colorbar": {
              "outlinewidth": 0,
              "ticks": ""
             }
            },
            "type": "scatterpolar"
           }
          ],
          "scatterpolargl": [
           {
            "marker": {
             "colorbar": {
              "outlinewidth": 0,
              "ticks": ""
             }
            },
            "type": "scatterpolargl"
           }
          ],
          "scatterternary": [
           {
            "marker": {
             "colorbar": {
              "outlinewidth": 0,
              "ticks": ""
             }
            },
            "type": "scatterternary"
           }
          ],
          "surface": [
           {
            "colorbar": {
             "outlinewidth": 0,
             "ticks": ""
            },
            "colorscale": [
             [
              0,
              "#0d0887"
             ],
             [
              0.1111111111111111,
              "#46039f"
             ],
             [
              0.2222222222222222,
              "#7201a8"
             ],
             [
              0.3333333333333333,
              "#9c179e"
             ],
             [
              0.4444444444444444,
              "#bd3786"
             ],
             [
              0.5555555555555556,
              "#d8576b"
             ],
             [
              0.6666666666666666,
              "#ed7953"
             ],
             [
              0.7777777777777778,
              "#fb9f3a"
             ],
             [
              0.8888888888888888,
              "#fdca26"
             ],
             [
              1,
              "#f0f921"
             ]
            ],
            "type": "surface"
           }
          ],
          "table": [
           {
            "cells": {
             "fill": {
              "color": "#EBF0F8"
             },
             "line": {
              "color": "white"
             }
            },
            "header": {
             "fill": {
              "color": "#C8D4E3"
             },
             "line": {
              "color": "white"
             }
            },
            "type": "table"
           }
          ]
         },
         "layout": {
          "annotationdefaults": {
           "arrowcolor": "#2a3f5f",
           "arrowhead": 0,
           "arrowwidth": 1
          },
          "autotypenumbers": "strict",
          "coloraxis": {
           "colorbar": {
            "outlinewidth": 0,
            "ticks": ""
           }
          },
          "colorscale": {
           "diverging": [
            [
             0,
             "#8e0152"
            ],
            [
             0.1,
             "#c51b7d"
            ],
            [
             0.2,
             "#de77ae"
            ],
            [
             0.3,
             "#f1b6da"
            ],
            [
             0.4,
             "#fde0ef"
            ],
            [
             0.5,
             "#f7f7f7"
            ],
            [
             0.6,
             "#e6f5d0"
            ],
            [
             0.7,
             "#b8e186"
            ],
            [
             0.8,
             "#7fbc41"
            ],
            [
             0.9,
             "#4d9221"
            ],
            [
             1,
             "#276419"
            ]
           ],
           "sequential": [
            [
             0,
             "#0d0887"
            ],
            [
             0.1111111111111111,
             "#46039f"
            ],
            [
             0.2222222222222222,
             "#7201a8"
            ],
            [
             0.3333333333333333,
             "#9c179e"
            ],
            [
             0.4444444444444444,
             "#bd3786"
            ],
            [
             0.5555555555555556,
             "#d8576b"
            ],
            [
             0.6666666666666666,
             "#ed7953"
            ],
            [
             0.7777777777777778,
             "#fb9f3a"
            ],
            [
             0.8888888888888888,
             "#fdca26"
            ],
            [
             1,
             "#f0f921"
            ]
           ],
           "sequentialminus": [
            [
             0,
             "#0d0887"
            ],
            [
             0.1111111111111111,
             "#46039f"
            ],
            [
             0.2222222222222222,
             "#7201a8"
            ],
            [
             0.3333333333333333,
             "#9c179e"
            ],
            [
             0.4444444444444444,
             "#bd3786"
            ],
            [
             0.5555555555555556,
             "#d8576b"
            ],
            [
             0.6666666666666666,
             "#ed7953"
            ],
            [
             0.7777777777777778,
             "#fb9f3a"
            ],
            [
             0.8888888888888888,
             "#fdca26"
            ],
            [
             1,
             "#f0f921"
            ]
           ]
          },
          "colorway": [
           "#636efa",
           "#EF553B",
           "#00cc96",
           "#ab63fa",
           "#FFA15A",
           "#19d3f3",
           "#FF6692",
           "#B6E880",
           "#FF97FF",
           "#FECB52"
          ],
          "font": {
           "color": "#2a3f5f"
          },
          "geo": {
           "bgcolor": "white",
           "lakecolor": "white",
           "landcolor": "#E5ECF6",
           "showlakes": true,
           "showland": true,
           "subunitcolor": "white"
          },
          "hoverlabel": {
           "align": "left"
          },
          "hovermode": "closest",
          "mapbox": {
           "style": "light"
          },
          "paper_bgcolor": "white",
          "plot_bgcolor": "#E5ECF6",
          "polar": {
           "angularaxis": {
            "gridcolor": "white",
            "linecolor": "white",
            "ticks": ""
           },
           "bgcolor": "#E5ECF6",
           "radialaxis": {
            "gridcolor": "white",
            "linecolor": "white",
            "ticks": ""
           }
          },
          "scene": {
           "xaxis": {
            "backgroundcolor": "#E5ECF6",
            "gridcolor": "white",
            "gridwidth": 2,
            "linecolor": "white",
            "showbackground": true,
            "ticks": "",
            "zerolinecolor": "white"
           },
           "yaxis": {
            "backgroundcolor": "#E5ECF6",
            "gridcolor": "white",
            "gridwidth": 2,
            "linecolor": "white",
            "showbackground": true,
            "ticks": "",
            "zerolinecolor": "white"
           },
           "zaxis": {
            "backgroundcolor": "#E5ECF6",
            "gridcolor": "white",
            "gridwidth": 2,
            "linecolor": "white",
            "showbackground": true,
            "ticks": "",
            "zerolinecolor": "white"
           }
          },
          "shapedefaults": {
           "line": {
            "color": "#2a3f5f"
           }
          },
          "ternary": {
           "aaxis": {
            "gridcolor": "white",
            "linecolor": "white",
            "ticks": ""
           },
           "baxis": {
            "gridcolor": "white",
            "linecolor": "white",
            "ticks": ""
           },
           "bgcolor": "#E5ECF6",
           "caxis": {
            "gridcolor": "white",
            "linecolor": "white",
            "ticks": ""
           }
          },
          "title": {
           "x": 0.05
          },
          "xaxis": {
           "automargin": true,
           "gridcolor": "white",
           "linecolor": "white",
           "ticks": "",
           "title": {
            "standoff": 15
           },
           "zerolinecolor": "white",
           "zerolinewidth": 2
          },
          "yaxis": {
           "automargin": true,
           "gridcolor": "white",
           "linecolor": "white",
           "ticks": "",
           "title": {
            "standoff": 15
           },
           "zerolinecolor": "white",
           "zerolinewidth": 2
          }
         }
        },
        "title": {
         "text": "France_CAC40 Price with Buy/Sell Signals"
        },
        "xaxis": {
         "title": {
          "text": "Trading Steps"
         }
        },
        "yaxis": {
         "title": {
          "text": "Price ($)"
         }
        }
       }
      }
     },
     "metadata": {},
     "output_type": "display_data"
    }
   ],
   "source": [
    "import numpy as np\n",
    "import pandas as pd\n",
    "import yfinance as yf\n",
    "import talib\n",
    "import torch\n",
    "import torch.nn as nn\n",
    "import torch.optim as optim\n",
    "from collections import deque\n",
    "import plotly.graph_objects as go\n",
    "import warnings\n",
    "warnings.filterwarnings('ignore')\n",
    "\n",
    "# Set the device for computation\n",
    "device = torch.device('cuda' if torch.cuda.is_available() else 'cpu')\n",
    "print(f\"Using device: {device}\")\n",
    "\n",
    "# -------------------------\n",
    "# DataHandler: Downloads and Prepares Test Data\n",
    "# -------------------------\n",
    "class DataHandler:\n",
    "    def __init__(self):\n",
    "        from sklearn.preprocessing import MinMaxScaler\n",
    "        self.scaler = MinMaxScaler()\n",
    "        \n",
    "    def fetch_data(self, symbol, start_date, end_date):\n",
    "        print(f\"\\nFetching data for {symbol} from {start_date} to {end_date}...\")\n",
    "        df = yf.download(symbol, start=start_date, end=end_date)\n",
    "        if df.empty:\n",
    "            raise ValueError(f\"No data found for {symbol}\")\n",
    "        return self.prepare_data(df)\n",
    "    \n",
    "    def prepare_data(self, df):\n",
    "        df = df.copy()\n",
    "        # Preserve original closing price for portfolio calculations\n",
    "        df['CloseOrig'] = df['Close'].astype(float)\n",
    "        \n",
    "        # Convert to one-dimensional float64 numpy arrays\n",
    "        close_prices = np.array(df['Close'], dtype=np.float64).flatten()\n",
    "        volume = np.array(df['Volume'], dtype=np.float64).flatten()\n",
    "        \n",
    "        # Compute technical indicators\n",
    "        df['Returns'] = df['Close'].pct_change()\n",
    "        df['SMA_20'] = talib.SMA(close_prices, timeperiod=20)\n",
    "        df['EMA_20'] = talib.EMA(close_prices, timeperiod=20)\n",
    "        df['RSI'] = talib.RSI(close_prices, timeperiod=14)\n",
    "        macd, signal, _ = talib.MACD(close_prices)\n",
    "        df['MACD'] = macd\n",
    "        df['MACD_signal'] = signal\n",
    "        bb_upper, bb_middle, bb_lower = talib.BBANDS(close_prices)\n",
    "        df['BB_upper'] = bb_upper\n",
    "        df['BB_middle'] = bb_middle\n",
    "        df['BB_lower'] = bb_lower\n",
    "        df['OBV'] = talib.OBV(close_prices, volume)\n",
    "        df['MOM'] = talib.MOM(close_prices, timeperiod=14)\n",
    "        \n",
    "        # Define state representation features (do not scale CloseOrig)\n",
    "        features = ['Close', 'Returns', 'SMA_20', 'EMA_20', 'RSI', \n",
    "                    'MACD', 'MACD_signal', 'BB_upper', 'BB_middle',\n",
    "                    'BB_lower', 'OBV', 'MOM']\n",
    "        # Fill missing values and normalize\n",
    "        df[features] = df[features].fillna(method='ffill').fillna(method='bfill')\n",
    "        df[features] = self.scaler.fit_transform(df[features])\n",
    "        df = df.dropna()\n",
    "        print(f\"Data shape after preparation: {df.shape}\")\n",
    "        return df\n",
    "\n",
    "# -------------------------\n",
    "# Trading Environment for Testing\n",
    "# -------------------------\n",
    "class TradingEnvironment:\n",
    "    def __init__(self, data, initial_balance=10000):\n",
    "        if data.empty:\n",
    "            raise ValueError(\"Data cannot be empty\")\n",
    "        # Reset index for sequential simulation\n",
    "        self.data = data.reset_index(drop=True)\n",
    "        self.initial_balance = initial_balance\n",
    "        # Must match training state features\n",
    "        self.features = ['Close', 'Returns', 'SMA_20', 'EMA_20', 'RSI', \n",
    "                         'MACD', 'MACD_signal', 'BB_upper', 'BB_middle',\n",
    "                         'BB_lower', 'OBV', 'MOM']\n",
    "        if 'CloseOrig' not in self.data.columns:\n",
    "            raise ValueError(\"Missing 'CloseOrig' column.\")\n",
    "        self.reset()\n",
    "    \n",
    "    def reset(self):\n",
    "        self.balance = self.initial_balance\n",
    "        self.position = 0.0  # Number of shares held\n",
    "        self.current_step = 0\n",
    "        self.portfolio_value_history = [self.initial_balance]\n",
    "        return self._get_state()\n",
    "    \n",
    "    def _get_state(self):\n",
    "        return self.data.iloc[self.current_step][self.features].values\n",
    "    \n",
    "    def step(self, action):\n",
    "        # Retrieve the unscaled current price for trading decisions.\n",
    "        current_price = float(self.data.iloc[self.current_step]['CloseOrig'])\n",
    "        prev_value = self.portfolio_value_history[-1]\n",
    "        \n",
    "        # Action mapping (5 discrete actions):\n",
    "        # 0: Sell all, 1: Sell half, 2: Hold\n",
    "        # 3: Buy with 50% available cash, 4: Buy with full available cash.\n",
    "        if current_price > 0:\n",
    "            if action == 0 and self.position > 0:\n",
    "                self.balance += current_price * self.position\n",
    "                self.position = 0.0\n",
    "            elif action == 1 and self.position > 0:\n",
    "                shares_to_sell = self.position * 0.5\n",
    "                self.balance += current_price * shares_to_sell\n",
    "                self.position -= shares_to_sell\n",
    "            elif action == 3 and self.balance > 0:\n",
    "                cash_to_use = self.balance * 0.5\n",
    "                shares_to_buy = cash_to_use / current_price\n",
    "                self.position += shares_to_buy\n",
    "                self.balance -= cash_to_use\n",
    "            elif action == 4 and self.balance > 0:\n",
    "                shares_to_buy = self.balance / current_price\n",
    "                self.position += shares_to_buy\n",
    "                self.balance = 0\n",
    "                \n",
    "        new_value = self.balance + (self.position * current_price)\n",
    "        self.portfolio_value_history.append(new_value)\n",
    "        \n",
    "        reward = (new_value - prev_value) / prev_value if prev_value > 0 else 0\n",
    "        \n",
    "        self.current_step += 1\n",
    "        done = (self.current_step >= len(self.data) - 1)\n",
    "        next_state = self._get_state() if not done else np.zeros(len(self.features))\n",
    "        return next_state, reward, done\n",
    "\n",
    "# -------------------------\n",
    "# DQNAgent: Defines the Network & Action Selection (Greedy for Testing)\n",
    "# -------------------------\n",
    "class DQNAgent(nn.Module):\n",
    "    def __init__(self, state_size, action_size):\n",
    "        super(DQNAgent, self).__init__()\n",
    "        self.state_size = state_size\n",
    "        self.action_size = action_size\n",
    "        self.memory = deque(maxlen=2000)\n",
    "        self.gamma = 0.95\n",
    "        # Set epsilon=0 for testing (greedy policy)\n",
    "        self.epsilon = 0.0\n",
    "        self.epsilon_min = 0.01\n",
    "        self.epsilon_decay = 0.995\n",
    "        self.batch_size = 32\n",
    "        self.fc1 = nn.Linear(state_size, 64)\n",
    "        self.fc2 = nn.Linear(64, 32)\n",
    "        self.fc3 = nn.Linear(32, action_size)\n",
    "        self.optimizer = optim.Adam(self.parameters(), lr=0.001)\n",
    "        self.criterion = nn.MSELoss()\n",
    "        self.to(device)\n",
    "    \n",
    "    def forward(self, x):\n",
    "        x = torch.relu(self.fc1(x))\n",
    "        x = torch.relu(self.fc2(x))\n",
    "        return self.fc3(x)\n",
    "    \n",
    "    def act(self, state):\n",
    "        with torch.no_grad():\n",
    "            state_tensor = torch.FloatTensor(state).unsqueeze(0).to(device)\n",
    "            action_values = self(state_tensor)\n",
    "            return torch.argmax(action_values).item()\n",
    "\n",
    "# -------------------------\n",
    "# Test Simulation Function: Returns Portfolio History, Actions, and Signals\n",
    "# -------------------------\n",
    "def test_agent(agent, env):\n",
    "    state = env.reset()\n",
    "    done = False\n",
    "    actions_taken = []\n",
    "    signals = []  # record \"buy\", \"sell\", or \"hold\" for each step.\n",
    "    while not done:\n",
    "        action = agent.act(state)\n",
    "        actions_taken.append(action)\n",
    "        # Define buy signals for actions 3 & 4, sell signals for actions 0 & 1.\n",
    "        if action in [3, 4]:\n",
    "            signals.append(\"buy\")\n",
    "        elif action in [0, 1]:\n",
    "            signals.append(\"sell\")\n",
    "        else:\n",
    "            signals.append(\"hold\")\n",
    "        state, reward, done = env.step(action)\n",
    "    return env.portfolio_value_history, actions_taken, signals\n",
    "\n",
    "# -------------------------\n",
    "# Plotting Functions\n",
    "# -------------------------\n",
    "def plot_portfolio(portfolio_values, signals, title):\n",
    "    # Prepare markers for buy and sell signals along the portfolio evolution\n",
    "    buy_indices = [i for i, s in enumerate(signals) if s == \"buy\"]\n",
    "    sell_indices = [i for i, s in enumerate(signals) if s == \"sell\"]\n",
    "    buy_values = [portfolio_values[i] for i in buy_indices]\n",
    "    sell_values = [portfolio_values[i] for i in sell_indices]\n",
    "    \n",
    "    fig = go.Figure()\n",
    "    fig.add_trace(go.Scatter(\n",
    "        x=list(range(len(portfolio_values))),\n",
    "        y=portfolio_values,\n",
    "        mode='lines+markers',\n",
    "        name='Portfolio Value'\n",
    "    ))\n",
    "    fig.add_trace(go.Scatter(\n",
    "        x=buy_indices,\n",
    "        y=buy_values,\n",
    "        mode='markers',\n",
    "        name='Buy Signal',\n",
    "        marker=dict(color='green', size=10, symbol='triangle-up')\n",
    "    ))\n",
    "    fig.add_trace(go.Scatter(\n",
    "        x=sell_indices,\n",
    "        y=sell_values,\n",
    "        mode='markers',\n",
    "        name='Sell Signal',\n",
    "        marker=dict(color='red', size=10, symbol='triangle-down')\n",
    "    ))\n",
    "    fig.update_layout(title=title,\n",
    "                      xaxis_title='Trading Steps',\n",
    "                      yaxis_title='Portfolio Value ($)')\n",
    "    fig.show()\n",
    "\n",
    "def plot_price_signals(test_data, signals, title):\n",
    "    # Plot price (CloseOrig) with buy and sell markers.\n",
    "    # Use the environment's reset data (i.e. a sequential index)\n",
    "    prices = test_data['CloseOrig'].values\n",
    "    steps = list(range(len(prices)))\n",
    "    \n",
    "    buy_indices = [i for i, s in enumerate(signals) if s == \"buy\"]\n",
    "    sell_indices = [i for i, s in enumerate(signals) if s == \"sell\"]\n",
    "    buy_prices = [prices[i] for i in buy_indices]\n",
    "    sell_prices = [prices[i] for i in sell_indices]\n",
    "    \n",
    "    fig = go.Figure()\n",
    "    fig.add_trace(go.Scatter(\n",
    "        x=steps,\n",
    "        y=prices,\n",
    "        mode='lines',\n",
    "        name='Price'\n",
    "    ))\n",
    "    fig.add_trace(go.Scatter(\n",
    "        x=buy_indices,\n",
    "        y=buy_prices,\n",
    "        mode='markers',\n",
    "        name='Buy Signal',\n",
    "        marker=dict(color='green', size=10, symbol='triangle-up')\n",
    "    ))\n",
    "    fig.add_trace(go.Scatter(\n",
    "        x=sell_indices,\n",
    "        y=sell_prices,\n",
    "        mode='markers',\n",
    "        name='Sell Signal',\n",
    "        marker=dict(color='red', size=10, symbol='triangle-down')\n",
    "    ))\n",
    "    fig.update_layout(title=title,\n",
    "                      xaxis_title='Trading Steps',\n",
    "                      yaxis_title='Price ($)')\n",
    "    fig.show()\n",
    "\n",
    "# -------------------------\n",
    "# Main Testing Routine\n",
    "# -------------------------\n",
    "if __name__ == '__main__':\n",
    "    try:\n",
    "        # Dictionary of indexes to test: name -> ticker symbol\n",
    "        indexes = {\n",
    "            \"USA_S&P500\": \"^GSPC\",        # S&P 500 Index\n",
    "            \"India_Nifty50\": \"^NSEI\",      # Nifty 50 Index\n",
    "            \"Japan_Nikkei225\": \"^N225\",    # Nikkei 225 Index\n",
    "            \"UK_FTSE100\": \"^FTSE\",         # FTSE 100 Index\n",
    "            \"France_CAC40\": \"^FCHI\"        # CAC 40 Index\n",
    "        }\n",
    "        # Testing period of one year:\n",
    "        TEST_START_DATE = '2024-01-01'\n",
    "        TEST_END_DATE   = '2025-01-01'\n",
    "        TEST_INITIAL_BALANCE = 10000\n",
    "        \n",
    "        # Load the pre-trained model.\n",
    "        state_size = 12  # Must match state dimensions used in training.\n",
    "        action_size = 5  # Five discrete actions.\n",
    "        agent = DQNAgent(state_size, action_size)\n",
    "        model_path = 'final_model.pth'\n",
    "        checkpoint = torch.load(model_path, map_location=device)\n",
    "        agent.load_state_dict(checkpoint)  # Adjust if checkpoint is nested.\n",
    "        agent.eval()\n",
    "        print(\"Pre-trained model loaded successfully.\")\n",
    "        \n",
    "        # Initialize the DataHandler.\n",
    "        data_handler = DataHandler()\n",
    "        \n",
    "        # Test the model on each index.\n",
    "        for index_name, ticker in indexes.items():\n",
    "            try:\n",
    "                print(\"\\n============================================\")\n",
    "                print(f\"Testing on {index_name} ({ticker})\")\n",
    "                test_data = data_handler.fetch_data(ticker, TEST_START_DATE, TEST_END_DATE)\n",
    "                # Initialize the TradingEnvironment using the prepared data.\n",
    "                env = TradingEnvironment(test_data, initial_balance=TEST_INITIAL_BALANCE)\n",
    "                portfolio_history, actions_taken, signals = test_agent(agent, env)\n",
    "                final_value = portfolio_history[-1]\n",
    "                return_pct = ((final_value / TEST_INITIAL_BALANCE) - 1) * 100\n",
    "                print(f\"Initial Balance: ${TEST_INITIAL_BALANCE:.2f}\")\n",
    "                print(f\"Final Portfolio Value: ${final_value:.2f}\")\n",
    "                print(f\"Cumulative Return: {return_pct:.2f}%\")\n",
    "                \n",
    "                title_portfolio = f\"{index_name} Portfolio Evolution (Return: {return_pct:.2f}%)\"\n",
    "                plot_portfolio(portfolio_history, signals, title_portfolio)\n",
    "                \n",
    "                title_price = f\"{index_name} Price with Buy/Sell Signals\"\n",
    "                # Use the original test_data (not reset) for price plotting with the same sequential order.\n",
    "                test_data_reset = test_data.reset_index(drop=True)\n",
    "                plot_price_signals(test_data_reset, signals, title_price)\n",
    "            except Exception as inner_ex:\n",
    "                print(f\"Error testing on {ticker}: {inner_ex}\")\n",
    "        \n",
    "    except Exception as e:\n",
    "        print(f\"Error during testing: {e}\")\n",
    "        raise\n"
   ]
  },
  {
   "cell_type": "code",
   "execution_count": null,
   "metadata": {},
   "outputs": [],
   "source": []
  },
  {
   "cell_type": "code",
   "execution_count": null,
   "metadata": {},
   "outputs": [],
   "source": []
  }
 ],
 "metadata": {
  "kernelspec": {
   "display_name": "Python 3",
   "language": "python",
   "name": "python3"
  },
  "language_info": {
   "codemirror_mode": {
    "name": "ipython",
    "version": 3
   },
   "file_extension": ".py",
   "mimetype": "text/x-python",
   "name": "python",
   "nbconvert_exporter": "python",
   "pygments_lexer": "ipython3",
   "version": "3.11.9"
  }
 },
 "nbformat": 4,
 "nbformat_minor": 4
}
